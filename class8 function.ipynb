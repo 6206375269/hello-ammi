{
 "cells": [
  {
   "cell_type": "code",
   "execution_count": null,
   "id": "a2099c47-79a8-4d12-83aa-5e5c8e8a9810",
   "metadata": {},
   "outputs": [],
   "source": [
    "# 1. write a function which will try to find out len of a string without using an inbuilt len function"
   ]
  },
  {
   "cell_type": "code",
   "execution_count": 1,
   "id": "45bfb2bf-1f26-416e-a330-e4654989e426",
   "metadata": {},
   "outputs": [
    {
     "data": {
      "text/plain": [
       "7"
      ]
     },
     "execution_count": 1,
     "metadata": {},
     "output_type": "execute_result"
    }
   ],
   "source": [
    "len(\"soohail\")"
   ]
  },
  {
   "cell_type": "code",
   "execution_count": 2,
   "id": "754a831d-b79f-477f-9e91-e637feaf8c78",
   "metadata": {},
   "outputs": [],
   "source": [
    "def test(s):\n",
    "    \"\"\"this is a prog which will help to find a length of string\"\"\"\n",
    "    count = 0\n",
    "    for i in s:\n",
    "        if type(i) == str :\n",
    "            count = count + 1\n",
    "    return count"
   ]
  },
  {
   "cell_type": "code",
   "execution_count": 3,
   "id": "21e1a69b-e17a-465c-9c07-334d7251fa26",
   "metadata": {},
   "outputs": [
    {
     "data": {
      "text/plain": [
       "6"
      ]
     },
     "execution_count": 3,
     "metadata": {},
     "output_type": "execute_result"
    }
   ],
   "source": [
    "test(\"sohail\")"
   ]
  },
  {
   "cell_type": "code",
   "execution_count": 4,
   "id": "427a573b-98c5-46a1-8286-3d20551b41dd",
   "metadata": {},
   "outputs": [],
   "source": [
    "# 2. write function which will be able to print an index of list element without using an index function"
   ]
  },
  {
   "cell_type": "code",
   "execution_count": 15,
   "id": "ea038a03-28de-4a64-b03e-9a1e92ece2e8",
   "metadata": {},
   "outputs": [],
   "source": [
    "l = [1,2,3,4,\"sohail\",\"ineuron\"]"
   ]
  },
  {
   "cell_type": "code",
   "execution_count": 16,
   "id": "65bdac91-2c63-4d66-9f7f-11ff38a8062e",
   "metadata": {},
   "outputs": [],
   "source": [
    "def test1(li):\n",
    "    for i in range (0,len(li)):\n",
    "        print( li[i], \": \" ,i)"
   ]
  },
  {
   "cell_type": "code",
   "execution_count": 18,
   "id": "3ed47c20-4062-446c-a2c8-5d45758e5eb4",
   "metadata": {},
   "outputs": [
    {
     "name": "stdout",
     "output_type": "stream",
     "text": [
      "1 :  0\n",
      "2 :  1\n",
      "3 :  2\n",
      "4 :  3\n",
      "sohail :  4\n",
      "ineuron :  5\n"
     ]
    }
   ],
   "source": [
    "test1(l)"
   ]
  },
  {
   "cell_type": "code",
   "execution_count": 26,
   "id": "baca25f8-46e2-4c47-a61f-3f8e7f837cd6",
   "metadata": {},
   "outputs": [],
   "source": [
    "def test(s):\n",
    "    \"\"\"this is a prog which will help to find a length of string\"\"\"\n",
    "    count = 0\n",
    "    for i in s:\n",
    "        #if type(i) == str :\n",
    "            count = count + 1\n",
    "    return count"
   ]
  },
  {
   "cell_type": "code",
   "execution_count": 27,
   "id": "dc21497c-8227-40c9-9848-c27e3e6bf509",
   "metadata": {},
   "outputs": [
    {
     "data": {
      "text/plain": [
       "6"
      ]
     },
     "execution_count": 27,
     "metadata": {},
     "output_type": "execute_result"
    }
   ],
   "source": [
    "test(\"sohail\")"
   ]
  },
  {
   "cell_type": "code",
   "execution_count": 28,
   "id": "5d3e12cd-3ac9-4b9f-b687-7e5d47e3e3fa",
   "metadata": {},
   "outputs": [],
   "source": [
    "l = [1,2,3,4,\"sohail\",\"ineuron\"]"
   ]
  },
  {
   "cell_type": "code",
   "execution_count": 30,
   "id": "7e053a33-cbc6-4b10-a2f7-0bbb506d7dc7",
   "metadata": {},
   "outputs": [],
   "source": [
    "def test1(li):\n",
    "    for i in range (0,test(li)):\n",
    "        print( li[i], \": \" ,i)"
   ]
  },
  {
   "cell_type": "code",
   "execution_count": 31,
   "id": "65617167-af7d-4b93-99d5-e352371cb582",
   "metadata": {},
   "outputs": [
    {
     "name": "stdout",
     "output_type": "stream",
     "text": [
      "1 :  0\n",
      "2 :  1\n",
      "3 :  2\n",
      "4 :  3\n",
      "sohail :  4\n",
      "ineuron :  5\n"
     ]
    }
   ],
   "source": [
    "test1(l)"
   ]
  },
  {
   "cell_type": "code",
   "execution_count": 32,
   "id": "c10c40f9-c8e7-422f-a8de-0af143ab6204",
   "metadata": {},
   "outputs": [],
   "source": [
    "# 33. write a function which will be able to print an ip address of your system"
   ]
  },
  {
   "cell_type": "code",
   "execution_count": 35,
   "id": "44230c65-182b-447d-9a54-3db1eb90cec2",
   "metadata": {},
   "outputs": [
    {
     "data": {
      "text/plain": [
       "'172.18.0.12'"
      ]
     },
     "execution_count": 35,
     "metadata": {},
     "output_type": "execute_result"
    }
   ],
   "source": [
    "import socket\n",
    "socket.gethostbyname(socket.gethostname()) "
   ]
  },
  {
   "cell_type": "code",
   "execution_count": 37,
   "id": "653cfa1c-0994-41b0-ad4a-8de61d071447",
   "metadata": {},
   "outputs": [],
   "source": [
    "import socket\n",
    "def test2():\n",
    "    ip = socket.gethostbyname(socket.gethostname())\n",
    "    return ip\n",
    "    "
   ]
  },
  {
   "cell_type": "code",
   "execution_count": 39,
   "id": "daa65361-dbb7-42c1-8b27-9c0a94cfc5ae",
   "metadata": {},
   "outputs": [
    {
     "data": {
      "text/plain": [
       "'172.18.0.12'"
      ]
     },
     "execution_count": 39,
     "metadata": {},
     "output_type": "execute_result"
    }
   ],
   "source": [
    "test2()"
   ]
  },
  {
   "cell_type": "code",
   "execution_count": 40,
   "id": "709fd5e5-3aba-4246-b266-bd318ed94722",
   "metadata": {},
   "outputs": [],
   "source": [
    "# 4. write a function which will shutdown your sysytem"
   ]
  },
  {
   "cell_type": "code",
   "execution_count": 41,
   "id": "cd4324fd-4d1a-4207-89ca-fa291aa9da36",
   "metadata": {},
   "outputs": [
    {
     "name": "stderr",
     "output_type": "stream",
     "text": [
      "sh: 1: shutdown: not found\n"
     ]
    },
    {
     "data": {
      "text/plain": [
       "32512"
      ]
     },
     "execution_count": 41,
     "metadata": {},
     "output_type": "execute_result"
    }
   ],
   "source": [
    "import os\n",
    "os.system(\"shutdown /r /t 4\")\n",
    "\n",
    "# /s - shutdown\n",
    "# /r - restart\n",
    "# /t 1 - timer"
   ]
  },
  {
   "cell_type": "code",
   "execution_count": 43,
   "id": "48d5705c-fcec-4ae9-b762-516c3ea6de95",
   "metadata": {},
   "outputs": [],
   "source": [
    "# 5. write a function which will take input as a list with any kind of numeric value and give an out as a multiplication of all the numeric data 1 [3.5, 6.56, 4,5, \"sohail ,  \"ineron\" , \"fsda bootcamp 2.0\"]"
   ]
  },
  {
   "cell_type": "code",
   "execution_count": 50,
   "id": "8769ce8f-7285-41c4-8696-d4890e896e6c",
   "metadata": {},
   "outputs": [],
   "source": [
    "l =  [3.5, 6.56, 4,5, \"sohail\" ,  \"ineron\" , \"fsda bootcamp 2.0\"]\n",
    "def test3 (l):\n",
    "    mul = 1\n",
    "    for i in l :\n",
    "        if type (i) == int or type(i) == float :\n",
    "            mul = mul *i\n",
    "    return mul\n",
    "    "
   ]
  },
  {
   "cell_type": "code",
   "execution_count": 51,
   "id": "a8928940-38f2-4f36-bd46-1ff2a246ad9d",
   "metadata": {},
   "outputs": [
    {
     "data": {
      "text/plain": [
       "459.19999999999993"
      ]
     },
     "execution_count": 51,
     "metadata": {},
     "output_type": "execute_result"
    }
   ],
   "source": [
    "test3(l)"
   ]
  },
  {
   "cell_type": "code",
   "execution_count": 52,
   "id": "b45b6239-106f-44d6-a1c0-f4dfc59c0c10",
   "metadata": {},
   "outputs": [],
   "source": [
    "# 6. write a function which will be able to read all the mails"
   ]
  },
  {
   "cell_type": "code",
   "execution_count": 58,
   "id": "7e11a941-2b30-4f6b-a7e4-741e098f3713",
   "metadata": {},
   "outputs": [
    {
     "name": "stdout",
     "output_type": "stream",
     "text": [
      "From : Google <no-reply@accounts.google.com>\n",
      "\n",
      "Subject : Security alert\n",
      "\n",
      "From : Google <no-reply@accounts.google.com>\n",
      "\n",
      "Subject : Security alert\n",
      "\n",
      "From : Google <no-reply@accounts.google.com>\n",
      "\n",
      "Subject : Security alert\n",
      "\n",
      "From : Netflix <info@account.netflix.com>\n",
      "\n",
      "Subject : Action needed: update payment\n",
      "\n",
      "From : =?utf-8?Q?FitnessFAQs?= <hello@fitnessfaqs.com>\n",
      "\n",
      "Subject : =?utf-8?Q?The=20Forgotten=20Bodyweight=20Exercise=20You=20Need?=\n",
      "\n",
      "From : EduTap <deepak@edutap.co.in>\n",
      "\n",
      "Subject : =?UTF-8?Q?=E2=9C=85_5_Important_MCQs_=E2=9C=85_[_General_Science]_?=\n",
      " =?UTF-8?Q?=E2=9C=85_EPFO?=\n",
      "\n",
      "From : The Hindu <news@newsalertth.thehindu.com>\n",
      "\n",
      "Subject : =?UTF-8?q?Editor's_Pick:_Balasore_train_tragedy_|_Death_toll_rises,_gover?=\n",
      " =?UTF-8?q?nment_indentifies_=E2=80=9Croot_cause=E2=80=9D?=\n",
      "\n",
      "From : Zepto <alerts@info.zeptonow.com>\n",
      "\n",
      "Subject : Are you up for a challenge?\n",
      "\n",
      "From : Linktree <hello@ma.linktr.ee>\n",
      "\n",
      "Subject : Ends soon: 30 free days of Pro =?UTF-8?B?YW5hbHl0aWNzIeKAqA==?=\n",
      "\n",
      "From : Nargis from Ustraa <ustraawaale@ustraa.com>\n",
      "\n",
      "Subject : =?UTF-8?Q?md,_Now_SAVINGS_will_grow=F0=9F=92=B8=F0=9F=92=B8=F0=9F=92=B8?=\n",
      "\n",
      "From : 'Updates INDmoney' <updates@updates.indmoney.com>\n",
      "\n",
      "Subject : =?UTF-8?Q?=F0=9F=9A=A8_Md,_don't_miss_the_deadline!_Add_n?=\n",
      " =?UTF-8?Q?ominees_to_ALL_your_Mutual_Funds_today?=\n",
      "\n",
      "From : \"Decathlon India\" <communication@email.decathlon.in>\n",
      "\n",
      "Subject : =?UTF-8?B?8J+MvyBXb3JsZCBFbnZpcm9ubWVudCBEYXkgT0ZGRVIhIPCfjJ8=?=\n",
      "\n",
      "From : adidas Online Store <communication@comm.adidas.in>\n",
      "\n",
      "Subject : =?UTF-8?Q?Members_Early_Access_:_Get_your_?=\n",
      " =?UTF-8?Q?official_Team_India_Jersey_NOW!=F0=9F=94=A5?=\n",
      "\n",
      "From : PDF By Ronki  Ram <updates@academia-mail.com>\n",
      "\n",
      "Subject : =?UTF-8?Q?=F0=9F=93=84_=22Forging_Unity_between_Unequals:_Unriva?=\n",
      " =?UTF-8?Q?lling_SAD-BSP_Alliance=22_by_Ronki__Ram?=\n",
      "\n",
      "From : OneDrive <photos@onedrive.com>\n",
      "\n",
      "Subject : Your memories from this day\n",
      "\n",
      "From : Mathematics Skills - Learn/Expertise <mathematicsskills-space@quora.com>\n",
      "\n",
      "Subject : =?utf-8?q?I_can=27t_promise_to_make_you_a_billionaire_but_I_teach_how_you_ca?=\n",
      " =?utf-8?q?n_work_from_home_and_earn_=245500_in_7day_and_=2450=2C400=2Cin_14?=\n",
      " =?utf-8?q?days_No_scam_No_reference_=2E=2E=2E?=\n",
      "\n",
      "From : EduTap <deepak@edutap.co.in>\n",
      "\n",
      "Subject : =?UTF-8?Q?=E2=9C=85_5_Important_MCQs_=E2=9C=85_[_Commerce_and_Accounts]_?=\n",
      " =?UTF-8?Q?=E2=9C=85_EPFO?=\n",
      "\n",
      "From : upGrad <info@updates.upgrad.com>\n",
      "\n",
      "Subject : Free Masterclass: Data Analytics Vs Data Science\n",
      "\n",
      "From : Traya <customercare@traya.health>\n",
      "\n",
      "Subject : Free Q&A session with Dermat. Registrations Open\n",
      "\n",
      "From : \"iNeuron.ai\" <contact@ineuron.ai>\n",
      "\n",
      "Subject : Join The Live Class Of Full Stack Data Science BootCamp 2.0\n",
      "\n",
      "From : Anshika Shaw 9 B <anshikashaw2830@gmail.com>\n",
      "\n",
      "Subject : \n",
      "\n",
      "From : MADE EASY <info@madeeasyprime.com>\n",
      "\n",
      "Subject : BARC 2023 | Online Interview Guidance Programme\n",
      "\n",
      "From : Nargis from Ustraa <ustraawaale@ustraa.com>\n",
      "\n",
      "Subject : md, Now clearer skin is just 1 tap away..\n",
      "\n",
      "From : Jupiter <noreply@jupiter.money>\n",
      "\n",
      "Subject : Treat your money right!\n",
      "\n",
      "From : Union Bank of India <noreplyunionbank@unionbankofindia.com>\n",
      "\n",
      "Subject : =?UTF-8?Q?Be_the_first_to_know_all_about_trend?=\n",
      " =?UTF-8?Q?ing_banking_updates_=E2=80=93_Subscribe_now!?=\n",
      "\n",
      "From : Cambly <help@cambly.com>\n",
      "\n",
      "Subject : =?UTF-8?q?Level_Up_Your_English_Skills_-_=F0=9F=9A=80?=\n",
      "\n",
      "From : Zomato <noreply@mailers.zomato.com>\n",
      "\n",
      "Subject : We'd like to take you out =?UTF-8?B?8J+rtvCfj7s=?=\n",
      "\n",
      "From : inspectioninfo@mcxindia.com\n",
      "\n",
      "Subject : Cash and Cash Equivalents for the week ending 27/05/2023 with 5\n",
      " Paisa Capital Limited\n",
      "\n",
      "From : The Hindu <news@newsalertth.thehindu.com>\n",
      "\n",
      "Subject : Editor's Pick:  Toll high in train mishap involving Coromandel Express\n",
      "\n",
      "From : PharmEasy <PEducate@info.pharmeasy.in>\n",
      "\n",
      "Subject : =?UTF-8?Q?Know_your_body=E2=80=99s_personal_spies!_=F0=9F=98=8E?=\n",
      "\n",
      "From : \"Amazon.in Reviews\" <customer-reviews-messages@amazon.in>\n",
      "\n",
      "Subject : mdsohail, did 'Castleite Marvella 40 Pieces Melamine...' meet your\n",
      " expectations? Review it on Amazon\n",
      "\n",
      "From : \"Cookpad Team\" <help@cookpad.com>\n",
      "\n",
      "Subject : =?utf-8?B?SGVhbHRoeSBsdW5jaCBib3ggaWRlYXMgdGhhdCB5b3VyIEtpZHMg?=\n",
      "\t=?utf-8?B?d2lsbCBsb3ZlIPCfjK7wn5Kb?=\n",
      "\n",
      "From : \"Fi Money\" <federalbank@fi.money>\n",
      "\n",
      "Subject : Fi Account Statement (Federal Bank) 01 May 2023 - 31 May 2023\n",
      "\n",
      "From : Union Bank of India <noreplyunionbank@unionbankofindia.com>\n",
      "\n",
      "Subject : Monthly Statement for May 2023\n",
      "\n",
      "From : EY via LinkedIn <newsletters-noreply@linkedin.com>\n",
      "\n",
      "Subject : 5 must reads for your weekend\n",
      "\n",
      "From : Fi Money <hello@fi.money>\n",
      "\n",
      "Subject : =?UTF-8?Q?Friday_offer_your_salary_can=E2=80=99t_refuse?=\n",
      "\n",
      "From : upGrad <info@updates.upgrad.com>\n",
      "\n",
      "Subject : Free Masterclass: How to land Data Science Jobs abroad\n",
      "\n",
      "From : LinkedIn <notifications-noreply@linkedin.com>\n",
      "\n",
      "Subject : =?UTF-8?Q?Fresher_Jobs_shared_a_post:_!!_Urgent=E2=80=A6?=\n",
      "\n",
      "From : Zepto <alerts@info.zeptonow.com>\n",
      "\n",
      "Subject : Don't Miss Out\n",
      "\n",
      "From : EduTap <deepak@edutap.co.in>\n",
      "\n",
      "Subject : =?UTF-8?Q?=E2=9C=85_5_Important_MCQs_=E2=9C=85_[_GS_Modern_History]_?=\n",
      " =?UTF-8?Q?=E2=9C=85_EPFO?=\n",
      "\n",
      "From : LinkedIn <updates-noreply@linkedin.com>\n",
      "\n",
      "Subject : =?UTF-8?Q?Nikhil_Kamath_recently_posted_Here's_?=\n",
      " =?UTF-8?Q?a_look_at_the_companies_that_lead_the=E2=80=A6?=\n",
      "\n",
      "From : \"iNeuron.ai\" <contact@ineuron.ai>\n",
      "\n",
      "Subject : Join The Live Class Of Full Stack Data Science BootCamp 2.0\n",
      "\n",
      "From : The Hindu <news@newsalertth.thehindu.com>\n",
      "\n",
      "Subject : Editor's Pick:  Judicial panel to probe Manipur violence, says Amit Shah\n",
      "\n",
      "From : \"Issuu\" <no-reply@issuu.com>\n",
      "\n",
      "Subject : Important changes to your Issuu Basic plan\n",
      "\n",
      "From : upGrad <info@updates.upgrad.com>\n",
      "\n",
      "Subject : Gain credibility in the legal field with our highly regarded\n",
      " Corporate and Financial Law program\n",
      "\n",
      "From : Gabbar from Ustraa <ustraawaale@ustraa.com>\n",
      "\n",
      "Subject : md, Aap ka loss nahin hone dega Ustraa\n",
      "\n",
      "From : \"EatSure\" <team@eatsure.com>\n",
      "\n",
      "Subject : Treat Yourself: Payday Exclusive Offers Inside!\n",
      "\n",
      "From : \"Moneycontrol : PRO Panorama\" <subscriptions@moneycontrol.com>\n",
      "\n",
      "Subject : Regulating the economy temperature gauge\n",
      "\n",
      "From : Cambly <help@cambly.com>\n",
      "\n",
      "Subject : =?UTF-8?q?=F0=9F=8C=9F_Book_a_Demo_Class_with_Cambly_for_INR_9_and_Excel_?=\n",
      " =?UTF-8?q?in_English!_=F0=9F=9A=80=F0=9F=92=AA?=\n",
      "\n",
      "From : Rage Coffee <marketing@ragecoffee.com>\n",
      "\n",
      "Subject : =?utf-8?Q?Crazy_Deal_Offer_is_Live!_Grab_it_today!=F0=9F=92=AF=F0=9F=8F=83?=\n",
      "\n",
      "From : =?UTF-8?B?UGF5dG0gZm9yIGJ1c2luZXNz?= <mail@info.paytm.com>\n",
      "\n",
      "Subject : =?UTF-8?B?QnVzaW5lc3MgbWVpbiB0YXJyYWtpIGFiIHBha2tp?=\n",
      "\n",
      "From : \"Adobe Creative Cloud\" <mail@mail.adobe.com>\n",
      "\n",
      "Subject : =?utf-8?B?R2V0IDQwJSBvZmYgQ3JlYXRpdmUgQ2xvdWQgZm9yIHRoZSBmaQ==?=\n",
      " =?utf-8?B?cnN0IHllYXI=?=\n",
      "\n",
      "From : OneDrive <photos@onedrive.com>\n",
      "\n",
      "Subject : Your memories from this day\n",
      "\n",
      "From : nse_alerts <nse_alerts@nse.co.in>\n",
      "\n",
      "Subject : Funds/Securities Balance\n",
      "\n",
      "From : EduTap <deepak@edutap.co.in>\n",
      "\n",
      "Subject : =?UTF-8?Q?=E2=9C=85_5_Important_MCQs_=E2=9C=85_[_Governance_and_Constitut?=\n",
      " =?UTF-8?Q?ion_of_India_]_=E2=9C=85_EPFO?=\n",
      "\n",
      "From : Fi Care <help@fi.care>\n",
      "\n",
      "Subject : Fi care: 2885199\n",
      "\n",
      "From : LinkedIn <updates-noreply@linkedin.com>\n",
      "\n",
      "Subject : =?UTF-8?Q?Adani_Group_recently_posted_Delig?=\n",
      " =?UTF-8?Q?hted_to_unveil_our_new_film_that=E2=80=A6?=\n",
      "\n",
      "From : upGrad <info@updates.upgrad.com>\n",
      "\n",
      "Subject : Free Masterclass: Learning Tableau for Data Science\n",
      "\n",
      "From : Netflix <info@account.netflix.com>\n",
      "\n",
      "Subject : =?UTF-8?Q?Update_required_=E2=80=93_Netflix_account_on_hold?=\n",
      "\n",
      "From : Fi Care <help@fi.care>\n",
      "\n",
      "Subject : Account Closure Consent\n",
      "\n",
      "From : Fi Care <help@fi.care>\n",
      "\n",
      "Subject : Re: account close issue\n",
      "\n",
      "From : Uber <uber@uber.com>\n",
      "\n",
      "Subject : Want to get 5% back on every ride?\n",
      "\n",
      "From : PharmEasy <PEducate@info.pharmeasy.in>\n",
      "\n",
      "Subject : =?UTF-8?Q?INSIDE:_Special_Discount_for_you_=F0=9F=92=A5?=\n",
      "\n",
      "From : \"Moneycontrol : PRO Panorama\" <subscriptions@moneycontrol.com>\n",
      "\n",
      "Subject : India on growth path\n",
      "\n",
      "From : Nargis from Ustraa <ustraawaale@ustraa.com>\n",
      "\n",
      "Subject : =?UTF-8?Q?md,_=F0=9F=8C=A1=EF=B8=8FTemp_Up,_=F0=9F=98=8ESw?=\n",
      " =?UTF-8?Q?ag_Up,_=F0=9F=92=B8=F0=9F=92=B8SAVINGS_UP?=\n",
      "\n",
      "From : aadhaar@uidai.gov.in\n",
      "\n",
      "Subject : Aadhaar XXXX XXXX 1970: Authentication  Successful\n",
      "\n",
      "From : aadhaar@uidai.gov.in\n",
      "\n",
      "Subject : Aadhaar XXXX XXXX 1970: Authentication  Successful\n",
      "\n",
      "From : Ramiro from Rambox <noreply@rambox.app>\n",
      "\n",
      "Subject : Rambox Newsletter - May 2023\n",
      "\n",
      "From : Prime Video <no-reply@primevideo.com>\n",
      "\n",
      "Subject : =?UTF-8?B?bWRzb2hhaWwsIFNwZWNpYWwgT2ZmZXIgZm9yIFlvdTogSm8=?=\n",
      " =?UTF-8?B?aW4gUHJpbWUgYW5kIGdldCDigrkxNTAgQVBheSBjYXNoYmFjayE=?=\n",
      "\n",
      "From : Niantic <niantic@email.nianticlabs.com>\n",
      "\n",
      "Subject : Take Action: Join the fun in Peridot\n",
      "\n",
      "From : The Hindu <news@newsalertth.thehindu.com>\n",
      "\n",
      "Subject : Editor's Pick: GDP expanded 6.1% in last quarter of FY 2022-23\n",
      "\n",
      "From : Cambly <help@cambly.com>\n",
      "\n",
      "Subject : =?UTF-8?q?=F0=9F=A7=90_Are_you_making_these_mistakes_while_preparing_for_?=\n",
      " =?UTF-8?q?IELTS=3F_=F0=9F=9A=AB=F0=9F=98=AE?=\n",
      "\n",
      "From : \"iNeuron.ai\" <contact@ineuron.ai>\n",
      "\n",
      "Subject : Join The Doubt Clearing Class Of Full Stack Data Science BootCamp 2.0\n",
      "\n",
      "From : OneDrive <photos@onedrive.com>\n",
      "\n",
      "Subject : Your memories from this day\n",
      "\n",
      "From : Scribd <hello@hello.scribd.com>\n",
      "\n",
      "Subject : =?UTF-8?q?mdsohai,_how_does_30_days_of_free_reading_sound=3F_=F0=9F=91=82?=\n",
      "\n",
      "From : \"amazon.in\" <account-update@amazon.in>\n",
      "\n",
      "Subject : amazon.in, action needed: Sign-in\n",
      "\n",
      "From : EduTap <deepak@edutap.co.in>\n",
      "\n",
      "Subject : =?UTF-8?Q?=E2=9C=85_5_Important_MCQs_=E2=9C=85_[_Indian_Economy]_?=\n",
      " =?UTF-8?Q?=E2=9C=85_EPFO?=\n",
      "\n",
      "From : LinkedIn <notifications-noreply@linkedin.com>\n",
      "\n",
      "Subject : =?UTF-8?Q?Cisco_shared_a_post:_From_EDR_to_#XDR=E2=80=A6?=\n",
      "\n",
      "From : =?utf-8?Q?FitnessFAQs?= <hello@fitnessfaqs.com>\n",
      "\n",
      "Subject : =?utf-8?Q?How=20To=20Get=20Shredded=20With=20Calisthenics?=\n",
      "\n",
      "From : Vision IAS <enquiry@visionias.in>\n",
      "\n",
      "Subject : Guided preparation for UPSC Mains\n",
      "\n",
      "From : Netflix <info@account.netflix.com>\n",
      "\n",
      "Subject : =?UTF-8?Q?Update_required_=E2=80=93_Netflix_account_on_hold?=\n",
      "\n"
     ]
    },
    {
     "ename": "NameError",
     "evalue": "name 'traceback' is not defined",
     "output_type": "error",
     "traceback": [
      "\u001b[0;31m---------------------------------------------------------------------------\u001b[0m",
      "\u001b[0;31mUnicodeDecodeError\u001b[0m                        Traceback (most recent call last)",
      "Cell \u001b[0;32mIn [58], line 29\u001b[0m, in \u001b[0;36mread_email_from_gmail\u001b[0;34m()\u001b[0m\n\u001b[1;32m     28\u001b[0m \u001b[38;5;28;01mif\u001b[39;00m \u001b[38;5;28misinstance\u001b[39m(arr, \u001b[38;5;28mtuple\u001b[39m):\n\u001b[0;32m---> 29\u001b[0m     msg \u001b[38;5;241m=\u001b[39m email\u001b[38;5;241m.\u001b[39mmessage_from_string(\u001b[38;5;28;43mstr\u001b[39;49m\u001b[43m(\u001b[49m\u001b[43marr\u001b[49m\u001b[43m[\u001b[49m\u001b[38;5;241;43m1\u001b[39;49m\u001b[43m]\u001b[49m\u001b[43m,\u001b[49m\u001b[38;5;124;43m'\u001b[39;49m\u001b[38;5;124;43mutf-8\u001b[39;49m\u001b[38;5;124;43m'\u001b[39;49m\u001b[43m)\u001b[49m)\n\u001b[1;32m     30\u001b[0m     email_subject \u001b[38;5;241m=\u001b[39m msg[\u001b[38;5;124m'\u001b[39m\u001b[38;5;124msubject\u001b[39m\u001b[38;5;124m'\u001b[39m]\n",
      "\u001b[0;31mUnicodeDecodeError\u001b[0m: 'utf-8' codec can't decode byte 0xa0 in position 7278: invalid start byte",
      "\nDuring handling of the above exception, another exception occurred:\n",
      "\u001b[0;31mNameError\u001b[0m                                 Traceback (most recent call last)",
      "Cell \u001b[0;32mIn [58], line 38\u001b[0m\n\u001b[1;32m     35\u001b[0m         traceback\u001b[38;5;241m.\u001b[39mprint_exc() \n\u001b[1;32m     36\u001b[0m         \u001b[38;5;28mprint\u001b[39m(\u001b[38;5;28mstr\u001b[39m(e))\n\u001b[0;32m---> 38\u001b[0m \u001b[43mread_email_from_gmail\u001b[49m\u001b[43m(\u001b[49m\u001b[43m)\u001b[49m\n",
      "Cell \u001b[0;32mIn [58], line 35\u001b[0m, in \u001b[0;36mread_email_from_gmail\u001b[0;34m()\u001b[0m\n\u001b[1;32m     33\u001b[0m                 \u001b[38;5;28mprint\u001b[39m(\u001b[38;5;124m'\u001b[39m\u001b[38;5;124mSubject : \u001b[39m\u001b[38;5;124m'\u001b[39m \u001b[38;5;241m+\u001b[39m email_subject \u001b[38;5;241m+\u001b[39m \u001b[38;5;124m'\u001b[39m\u001b[38;5;130;01m\\n\u001b[39;00m\u001b[38;5;124m'\u001b[39m)\n\u001b[1;32m     34\u001b[0m \u001b[38;5;28;01mexcept\u001b[39;00m \u001b[38;5;167;01mException\u001b[39;00m \u001b[38;5;28;01mas\u001b[39;00m e:\n\u001b[0;32m---> 35\u001b[0m     \u001b[43mtraceback\u001b[49m\u001b[38;5;241m.\u001b[39mprint_exc() \n\u001b[1;32m     36\u001b[0m     \u001b[38;5;28mprint\u001b[39m(\u001b[38;5;28mstr\u001b[39m(e))\n",
      "\u001b[0;31mNameError\u001b[0m: name 'traceback' is not defined"
     ]
    }
   ],
   "source": [
    "import smtplib\n",
    "import time\n",
    "import imaplib\n",
    "import email\n",
    "ORG_EMAIL = \"@gmail.com\" \n",
    "FROM_EMAIL = 'mdsohailanwartct@gmail.com'\n",
    "FROM_PWD = 'rdedtaqtgvuqxmag'\n",
    "SMTP_SERVER = \"imap.gmail.com\" \n",
    "SMTP_PORT = 993\n",
    "imaplib._MAXLINE = 400000000\n",
    "\n",
    "def read_email_from_gmail():\n",
    "    try:\n",
    "        mail = imaplib.IMAP4_SSL(SMTP_SERVER)\n",
    "        mail.login(FROM_EMAIL,FROM_PWD)\n",
    "        mail.select('inbox')\n",
    "\n",
    "        data = mail.search(None, 'ALL')\n",
    "        mail_ids = data[1]\n",
    "        id_list = mail_ids[0].split()   \n",
    "        first_email_id = int(id_list[0])\n",
    "        latest_email_id = int(id_list[-1])\n",
    "\n",
    "        for i in range(latest_email_id,first_email_id, -1):\n",
    "            data = mail.fetch(str(i), '(RFC822)' )\n",
    "            for response_part in data:\n",
    "                arr = response_part[0]\n",
    "                if isinstance(arr, tuple):\n",
    "                    msg = email.message_from_string(str(arr[1],'utf-8'))\n",
    "                    email_subject = msg['subject']\n",
    "                    email_from = msg['from']\n",
    "                    print('From : ' + email_from + '\\n')\n",
    "                    print('Subject : ' + email_subject + '\\n')\n",
    "    except Exception as e:\n",
    "        traceback.print_exc() \n",
    "        print(str(e))\n",
    "\n",
    "read_email_from_gmail()\n"
   ]
  },
  {
   "cell_type": "code",
   "execution_count": 53,
   "id": "d1449ef1-e803-46c6-a41a-73c4a473888c",
   "metadata": {},
   "outputs": [],
   "source": [
    "# 7. write a function which will be able to send a mail to anyone"
   ]
  },
  {
   "cell_type": "code",
   "execution_count": 56,
   "id": "0821bce4-db60-4dd5-ac96-d71676b7d372",
   "metadata": {},
   "outputs": [],
   "source": [
    "import smtplib , ssl\n",
    "port = 465  # For SSL\n",
    "smtp_server = \"smtp.gmail.com\"\n",
    "sender_email = \"mdsohailanwartct@gmail.com\"  # Enter your address\n",
    "receiver_email = \"mdsohailraza0287@gmail.com\"  # Enter receiver address\n",
    "#password = 'rlplfdcsoiqruagn'\n",
    "password = 'rdedtaqtgvuqxmag'\n",
    "message = \"\"\"this is my message from python code \"\"\"\n",
    "\n",
    "context = ssl.create_default_context()\n",
    "with smtplib.SMTP_SSL(smtp_server, port, context=context) as server:\n",
    "    server.login(sender_email, password)\n",
    "    server.sendmail(sender_email, receiver_email, message)"
   ]
  },
  {
   "cell_type": "code",
   "execution_count": 59,
   "id": "21d30de6-9534-4ec3-bcaa-ea429442a28d",
   "metadata": {},
   "outputs": [],
   "source": [
    "# 8. write a function which will be able be to read a doc/ word file from your system"
   ]
  },
  {
   "cell_type": "code",
   "execution_count": 3,
   "id": "e2ac4547-8223-4520-a001-6aa21ceebe6f",
   "metadata": {},
   "outputs": [],
   "source": [
    "import docx2txt"
   ]
  },
  {
   "cell_type": "code",
   "execution_count": 4,
   "id": "958690e4-1a11-4e0f-8ecf-87b6b63a36f3",
   "metadata": {},
   "outputs": [
    {
     "name": "stdout",
     "output_type": "stream",
     "text": [
      "Requirement already satisfied: docx2txt in /opt/conda/lib/python3.10/site-packages (0.8)\n",
      "Note: you may need to restart the kernel to use updated packages.\n"
     ]
    }
   ],
   "source": [
    "pip install docx2txt"
   ]
  },
  {
   "cell_type": "code",
   "execution_count": 7,
   "id": "b0ccdaa3-eed2-4d15-91a6-9e311cb81208",
   "metadata": {},
   "outputs": [
    {
     "name": "stdout",
     "output_type": "stream",
     "text": [
      "import smtplib\n",
      "\n",
      "import time\n",
      "\n",
      "import imaplib\n",
      "\n",
      "import email\n",
      "\n",
      "ORG_EMAIL = \"@gmail.com\" \n",
      "\n",
      "FROM_EMAIL = 'mdsohailanwartct@gmail.com'\n",
      "\n",
      "FROM_PWD = 'rdedtaqtgvuqxmag'\n",
      "\n",
      "SMTP_SERVER = \"imap.gmail.com\" \n",
      "\n",
      "SMTP_PORT = 993\n",
      "\n",
      "imaplib._MAXLINE = 400000000\n",
      "\n",
      "\n",
      "\n",
      "def read_email_from_gmail():\n",
      "\n",
      "    try:\n",
      "\n",
      "        mail = imaplib.IMAP4_SSL(SMTP_SERVER)\n",
      "\n",
      "        mail.login(FROM_EMAIL,FROM_PWD)\n",
      "\n",
      "        mail.select('inbox')\n",
      "\n",
      "\n",
      "\n",
      "        data = mail.search(None, 'ALL')\n",
      "\n",
      "        mail_ids = data[1]\n",
      "\n",
      "        id_list = mail_ids[0].split()   \n",
      "\n",
      "        first_email_id = int(id_list[0])\n",
      "\n",
      "        latest_email_id = int(id_list[-1])\n",
      "\n",
      "\n",
      "\n",
      "        for i in range(latest_email_id,first_email_id, -1):\n",
      "\n",
      "            data = mail.fetch(str(i), '(RFC822)' )\n",
      "\n",
      "            for response_part in data:\n",
      "\n",
      "                arr = response_part[0]\n",
      "\n",
      "                if isinstance(arr, tuple):\n",
      "\n",
      "                    msg = email.message_from_string(str(arr[1],'utf-8'))\n",
      "\n",
      "                    email_subject = msg['subject']\n",
      "\n",
      "                    email_from = msg['from']\n",
      "\n",
      "                    print('From : ' + email_from + '\\n')\n",
      "\n",
      "                    print('Subject : ' + email_subject + '\\n')\n",
      "\n",
      "    except Exception as e:\n",
      "\n",
      "        traceback.print_exc() \n",
      "\n",
      "        print(str(e))\n",
      "\n",
      "\n",
      "\n",
      "read_email_from_gmail()\n",
      "\n",
      "\n",
      "\n",
      "import smtplib , ssl\n",
      "\n",
      "port = 465  # For SSL\n",
      "\n",
      "smtp_server = \"smtp.gmail.com\"\n",
      "\n",
      "sender_email = \"mdsohailanwartct@gmail.com\"  # Enter your address\n",
      "\n",
      "receiver_email = \"mdsohailraza0287@gmail.com\"  # Enter receiver address\n",
      "\n",
      "#password = 'rlplfdcsoiqruagn'\n",
      "\n",
      "password = 'rdedtaqtgvuqxmag'\n",
      "\n",
      "message = \"\"\"this is my message from python code \"\"\"\n",
      "\n",
      "\n",
      "\n",
      "context = ssl.create_default_context()\n",
      "\n",
      "with smtplib.SMTP_SSL(smtp_server, port, context=context) as server:\n",
      "\n",
      "    server.login(sender_email, password)\n",
      "\n",
      "    server.sendmail(sender_email, receiver_email, message)\n"
     ]
    }
   ],
   "source": [
    "a = docx2txt.process('tsetword.docx')\n",
    "print(a)"
   ]
  },
  {
   "cell_type": "code",
   "execution_count": 8,
   "id": "b9c04104-9d2f-440f-a2a5-380a4a87522b",
   "metadata": {},
   "outputs": [
    {
     "name": "stdout",
     "output_type": "stream",
     "text": [
      "class8.ipynb  README.md  sample-code.ipynb  tsetword.docx\n"
     ]
    }
   ],
   "source": [
    "ls"
   ]
  },
  {
   "cell_type": "code",
   "execution_count": null,
   "id": "a13dd68d-318a-4678-82e6-a68d9c43341a",
   "metadata": {},
   "outputs": [],
   "source": []
  }
 ],
 "metadata": {
  "kernelspec": {
   "display_name": "Python 3 (ipykernel)",
   "language": "python",
   "name": "python3"
  },
  "language_info": {
   "codemirror_mode": {
    "name": "ipython",
    "version": 3
   },
   "file_extension": ".py",
   "mimetype": "text/x-python",
   "name": "python",
   "nbconvert_exporter": "python",
   "pygments_lexer": "ipython3",
   "version": "3.10.6"
  }
 },
 "nbformat": 4,
 "nbformat_minor": 5
}
