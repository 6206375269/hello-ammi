{
 "cells": [
  {
   "cell_type": "code",
   "execution_count": 1,
   "id": "2d7c8d6b-b343-411b-a41b-9ed5b219f814",
   "metadata": {},
   "outputs": [],
   "source": [
    "## AGENDA \n",
    "\n",
    "# 1. if else\n",
    "# 2. if elif else\n",
    "# 3. nested if else\n",
    "# 4. Ssingle line if else [Not recommended] \n",
    " ## 2. loops in python\n",
    "    # 1. for\n",
    "    # 2. while"
   ]
  },
  {
   "cell_type": "code",
   "execution_count": 3,
   "id": "5379b0f7-da97-4494-888c-888a409ac073",
   "metadata": {},
   "outputs": [],
   "source": [
    "## if else[covered]\n"
   ]
  },
  {
   "cell_type": "code",
   "execution_count": null,
   "id": "8bf447a4-7061-453c-9dc5-729812bdc1f5",
   "metadata": {},
   "outputs": [],
   "source": [
    "## if elif\n",
    "\n",
    "## online food  orders - zomato app, swiggy, uber eats\n",
    "\n",
    "## if you order more than Rs. 500\n",
    "   # discount = 20%\n",
    "\n",
    "## if you order more than Rs. 1000\n",
    "   # discount = 30%"
   ]
  },
  {
   "cell_type": "code",
   "execution_count": 8,
   "id": "b5e3c173-ab8a-47d7-941e-d7ef16d93a9d",
   "metadata": {},
   "outputs": [
    {
     "name": "stdout",
     "output_type": "stream",
     "text": [
      "cart total : 1290\n",
      "pay amount: 903.0\n"
     ]
    }
   ],
   "source": [
    "total_amount = 90 + 100 + 100 + 1000\n",
    "\n",
    "print (f\"cart total : {total_amount}\")\n",
    "\n",
    "if total_amount > 999:\n",
    "    price_after_discount = total_amount * 70/100\n",
    "    print(f\"pay amount: {price_after_discount}\")\n",
    "elif total_amount <=  999 and total_amount > 499: # 999 <= price < 499\n",
    "    price_after_discount = total_amount * 80/100\n",
    "    print(f\"pay amount: {price_after_discount}\")\n",
    "else:\n",
    "    print(f\"pay amount: {total_amount}\")"
   ]
  },
  {
   "cell_type": "code",
   "execution_count": 10,
   "id": "1d5ede9f-963f-40a6-80a3-a93fcfe8c372",
   "metadata": {},
   "outputs": [
    {
     "name": "stdout",
     "output_type": "stream",
     "text": [
      "cart total : 190\n",
      "pay amount: 190\n"
     ]
    }
   ],
   "source": [
    "total_amount = 90 + 100\n",
    "\n",
    "print (f\"cart total : {total_amount}\")\n",
    "\n",
    "if total_amount > 999:\n",
    "    price_after_discount = total_amount * 70/100\n",
    "    print(f\"pay amount: {price_after_discount}\")\n",
    "elif total_amount <=  999 and total_amount > 499: # 999 <= price < 499\n",
    "    price_after_discount = total_amount * 80/100\n",
    "    print(f\"pay amount: {price_after_discount}\")\n",
    "else:\n",
    "    print(f\"pay amount: {total_amount}\")"
   ]
  },
  {
   "cell_type": "code",
   "execution_count": 11,
   "id": "63524d3e-e85d-4d0b-8479-b7312324442b",
   "metadata": {},
   "outputs": [
    {
     "name": "stdout",
     "output_type": "stream",
     "text": [
      "cart total : 690\n",
      "pay amount: 552.0\n"
     ]
    }
   ],
   "source": [
    "total_amount = 90 + 100 + 500\n",
    "\n",
    "print (f\"cart total : {total_amount}\")\n",
    "\n",
    "if total_amount > 999:\n",
    "    price_after_discount = total_amount * 70/100\n",
    "    print(f\"pay amount: {price_after_discount}\")\n",
    "elif total_amount <=  999 and total_amount > 499: # 999 <= price < 499\n",
    "    price_after_discount = total_amount * 80/100\n",
    "    print(f\"pay amount: {price_after_discount}\")\n",
    "else:\n",
    "    print(f\"pay amount: {total_amount}\")"
   ]
  },
  {
   "cell_type": "code",
   "execution_count": 15,
   "id": "802b2db9-b032-4944-b94d-a58ecc60f5fd",
   "metadata": {},
   "outputs": [
    {
     "name": "stdout",
     "output_type": "stream",
     "text": [
      "cart total : 1290\n",
      "pay amount: 903.0\n"
     ]
    }
   ],
   "source": [
    "total_amount = 90 + 100 + 100 + 1000\n",
    "\n",
    "print (f\"cart total : {total_amount}\")\n",
    "\n",
    "if total_amount > 999:\n",
    "    price_after_discount = total_amount * 70/100\n",
    "    print(f\"pay amount: {price_after_discount}\")\n",
    "elif 499 < total_amount <=  999: # and total_amount > 499: # 999 <= price < 499\n",
    "    price_after_discount = total_amount * 80/100\n",
    "    print(f\"pay amount: {price_after_discount}\")\n",
    "else:\n",
    "    print(f\"pay amount: {total_amount}\")"
   ]
  },
  {
   "cell_type": "code",
   "execution_count": 14,
   "id": "7e0694a7-e308-41f1-bb45-b8b59620be64",
   "metadata": {},
   "outputs": [
    {
     "name": "stdout",
     "output_type": "stream",
     "text": [
      "cart total : 690\n",
      "pay amount: 552.0\n"
     ]
    }
   ],
   "source": [
    "total_amount = 90 + 100 + 500\n",
    "\n",
    "print (f\"cart total : {total_amount}\")\n",
    "\n",
    "if total_amount > 999:\n",
    "    price_after_discount = total_amount * 70/100\n",
    "    print(f\"pay amount: {price_after_discount}\")\n",
    "elif 499 < total_amount <=  999:# and total_amount > 499: # 999 <= price < 499\n",
    "    price_after_discount = total_amount * 80/100\n",
    "    print(f\"pay amount: {price_after_discount}\")\n",
    "else:\n",
    "    print(f\"pay amount: {total_amount}\")"
   ]
  },
  {
   "cell_type": "code",
   "execution_count": 16,
   "id": "cc7f2d28-dc46-4c92-b2f6-e301073102b8",
   "metadata": {},
   "outputs": [
    {
     "name": "stdout",
     "output_type": "stream",
     "text": [
      "cart total : 1290\n",
      "pay amount: 903.0\n"
     ]
    }
   ],
   "source": [
    "total_amount = 90 + 100 + 100 + 1000\n",
    "\n",
    "print (f\"cart total : {total_amount}\")\n",
    "\n",
    "if total_amount > 1499:\n",
    "    price_after_discount = total_amount * 60/100\n",
    "    print(f\"pay amount: {price_after_discount}\")\n",
    "elif 999 < total_amount <=  1499: # 999 <= price < 499\n",
    "    price_after_discount = total_amount * 70/100\n",
    "    print(f\"pay amount: {price_after_discount}\")\n",
    "elif 499 < total_amount <=  999: # 999 <= price < 499\n",
    "    price_after_discount = total_amount * 80/100\n",
    "    print(f\"pay amount: {price_after_discount}\")\n",
    "else:\n",
    "    print(f\"pay amount: {total_amount}\")"
   ]
  },
  {
   "cell_type": "code",
   "execution_count": 17,
   "id": "ae02ce4d-41b1-4fa3-a15e-7da293069716",
   "metadata": {},
   "outputs": [
    {
     "name": "stdout",
     "output_type": "stream",
     "text": [
      "cart total : 690\n",
      "pay amount: 552.0\n"
     ]
    }
   ],
   "source": [
    "total_amount = 90 + 100 + 500\n",
    "\n",
    "print (f\"cart total : {total_amount}\")\n",
    "\n",
    "if total_amount > 1499:\n",
    "    price_after_discount = total_amount * 60/100\n",
    "    print(f\"pay amount: {price_after_discount}\")\n",
    "elif 999 < total_amount <=  1499: \n",
    "    price_after_discount = total_amount * 70/100\n",
    "    print(f\"pay amount: {price_after_discount}\")\n",
    "elif 499 < total_amount <=  999: # 999 <= price < 499\n",
    "    price_after_discount = total_amount * 80/100\n",
    "    print(f\"pay amount: {price_after_discount}\")\n",
    "else:\n",
    "    print(f\"pay amount: {total_amount}\")"
   ]
  },
  {
   "cell_type": "code",
   "execution_count": 18,
   "id": "f3a6f86a-f0db-4bf5-8570-bfffa8f03534",
   "metadata": {},
   "outputs": [
    {
     "name": "stdout",
     "output_type": "stream",
     "text": [
      "cart total : 1690\n",
      "pay amount: 1014.0\n"
     ]
    }
   ],
   "source": [
    "total_amount = 90 + 100 + 500 + 1000\n",
    "\n",
    "print (f\"cart total : {total_amount}\")\n",
    "\n",
    "if total_amount > 1499:\n",
    "    price_after_discount = total_amount * 60/100\n",
    "    print(f\"pay amount: {price_after_discount}\")\n",
    "elif 999 < total_amount <=  1499: \n",
    "    price_after_discount = total_amount * 70/100\n",
    "    print(f\"pay amount: {price_after_discount}\")\n",
    "elif 499 < total_amount <=  999: # 999 <= price < 499\n",
    "    price_after_discount = total_amount * 80/100\n",
    "    print(f\"pay amount: {price_after_discount}\")\n",
    "else:\n",
    "    print(f\"pay amount: {total_amount}\")"
   ]
  },
  {
   "cell_type": "code",
   "execution_count": 19,
   "id": "41192f98-0e26-4120-b385-0d98e171d072",
   "metadata": {},
   "outputs": [],
   "source": [
    "##  Nested if else\n",
    "\n",
    "# print if the no. is negative or positive"
   ]
  },
  {
   "cell_type": "code",
   "execution_count": 20,
   "id": "350877a7-75d3-435a-a94f-f33282375e8c",
   "metadata": {},
   "outputs": [
    {
     "name": "stdin",
     "output_type": "stream",
     "text": [
      "enter a number 0\n"
     ]
    },
    {
     "name": "stdout",
     "output_type": "stream",
     "text": [
      "its zero\n"
     ]
    }
   ],
   "source": [
    "val = float(input(\"enter a number\"))\n",
    "if val == 0:\n",
    "    if val == 0:\n",
    "        print(\"its zero\")\n",
    "    else:\n",
    "        print(\"its a positive number\")\n",
    "else:\n",
    "    print(\"negative number\")"
   ]
  },
  {
   "cell_type": "code",
   "execution_count": 21,
   "id": "4be20641-268b-45d2-bc36-7bdcca4b1d79",
   "metadata": {},
   "outputs": [
    {
     "name": "stdin",
     "output_type": "stream",
     "text": [
      "enter a number 12\n"
     ]
    },
    {
     "name": "stdout",
     "output_type": "stream",
     "text": [
      "negative number\n"
     ]
    }
   ],
   "source": [
    "val = float(input(\"enter a number\"))\n",
    "if val == 0:\n",
    "    if val == 0:\n",
    "        print(\"its zero\")\n",
    "    else:\n",
    "        print(\"its a positive number\")\n",
    "else:\n",
    "    print(\"negative number\")"
   ]
  },
  {
   "cell_type": "code",
   "execution_count": 22,
   "id": "3be8b5f3-6acb-4e86-a0cd-67e485b1575b",
   "metadata": {},
   "outputs": [],
   "source": [
    "### single line if else\n",
    "\n",
    "# print YES of the no. is greater than 99"
   ]
  },
  {
   "cell_type": "code",
   "execution_count": 23,
   "id": "1cd441e0-3733-4030-9cf7-26ef9bfaf03c",
   "metadata": {},
   "outputs": [
    {
     "name": "stdin",
     "output_type": "stream",
     "text": [
      "enter a number 9\n"
     ]
    }
   ],
   "source": [
    "val = float(input(\"enter a number\"))\n",
    "\n",
    "if val > 99: print(\"yes\")"
   ]
  },
  {
   "cell_type": "code",
   "execution_count": 25,
   "id": "d985b107-af40-4988-9f6a-29af610d0c86",
   "metadata": {},
   "outputs": [
    {
     "name": "stdin",
     "output_type": "stream",
     "text": [
      "enter a number 333\n"
     ]
    },
    {
     "name": "stdout",
     "output_type": "stream",
     "text": [
      "yes\n"
     ]
    }
   ],
   "source": [
    "val = float(input(\"enter a number\"))\n",
    "\n",
    "if val > 99: print(\"yes\")"
   ]
  },
  {
   "cell_type": "code",
   "execution_count": 27,
   "id": "f0365457-b8d9-4713-9b2b-0338e233ca58",
   "metadata": {},
   "outputs": [
    {
     "name": "stdin",
     "output_type": "stream",
     "text": [
      "enter a number 24\n"
     ]
    },
    {
     "name": "stdout",
     "output_type": "stream",
     "text": [
      "no\n"
     ]
    }
   ],
   "source": [
    "# ok for competitive program\n",
    "# for production code or in a company its not recommended\n",
    "val = float(input(\"enter a number\"))\n",
    "\n",
    "if val > 99: print(\"yes\")\n",
    "\n",
    "else: \n",
    "    print(\"no\")"
   ]
  },
  {
   "cell_type": "code",
   "execution_count": 28,
   "id": "2ef3f1c2-d25c-4229-96d5-b75d3cd5231f",
   "metadata": {},
   "outputs": [
    {
     "name": "stdin",
     "output_type": "stream",
     "text": [
      "enter a number 33\n"
     ]
    },
    {
     "name": "stdout",
     "output_type": "stream",
     "text": [
      "no\n"
     ]
    }
   ],
   "source": [
    "val = float(input(\"enter a number\"))\n",
    "\n",
    "if val > 99: print(\"yes\")\n",
    "\n",
    "else: \n",
    "    print(\"no\")\n"
   ]
  },
  {
   "cell_type": "code",
   "execution_count": 30,
   "id": "f59acffa-c546-4a8b-8e21-17f7e372ee37",
   "metadata": {},
   "outputs": [
    {
     "name": "stdin",
     "output_type": "stream",
     "text": [
      "enter a number 9\n"
     ]
    },
    {
     "name": "stdout",
     "output_type": "stream",
     "text": [
      "no\n"
     ]
    }
   ],
   "source": [
    "# Recommended approach\n",
    "# its more readable and clean\n",
    "\n",
    "val = float(input(\"enter a number\"))\n",
    "\n",
    "if val > 99: print(\"yes\")\n",
    "\n",
    "else: \n",
    "    print(\"no\")"
   ]
  },
  {
   "cell_type": "code",
   "execution_count": 1,
   "id": "3a50f3a0-bdd1-4f99-8ca9-347e39f745e9",
   "metadata": {},
   "outputs": [],
   "source": [
    "## LOOPS\n",
    "# 1. while loop\n",
    "# 2. for loop\n",
    "# 3. loop control\n",
    "  # - break\n",
    "  # - ccontinue\n",
    "  # - pass\n",
    "# 4. nested loop\n"
   ]
  },
  {
   "cell_type": "code",
   "execution_count": 2,
   "id": "4380e18f-b06f-49f7-a121-163713bd225b",
   "metadata": {},
   "outputs": [],
   "source": [
    "# UPSC, IAS, Goverment exams\n",
    "\n",
    "# Repetive attempts"
   ]
  },
  {
   "cell_type": "code",
   "execution_count": 5,
   "id": "070c0270-d0bd-467d-8445-ba547036086a",
   "metadata": {},
   "outputs": [
    {
     "name": "stdout",
     "output_type": "stream",
     "text": [
      "your scores is:100\n",
      "i will attempt next year\n",
      "your scores is:200\n",
      "i will attempt next year\n",
      "your scores is:300\n",
      "i will attempt next year\n",
      "your scores is:399\n",
      "i will attempt next year\n"
     ]
    }
   ],
   "source": [
    "total_marks = 1000\n",
    "cutoff = 400\n",
    "scores = [100, 200, 300, 399, 500]\n",
    "\n",
    "# i will keep on attempting until i succed\n",
    "year = 0\n",
    "\n",
    "while scores[year] < cutoff:\n",
    "    print(f\"your scores is:{scores[year]}\")\n",
    "    print(\"i will attempt next year\")\n",
    "    year = year + 1 # i am adding 1 to current year"
   ]
  },
  {
   "cell_type": "code",
   "execution_count": 6,
   "id": "25b498df-f34c-40be-9145-6b3de469047a",
   "metadata": {},
   "outputs": [
    {
     "data": {
      "text/plain": [
       "100"
      ]
     },
     "execution_count": 6,
     "metadata": {},
     "output_type": "execute_result"
    }
   ],
   "source": [
    "scores[0]"
   ]
  },
  {
   "cell_type": "code",
   "execution_count": 7,
   "id": "37a33c75-42db-44a4-b499-d072b2e20e0c",
   "metadata": {},
   "outputs": [
    {
     "data": {
      "text/plain": [
       "200"
      ]
     },
     "execution_count": 7,
     "metadata": {},
     "output_type": "execute_result"
    }
   ],
   "source": [
    "scores[1]"
   ]
  },
  {
   "cell_type": "code",
   "execution_count": 8,
   "id": "91724965-46d5-4e10-b559-b78d361f0d00",
   "metadata": {},
   "outputs": [
    {
     "name": "stdout",
     "output_type": "stream",
     "text": [
      "your scores is:100, cutoff: 400\n",
      "i will attempt next year\n",
      "your scores is:200, cutoff: 400\n",
      "i will attempt next year\n",
      "your scores is:300, cutoff: 400\n",
      "i will attempt next year\n",
      "your scores is:399, cutoff: 400\n",
      "i will attempt next year\n"
     ]
    }
   ],
   "source": [
    "total_marks = 1000\n",
    "cutoff = 400\n",
    "scores = [100, 200, 300, 399, 500]\n",
    "\n",
    "# i will keep on attempting until i succed\n",
    "year = 0\n",
    "\n",
    "while scores[year] < cutoff:\n",
    "    print(f\"your scores is:{scores[year]}, cutoff: {cutoff}\")\n",
    "    print(\"i will attempt next year\")\n",
    "    year = year + 1 # i am adding 1 to current year"
   ]
  },
  {
   "cell_type": "code",
   "execution_count": 9,
   "id": "82389697-4862-432b-9345-b3b61561afbf",
   "metadata": {},
   "outputs": [],
   "source": [
    "## infinite loop\n",
    "\n",
    "# if the condition is always true then you loop will keep on running"
   ]
  },
  {
   "cell_type": "code",
   "execution_count": 1,
   "id": "f56ce7c9-398d-486b-9118-67db5f81dba6",
   "metadata": {},
   "outputs": [
    {
     "name": "stdout",
     "output_type": "stream",
     "text": [
      "current sum: 10\n",
      "current sum: 20\n",
      "current sum: 30\n",
      "current sum: 40\n",
      "current sum: 50\n",
      "current sum: 60\n",
      "current sum: 70\n",
      "current sum: 80\n",
      "current sum: 90\n",
      "current sum: 100\n"
     ]
    }
   ],
   "source": [
    "\"\"\"\"\n",
    "child is learning to counting 10 ruppes of note\n",
    "\"\"\"\n",
    "\n",
    "note = 10\n",
    "i = 1\n",
    "\n",
    "while i <= note:\n",
    "    print(f\"current sum: {i*10}\")\n",
    "    i = i + 1"
   ]
  },
  {
   "cell_type": "code",
   "execution_count": 3,
   "id": "88e5abad-371c-43c5-b97c-a17073d346c9",
   "metadata": {},
   "outputs": [
    {
     "name": "stdout",
     "output_type": "stream",
     "text": [
      "current station is: station 01\n",
      "my destination is: station 03\n",
      "continue the journey i haven't reached the destination\n",
      "current station is: station 02\n",
      "my destination is: station 03\n",
      "continue the journey i haven't reached the destination\n"
     ]
    }
   ],
   "source": [
    "# Train journey\n",
    "\n",
    "stations = [\"station 01\", \"station 02\", \"station 03\", \"station 04\"]\n",
    "\n",
    "current_station = 0\n",
    "destination_station = \"station 03\"\n",
    "\n",
    "while stations[current_station] != destination_station:\n",
    "    print(f\"current station is: {stations[current_station]}\")\n",
    "    print(f\"my destination is: {destination_station}\")\n",
    "    print(\"continue the journey i haven't reached the destination\")\n",
    "    current_station = current_station + 1\n",
    "    \n"
   ]
  },
  {
   "cell_type": "code",
   "execution_count": 4,
   "id": "02f37c04-4185-4e7b-8ec1-7b1c852c38de",
   "metadata": {},
   "outputs": [
    {
     "name": "stdout",
     "output_type": "stream",
     "text": [
      "current station is: station 01\n",
      "my destination is: station 03\n",
      "continue the journey i haven't reached the destination\n",
      "next station is: station 02\n",
      "current station is: station 02\n",
      "my destination is: station 03\n",
      "continue the journey i haven't reached the destination\n",
      "next station is: station 03\n"
     ]
    }
   ],
   "source": [
    "stations = [\"station 01\", \"station 02\", \"station 03\", \"station 04\"]\n",
    "\n",
    "current_station = 0\n",
    "destination_station = \"station 03\"\n",
    "\n",
    "while stations[current_station] != destination_station:\n",
    "    print(f\"current station is: {stations[current_station]}\")\n",
    "    print(f\"my destination is: {destination_station}\")\n",
    "    print(\"continue the journey i haven't reached the destination\")\n",
    "    current_station = current_station + 1\n",
    "    print(f\"next station is: {stations[current_station]}\")"
   ]
  },
  {
   "cell_type": "code",
   "execution_count": 5,
   "id": "fd9c4714-87b9-4f83-acc6-2ef0222fc044",
   "metadata": {},
   "outputs": [
    {
     "name": "stdout",
     "output_type": "stream",
     "text": [
      "current station is: station 01\n",
      "my destination is: station 03\n",
      "continue the journey i haven't reached the destination\n",
      "next station is: station 02\n",
      "-------\n",
      "current station is: station 02\n",
      "my destination is: station 03\n",
      "continue the journey i haven't reached the destination\n",
      "next station is: station 03\n",
      "-------\n",
      "i have arrived at: station 03\n"
     ]
    }
   ],
   "source": [
    "# while else\n",
    "\n",
    "stations = [\"station 01\", \"station 02\", \"station 03\", \"station 04\"]\n",
    "\n",
    "current_station = 0\n",
    "destination_station = \"station 03\"\n",
    "\n",
    "while stations[current_station] != destination_station:\n",
    "    print(f\"current station is: {stations[current_station]}\")\n",
    "    print(f\"my destination is: {destination_station}\")\n",
    "    print(\"continue the journey i haven't reached the destination\")\n",
    "    current_station = current_station + 1\n",
    "    print(f\"next station is: {stations[current_station]}\")\n",
    "    print(\"-------\")\n",
    "else:\n",
    "    print(f\"i have arrived at: {stations[current_station]}\")"
   ]
  },
  {
   "cell_type": "code",
   "execution_count": 6,
   "id": "40035a5b-20fa-49aa-9ea4-f16c70c99747",
   "metadata": {},
   "outputs": [],
   "source": [
    "## while condition is True\n",
    "  # statement\n",
    "## else:\n",
    "   # statement\n",
    "# ''''''"
   ]
  },
  {
   "cell_type": "code",
   "execution_count": 11,
   "id": "41edf08b-36ed-4fd6-974a-77e329fc0539",
   "metadata": {},
   "outputs": [
    {
     "name": "stdout",
     "output_type": "stream",
     "text": [
      "CONDITION: True\n",
      "current sum: 10\n",
      "----------\n",
      "CONDITION: True\n",
      "current sum: 20\n",
      "----------\n",
      "CONDITION: True\n",
      "current sum: 30\n",
      "----------\n",
      "CONDITION: True\n",
      "current sum: 40\n",
      "----------\n",
      "CONDITION: True\n",
      "current sum: 50\n",
      "----------\n",
      "CONDITION: False\n",
      "no more 10 ruppes note left\n"
     ]
    }
   ],
   "source": [
    "\"\"\"\"\n",
    "child is learning to counting 10 ruppes of note\n",
    "\"\"\"\n",
    "\n",
    "note = 5\n",
    "i = 1\n",
    "\n",
    "while i <= note:\n",
    "    print(f\"CONDITION: {i <= note}\")\n",
    "    print(f\"current sum: {i*10}\")\n",
    "    i = i + 1\n",
    "    print(\"----------\")\n",
    "else:\n",
    "    print(f\"CONDITION: {i <= note}\")\n",
    "    print(\"no more 10 ruppes note left\")"
   ]
  },
  {
   "cell_type": "code",
   "execution_count": 12,
   "id": "62ca2fda-43e2-443b-a725-be0866bb422c",
   "metadata": {},
   "outputs": [],
   "source": [
    "# for loop"
   ]
  },
  {
   "cell_type": "code",
   "execution_count": 14,
   "id": "6a30b4c4-0021-481a-8b77-8fa44a2cca7c",
   "metadata": {},
   "outputs": [
    {
     "name": "stdout",
     "output_type": "stream",
     "text": [
      "0\n",
      "1\n",
      "2\n",
      "3\n",
      "4\n",
      "5\n",
      "6\n",
      "7\n",
      "8\n",
      "9\n"
     ]
    }
   ],
   "source": [
    "for i in range(0, 10):\n",
    "    print(i)"
   ]
  },
  {
   "cell_type": "code",
   "execution_count": 15,
   "id": "b725cd26-fcf1-4b2b-8d1e-29f273c62ddf",
   "metadata": {},
   "outputs": [
    {
     "name": "stdout",
     "output_type": "stream",
     "text": [
      "10 x 0 = 0\n",
      "10 x 1 = 10\n",
      "10 x 2 = 20\n",
      "10 x 3 = 30\n",
      "10 x 4 = 40\n",
      "10 x 5 = 50\n",
      "10 x 6 = 60\n",
      "10 x 7 = 70\n",
      "10 x 8 = 80\n",
      "10 x 9 = 90\n"
     ]
    }
   ],
   "source": [
    "for i in range(0, 10): # 10 here is out of bound\n",
    "    print(f\"10 x {i} = {10*i}\")"
   ]
  },
  {
   "cell_type": "code",
   "execution_count": 16,
   "id": "fd631475-8271-45d0-87f9-7cee540c4f73",
   "metadata": {},
   "outputs": [
    {
     "name": "stdout",
     "output_type": "stream",
     "text": [
      "10 x 0 = 10\n",
      "10 x 1 = 20\n",
      "10 x 2 = 30\n",
      "10 x 3 = 40\n",
      "10 x 4 = 50\n",
      "10 x 5 = 60\n",
      "10 x 6 = 70\n",
      "10 x 7 = 80\n",
      "10 x 8 = 90\n",
      "10 x 9 = 100\n"
     ]
    }
   ],
   "source": [
    "for i in range(0, 10): # 10 here is out of bound\n",
    "    print(f\"10 x {i} = {10*(i+1)}\")"
   ]
  },
  {
   "cell_type": "code",
   "execution_count": 19,
   "id": "fd29ae47-6a4e-43fc-840f-217462fda3d0",
   "metadata": {},
   "outputs": [
    {
     "data": {
      "text/plain": [
       "'sohailsohailsohailsohailsohailsohailsohailsohailsohailsohail'"
      ]
     },
     "execution_count": 19,
     "metadata": {},
     "output_type": "execute_result"
    }
   ],
   "source": [
    "\"sohail\"*10"
   ]
  },
  {
   "cell_type": "code",
   "execution_count": 18,
   "id": "06526900-f114-46b4-afa0-c72c8dbcb522",
   "metadata": {},
   "outputs": [
    {
     "name": "stdout",
     "output_type": "stream",
     "text": [
      "*\n",
      "**\n",
      "***\n",
      "****\n",
      "*****\n",
      "******\n",
      "*******\n",
      "********\n",
      "*********\n",
      "**********\n",
      "***********\n",
      "************\n",
      "*************\n",
      "**************\n"
     ]
    }
   ],
   "source": [
    " for i in range(1, 15): # 11 here is out of bound\n",
    "    print(\"*\"*i)"
   ]
  },
  {
   "cell_type": "code",
   "execution_count": 20,
   "id": "42b19f0c-9ae4-4106-b358-3cbfce19bc5a",
   "metadata": {},
   "outputs": [
    {
     "name": "stdout",
     "output_type": "stream",
     "text": [
      "*\n",
      "**\n",
      "***\n",
      "****\n",
      "*****\n",
      "******\n",
      "*******\n",
      "********\n",
      "*********\n",
      "**********\n",
      "***********\n",
      "************\n",
      "*************\n",
      "**************\n"
     ]
    }
   ],
   "source": [
    "## i is not neccessary to use\n",
    "for sohail in range(1, 15): # 11 here is out of bound\n",
    "    print(\"*\"*sohail)"
   ]
  },
  {
   "cell_type": "code",
   "execution_count": 21,
   "id": "a66fb22f-137f-4dcd-a233-aee09dc14202",
   "metadata": {},
   "outputs": [
    {
     "name": "stdout",
     "output_type": "stream",
     "text": [
      "total amount to be paid: 885\n"
     ]
    }
   ],
   "source": [
    "cost_of_items = [100, 200, 129, 456]\n",
    "\n",
    "total_sum = 0\n",
    "\n",
    "for i in range(0, 4):\n",
    "    total_sum = total_sum + cost_of_items[i]\n",
    "    \n",
    "print(f\"total amount to be paid: {total_sum}\")"
   ]
  },
  {
   "cell_type": "code",
   "execution_count": 24,
   "id": "7247bdeb-b710-4113-862a-ddd4e5c3b535",
   "metadata": {},
   "outputs": [
    {
     "name": "stdout",
     "output_type": "stream",
     "text": [
      "total amount to be paid: 885\n"
     ]
    }
   ],
   "source": [
    "cost_of_items = [100, 200, 129, 456]\n",
    "\n",
    "total_sum = 0\n",
    "\n",
    "for i in range(-4, 0):\n",
    "    total_sum = total_sum + cost_of_items[i]\n",
    "    \n",
    "print(f\"total amount to be paid: {total_sum}\")"
   ]
  },
  {
   "cell_type": "code",
   "execution_count": 28,
   "id": "f17ec30a-04fc-496f-b08f-783695cd7b91",
   "metadata": {},
   "outputs": [
    {
     "name": "stdout",
     "output_type": "stream",
     "text": [
      "0 = 0 + 100\n",
      "after adding total_sum=100\n",
      "----------\n",
      "100 = 100 + 200\n",
      "after adding total_sum=300\n",
      "----------\n",
      "300 = 300 + 129\n",
      "after adding total_sum=429\n",
      "----------\n",
      "429 = 429 + 456\n",
      "after adding total_sum=885\n",
      "----------\n",
      "total amount to be paid: 885\n"
     ]
    }
   ],
   "source": [
    "cost_of_items = [100, 200, 129, 456]\n",
    "#                 0    1    2    3\n",
    "total_sum = 0\n",
    "\n",
    "for i in range(0, 4): # 0,1,2,3\n",
    "    print(f\"{total_sum} = {total_sum} + {cost_of_items[i]}\")\n",
    "    total_sum = total_sum + cost_of_items[i]\n",
    "    print(f\"after adding total_sum={total_sum}\")\n",
    "    print(\"----------\")\n",
    "print(f\"total amount to be paid: {total_sum}\")"
   ]
  },
  {
   "cell_type": "code",
   "execution_count": 29,
   "id": "191c09fe-b468-4acf-9c6a-2cd4adce1839",
   "metadata": {},
   "outputs": [
    {
     "data": {
      "text/plain": [
       "4"
      ]
     },
     "execution_count": 29,
     "metadata": {},
     "output_type": "execute_result"
    }
   ],
   "source": [
    "len(cost_of_items)"
   ]
  },
  {
   "cell_type": "code",
   "execution_count": 32,
   "id": "b3db8498-56e6-42d2-bf0a-168c87b6a519",
   "metadata": {},
   "outputs": [
    {
     "name": "stdout",
     "output_type": "stream",
     "text": [
      "0 = 0 + 100\n",
      "after adding total_sum=100\n",
      "----------\n",
      "100 = 100 + 200\n",
      "after adding total_sum=300\n",
      "----------\n",
      "300 = 300 + 129\n",
      "after adding total_sum=429\n",
      "----------\n",
      "429 = 429 + 456\n",
      "after adding total_sum=885\n",
      "----------\n",
      "885 = 885 + 1000\n",
      "after adding total_sum=1885\n",
      "----------\n",
      "total amount to be paid: 1885\n"
     ]
    }
   ],
   "source": [
    "cost_of_items = [100, 200, 129, 456, 1000]\n",
    "#                 0    1    2    3\n",
    "total_sum = 0\n",
    "N = len(cost_of_items)\n",
    "\n",
    "for i in range(0, N): # 0,1,2,3\n",
    "    print(f\"{total_sum} = {total_sum} + {cost_of_items[i]}\")\n",
    "    total_sum = total_sum + cost_of_items[i]\n",
    "    print(f\"after adding total_sum={total_sum}\")\n",
    "    print(\"----------\")\n",
    "print(f\"total amount to be paid: {total_sum}\")"
   ]
  },
  {
   "cell_type": "code",
   "execution_count": 34,
   "id": "1fc1b028-a1d8-4fe4-b31a-97254f634c71",
   "metadata": {},
   "outputs": [
    {
     "name": "stdout",
     "output_type": "stream",
     "text": [
      "0 = 0 + 100\n",
      "after adding total_sum=100\n",
      "----------\n",
      "100 = 100 + 200\n",
      "after adding total_sum=300\n",
      "----------\n",
      "300 = 300 + 129\n",
      "after adding total_sum=429\n",
      "----------\n",
      "429 = 429 + 456\n",
      "after adding total_sum=885\n",
      "----------\n",
      "total amount to be paid: 885\n"
     ]
    }
   ],
   "source": [
    "cost_of_items = [100, 200, 129, 456]\n",
    "#                 0    1    2    3\n",
    "total_sum = 0\n",
    "\n",
    "for cost in cost_of_items: # 0,1,2,3\n",
    "    print(f\"{total_sum} = {total_sum} + {cost}\")\n",
    "    total_sum = total_sum + cost\n",
    "    print(f\"after adding total_sum={total_sum}\")\n",
    "    print(\"----------\")\n",
    "print(f\"total amount to be paid: {total_sum}\")"
   ]
  },
  {
   "cell_type": "code",
   "execution_count": 3,
   "id": "70b7222c-faf6-4ab1-ac16-47f780f42041",
   "metadata": {},
   "outputs": [
    {
     "name": "stdout",
     "output_type": "stream",
     "text": [
      "total amount to be paid:1885\n"
     ]
    }
   ],
   "source": [
    "cost_of_item = [100, 200, 129, 456, 1000, 199, 299]\n",
    "\n",
    "total_sum = 0\n",
    "budget = 2000\n",
    "\n",
    "for cost in cost_of_item:\n",
    "    total_sum = total_sum + cost\n",
    "    if total_sum > budget:\n",
    "        total_sum = total_sum - cost\n",
    "        break\n",
    "\n",
    "print(f\"total amount to be paid:{total_sum}\")"
   ]
  },
  {
   "cell_type": "code",
   "execution_count": 4,
   "id": "5c92607d-8923-401f-a9a2-724d1e4f024c",
   "metadata": {},
   "outputs": [
    {
     "name": "stdout",
     "output_type": "stream",
     "text": [
      "current total: 100\n",
      "current total: 300\n",
      "current total: 429\n",
      "current total: 885\n",
      "current total: 1885\n",
      "current total: 2084\n",
      "total amount to be paid:1885\n"
     ]
    }
   ],
   "source": [
    "cost_of_item = [100, 200, 129, 456, 1000, 199, 299]\n",
    "\n",
    "total_sum = 0\n",
    "budget = 2000\n",
    "\n",
    "for cost in cost_of_item:\n",
    "    total_sum = total_sum + cost\n",
    "    print(f\"current total: {total_sum}\")\n",
    "    if total_sum > budget:\n",
    "        total_sum = total_sum - cost\n",
    "        break\n",
    "\n",
    "print(f\"total amount to be paid:{total_sum}\")"
   ]
  },
  {
   "cell_type": "code",
   "execution_count": 5,
   "id": "32a9d7ec-c26c-4d2e-880e-40bea9b44ca2",
   "metadata": {},
   "outputs": [
    {
     "name": "stdout",
     "output_type": "stream",
     "text": [
      "current total: 100\n",
      "current total: 300\n",
      "current total: 429\n",
      "current total: 885\n",
      "current total: 1885\n",
      "current total: 2084\n",
      "since current total is more than my budget: 2000\n",
      "please remove the last item\n",
      "total amount to be paid:1885\n"
     ]
    }
   ],
   "source": [
    "cost_of_item = [100, 200, 129, 456, 1000, 199, 299]\n",
    "\n",
    "total_sum = 0\n",
    "budget = 2000\n",
    "\n",
    "for cost in cost_of_item:\n",
    "    total_sum = total_sum + cost\n",
    "    print(f\"current total: {total_sum}\")\n",
    "    if total_sum > budget:\n",
    "        print(f\"since current total is more than my budget: {budget}\")\n",
    "        print(\"please remove the last item\")\n",
    "        total_sum = total_sum - cost\n",
    "        break\n",
    "\n",
    "print(f\"total amount to be paid:{total_sum}\")"
   ]
  },
  {
   "cell_type": "code",
   "execution_count": 8,
   "id": "fc3a7ac6-a6f7-484b-be48-a835b9ccf160",
   "metadata": {},
   "outputs": [
    {
     "name": "stdout",
     "output_type": "stream",
     "text": [
      "1\n",
      "2\n",
      "3\n",
      "4\n",
      "5\n",
      "6\n",
      "7\n",
      "8\n",
      "9\n",
      "10\n",
      "11\n",
      "12\n",
      "13\n",
      "14\n",
      "15\n",
      "16\n",
      "17\n",
      "18\n",
      "19\n",
      "20\n",
      "21\n",
      "22\n",
      "23\n",
      "24\n",
      "25\n",
      "26\n",
      "27\n",
      "28\n",
      "29\n",
      "30\n",
      "31\n",
      "32\n",
      "33\n",
      "34\n",
      "35\n",
      "36\n",
      "37\n",
      "38\n",
      "39\n",
      "40\n",
      "41\n",
      "42\n",
      "43\n",
      "44\n",
      "45\n",
      "46\n",
      "47\n",
      "48\n",
      "49\n",
      "50\n"
     ]
    }
   ],
   "source": [
    "for i in range(1, 100):\n",
    "    if i > 50:\n",
    "        break\n",
    "    print(i)"
   ]
  },
  {
   "cell_type": "code",
   "execution_count": 9,
   "id": "d77ea970-b00e-4c54-817c-b28c31825197",
   "metadata": {},
   "outputs": [
    {
     "name": "stdout",
     "output_type": "stream",
     "text": [
      "1\n",
      "2\n",
      "3\n",
      "4\n",
      "5\n",
      "6\n",
      "7\n",
      "8\n",
      "9\n",
      "10\n",
      "11\n",
      "12\n",
      "13\n",
      "14\n",
      "15\n",
      "16\n",
      "17\n",
      "18\n",
      "19\n",
      "20\n",
      "21\n",
      "22\n",
      "23\n",
      "24\n",
      "25\n",
      "26\n",
      "27\n",
      "28\n",
      "29\n",
      "30\n",
      "31\n",
      "32\n",
      "33\n",
      "34\n",
      "35\n",
      "36\n",
      "37\n",
      "38\n",
      "39\n",
      "40\n",
      "41\n",
      "42\n",
      "43\n",
      "44\n",
      "45\n",
      "46\n",
      "47\n",
      "48\n",
      "49\n",
      "50\n",
      "51\n"
     ]
    }
   ],
   "source": [
    "for i in range(1, 100):\n",
    "    print(i)\n",
    "    if i > 50:\n",
    "        break\n"
   ]
  },
  {
   "cell_type": "code",
   "execution_count": 11,
   "id": "751b1164-da30-4041-98b6-2b4708e8e9e3",
   "metadata": {},
   "outputs": [
    {
     "name": "stdout",
     "output_type": "stream",
     "text": [
      "1\n",
      "2\n",
      "3\n",
      "4\n",
      "5\n",
      "6\n",
      "7\n",
      "8\n",
      "9\n",
      "10\n",
      "11\n",
      "12\n",
      "13\n",
      "14\n",
      "15\n",
      "16\n",
      "17\n",
      "18\n",
      "19\n"
     ]
    }
   ],
   "source": [
    " for i in range(1, 20):\n",
    "    if i%20==0:     #  if no is even the start the loop again\n",
    "        continue\n",
    "    print(i)"
   ]
  },
  {
   "cell_type": "code",
   "execution_count": 14,
   "id": "83331289-c06a-44c3-9f5b-8c8d081c0e50",
   "metadata": {},
   "outputs": [
    {
     "name": "stdout",
     "output_type": "stream",
     "text": [
      "2\n",
      "4\n",
      "6\n",
      "8\n",
      "10\n",
      "12\n",
      "14\n",
      "16\n",
      "18\n"
     ]
    }
   ],
   "source": [
    "for i in range(1, 20):\n",
    "    if i%2!=0:     #  if no is even the start the loop again\n",
    "        continue # Strat the loop again\n",
    "    print(i)"
   ]
  },
  {
   "cell_type": "code",
   "execution_count": 2,
   "id": "6ba488cc-f061-4938-8018-3cacf4ec7d8a",
   "metadata": {},
   "outputs": [
    {
     "name": "stdout",
     "output_type": "stream",
     "text": [
      "1\n"
     ]
    }
   ],
   "source": [
    "for i in range(1, 20):\n",
    "    if i%2==0:     #  if no is even the start the loop again\n",
    "        break # STOP THE LOOP DON'T at all\n",
    "    print(i)"
   ]
  },
  {
   "cell_type": "code",
   "execution_count": 3,
   "id": "b3df6264-7f62-4e5f-8166-36aa2234671e",
   "metadata": {},
   "outputs": [
    {
     "name": "stdout",
     "output_type": "stream",
     "text": [
      "current station is: station 01\n",
      "current station is: station 02\n"
     ]
    }
   ],
   "source": [
    "stations = [\"station 01\", \"station 02\", \"station 03\", \"station 04\"]\n",
    "\n",
    "for current_station in stations:\n",
    "    print(f\"current station is: {current_station}\")\n",
    "    if current_station == \"station 02\":\n",
    "        break"
   ]
  },
  {
   "cell_type": "code",
   "execution_count": 4,
   "id": "a7a0a93c-8be2-435f-8de1-b5d254ccf7bc",
   "metadata": {},
   "outputs": [
    {
     "name": "stdout",
     "output_type": "stream",
     "text": [
      "current station is: station 01\n",
      "current station is: station 02\n",
      "current station is: station 03\n"
     ]
    }
   ],
   "source": [
    "stations = [\"station 01\", \"station 02\", \"station 03\", \"station 04\"]\n",
    "\n",
    "for current_station in stations:\n",
    "    print(f\"current station is: {current_station}\")\n",
    "    if current_station == \"station 03\":\n",
    "        break"
   ]
  },
  {
   "cell_type": "code",
   "execution_count": 8,
   "id": "7ea8d138-5851-4e24-b458-16d65d91faa1",
   "metadata": {},
   "outputs": [
    {
     "name": "stdout",
     "output_type": "stream",
     "text": [
      "current station is: station 01\n",
      "current station is: station 03\n",
      "current station is: station 04\n"
     ]
    }
   ],
   "source": [
    "stations = [\"station 01\", \"station 02\", \"station 03\", \"station 04\"]\n",
    "\n",
    "for current_station in stations:\n",
    "    \n",
    "    if current_station == \"station 02\":\n",
    "        continue\n",
    "    print(f\"current station is: {current_station}\")"
   ]
  },
  {
   "cell_type": "code",
   "execution_count": 9,
   "id": "2a6f3a1b-16fa-452c-b869-ce4729643622",
   "metadata": {},
   "outputs": [],
   "source": [
    "## break: it completely stops the loop\n",
    "## continue: it skips the current loop or it skips all the statement after continue keyword"
   ]
  },
  {
   "cell_type": "code",
   "execution_count": 11,
   "id": "c99e15b0-f9c3-4a45-a2c5-086ac41b82a5",
   "metadata": {},
   "outputs": [],
   "source": [
    "for i in range (1, 10):\n",
    "    pass # i want to write code later"
   ]
  },
  {
   "cell_type": "code",
   "execution_count": 12,
   "id": "e31befc8-18ac-49c1-9737-55aa9b1ea841",
   "metadata": {},
   "outputs": [
    {
     "name": "stdout",
     "output_type": "stream",
     "text": [
      "current station is: station 01\n",
      "current station is: station 02\n",
      "current station is: station 03\n",
      "current station is: station 04\n"
     ]
    }
   ],
   "source": [
    "stations = [\"station 01\", \"station 02\", \"station 03\", \"station 04\"]\n",
    "\n",
    "for current_station in stations:\n",
    "    \n",
    "    if current_station == \"station 02\":\n",
    "        pass\n",
    "    print(f\"current station is: {current_station}\")"
   ]
  },
  {
   "cell_type": "code",
   "execution_count": 13,
   "id": "4d9d3a36-49bb-4d25-bbb5-a18dc8b90026",
   "metadata": {},
   "outputs": [],
   "source": [
    " ## what is the difference between list of python and array of C or C++\n",
    "    \n",
    " ## Ans. in array we will elements of only one datatype in python list all elements can be different or same datatype"
   ]
  },
  {
   "cell_type": "code",
   "execution_count": 14,
   "id": "29553b87-ff7e-44a4-871e-3427d5a93d5c",
   "metadata": {},
   "outputs": [
    {
     "data": {
      "text/plain": [
       "1"
      ]
     },
     "execution_count": 14,
     "metadata": {},
     "output_type": "execute_result"
    }
   ],
   "source": [
    "A = [1,2,3,4,5]\n",
    "\n",
    "A[0]"
   ]
  },
  {
   "cell_type": "code",
   "execution_count": 15,
   "id": "352608cd-c0fc-46e6-91bd-d2b8aef4dff4",
   "metadata": {},
   "outputs": [
    {
     "data": {
      "text/plain": [
       "list"
      ]
     },
     "execution_count": 15,
     "metadata": {},
     "output_type": "execute_result"
    }
   ],
   "source": [
    "A = [1,2,3,4,5.0, \"SOHAIL\", 1+2j, True]\n",
    "\n",
    "type(A)"
   ]
  },
  {
   "cell_type": "code",
   "execution_count": 16,
   "id": "236d6907-e1ab-49fa-90bc-0be924da1149",
   "metadata": {},
   "outputs": [
    {
     "name": "stdout",
     "output_type": "stream",
     "text": [
      "1\n",
      "2\n",
      "3\n",
      "4\n",
      "5.0\n",
      "SOHAIL\n",
      "(1+2j)\n",
      "True\n"
     ]
    }
   ],
   "source": [
    "for element in A:\n",
    "    print(element)"
   ]
  },
  {
   "cell_type": "code",
   "execution_count": 17,
   "id": "111ed64a-f957-4914-b7a0-ff44bb3ccb50",
   "metadata": {},
   "outputs": [
    {
     "data": {
      "text/plain": [
       "8"
      ]
     },
     "execution_count": 17,
     "metadata": {},
     "output_type": "execute_result"
    }
   ],
   "source": [
    "len(A)"
   ]
  },
  {
   "cell_type": "code",
   "execution_count": 18,
   "id": "661473ea-0c84-48d8-91e8-28f60d3fe606",
   "metadata": {},
   "outputs": [
    {
     "name": "stdout",
     "output_type": "stream",
     "text": [
      "1\n",
      "2\n",
      "3\n",
      "4\n",
      "5.0\n",
      "SOHAIL\n",
      "(1+2j)\n",
      "True\n"
     ]
    }
   ],
   "source": [
    "for i in range (len(A)):\n",
    "    print(A[i])"
   ]
  },
  {
   "cell_type": "code",
   "execution_count": 19,
   "id": "a380f98f-b060-46bd-a657-69f2d3671d64",
   "metadata": {},
   "outputs": [
    {
     "name": "stdout",
     "output_type": "stream",
     "text": [
      "value1, datatype=<class 'int'>\n",
      "value2, datatype=<class 'int'>\n",
      "value3, datatype=<class 'int'>\n",
      "value4, datatype=<class 'int'>\n",
      "value5.0, datatype=<class 'float'>\n",
      "valueSOHAIL, datatype=<class 'str'>\n",
      "value(1+2j), datatype=<class 'complex'>\n",
      "valueTrue, datatype=<class 'bool'>\n"
     ]
    }
   ],
   "source": [
    "for i in range (len(A)):\n",
    "    print(f\"value{A[i]}, datatype={type(A[i])}\")"
   ]
  },
  {
   "cell_type": "code",
   "execution_count": 21,
   "id": "be5bdc75-8069-44ed-a749-23ab743818ec",
   "metadata": {},
   "outputs": [
    {
     "data": {
      "text/plain": [
       "[1, 2, 3, 4, 5.0, 'SOHAIL', (1+2j), True]"
      ]
     },
     "execution_count": 21,
     "metadata": {},
     "output_type": "execute_result"
    }
   ],
   "source": [
    "A"
   ]
  },
  {
   "cell_type": "code",
   "execution_count": 22,
   "id": "e7902824-5a70-46c3-adf1-6f28c422f65a",
   "metadata": {},
   "outputs": [
    {
     "data": {
      "text/plain": [
       "[4, 5.0, 'SOHAIL', (1+2j), True]"
      ]
     },
     "execution_count": 22,
     "metadata": {},
     "output_type": "execute_result"
    }
   ],
   "source": [
    "A[3:]"
   ]
  },
  {
   "cell_type": "code",
   "execution_count": 23,
   "id": "4973d3ce-4fb8-4868-85e4-7c32feddbee3",
   "metadata": {},
   "outputs": [
    {
     "data": {
      "text/plain": [
       "[1, 2, 3, 4, 5.0, 'SOHAIL', (1+2j), True]"
      ]
     },
     "execution_count": 23,
     "metadata": {},
     "output_type": "execute_result"
    }
   ],
   "source": [
    "A[0:]"
   ]
  },
  {
   "cell_type": "code",
   "execution_count": 24,
   "id": "444289c1-346f-4998-84d2-c9fd3b4b0cfe",
   "metadata": {},
   "outputs": [
    {
     "data": {
      "text/plain": [
       "[1, 3, 5.0, (1+2j)]"
      ]
     },
     "execution_count": 24,
     "metadata": {},
     "output_type": "execute_result"
    }
   ],
   "source": [
    "A[0::2] # [start index: end index: STEP]"
   ]
  },
  {
   "cell_type": "code",
   "execution_count": 25,
   "id": "3b2813e4-b67d-45f3-b9ee-8e53899966c8",
   "metadata": {},
   "outputs": [
    {
     "name": "stdout",
     "output_type": "stream",
     "text": [
      "0\n",
      "2\n",
      "4\n",
      "6\n"
     ]
    }
   ],
   "source": [
    "for i in range (0, 8, 2):\n",
    "    print(i)"
   ]
  },
  {
   "cell_type": "code",
   "execution_count": 26,
   "id": "3e8efb28-7d48-41ad-9a88-5e47d1154f35",
   "metadata": {},
   "outputs": [
    {
     "name": "stdout",
     "output_type": "stream",
     "text": [
      "0 1\n",
      "2 3\n",
      "4 5.0\n",
      "6 (1+2j)\n"
     ]
    }
   ],
   "source": [
    "for i in range (0, 8, 2):\n",
    "    print(i, A[i])                        "
   ]
  },
  {
   "cell_type": "code",
   "execution_count": 27,
   "id": "34f58ece-871c-4cfd-9737-b37d1333f913",
   "metadata": {},
   "outputs": [
    {
     "data": {
      "text/plain": [
       "[1, 2, 3, 4, 5.0, 'SOHAIL', (1+2j), True]"
      ]
     },
     "execution_count": 27,
     "metadata": {},
     "output_type": "execute_result"
    }
   ],
   "source": [
    " A"
   ]
  },
  {
   "cell_type": "code",
   "execution_count": 28,
   "id": "9b5a9884-1cab-43ab-9b46-52fb5f3bb6d2",
   "metadata": {},
   "outputs": [
    {
     "data": {
      "text/plain": [
       "[True, (1+2j), 'SOHAIL', 5.0, 4, 3, 2, 1]"
      ]
     },
     "execution_count": 28,
     "metadata": {},
     "output_type": "execute_result"
    }
   ],
   "source": [
    "A[::-1] # REVERSES order"
   ]
  },
  {
   "cell_type": "code",
   "execution_count": 29,
   "id": "dc4adb03-0fa1-4b25-89d9-158adec21ae5",
   "metadata": {},
   "outputs": [
    {
     "data": {
      "text/plain": [
       "[True, 'SOHAIL', 4, 2]"
      ]
     },
     "execution_count": 29,
     "metadata": {},
     "output_type": "execute_result"
    }
   ],
   "source": [
    " A[::-2]"
   ]
  },
  {
   "cell_type": "code",
   "execution_count": 30,
   "id": "9113be16-1f3c-4e6a-9927-73feb759fbd3",
   "metadata": {},
   "outputs": [
    {
     "name": "stdout",
     "output_type": "stream",
     "text": [
      "0\n",
      "2\n",
      "4\n",
      "6\n",
      "8\n"
     ]
    }
   ],
   "source": [
    "for i in range(0,10,2):\n",
    "    print(i)"
   ]
  },
  {
   "cell_type": "code",
   "execution_count": 34,
   "id": "b89f6a95-b8df-4ab4-99a7-94d6ef822762",
   "metadata": {},
   "outputs": [
    {
     "name": "stdout",
     "output_type": "stream",
     "text": [
      "0 1\n",
      "1 2\n",
      "2 3\n",
      "3 4\n",
      "4 5.0\n",
      "5 SOHAIL\n",
      "6 (1+2j)\n",
      "7 True\n"
     ]
    }
   ],
   "source": [
    "for i in range(0,len(A)):\n",
    "    print(i, A[i])"
   ]
  },
  {
   "cell_type": "code",
   "execution_count": 37,
   "id": "18624635-94cb-48b0-9925-5272f3feaea3",
   "metadata": {},
   "outputs": [
    {
     "name": "stdout",
     "output_type": "stream",
     "text": [
      "-1 True\n",
      "-2 (1+2j)\n",
      "-3 SOHAIL\n",
      "-4 5.0\n",
      "-5 4\n",
      "-6 3\n",
      "-7 2\n",
      "-8 1\n"
     ]
    }
   ],
   "source": [
    "for i in range(-1, -len(A) - 1, -1):\n",
    "    print(i, A[i])"
   ]
  },
  {
   "cell_type": "code",
   "execution_count": 38,
   "id": "ec0e2d23-c1ff-45e6-a018-ff221aa4d706",
   "metadata": {},
   "outputs": [
    {
     "data": {
      "text/plain": [
       "[1, 3, 5.0, (1+2j)]"
      ]
     },
     "execution_count": 38,
     "metadata": {},
     "output_type": "execute_result"
    }
   ],
   "source": [
    "A[::2]"
   ]
  },
  {
   "cell_type": "code",
   "execution_count": 39,
   "id": "ec7410c2-3fc3-4005-8a41-37adf5a9e280",
   "metadata": {},
   "outputs": [
    {
     "data": {
      "text/plain": [
       "[2, 4, 'SOHAIL', True]"
      ]
     },
     "execution_count": 39,
     "metadata": {},
     "output_type": "execute_result"
    }
   ],
   "source": [
    "A[1::2]"
   ]
  },
  {
   "cell_type": "code",
   "execution_count": 3,
   "id": "d20b3c6e-0a5e-4282-88aa-bd3ff685ea00",
   "metadata": {},
   "outputs": [
    {
     "data": {
      "text/plain": [
       "list"
      ]
     },
     "execution_count": 3,
     "metadata": {},
     "output_type": "execute_result"
    }
   ],
   "source": [
    "A = [1,2,3,4,5.0, \"SOHAIL\", 1+2j, True]\n",
    "\n",
    "type(A)"
   ]
  },
  {
   "cell_type": "code",
   "execution_count": 4,
   "id": "a96e7b31-a65a-48e1-b701-6e79532b4487",
   "metadata": {},
   "outputs": [
    {
     "name": "stdout",
     "output_type": "stream",
     "text": [
      "1 2\n",
      "5 SOHAIL\n",
      "6 (1+2j)\n",
      "7 True\n"
     ]
    }
   ],
   "source": [
    "for i in [1,5,6,7]:\n",
    "    print(i, A[i])"
   ]
  },
  {
   "cell_type": "code",
   "execution_count": 5,
   "id": "44cb35f4-e627-426f-bf2c-0bbf8d4d9931",
   "metadata": {},
   "outputs": [
    {
     "data": {
      "text/plain": [
       "[1, 2, 3, 4, 5.0, 'SOHAIL', (1+2j), True]"
      ]
     },
     "execution_count": 5,
     "metadata": {},
     "output_type": "execute_result"
    }
   ],
   "source": [
    "A"
   ]
  },
  {
   "cell_type": "code",
   "execution_count": null,
   "id": "ba31eae0-2beb-4d82-ab15-5c6973cfe618",
   "metadata": {},
   "outputs": [],
   "source": []
  },
  {
   "cell_type": "code",
   "execution_count": 6,
   "id": "cb6bde7a-9b84-4a7a-97dc-ef09e29c9e09",
   "metadata": {},
   "outputs": [],
   "source": [
    "A[4] = 999 # MUTABLE OPERATION ALLOWED IN LIST"
   ]
  },
  {
   "cell_type": "code",
   "execution_count": 7,
   "id": "49e75f44-8f8e-45f5-9f32-803750917ba6",
   "metadata": {},
   "outputs": [
    {
     "data": {
      "text/plain": [
       "[1, 2, 3, 4, 999, 'SOHAIL', (1+2j), True]"
      ]
     },
     "execution_count": 7,
     "metadata": {},
     "output_type": "execute_result"
    }
   ],
   "source": [
    "A"
   ]
  },
  {
   "cell_type": "code",
   "execution_count": 9,
   "id": "2e0c377d-9a3e-4e24-9ab0-3652c28e986c",
   "metadata": {},
   "outputs": [],
   "source": [
    "A[-2] = \"iNeuron\""
   ]
  },
  {
   "cell_type": "code",
   "execution_count": 10,
   "id": "a112aede-81f3-44e2-88bd-5a6a41877b73",
   "metadata": {},
   "outputs": [
    {
     "data": {
      "text/plain": [
       "[1, 2, 3, 4, 999, 'SOHAIL', 'iNeuron', True]"
      ]
     },
     "execution_count": 10,
     "metadata": {},
     "output_type": "execute_result"
    }
   ],
   "source": [
    "A"
   ]
  },
  {
   "cell_type": "code",
   "execution_count": 11,
   "id": "aa971fd7-20ed-4be6-8221-68fe8b8037da",
   "metadata": {},
   "outputs": [],
   "source": [
    "B = [78,92.33]"
   ]
  },
  {
   "cell_type": "code",
   "execution_count": 12,
   "id": "5c66fb8b-6042-4746-af09-55eade778489",
   "metadata": {},
   "outputs": [
    {
     "data": {
      "text/plain": [
       "[1, 2, 3, 4, 999, 'SOHAIL', 'iNeuron', True, 78, 92.33]"
      ]
     },
     "execution_count": 12,
     "metadata": {},
     "output_type": "execute_result"
    }
   ],
   "source": [
    "A + B"
   ]
  },
  {
   "cell_type": "code",
   "execution_count": 13,
   "id": "1a8fd907-82be-4ace-8fbf-cc2fe68bbee0",
   "metadata": {},
   "outputs": [],
   "source": [
    "A = A + B"
   ]
  },
  {
   "cell_type": "code",
   "execution_count": 14,
   "id": "bd46f531-c81e-4af0-ac0c-6788a6e6d0a1",
   "metadata": {},
   "outputs": [
    {
     "data": {
      "text/plain": [
       "[1, 2, 3, 4, 999, 'SOHAIL', 'iNeuron', True, 78, 92.33]"
      ]
     },
     "execution_count": 14,
     "metadata": {},
     "output_type": "execute_result"
    }
   ],
   "source": [
    "A"
   ]
  },
  {
   "cell_type": "code",
   "execution_count": 15,
   "id": "07d82975-6af9-4353-9854-bf2f347e6478",
   "metadata": {},
   "outputs": [
    {
     "data": {
      "text/plain": [
       "[1,\n",
       " 2,\n",
       " 3,\n",
       " 4,\n",
       " 999,\n",
       " 'SOHAIL',\n",
       " 'iNeuron',\n",
       " True,\n",
       " 78,\n",
       " 92.33,\n",
       " 1,\n",
       " 2,\n",
       " 3,\n",
       " 4,\n",
       " 999,\n",
       " 'SOHAIL',\n",
       " 'iNeuron',\n",
       " True,\n",
       " 78,\n",
       " 92.33]"
      ]
     },
     "execution_count": 15,
     "metadata": {},
     "output_type": "execute_result"
    }
   ],
   "source": [
    "A * 2"
   ]
  },
  {
   "cell_type": "code",
   "execution_count": 16,
   "id": "ba5c6dd8-d65d-4ebe-9c25-8781b1c06808",
   "metadata": {},
   "outputs": [
    {
     "ename": "TypeError",
     "evalue": "unsupported operand type(s) for /: 'list' and 'int'",
     "output_type": "error",
     "traceback": [
      "\u001b[0;31m---------------------------------------------------------------------------\u001b[0m",
      "\u001b[0;31mTypeError\u001b[0m                                 Traceback (most recent call last)",
      "Cell \u001b[0;32mIn [16], line 1\u001b[0m\n\u001b[0;32m----> 1\u001b[0m \u001b[43mA\u001b[49m\u001b[38;5;241;43m/\u001b[39;49m\u001b[38;5;241;43m2\u001b[39;49m\n",
      "\u001b[0;31mTypeError\u001b[0m: unsupported operand type(s) for /: 'list' and 'int'"
     ]
    }
   ],
   "source": [
    "A/2"
   ]
  },
  {
   "cell_type": "code",
   "execution_count": 17,
   "id": "54b1dae8-3527-4325-ad5c-fe5c647e13e1",
   "metadata": {},
   "outputs": [
    {
     "ename": "TypeError",
     "evalue": "can't multiply sequence by non-int of type 'list'",
     "output_type": "error",
     "traceback": [
      "\u001b[0;31m---------------------------------------------------------------------------\u001b[0m",
      "\u001b[0;31mTypeError\u001b[0m                                 Traceback (most recent call last)",
      "Cell \u001b[0;32mIn [17], line 1\u001b[0m\n\u001b[0;32m----> 1\u001b[0m \u001b[43mA\u001b[49m\u001b[38;5;241;43m*\u001b[39;49m\u001b[43mA\u001b[49m\n",
      "\u001b[0;31mTypeError\u001b[0m: can't multiply sequence by non-int of type 'list'"
     ]
    }
   ],
   "source": [
    "A*A"
   ]
  },
  {
   "cell_type": "code",
   "execution_count": 18,
   "id": "96f391a0-d230-43c6-b455-2a0e314a8109",
   "metadata": {},
   "outputs": [
    {
     "data": {
      "text/plain": [
       "[1,\n",
       " 2,\n",
       " 3,\n",
       " 4,\n",
       " 999,\n",
       " 'SOHAIL',\n",
       " 'iNeuron',\n",
       " True,\n",
       " 78,\n",
       " 92.33,\n",
       " 1,\n",
       " 2,\n",
       " 3,\n",
       " 4,\n",
       " 999,\n",
       " 'SOHAIL',\n",
       " 'iNeuron',\n",
       " True,\n",
       " 78,\n",
       " 92.33]"
      ]
     },
     "execution_count": 18,
     "metadata": {},
     "output_type": "execute_result"
    }
   ],
   "source": [
    "A + A"
   ]
  },
  {
   "cell_type": "code",
   "execution_count": 19,
   "id": "7b9492a1-bb58-4ba3-982e-da99b74b41c1",
   "metadata": {},
   "outputs": [
    {
     "data": {
      "text/plain": [
       "[1,\n",
       " 2,\n",
       " 3,\n",
       " 4,\n",
       " 999,\n",
       " 'SOHAIL',\n",
       " 'iNeuron',\n",
       " True,\n",
       " 78,\n",
       " 92.33,\n",
       " 1,\n",
       " 2,\n",
       " 3,\n",
       " 4,\n",
       " 999,\n",
       " 'SOHAIL',\n",
       " 'iNeuron',\n",
       " True,\n",
       " 78,\n",
       " 92.33,\n",
       " 1,\n",
       " 2,\n",
       " 3,\n",
       " 4,\n",
       " 999,\n",
       " 'SOHAIL',\n",
       " 'iNeuron',\n",
       " True,\n",
       " 78,\n",
       " 92.33]"
      ]
     },
     "execution_count": 19,
     "metadata": {},
     "output_type": "execute_result"
    }
   ],
   "source": [
    "A + A + A"
   ]
  },
  {
   "cell_type": "code",
   "execution_count": 20,
   "id": "464c13d9-ecb8-4d95-b535-f8428f8fb54a",
   "metadata": {},
   "outputs": [
    {
     "data": {
      "text/plain": [
       "[]"
      ]
     },
     "execution_count": 20,
     "metadata": {},
     "output_type": "execute_result"
    }
   ],
   "source": [
    "A * (-1)"
   ]
  },
  {
   "cell_type": "code",
   "execution_count": 21,
   "id": "77e6fed2-0548-433a-a75a-a00196cbaa6c",
   "metadata": {},
   "outputs": [
    {
     "data": {
      "text/plain": [
       "[]"
      ]
     },
     "execution_count": 21,
     "metadata": {},
     "output_type": "execute_result"
    }
   ],
   "source": [
    "A * (-2)"
   ]
  },
  {
   "cell_type": "code",
   "execution_count": 22,
   "id": "7b162551-8072-4cd8-a75e-19f45c57d407",
   "metadata": {},
   "outputs": [
    {
     "data": {
      "text/plain": [
       "[1,\n",
       " 2,\n",
       " 3,\n",
       " 4,\n",
       " 999,\n",
       " 'SOHAIL',\n",
       " 'iNeuron',\n",
       " True,\n",
       " 78,\n",
       " 92.33,\n",
       " 1,\n",
       " 2,\n",
       " 3,\n",
       " 4,\n",
       " 999,\n",
       " 'SOHAIL',\n",
       " 'iNeuron',\n",
       " True,\n",
       " 78,\n",
       " 92.33,\n",
       " 1,\n",
       " 2,\n",
       " 3,\n",
       " 4,\n",
       " 999,\n",
       " 'SOHAIL',\n",
       " 'iNeuron',\n",
       " True,\n",
       " 78,\n",
       " 92.33]"
      ]
     },
     "execution_count": 22,
     "metadata": {},
     "output_type": "execute_result"
    }
   ],
   "source": [
    "A + 2 * A"
   ]
  },
  {
   "cell_type": "code",
   "execution_count": 23,
   "id": "83e5a717-6b39-4cc8-bcb9-535525fc3aa7",
   "metadata": {},
   "outputs": [
    {
     "data": {
      "text/plain": [
       "[]"
      ]
     },
     "execution_count": 23,
     "metadata": {},
     "output_type": "execute_result"
    }
   ],
   "source": [
    "A * 0"
   ]
  },
  {
   "cell_type": "code",
   "execution_count": 24,
   "id": "141e19a7-444e-4240-a5e3-f9cfe045da36",
   "metadata": {},
   "outputs": [],
   "source": [
    "## BASIC METHODS\n",
    "\n",
    "# if you are familiar another programming language, start to draw parallels between lists in python and arrays in other language\n",
    " # there are two reason which tells why the lists in python are more flexible than arrays in other programming language:\n",
    "# A. they have no fixed size (which means we need not to specify how big the list will be)\n",
    "# B. They have no fixed type constraint\n",
    "\n",
    "# let's go ahead and explore some more special methods for list:"
   ]
  },
  {
   "cell_type": "code",
   "execution_count": 26,
   "id": "1bcc3eaa-65b8-401f-b01c-ae803f732b3f",
   "metadata": {},
   "outputs": [
    {
     "data": {
      "text/plain": [
       "9"
      ]
     },
     "execution_count": 26,
     "metadata": {},
     "output_type": "execute_result"
    }
   ],
   "source": [
    "l = [45,6,7,5,\"ineuron\",True,False,35,62.56]\n",
    "len(l)"
   ]
  },
  {
   "cell_type": "code",
   "execution_count": 27,
   "id": "3099d925-26af-4c32-8bd5-cd9e093dcffd",
   "metadata": {},
   "outputs": [
    {
     "data": {
      "text/plain": [
       "10"
      ]
     },
     "execution_count": 27,
     "metadata": {},
     "output_type": "execute_result"
    }
   ],
   "source": [
    "len(A)"
   ]
  },
  {
   "cell_type": "code",
   "execution_count": 28,
   "id": "e405810e-b2ab-40ba-91e8-dd8a91ae63d4",
   "metadata": {},
   "outputs": [
    {
     "data": {
      "text/plain": [
       "0"
      ]
     },
     "execution_count": 28,
     "metadata": {},
     "output_type": "execute_result"
    }
   ],
   "source": [
    "my_list = [] # not recommend\n",
    "\n",
    "len(my_list)"
   ]
  },
  {
   "cell_type": "code",
   "execution_count": 29,
   "id": "7976f8b2-721c-4bba-b236-c354d9703699",
   "metadata": {},
   "outputs": [
    {
     "data": {
      "text/plain": [
       "0"
      ]
     },
     "execution_count": 29,
     "metadata": {},
     "output_type": "execute_result"
    }
   ],
   "source": [
    "my_list = list() #  recommend\n",
    "\n",
    "len(my_list)"
   ]
  },
  {
   "cell_type": "code",
   "execution_count": 30,
   "id": "a19d4472-62f7-48f2-b0b8-758c6d9715cb",
   "metadata": {},
   "outputs": [
    {
     "name": "stdin",
     "output_type": "stream",
     "text": [
      "Enter the item that you want to purchase:  MANGO\n",
      "Enter the item that you want to purchase:  BANANA\n",
      "Enter the item that you want to purchase:  PAPAYA\n",
      "Enter the item that you want to purchase:  APPLE\n",
      "Enter the item that you want to purchase:  I PHONE 14 PRO MAX\n",
      "Enter the item that you want to purchase:  BREAD\n",
      "Enter the item that you want to purchase:  SUGAR\n",
      "Enter the item that you want to purchase:  EGGS\n",
      "Enter the item that you want to purchase:  RICE\n",
      "Enter the item that you want to purchase:  WHEAT\n"
     ]
    },
    {
     "name": "stdout",
     "output_type": "stream",
     "text": [
      "['MANGO', 'BANANA', 'PAPAYA', 'APPLE', 'I PHONE 14 PRO MAX', 'BREAD', 'SUGAR', 'EGGS', 'RICE', 'WHEAT']\n"
     ]
    }
   ],
   "source": [
    "list_of_item_purchase = list()\n",
    "\n",
    "for i in range(10):\n",
    "    user_input = input(\"Enter the item that you want to purchase: \")\n",
    "    list_of_item_purchase = list_of_item_purchase + [user_input]\n",
    "    \n",
    "print(list_of_item_purchase)"
   ]
  },
  {
   "cell_type": "code",
   "execution_count": 31,
   "id": "3c84c1bd-9f61-4d01-8ff0-3520d7814896",
   "metadata": {},
   "outputs": [
    {
     "name": "stdin",
     "output_type": "stream",
     "text": [
      "No of item yo want to purchase:  4\n",
      "Enter the item that you want to purchase:  I PHONE LATEST VERSION\n",
      "Enter the item that you want to purchase:  APPLE WATCH\n",
      "Enter the item that you want to purchase:  AIR POD\n",
      "Enter the item that you want to purchase:  MACBOOK\n"
     ]
    },
    {
     "name": "stdout",
     "output_type": "stream",
     "text": [
      "['I PHONE LATEST VERSION', 'APPLE WATCH', 'AIR POD', 'MACBOOK']\n"
     ]
    }
   ],
   "source": [
    "list_of_item_purchase = list()\n",
    "\n",
    "N = int(input(\"No of item yo want to purchase: \"))\n",
    "for i in range(N):\n",
    "    user_input = input(\"Enter the item that you want to purchase: \")\n",
    "    list_of_item_purchase = list_of_item_purchase + [user_input]\n",
    "    \n",
    "print(list_of_item_purchase)"
   ]
  },
  {
   "cell_type": "code",
   "execution_count": 33,
   "id": "1cfd7c56-422c-438e-a843-be2022203397",
   "metadata": {},
   "outputs": [
    {
     "data": {
      "text/plain": [
       "4"
      ]
     },
     "execution_count": 33,
     "metadata": {},
     "output_type": "execute_result"
    }
   ],
   "source": [
    "len(list_of_item_purchase )"
   ]
  },
  {
   "cell_type": "code",
   "execution_count": 34,
   "id": "878ee345-c90c-442f-8367-a3e5da70e18b",
   "metadata": {},
   "outputs": [
    {
     "name": "stdin",
     "output_type": "stream",
     "text": [
      "No of item yo want to purchase:  5\n",
      "Enter the item that you want to purchase:  i phone \n",
      "Enter the item that you want to purchase:  apple watch\n",
      "Enter the item that you want to purchase:  air pod\n",
      "Enter the item that you want to purchase:  mac book\n",
      "Enter the item that you want to purchase:  i pad\n"
     ]
    },
    {
     "name": "stdout",
     "output_type": "stream",
     "text": [
      "['i phone ', 'apple watch', 'air pod', 'mac book', 'i pad']\n"
     ]
    }
   ],
   "source": [
    "list_of_item_purchase = list()\n",
    "\n",
    "N = int(input(\"No of item yo want to purchase: \"))\n",
    "i = 0\n",
    "while i < N:\n",
    "    user_input = input(\"Enter the item that you want to purchase: \")\n",
    "    list_of_item_purchase = list_of_item_purchase + [user_input]\n",
    "    i = i + 1\n",
    "    \n",
    "print(list_of_item_purchase)"
   ]
  },
  {
   "cell_type": "code",
   "execution_count": 35,
   "id": "50750c6d-c117-4e2e-b892-3e561dde7fbb",
   "metadata": {},
   "outputs": [
    {
     "data": {
      "text/plain": [
       "[1, 2, 360]"
      ]
     },
     "execution_count": 35,
     "metadata": {},
     "output_type": "execute_result"
    }
   ],
   "source": [
    "[1,2] + [360]"
   ]
  },
  {
   "cell_type": "code",
   "execution_count": 36,
   "id": "fe88f313-a841-4191-bec1-c45e8e8d7601",
   "metadata": {},
   "outputs": [
    {
     "name": "stdin",
     "output_type": "stream",
     "text": [
      "No of item yo want to purchase:  5\n",
      "Enter the item that you want to purchase:  I PHONE\n"
     ]
    },
    {
     "name": "stdout",
     "output_type": "stream",
     "text": [
      "cureent i: 1=> current list: ['I PHONE']\n"
     ]
    },
    {
     "name": "stdin",
     "output_type": "stream",
     "text": [
      "Enter the item that you want to purchase:  AIR POD\n"
     ]
    },
    {
     "name": "stdout",
     "output_type": "stream",
     "text": [
      "cureent i: 2=> current list: ['I PHONE', 'AIR POD']\n"
     ]
    },
    {
     "name": "stdin",
     "output_type": "stream",
     "text": [
      "Enter the item that you want to purchase:  WATCH\n"
     ]
    },
    {
     "name": "stdout",
     "output_type": "stream",
     "text": [
      "cureent i: 3=> current list: ['I PHONE', 'AIR POD', 'WATCH']\n"
     ]
    },
    {
     "name": "stdin",
     "output_type": "stream",
     "text": [
      "Enter the item that you want to purchase:  MAC BOOK\n"
     ]
    },
    {
     "name": "stdout",
     "output_type": "stream",
     "text": [
      "cureent i: 4=> current list: ['I PHONE', 'AIR POD', 'WATCH', 'MAC BOOK']\n"
     ]
    },
    {
     "name": "stdin",
     "output_type": "stream",
     "text": [
      "Enter the item that you want to purchase:  I PAD\n"
     ]
    },
    {
     "name": "stdout",
     "output_type": "stream",
     "text": [
      "cureent i: 5=> current list: ['I PHONE', 'AIR POD', 'WATCH', 'MAC BOOK', 'I PAD']\n",
      "['I PHONE', 'AIR POD', 'WATCH', 'MAC BOOK', 'I PAD']\n"
     ]
    }
   ],
   "source": [
    "list_of_item_purchase = list()\n",
    "\n",
    "N = int(input(\"No of item yo want to purchase: \"))\n",
    "i = 0\n",
    "while i < N:\n",
    "    user_input = input(\"Enter the item that you want to purchase: \")\n",
    "    list_of_item_purchase = list_of_item_purchase + [user_input]\n",
    "    i = i + 1\n",
    "    print(f\"cureent i: {i}=> current list: {list_of_item_purchase}\")\n",
    "    \n",
    "print(list_of_item_purchase)"
   ]
  },
  {
   "cell_type": "code",
   "execution_count": 38,
   "id": "b40eb53a-afba-45b0-a26a-dc27f320d1d5",
   "metadata": {},
   "outputs": [
    {
     "data": {
      "text/plain": [
       "True"
      ]
     },
     "execution_count": 38,
     "metadata": {},
     "output_type": "execute_result"
    }
   ],
   "source": [
    "5 in l"
   ]
  },
  {
   "cell_type": "code",
   "execution_count": 39,
   "id": "667efe5f-69cd-4766-8fc3-eabb26d9bf9d",
   "metadata": {},
   "outputs": [
    {
     "data": {
      "text/plain": [
       "False"
      ]
     },
     "execution_count": 39,
     "metadata": {},
     "output_type": "execute_result"
    }
   ],
   "source": [
    "\"PHONE COVER\" in list_of_item_purchase"
   ]
  },
  {
   "cell_type": "code",
   "execution_count": 40,
   "id": "44e7dadb-2a1e-4bb5-ba36-49759c7974bb",
   "metadata": {},
   "outputs": [
    {
     "data": {
      "text/plain": [
       "True"
      ]
     },
     "execution_count": 40,
     "metadata": {},
     "output_type": "execute_result"
    }
   ],
   "source": [
    "\"I PHONE\" in list_of_item_purchase"
   ]
  },
  {
   "cell_type": "code",
   "execution_count": 41,
   "id": "f7006c78-06c7-4d6d-9739-3d9bcacca728",
   "metadata": {},
   "outputs": [
    {
     "data": {
      "text/plain": [
       "False"
      ]
     },
     "execution_count": 41,
     "metadata": {},
     "output_type": "execute_result"
    }
   ],
   "source": [
    "\"i phone\" in list_of_item_purchase"
   ]
  },
  {
   "cell_type": "code",
   "execution_count": 42,
   "id": "ea65ac98-7ea8-42de-add4-a6b84368daeb",
   "metadata": {},
   "outputs": [
    {
     "name": "stdout",
     "output_type": "stream",
     "text": [
      "NO, adding into the list\n"
     ]
    }
   ],
   "source": [
    "if \"i phone\" in list_of_item_purchase:\n",
    "    print(\"YES\")\n",
    "else:\n",
    "    print(\"NO, adding into the list\")\n",
    "    list_of_item_purchase =  list_of_item_purchase + [\"i phone\"]\n",
    "    "
   ]
  },
  {
   "cell_type": "code",
   "execution_count": 43,
   "id": "dfe87037-34e8-407f-a07c-73d7957e791d",
   "metadata": {},
   "outputs": [
    {
     "name": "stdout",
     "output_type": "stream",
     "text": [
      "YES\n"
     ]
    }
   ],
   "source": [
    "if \"I PHONE\" in list_of_item_purchase:\n",
    "    print(\"YES\")\n",
    "else:\n",
    "    print(\"NO, adding into the list\")\n",
    "    list_of_item_purchase =  list_of_item_purchase + [\"I PHONE\"]\n",
    "    "
   ]
  },
  {
   "cell_type": "code",
   "execution_count": 48,
   "id": "76b53716-8283-4b82-be41-e63e6a7c93c7",
   "metadata": {},
   "outputs": [
    {
     "data": {
      "text/plain": [
       "6"
      ]
     },
     "execution_count": 48,
     "metadata": {},
     "output_type": "execute_result"
    }
   ],
   "source": [
    "len( list_of_item_purchase)"
   ]
  },
  {
   "cell_type": "code",
   "execution_count": 52,
   "id": "fb16ec65-8518-43bf-8083-0d453f928468",
   "metadata": {},
   "outputs": [
    {
     "name": "stdout",
     "output_type": "stream",
     "text": [
      "NO, adding into the list\n"
     ]
    },
    {
     "data": {
      "text/plain": [
       "['I PHONE',\n",
       " 'AIR POD',\n",
       " 'WATCH',\n",
       " 'MAC BOOK',\n",
       " 'I PAD',\n",
       " 'i phone',\n",
       " 'I PHONE',\n",
       " 'I PHONE',\n",
       " 'pen']"
      ]
     },
     "execution_count": 52,
     "metadata": {},
     "output_type": "execute_result"
    }
   ],
   "source": [
    "if \"pen\" not in list_of_item_purchase:\n",
    "    print(\"NO, adding into the list\")\n",
    "    list_of_item_purchase =  list_of_item_purchase + [\"pen\"]\n",
    "list_of_item_purchase "
   ]
  },
  {
   "cell_type": "code",
   "execution_count": 56,
   "id": "d0d9347f-570e-4bf6-ab37-7966db5565cc",
   "metadata": {},
   "outputs": [
    {
     "name": "stdin",
     "output_type": "stream",
     "text": [
      "any thing else to add: book\n"
     ]
    },
    {
     "data": {
      "text/plain": [
       "['I PHONE',\n",
       " 'AIR POD',\n",
       " 'WATCH',\n",
       " 'MAC BOOK',\n",
       " 'I PAD',\n",
       " 'i phone',\n",
       " 'I PHONE',\n",
       " 'I PHONE',\n",
       " 'pen',\n",
       " 'book']"
      ]
     },
     "execution_count": 56,
     "metadata": {},
     "output_type": "execute_result"
    }
   ],
   "source": [
    "new_item = input(\"any thing else to add:\")\n",
    "\n",
    "if new_item not in list_of_item_purchase:\n",
    "     print(\"NO, adding into the list\")\n",
    "     list_of_item_purchase =  list_of_item_purchase + [new_item]\n",
    "list_of_item_purchase   "
   ]
  },
  {
   "cell_type": "code",
   "execution_count": 58,
   "id": "49687ed0-40b5-446b-ad26-550e2daf511e",
   "metadata": {},
   "outputs": [
    {
     "name": "stdout",
     "output_type": "stream",
     "text": [
      "ineuron\n",
      "9\n"
     ]
    }
   ],
   "source": [
    "list1 = [\"ineuron\", \"datascience\",\"big-data\", \"analytics\"]\n",
    "list2 = [5,6,2,9,7,5,0]\n",
    "print(max(list1))\n",
    "print(max(list2))"
   ]
  },
  {
   "cell_type": "code",
   "execution_count": 59,
   "id": "14c5bc5b-9afb-42af-873f-9f60b2cd52bc",
   "metadata": {},
   "outputs": [
    {
     "data": {
      "text/plain": [
       "999"
      ]
     },
     "execution_count": 59,
     "metadata": {},
     "output_type": "execute_result"
    }
   ],
   "source": [
    "example = [1,45,999,10]\n",
    "\n",
    "max(example)"
   ]
  },
  {
   "cell_type": "code",
   "execution_count": 61,
   "id": "294bb8ed-c81d-4f4d-869f-254d555548a4",
   "metadata": {},
   "outputs": [
    {
     "data": {
      "text/plain": [
       "'d'"
      ]
     },
     "execution_count": 61,
     "metadata": {},
     "output_type": "execute_result"
    }
   ],
   "source": [
    "string_example = [\"b\", \"a\", \"d\", \"c\"]\n",
    "\n",
    "max(string_example)"
   ]
  },
  {
   "cell_type": "code",
   "execution_count": 62,
   "id": "aba1e3e5-cae5-478a-9d86-cd1b10c2f8ef",
   "metadata": {},
   "outputs": [
    {
     "data": {
      "text/plain": [
       "'d'"
      ]
     },
     "execution_count": 62,
     "metadata": {},
     "output_type": "execute_result"
    }
   ],
   "source": [
    "string_example = [\"b\", \"a\", \"d\", \"c\", \"D\"]\n",
    "\n",
    "max(string_example)"
   ]
  },
  {
   "cell_type": "code",
   "execution_count": 63,
   "id": "b4efd90a-0cca-48e4-89cf-cd66f925c23f",
   "metadata": {},
   "outputs": [
    {
     "data": {
      "text/plain": [
       "99.9"
      ]
     },
     "execution_count": 63,
     "metadata": {},
     "output_type": "execute_result"
    }
   ],
   "source": [
    "example = [1,45,99.9,10]\n",
    "\n",
    "max(example)"
   ]
  },
  {
   "cell_type": "code",
   "execution_count": 64,
   "id": "4d379593-0bd7-4207-86da-c0140a1da5c1",
   "metadata": {},
   "outputs": [
    {
     "ename": "SyntaxError",
     "evalue": "invalid syntax. Perhaps you forgot a comma? (1021420500.py, line 1)",
     "output_type": "error",
     "traceback": [
      "\u001b[0;36m  Cell \u001b[0;32mIn [64], line 1\u001b[0;36m\u001b[0m\n\u001b[0;31m    example = [1,45,99.9,10 1+5j]\u001b[0m\n\u001b[0m                         ^\u001b[0m\n\u001b[0;31mSyntaxError\u001b[0m\u001b[0;31m:\u001b[0m invalid syntax. Perhaps you forgot a comma?\n"
     ]
    }
   ],
   "source": [
    "example = [1,45,99.9,10 1+5j]\n",
    "\n",
    "max(example)"
   ]
  },
  {
   "cell_type": "code",
   "execution_count": 65,
   "id": "c820c053-6821-4450-8038-4cbb18e843f2",
   "metadata": {},
   "outputs": [
    {
     "data": {
      "text/plain": [
       "-500"
      ]
     },
     "execution_count": 65,
     "metadata": {},
     "output_type": "execute_result"
    }
   ],
   "source": [
    "example = [1,45,99.9,1000, -500]\n",
    "\n",
    "min(example)"
   ]
  },
  {
   "cell_type": "code",
   "execution_count": 66,
   "id": "a6ba5c53-5167-48b6-abc5-97b606aa9124",
   "metadata": {},
   "outputs": [
    {
     "data": {
      "text/plain": [
       "4000"
      ]
     },
     "execution_count": 66,
     "metadata": {},
     "output_type": "execute_result"
    }
   ],
   "source": [
    "example = [1,45,99.9,1000, -500, 200*20]\n",
    "\n",
    "max(example)"
   ]
  },
  {
   "cell_type": "code",
   "execution_count": 67,
   "id": "fc91feef-8206-47d8-a125-2780494e5425",
   "metadata": {},
   "outputs": [
    {
     "data": {
      "text/plain": [
       "'sohail'"
      ]
     },
     "execution_count": 67,
     "metadata": {},
     "output_type": "execute_result"
    }
   ],
   "source": [
    "string_example = [\"sohail\", \"danish\", \"asif\" \"Doctor\"]\n",
    "\n",
    "max(string_example)"
   ]
  },
  {
   "cell_type": "code",
   "execution_count": 68,
   "id": "1d75089f-0e56-42dd-b270-db94e7401dc8",
   "metadata": {},
   "outputs": [
    {
     "data": {
      "text/plain": [
       "'asifDoctor'"
      ]
     },
     "execution_count": 68,
     "metadata": {},
     "output_type": "execute_result"
    }
   ],
   "source": [
    "string_example = [\"sohail\", \"danish\", \"asif\" \"Doctor\"]\n",
    "\n",
    "min(string_example)"
   ]
  },
  {
   "cell_type": "code",
   "execution_count": 3,
   "id": "123da3ac-2e27-4597-acbe-fa6e7251f974",
   "metadata": {},
   "outputs": [
    {
     "data": {
      "text/plain": [
       "'d'"
      ]
     },
     "execution_count": 3,
     "metadata": {},
     "output_type": "execute_result"
    }
   ],
   "source": [
    "string_example = [\"b\", \"a\", \"d\", \"c\", \"D\"]\n",
    "\n",
    "max(string_example)"
   ]
  },
  {
   "cell_type": "code",
   "execution_count": 13,
   "id": "40bf005f-adb2-49e0-ac2c-faebb479e4d0",
   "metadata": {},
   "outputs": [
    {
     "data": {
      "text/plain": [
       "'asifDoctor'"
      ]
     },
     "execution_count": 13,
     "metadata": {},
     "output_type": "execute_result"
    }
   ],
   "source": [
    "string_example = [\"sohail\", \"danish\", \"asif\" \"Doctor\"]\n",
    "\n",
    "min(string_example)"
   ]
  },
  {
   "cell_type": "code",
   "execution_count": 14,
   "id": "cf9ad482-806e-469a-8231-d25f675e1292",
   "metadata": {},
   "outputs": [
    {
     "name": "stdout",
     "output_type": "stream",
     "text": [
      "sohail 6\n",
      "danish 6\n",
      "asifDoctor 10\n",
      "RESULT: max_len: 10 name: asifDoctor\n"
     ]
    }
   ],
   "source": [
    "max_len = 0\n",
    "result = \"\"\n",
    "for example in string_example:\n",
    "    print(example, len(example))\n",
    "    if len(example) > max_len:\n",
    "        max_len = len(example)\n",
    "        result = example\n",
    "print (f\"RESULT: max_len: {max_len} name: {result}\")"
   ]
  },
  {
   "cell_type": "code",
   "execution_count": null,
   "id": "61f1501e-fb01-4bb9-a2ec-c946646f3b68",
   "metadata": {},
   "outputs": [],
   "source": [
    " ## APPEND()"
   ]
  },
  {
   "cell_type": "code",
   "execution_count": 17,
   "id": "97c38dba-4feb-477e-bffd-ddba520d6dd5",
   "metadata": {},
   "outputs": [
    {
     "data": {
      "text/plain": [
       "[1, 2, 77, 'I PHONE']"
      ]
     },
     "execution_count": 17,
     "metadata": {},
     "output_type": "execute_result"
    }
   ],
   "source": [
    "A = [1,2,77]\n",
    "\n",
    "A = A + [\"I PHONE\"]\n",
    "\n",
    "A"
   ]
  },
  {
   "cell_type": "code",
   "execution_count": 25,
   "id": "ed734e84-6ddf-4303-81c0-fbe1125b72d1",
   "metadata": {},
   "outputs": [
    {
     "data": {
      "text/plain": [
       "[1, 2, 77, 'I PHONE']"
      ]
     },
     "execution_count": 25,
     "metadata": {},
     "output_type": "execute_result"
    }
   ],
   "source": [
    "A = [1,2,77]\n",
    "\n",
    "A.append(\"I PHONE\")\n",
    "\n",
    "A"
   ]
  },
  {
   "cell_type": "code",
   "execution_count": 26,
   "id": "1c94d4fd-b8e1-48ab-9bde-44bfe95a3ad2",
   "metadata": {},
   "outputs": [
    {
     "data": {
      "text/plain": [
       "[1, 2, 77, 'I PHONE', 'SOHAIL']"
      ]
     },
     "execution_count": 26,
     "metadata": {},
     "output_type": "execute_result"
    }
   ],
   "source": [
    "A.append(\"SOHAIL\")\n",
    "\n",
    "A"
   ]
  },
  {
   "cell_type": "code",
   "execution_count": 27,
   "id": "2e9d20e4-7fd2-4116-8ef0-6bf80c3dd147",
   "metadata": {},
   "outputs": [
    {
     "data": {
      "text/plain": [
       "[1, 2, 77, 'I PHONE', 'SOHAIL', ['SOHAIL', 'AQIB']]"
      ]
     },
     "execution_count": 27,
     "metadata": {},
     "output_type": "execute_result"
    }
   ],
   "source": [
    "A.append([\"SOHAIL\", \"AQIB\"])\n",
    "\n",
    "A"
   ]
  },
  {
   "cell_type": "code",
   "execution_count": 28,
   "id": "a755d1bd-1d70-4e04-a606-249f879b1f6d",
   "metadata": {},
   "outputs": [
    {
     "name": "stdin",
     "output_type": "stream",
     "text": [
      "No of item yo want to purchase:  5\n",
      "Enter the item that you want to purchase:  I PHONE\n",
      "Enter the item that you want to purchase:  MAC BOOK\n",
      "Enter the item that you want to purchase:  I PAD\n",
      "Enter the item that you want to purchase:  APPLE WATCH\n",
      "Enter the item that you want to purchase:  AIR POD\n"
     ]
    },
    {
     "name": "stdout",
     "output_type": "stream",
     "text": [
      "['I PHONE', 'MAC BOOK', 'I PAD', 'APPLE WATCH', 'AIR POD']\n"
     ]
    }
   ],
   "source": [
    "list_of_item_purchase = list()\n",
    "\n",
    "N = int(input(\"No of item yo want to purchase: \"))\n",
    "for i in range(N):\n",
    "    user_input = input(\"Enter the item that you want to purchase: \")\n",
    "    list_of_item_purchase.append(user_input) # RECOMMENDED\n",
    "    \n",
    "print(list_of_item_purchase)"
   ]
  },
  {
   "cell_type": "code",
   "execution_count": 29,
   "id": "d7dbf028-2f0a-481a-85f0-a94844676673",
   "metadata": {},
   "outputs": [],
   "source": [
    "# POP()"
   ]
  },
  {
   "cell_type": "code",
   "execution_count": 30,
   "id": "176d3b63-4f7a-4e0d-b07f-b3ce0a03d5dd",
   "metadata": {},
   "outputs": [
    {
     "data": {
      "text/plain": [
       "[3, 6, 9, 4, 6]"
      ]
     },
     "execution_count": 30,
     "metadata": {},
     "output_type": "execute_result"
    }
   ],
   "source": [
    "A = [3,6,9,4,6, \"SOHAIL\"]\n",
    "\n",
    "A.pop()\n",
    "\n",
    "A"
   ]
  },
  {
   "cell_type": "code",
   "execution_count": 31,
   "id": "bd8d6b2d-f913-42ef-b143-ae025770bce9",
   "metadata": {},
   "outputs": [
    {
     "data": {
      "text/plain": [
       "[6, 9, 4, 6, 'SOHAIL']"
      ]
     },
     "execution_count": 31,
     "metadata": {},
     "output_type": "execute_result"
    }
   ],
   "source": [
    "A = [3,6,9,4,6, \"SOHAIL\"]\n",
    "\n",
    "A.pop(0)\n",
    "\n",
    "A"
   ]
  },
  {
   "cell_type": "code",
   "execution_count": 32,
   "id": "924b652a-4e97-44f8-b09e-3f27d018dfb1",
   "metadata": {},
   "outputs": [
    {
     "data": {
      "text/plain": [
       "[3, 6, 9, 4, 6]"
      ]
     },
     "execution_count": 32,
     "metadata": {},
     "output_type": "execute_result"
    }
   ],
   "source": [
    "A = [3,6,9,4,6, \"SOHAIL\"]\n",
    "\n",
    "A.pop(5)\n",
    "\n",
    "A"
   ]
  },
  {
   "cell_type": "code",
   "execution_count": 34,
   "id": "60732281-8f5d-455c-afd0-c878eb7630e9",
   "metadata": {},
   "outputs": [
    {
     "data": {
      "text/plain": [
       "[3, 6, 9, 4, 'SOHAIL']"
      ]
     },
     "execution_count": 34,
     "metadata": {},
     "output_type": "execute_result"
    }
   ],
   "source": [
    "A = [3,6,9,4,7, \"SOHAIL\"]\n",
    "\n",
    "A.pop(4)\n",
    "\n",
    "A"
   ]
  },
  {
   "cell_type": "code",
   "execution_count": 37,
   "id": "b750b99a-44f8-4f45-bac9-567e66ddaf98",
   "metadata": {},
   "outputs": [
    {
     "data": {
      "text/plain": [
       "[9, 4, 'SOHAIL']"
      ]
     },
     "execution_count": 37,
     "metadata": {},
     "output_type": "execute_result"
    }
   ],
   "source": [
    "A.pop(0)\n",
    "\n",
    "A"
   ]
  },
  {
   "cell_type": "code",
   "execution_count": 38,
   "id": "422d993e-0870-4959-9036-c45eee1e9978",
   "metadata": {},
   "outputs": [
    {
     "data": {
      "text/plain": [
       "[3, 6, 9, 4, 'SOHAIL']"
      ]
     },
     "execution_count": 38,
     "metadata": {},
     "output_type": "execute_result"
    }
   ],
   "source": [
    "A = [3,6,9,4,7, \"SOHAIL\"]\n",
    "\n",
    "A.pop(4)\n",
    "\n",
    "A"
   ]
  },
  {
   "cell_type": "code",
   "execution_count": 39,
   "id": "5096ac11-75a4-4bb9-9724-d5b3c3fdf333",
   "metadata": {},
   "outputs": [
    {
     "data": {
      "text/plain": [
       "9"
      ]
     },
     "execution_count": 39,
     "metadata": {},
     "output_type": "execute_result"
    }
   ],
   "source": [
    "removed_item = A.pop(2)\n",
    "\n",
    "removed_item"
   ]
  },
  {
   "cell_type": "code",
   "execution_count": 40,
   "id": "6f85ea9d-cc20-4066-84d3-ab7b797d121a",
   "metadata": {},
   "outputs": [
    {
     "data": {
      "text/plain": [
       "[3, 6, 4, 'SOHAIL']"
      ]
     },
     "execution_count": 40,
     "metadata": {},
     "output_type": "execute_result"
    }
   ],
   "source": [
    "A"
   ]
  },
  {
   "cell_type": "code",
   "execution_count": 41,
   "id": "73d42bb0-4961-457b-8fcb-0986cc29ca59",
   "metadata": {},
   "outputs": [
    {
     "name": "stdout",
     "output_type": "stream",
     "text": [
      "0 1\n",
      "odd num: 1\n",
      "1 34\n",
      "even num: 34\n",
      "2 56\n",
      "even num: 56\n",
      "3 76\n",
      "even num: 76\n",
      "4 99\n",
      "odd num: 99\n"
     ]
    }
   ],
   "source": [
    "# REMOVE ODD NOS\n",
    "\n",
    "A = [1,34,56,76,99]\n",
    "\n",
    "for idx in range(len(A)):\n",
    "    num = A[idx]\n",
    "    print(idx, num)\n",
    "    if num%2!= 0: # odd condition # % gives remainder value\n",
    "        print(f\"odd num: {num}\")\n",
    "    else:\n",
    "        print(f\"even num: {num}\")"
   ]
  },
  {
   "cell_type": "code",
   "execution_count": 42,
   "id": "06811eb6-67f8-4f33-a92b-1465e6ee91fa",
   "metadata": {},
   "outputs": [
    {
     "data": {
      "text/plain": [
       "5"
      ]
     },
     "execution_count": 42,
     "metadata": {},
     "output_type": "execute_result"
    }
   ],
   "source": [
    "A = [1,34,56,76,99]\n",
    "\n",
    "len(A)"
   ]
  },
  {
   "cell_type": "code",
   "execution_count": 44,
   "id": "c5e276eb-7ade-4125-9c11-c48c72973e9c",
   "metadata": {},
   "outputs": [
    {
     "data": {
      "text/plain": [
       "[1, 34, 56, 76]"
      ]
     },
     "execution_count": 44,
     "metadata": {},
     "output_type": "execute_result"
    }
   ],
   "source": [
    "A = [1,34,56,76,99]\n",
    "\n",
    "A.pop(4)\n",
    "\n",
    "A"
   ]
  },
  {
   "cell_type": "code",
   "execution_count": 46,
   "id": "895fa30c-acd6-4349-b99c-69c48727d624",
   "metadata": {},
   "outputs": [
    {
     "data": {
      "text/plain": [
       "[-34, 1, 26, 34, 45, 56, 98]"
      ]
     },
     "execution_count": 46,
     "metadata": {},
     "output_type": "execute_result"
    }
   ],
   "source": [
    "A = [1,45,34,56,26, 98, -34]\n",
    "\n",
    "sorted(A)"
   ]
  },
  {
   "cell_type": "code",
   "execution_count": 47,
   "id": "e7fb5453-2eaa-42e4-b682-6040dfb921cf",
   "metadata": {},
   "outputs": [
    {
     "data": {
      "text/plain": [
       "[1, 45, 34, 56, 26, 98, -34]"
      ]
     },
     "execution_count": 47,
     "metadata": {},
     "output_type": "execute_result"
    }
   ],
   "source": [
    "A"
   ]
  },
  {
   "cell_type": "code",
   "execution_count": 48,
   "id": "93a95a8a-a32c-4b92-ade6-3776216286a4",
   "metadata": {},
   "outputs": [
    {
     "data": {
      "text/plain": [
       "[-34, 1, 26, 34, 45, 56, 98]"
      ]
     },
     "execution_count": 48,
     "metadata": {},
     "output_type": "execute_result"
    }
   ],
   "source": [
    "A = sorted(A)\n",
    "\n",
    "A"
   ]
  },
  {
   "cell_type": "code",
   "execution_count": 50,
   "id": "7a2c685f-f77d-4840-bb99-53d0626ca328",
   "metadata": {},
   "outputs": [
    {
     "data": {
      "text/plain": [
       "[98, 56, 45, 34, 26, 1, -34]"
      ]
     },
     "execution_count": 50,
     "metadata": {},
     "output_type": "execute_result"
    }
   ],
   "source": [
    "A[::-1]"
   ]
  },
  {
   "cell_type": "code",
   "execution_count": 51,
   "id": "8212bad5-6f74-4e8c-8402-00142f942c4c",
   "metadata": {},
   "outputs": [
    {
     "data": {
      "text/plain": [
       "[-34, 1, 26, 34, 45, 56, 98]"
      ]
     },
     "execution_count": 51,
     "metadata": {},
     "output_type": "execute_result"
    }
   ],
   "source": [
    "A[::--1]"
   ]
  },
  {
   "cell_type": "code",
   "execution_count": 52,
   "id": "c5366f68-967c-4c6e-8c83-1d998e2459a8",
   "metadata": {},
   "outputs": [
    {
     "data": {
      "text/plain": [
       "[1, 45, 34, 56, 26, 98, -34]"
      ]
     },
     "execution_count": 52,
     "metadata": {},
     "output_type": "execute_result"
    }
   ],
   "source": [
    "A = [1,45,34,56,26, 98, -34]\n",
    "\n",
    "A[::--1]"
   ]
  },
  {
   "cell_type": "code",
   "execution_count": 53,
   "id": "e3c6b053-6d15-4ab3-afce-8a9d6bec7d82",
   "metadata": {},
   "outputs": [],
   "source": [
    "A = [1,45,34,56,26, 98, -34]\n",
    "\n",
    "A.sort()  # PERMANENT CHANGE"
   ]
  },
  {
   "cell_type": "code",
   "execution_count": 54,
   "id": "d98b8d02-807e-4df2-b0b7-26a4748f1aac",
   "metadata": {},
   "outputs": [
    {
     "data": {
      "text/plain": [
       "[-34, 1, 26, 34, 45, 56, 98]"
      ]
     },
     "execution_count": 54,
     "metadata": {},
     "output_type": "execute_result"
    }
   ],
   "source": [
    "A"
   ]
  },
  {
   "cell_type": "code",
   "execution_count": 55,
   "id": "73b80ffb-532b-4030-98b5-e884b75fbe75",
   "metadata": {},
   "outputs": [
    {
     "data": {
      "text/plain": [
       "[98, 56, 45, 34, 26, 1, -34]"
      ]
     },
     "execution_count": 55,
     "metadata": {},
     "output_type": "execute_result"
    }
   ],
   "source": [
    "A = [1,45,34,56,26, 98, -34]\n",
    "\n",
    "A.sort(reverse=True)# directly get answer in decending order\n",
    "\n",
    "A"
   ]
  },
  {
   "cell_type": "code",
   "execution_count": 56,
   "id": "62e11ced-9bc5-4496-803a-0a3c3de1b8d8",
   "metadata": {},
   "outputs": [],
   "source": [
    "A.reverse() # INPLACE SOLUTION"
   ]
  },
  {
   "cell_type": "code",
   "execution_count": 57,
   "id": "ce378efd-9145-4ad9-9cde-4f7cbb1a4daf",
   "metadata": {},
   "outputs": [
    {
     "data": {
      "text/plain": [
       "[-34, 1, 26, 34, 45, 56, 98]"
      ]
     },
     "execution_count": 57,
     "metadata": {},
     "output_type": "execute_result"
    }
   ],
   "source": [
    "A"
   ]
  },
  {
   "cell_type": "code",
   "execution_count": 58,
   "id": "9ea8c28c-376e-4d07-a982-5a6f2d799101",
   "metadata": {},
   "outputs": [
    {
     "data": {
      "text/plain": [
       "['iNeuron', 'SOhail', 45, 23, 1]"
      ]
     },
     "execution_count": 58,
     "metadata": {},
     "output_type": "execute_result"
    }
   ],
   "source": [
    "A = [1,23,45, \"SOhail\", \"iNeuron\"]\n",
    "\n",
    "A.reverse()\n",
    "\n",
    "A"
   ]
  },
  {
   "cell_type": "code",
   "execution_count": 59,
   "id": "c0f0bf1a-def4-4923-8863-73e6acfd2aec",
   "metadata": {},
   "outputs": [
    {
     "data": {
      "text/plain": [
       "['iNeuron', 'SOhail', 45, 23, 1]"
      ]
     },
     "execution_count": 59,
     "metadata": {},
     "output_type": "execute_result"
    }
   ],
   "source": [
    "A"
   ]
  },
  {
   "cell_type": "code",
   "execution_count": 60,
   "id": "5da76ce9-b887-472c-bde8-f28b5f565a70",
   "metadata": {},
   "outputs": [],
   "source": [
    "# Nesting of the list"
   ]
  },
  {
   "cell_type": "code",
   "execution_count": 71,
   "id": "8b2e6a3a-08d0-4ac4-85d6-9e78b8594003",
   "metadata": {},
   "outputs": [
    {
     "data": {
      "text/plain": [
       "[[1, 2, 3], [11, 22, 33], [45, 56, 77]]"
      ]
     },
     "execution_count": 71,
     "metadata": {},
     "output_type": "execute_result"
    }
   ],
   "source": [
    "A = [[1,2,3], [11,22,33], [45,56,77]]\n",
    "\n",
    "A"
   ]
  },
  {
   "cell_type": "code",
   "execution_count": 72,
   "id": "4f4d7eff-3b01-465a-a8ba-ec7392dedc21",
   "metadata": {},
   "outputs": [
    {
     "data": {
      "text/plain": [
       "[1, 2, 3]"
      ]
     },
     "execution_count": 72,
     "metadata": {},
     "output_type": "execute_result"
    }
   ],
   "source": [
    "A[0]"
   ]
  },
  {
   "cell_type": "code",
   "execution_count": 73,
   "id": "6d05d64e-0f8a-4bb5-84e6-dc0096c78828",
   "metadata": {},
   "outputs": [
    {
     "data": {
      "text/plain": [
       "[11, 22, 33]"
      ]
     },
     "execution_count": 73,
     "metadata": {},
     "output_type": "execute_result"
    }
   ],
   "source": [
    "A[1]"
   ]
  },
  {
   "cell_type": "code",
   "execution_count": 74,
   "id": "1795848a-67de-405f-9b81-82d0595a269e",
   "metadata": {},
   "outputs": [
    {
     "data": {
      "text/plain": [
       "[45, 56, 77]"
      ]
     },
     "execution_count": 74,
     "metadata": {},
     "output_type": "execute_result"
    }
   ],
   "source": [
    "A[2]"
   ]
  },
  {
   "cell_type": "code",
   "execution_count": 75,
   "id": "7d7a20e4-9efd-43dc-9f2f-7da759bf2d20",
   "metadata": {},
   "outputs": [
    {
     "data": {
      "text/plain": [
       "22"
      ]
     },
     "execution_count": 75,
     "metadata": {},
     "output_type": "execute_result"
    }
   ],
   "source": [
    "A[1][1]"
   ]
  },
  {
   "cell_type": "code",
   "execution_count": 76,
   "id": "2a09f0b7-31c0-4f5e-8148-384eea2b06e2",
   "metadata": {},
   "outputs": [
    {
     "data": {
      "text/plain": [
       "3"
      ]
     },
     "execution_count": 76,
     "metadata": {},
     "output_type": "execute_result"
    }
   ],
   "source": [
    "A[0][2]"
   ]
  },
  {
   "cell_type": "code",
   "execution_count": 77,
   "id": "4b06aa24-e7c7-4ffc-89c5-5051a6edc961",
   "metadata": {},
   "outputs": [
    {
     "data": {
      "text/plain": [
       "45"
      ]
     },
     "execution_count": 77,
     "metadata": {},
     "output_type": "execute_result"
    }
   ],
   "source": [
    "A[2][0]"
   ]
  },
  {
   "cell_type": "code",
   "execution_count": 78,
   "id": "42cebeb3-32b1-41ac-91b1-55f133a76df1",
   "metadata": {},
   "outputs": [
    {
     "data": {
      "text/plain": [
       "[[1, 2, 3], [11, 22, 33, [500, 502]], [45, 56, 77]]"
      ]
     },
     "execution_count": 78,
     "metadata": {},
     "output_type": "execute_result"
    }
   ],
   "source": [
    "A = [[1,2,3], [11,22,33, [500,502]], [45,56,77]]\n",
    "\n",
    "A"
   ]
  },
  {
   "cell_type": "code",
   "execution_count": 82,
   "id": "9e633da8-3859-4131-bd45-a3da3d42b4c5",
   "metadata": {},
   "outputs": [
    {
     "data": {
      "text/plain": [
       "[500, 502]"
      ]
     },
     "execution_count": 82,
     "metadata": {},
     "output_type": "execute_result"
    }
   ],
   "source": [
    "A[1][3]"
   ]
  },
  {
   "cell_type": "code",
   "execution_count": 83,
   "id": "a704589e-8da3-4dbf-b96a-e35b61cb9a43",
   "metadata": {},
   "outputs": [
    {
     "data": {
      "text/plain": [
       "500"
      ]
     },
     "execution_count": 83,
     "metadata": {},
     "output_type": "execute_result"
    }
   ],
   "source": [
    "A[1][3][0]"
   ]
  },
  {
   "cell_type": "code",
   "execution_count": 3,
   "id": "05e53308-7f12-4670-808c-b8d421e872e5",
   "metadata": {},
   "outputs": [
    {
     "data": {
      "text/plain": [
       "[[1, 2, 3], [11, 22, 33, [500, 502]], [45, [239, 'HII'], 56, 77]]"
      ]
     },
     "execution_count": 3,
     "metadata": {},
     "output_type": "execute_result"
    }
   ],
   "source": [
    "A = [[1,2,3], [11,22,33, [500,502]], [45, [239, \"HII\"], 56,77]]\n",
    "\n",
    "A"
   ]
  },
  {
   "cell_type": "code",
   "execution_count": 5,
   "id": "be2d05f4-0ab5-4983-84f7-766bf26eb642",
   "metadata": {},
   "outputs": [
    {
     "data": {
      "text/plain": [
       "[[1, 2, 3], [11, 22, 33, [500, 502]], [45, [239, 'HII'], 56, 77]]"
      ]
     },
     "execution_count": 5,
     "metadata": {},
     "output_type": "execute_result"
    }
   ],
   "source": [
    "A = [[1,2,3], [11,22,33, [500,502]], [45, [239, \"HII\"], 56,77]]\n",
    "\n",
    "A"
   ]
  },
  {
   "cell_type": "code",
   "execution_count": 14,
   "id": "e6f69595-edca-47c2-ac74-9cdd1b5d0065",
   "metadata": {},
   "outputs": [
    {
     "data": {
      "text/plain": [
       "'HII'"
      ]
     },
     "execution_count": 14,
     "metadata": {},
     "output_type": "execute_result"
    }
   ],
   "source": [
    "A[2][1][1]"
   ]
  },
  {
   "cell_type": "code",
   "execution_count": 17,
   "id": "66507192-f88a-422e-b6cc-cac7ccf7a3e0",
   "metadata": {},
   "outputs": [
    {
     "data": {
      "text/plain": [
       "'HII'"
      ]
     },
     "execution_count": 17,
     "metadata": {},
     "output_type": "execute_result"
    }
   ],
   "source": [
    "A[-1][1][-1]"
   ]
  },
  {
   "cell_type": "code",
   "execution_count": 15,
   "id": "6a247073-b348-4e1c-a7ac-be088af5b41d",
   "metadata": {},
   "outputs": [
    {
     "data": {
      "text/plain": [
       "2"
      ]
     },
     "execution_count": 15,
     "metadata": {},
     "output_type": "execute_result"
    }
   ],
   "source": [
    "A[0][1]"
   ]
  },
  {
   "cell_type": "code",
   "execution_count": 9,
   "id": "35df3f00-13f4-4a16-894a-278c4933b6c6",
   "metadata": {},
   "outputs": [
    {
     "data": {
      "text/plain": [
       "[11, 22, 33, [500, 502]]"
      ]
     },
     "execution_count": 9,
     "metadata": {},
     "output_type": "execute_result"
    }
   ],
   "source": [
    "A[1]"
   ]
  },
  {
   "cell_type": "code",
   "execution_count": 10,
   "id": "f7ec542f-8fa8-4516-bb0f-6842259e7896",
   "metadata": {},
   "outputs": [
    {
     "data": {
      "text/plain": [
       "[45, [239, 'HII'], 56, 77]"
      ]
     },
     "execution_count": 10,
     "metadata": {},
     "output_type": "execute_result"
    }
   ],
   "source": [
    "A[2]"
   ]
  },
  {
   "cell_type": "code",
   "execution_count": 12,
   "id": "e5238e41-2929-4b53-b13c-063165fc5b7f",
   "metadata": {},
   "outputs": [
    {
     "data": {
      "text/plain": [
       "[239, 'HII']"
      ]
     },
     "execution_count": 12,
     "metadata": {},
     "output_type": "execute_result"
    }
   ],
   "source": [
    "A[2][1]"
   ]
  },
  {
   "cell_type": "code",
   "execution_count": 13,
   "id": "53ce2b4f-c615-4502-b735-2c10b0985b2c",
   "metadata": {},
   "outputs": [
    {
     "data": {
      "text/plain": [
       "'HII'"
      ]
     },
     "execution_count": 13,
     "metadata": {},
     "output_type": "execute_result"
    }
   ],
   "source": [
    "A[2][1][1]"
   ]
  },
  {
   "cell_type": "code",
   "execution_count": 1,
   "id": "59c18dc9-cf6b-4115-8c4e-3f1705e56a7a",
   "metadata": {},
   "outputs": [],
   "source": [
    "amazon_cart = [[\"watch\", 5000], [\"i phone\", 10000],[\"mac book\", 50000]]\n",
    "\n",
    "total_cost = 0"
   ]
  },
  {
   "cell_type": "code",
   "execution_count": 2,
   "id": "472feeb2-c8bb-4be8-ae77-0099f1b717e3",
   "metadata": {},
   "outputs": [
    {
     "data": {
      "text/plain": [
       "['watch', 5000]"
      ]
     },
     "execution_count": 2,
     "metadata": {},
     "output_type": "execute_result"
    }
   ],
   "source": [
    "# without for loop\n",
    "\n",
    "amazon_cart[0]"
   ]
  },
  {
   "cell_type": "code",
   "execution_count": 3,
   "id": "8bfc2b37-c53a-4a80-9c71-10089c5da9f3",
   "metadata": {},
   "outputs": [
    {
     "data": {
      "text/plain": [
       "5000"
      ]
     },
     "execution_count": 3,
     "metadata": {},
     "output_type": "execute_result"
    }
   ],
   "source": [
    "amazon_cart[0][1]"
   ]
  },
  {
   "cell_type": "code",
   "execution_count": 4,
   "id": "64060a28-cbcc-49b9-8db9-75c00824b323",
   "metadata": {},
   "outputs": [
    {
     "data": {
      "text/plain": [
       "['mac book', 50000]"
      ]
     },
     "execution_count": 4,
     "metadata": {},
     "output_type": "execute_result"
    }
   ],
   "source": [
    "amazon_cart[2]"
   ]
  },
  {
   "cell_type": "code",
   "execution_count": 5,
   "id": "cb8a41f1-32ea-4ac8-a3e2-3ef9fb0d0718",
   "metadata": {},
   "outputs": [
    {
     "data": {
      "text/plain": [
       "50000"
      ]
     },
     "execution_count": 5,
     "metadata": {},
     "output_type": "execute_result"
    }
   ],
   "source": [
    "amazon_cart[2][1]"
   ]
  },
  {
   "cell_type": "code",
   "execution_count": 8,
   "id": "a35ce718-d6a5-457d-8b51-b2edadb71fa3",
   "metadata": {},
   "outputs": [
    {
     "data": {
      "text/plain": [
       "65000"
      ]
     },
     "execution_count": 8,
     "metadata": {},
     "output_type": "execute_result"
    }
   ],
   "source": [
    "amazon_cart[2][1] + amazon_cart[0][1] + amazon_cart[1][1]"
   ]
  },
  {
   "cell_type": "code",
   "execution_count": 9,
   "id": "9f21a593-6e4e-478a-80f2-23c49e70af86",
   "metadata": {},
   "outputs": [
    {
     "name": "stdout",
     "output_type": "stream",
     "text": [
      "5000\n",
      "10000\n",
      "50000\n"
     ]
    }
   ],
   "source": [
    "total_cost = 0\n",
    "\n",
    "for i in range (len(amazon_cart)):\n",
    "    #print(i)\n",
    "    print(amazon_cart[i][1])"
   ]
  },
  {
   "cell_type": "code",
   "execution_count": 11,
   "id": "d8b4904e-3b41-4850-b052-d26f76183222",
   "metadata": {},
   "outputs": [
    {
     "name": "stdout",
     "output_type": "stream",
     "text": [
      "5000\n",
      "10000\n",
      "50000\n",
      "65000\n"
     ]
    }
   ],
   "source": [
    "total_cost = 0\n",
    "\n",
    "for i in range (len(amazon_cart)):\n",
    "    #print(i)\n",
    "    print(amazon_cart[i][1])\n",
    "    total_cost = total_cost + amazon_cart[i][1]\n",
    "    \n",
    "print(total_cost)"
   ]
  },
  {
   "cell_type": "code",
   "execution_count": 15,
   "id": "7139683a-1eb2-43ce-bfc1-a52e2f883ca9",
   "metadata": {},
   "outputs": [
    {
     "name": "stdout",
     "output_type": "stream",
     "text": [
      "['watch', 5000]\n",
      "['i phone', 10000]\n",
      "['mac book', 50000]\n"
     ]
    }
   ],
   "source": [
    "total_cost = 0\n",
    "\n",
    "for i in amazon_cart:\n",
    "    print(i)"
   ]
  },
  {
   "cell_type": "code",
   "execution_count": 20,
   "id": "918d6d25-3dcd-4430-b3c8-09210a427e8f",
   "metadata": {},
   "outputs": [
    {
     "name": "stdout",
     "output_type": "stream",
     "text": [
      "['watch', 5000]\n",
      "['i phone', 10000]\n",
      "['mac book', 50000]\n",
      "0\n"
     ]
    }
   ],
   "source": [
    "total_cost = 0\n",
    "\n",
    "for i in amazon_cart:\n",
    "    print(i)\n",
    "     \n",
    "print(total_cost)"
   ]
  },
  {
   "cell_type": "code",
   "execution_count": 21,
   "id": "b4533ae8-b104-42b1-a61e-4fd3d00f5b4d",
   "metadata": {},
   "outputs": [
    {
     "name": "stdout",
     "output_type": "stream",
     "text": [
      "5000\n",
      "10000\n",
      "50000\n",
      "0\n"
     ]
    }
   ],
   "source": [
    "total_cost = 0\n",
    "\n",
    "for i in amazon_cart:\n",
    "    print(i[1])\n",
    "     \n",
    "print(total_cost)"
   ]
  },
  {
   "cell_type": "code",
   "execution_count": 22,
   "id": "3faa8763-522d-45c7-b42e-0b5698e7846c",
   "metadata": {},
   "outputs": [
    {
     "name": "stdout",
     "output_type": "stream",
     "text": [
      "['watch', 5000]\n",
      "['i phone', 10000]\n",
      "['mac book', 50000]\n",
      "65000\n"
     ]
    }
   ],
   "source": [
    "total_cost = 0\n",
    "\n",
    "for i in amazon_cart:\n",
    "    print(i)\n",
    "    total_cost = total_cost + i[1]\n",
    "    \n",
    "    \n",
    "     \n",
    "print(total_cost)"
   ]
  },
  {
   "cell_type": "code",
   "execution_count": 24,
   "id": "009d4d2a-89f4-47dd-a7c3-0bbbc164a35a",
   "metadata": {},
   "outputs": [
    {
     "name": "stdout",
     "output_type": "stream",
     "text": [
      "empty cart:0\n",
      "5000\n",
      "cart after adding watch: 5000\n",
      "10000\n",
      "cart after adding i phone: 15000\n",
      "50000\n",
      "cart after adding mac book: 65000\n",
      "total payable amount: 65000\n"
     ]
    }
   ],
   "source": [
    "total_cost = 0\n",
    "print(f\"empty cart:{total_cost}\")\n",
    "\n",
    "for i in amazon_cart:\n",
    "    print(i[1])\n",
    "    total_cost = total_cost + i[1]\n",
    "    print(f\"cart after adding {i[0]}: {total_cost}\")\n",
    "    \n",
    "    \n",
    "     \n",
    "print(f\"total payable amount: {total_cost}\")"
   ]
  },
  {
   "cell_type": "code",
   "execution_count": 25,
   "id": "a68fe01d-16f1-4559-a6c9-1e02fc8545c3",
   "metadata": {},
   "outputs": [],
   "source": [
    "# list comprehension"
   ]
  },
  {
   "cell_type": "code",
   "execution_count": 1,
   "id": "a4942a77-6831-4a5e-a705-5f45b143ab3e",
   "metadata": {},
   "outputs": [],
   "source": [
    "# list which contains list of square of nos between 1 to 10\n",
    "\n",
    "A = [1,2,3,4,5,6,7,8,9,10]\n",
    "ans = [1, 4, 9, 16,...]"
   ]
  },
  {
   "cell_type": "code",
   "execution_count": 6,
   "id": "06265378-ec64-4fcf-b828-9dce97ce57d1",
   "metadata": {},
   "outputs": [
    {
     "name": "stdout",
     "output_type": "stream",
     "text": [
      "1\n",
      "4\n",
      "9\n",
      "16\n",
      "25\n",
      "36\n",
      "49\n",
      "64\n",
      "81\n",
      "100\n",
      "[1, 4, 9, 16, 25, 36, 49, 64, 81, 100]\n"
     ]
    }
   ],
   "source": [
    "A = [1,2,3,4,5,6,7,8,9,10]\n",
    "\n",
    "ans = list()\n",
    "\n",
    "for ele in A:\n",
    "    print(ele**2)\n",
    "    ans.append(ele**2)\n",
    "\n",
    "print(ans)"
   ]
  },
  {
   "cell_type": "code",
   "execution_count": 7,
   "id": "aa340073-5377-464f-b029-248e043d99a4",
   "metadata": {},
   "outputs": [
    {
     "name": "stdout",
     "output_type": "stream",
     "text": [
      "[1, 4, 9, 16, 25, 36, 49, 64, 81, 100]\n"
     ]
    }
   ],
   "source": [
    "ans = [ele**2 for ele in A]\n",
    "\n",
    "print(ans)"
   ]
  },
  {
   "cell_type": "code",
   "execution_count": 8,
   "id": "85916e82-71c6-4cd9-a6ad-33b9a37c936c",
   "metadata": {},
   "outputs": [
    {
     "name": "stdout",
     "output_type": "stream",
     "text": [
      "1\n",
      "3\n",
      "5\n",
      "7\n",
      "9\n"
     ]
    }
   ],
   "source": [
    "# only take the square of odd no in the list A\n",
    "\n",
    "A = [1,2,3,4,5,6,7,8,9,10]\n",
    "\n",
    "ans = list()\n",
    "\n",
    "for ele in A:\n",
    "    if ele%2 != 0:\n",
    "        print(ele)"
   ]
  },
  {
   "cell_type": "code",
   "execution_count": 9,
   "id": "bbe4c4f5-95ab-4f5b-bd5c-50406853dbef",
   "metadata": {},
   "outputs": [
    {
     "name": "stdout",
     "output_type": "stream",
     "text": [
      "1\n",
      "9\n",
      "25\n",
      "49\n",
      "81\n"
     ]
    }
   ],
   "source": [
    "A = [1,2,3,4,5,6,7,8,9,10]\n",
    "\n",
    "ans = list()\n",
    "\n",
    "for ele in A:\n",
    "    if ele%2 != 0:\n",
    "        print(ele**2)"
   ]
  },
  {
   "cell_type": "code",
   "execution_count": 10,
   "id": "1b6caf4b-14bb-4dd8-b97c-8214de855a85",
   "metadata": {},
   "outputs": [
    {
     "name": "stdout",
     "output_type": "stream",
     "text": [
      "1\n",
      "9\n",
      "25\n",
      "49\n",
      "81\n"
     ]
    },
    {
     "data": {
      "text/plain": [
       "[1, 9, 25, 49, 81]"
      ]
     },
     "execution_count": 10,
     "metadata": {},
     "output_type": "execute_result"
    }
   ],
   "source": [
    "A = [1,2,3,4,5,6,7,8,9,10]\n",
    "\n",
    "ans = list()\n",
    "\n",
    "for ele in A:\n",
    "    if ele%2 != 0:\n",
    "        print(ele**2)\n",
    "        ans.append(ele**2)\n",
    "\n",
    "ans"
   ]
  },
  {
   "cell_type": "code",
   "execution_count": 11,
   "id": "200a60bd-4f51-4693-bcd7-742fcf4e4394",
   "metadata": {},
   "outputs": [
    {
     "name": "stdout",
     "output_type": "stream",
     "text": [
      "[1, 9, 25, 49, 81]\n"
     ]
    }
   ],
   "source": [
    "ans = [ele**2 for ele in A if ele%2 != 0]\n",
    "\n",
    "print(ans)"
   ]
  },
  {
   "cell_type": "code",
   "execution_count": 12,
   "id": "563d472b-91f3-4da7-a0fd-cea99a398350",
   "metadata": {},
   "outputs": [],
   "source": [
    "# count"
   ]
  },
  {
   "cell_type": "code",
   "execution_count": 13,
   "id": "d37cd194-2193-49a7-a3aa-4accaf3761ea",
   "metadata": {},
   "outputs": [],
   "source": [
    "A = [1,2,1,4,5,6,5,7,7,7]"
   ]
  },
  {
   "cell_type": "code",
   "execution_count": 14,
   "id": "1f7f84bc-4987-43d9-8b49-91a863cbbdae",
   "metadata": {},
   "outputs": [
    {
     "data": {
      "text/plain": [
       "2"
      ]
     },
     "execution_count": 14,
     "metadata": {},
     "output_type": "execute_result"
    }
   ],
   "source": [
    "A.count(1)"
   ]
  },
  {
   "cell_type": "code",
   "execution_count": 15,
   "id": "5e609463-5d2f-4188-8b72-26037e8a3574",
   "metadata": {},
   "outputs": [
    {
     "data": {
      "text/plain": [
       "1"
      ]
     },
     "execution_count": 15,
     "metadata": {},
     "output_type": "execute_result"
    }
   ],
   "source": [
    "A.count(6)"
   ]
  },
  {
   "cell_type": "code",
   "execution_count": 22,
   "id": "d6f504d1-ac59-49e8-9189-4fa845605b6f",
   "metadata": {},
   "outputs": [
    {
     "name": "stdout",
     "output_type": "stream",
     "text": [
      "1 2\n",
      "2 1\n",
      "1 2\n",
      "4 1\n",
      "5 2\n",
      "6 1\n",
      "5 2\n",
      "7 3\n",
      "7 3\n",
      "7 3\n"
     ]
    }
   ],
   "source": [
    "A = [1,2,1,4,5,6,5,7,7,7]\n",
    "\n",
    "for i in A:\n",
    "    print(i, A.count(i))"
   ]
  },
  {
   "cell_type": "code",
   "execution_count": 16,
   "id": "4dd31494-9b0a-49bc-b4d1-19f561f12f39",
   "metadata": {},
   "outputs": [
    {
     "data": {
      "text/plain": [
       "0"
      ]
     },
     "execution_count": 16,
     "metadata": {},
     "output_type": "execute_result"
    }
   ],
   "source": [
    "A.count(75641)"
   ]
  },
  {
   "cell_type": "code",
   "execution_count": 20,
   "id": "724f412c-6f10-4416-abdf-9c190d5a231b",
   "metadata": {},
   "outputs": [
    {
     "data": {
      "text/plain": [
       "2"
      ]
     },
     "execution_count": 20,
     "metadata": {},
     "output_type": "execute_result"
    }
   ],
   "source": [
    "A = [1,2,1,4,5,6,5,[7,7],[7,7]]\n",
    "\n",
    "A.count([7,7])"
   ]
  },
  {
   "cell_type": "code",
   "execution_count": 21,
   "id": "36cc0e7b-4ea8-4712-834a-f9a429538bc2",
   "metadata": {},
   "outputs": [
    {
     "data": {
      "text/plain": [
       "2"
      ]
     },
     "execution_count": 21,
     "metadata": {},
     "output_type": "execute_result"
    }
   ],
   "source": [
    "A[-1].count(7)"
   ]
  },
  {
   "cell_type": "code",
   "execution_count": 23,
   "id": "79457c6e-2523-4401-9da7-d27297c74883",
   "metadata": {},
   "outputs": [
    {
     "name": "stdout",
     "output_type": "stream",
     "text": [
      "s\n",
      "o\n",
      "h\n",
      "a\n",
      "i\n",
      "l\n"
     ]
    }
   ],
   "source": [
    "A = \"sohail\"\n",
    "for i in A:\n",
    "    print(i)"
   ]
  },
  {
   "cell_type": "code",
   "execution_count": 24,
   "id": "71e43f3e-0bf7-4308-83be-92328f75f3cd",
   "metadata": {},
   "outputs": [
    {
     "name": "stdout",
     "output_type": "stream",
     "text": [
      "s 1\n",
      "o 1\n",
      "h 1\n",
      "a 1\n",
      "i 1\n",
      "l 1\n"
     ]
    }
   ],
   "source": [
    "A = \"sohail\"\n",
    "for i in A:\n",
    "    print(i, A.count(i))"
   ]
  },
  {
   "cell_type": "code",
   "execution_count": 27,
   "id": "4c0aff02-8f55-40b8-bfc4-d7ee0ea3f1be",
   "metadata": {},
   "outputs": [
    {
     "name": "stdout",
     "output_type": "stream",
     "text": [
      "sohail 2\n",
      "sohail 2\n",
      "anwar 1\n"
     ]
    }
   ],
   "source": [
    "A = [\"sohail\", \"sohail\", \"anwar\"]\n",
    "for i in A:\n",
    "    print(i, A.count(i))"
   ]
  },
  {
   "cell_type": "code",
   "execution_count": 28,
   "id": "3dfed314-248b-46d0-8b52-7f18f52e8813",
   "metadata": {},
   "outputs": [
    {
     "name": "stdout",
     "output_type": "stream",
     "text": [
      "sohail 1\n",
      "SOHAIL 1\n",
      "anwar 1\n"
     ]
    }
   ],
   "source": [
    "A = [\"sohail\", \"SOHAIL\", \"anwar\"]\n",
    "for i in A:\n",
    "    print(i, A.count(i))"
   ]
  },
  {
   "cell_type": "code",
   "execution_count": 29,
   "id": "b6a625ed-cb46-4218-be5a-8f015c99e50c",
   "metadata": {},
   "outputs": [],
   "source": [
    "# Extend"
   ]
  },
  {
   "cell_type": "code",
   "execution_count": 30,
   "id": "bfb71043-f451-4a55-8862-80c729916a3f",
   "metadata": {},
   "outputs": [
    {
     "data": {
      "text/plain": [
       "[1, 2, 3, 11, 22, 33]"
      ]
     },
     "execution_count": 30,
     "metadata": {},
     "output_type": "execute_result"
    }
   ],
   "source": [
    "A = [1,2,3]\n",
    "\n",
    "B = [11,22,33]\n",
    "\n",
    "A + B"
   ]
  },
  {
   "cell_type": "code",
   "execution_count": 32,
   "id": "c41c79f9-ecee-4026-9d06-8958d1e4ea09",
   "metadata": {},
   "outputs": [
    {
     "data": {
      "text/plain": [
       "[1, 2, 3, 11, 22, 33]"
      ]
     },
     "execution_count": 32,
     "metadata": {},
     "output_type": "execute_result"
    }
   ],
   "source": [
    "A = [1,2,3]\n",
    "\n",
    "B = [11,22,33]\n",
    "\n",
    "A.extend(B) # permananet operation, inplace assignment\n",
    "\n",
    "A"
   ]
  },
  {
   "cell_type": "code",
   "execution_count": 33,
   "id": "346b864a-b783-4d02-a12b-ffc825ba2771",
   "metadata": {},
   "outputs": [
    {
     "data": {
      "text/plain": [
       "[1, 2, 3, [11, 22, 33]]"
      ]
     },
     "execution_count": 33,
     "metadata": {},
     "output_type": "execute_result"
    }
   ],
   "source": [
    "A = [1,2,3]\n",
    "\n",
    "B = [11,22,33]\n",
    "\n",
    "A.append(B)\n",
    "\n",
    "A"
   ]
  },
  {
   "cell_type": "code",
   "execution_count": 34,
   "id": "7889520b-9b13-47fe-ac74-8c2d5e9215de",
   "metadata": {},
   "outputs": [
    {
     "name": "stdout",
     "output_type": "stream",
     "text": [
      "[1, 2, 3, 11, 22, 33]\n",
      "befor assignment\n",
      "[1, 2, 3]\n",
      "after assignment\n",
      "[1, 2, 3, 11, 22, 33]\n"
     ]
    }
   ],
   "source": [
    "A = [1,2,3]\n",
    "\n",
    "B = [11,22,33]\n",
    "\n",
    "print(A + B)\n",
    "print(\"befor assignment\")\n",
    "print(A)\n",
    "\n",
    "A = A + B\n",
    "print(\"after assignment\")\n",
    "print(A)"
   ]
  },
  {
   "cell_type": "code",
   "execution_count": 35,
   "id": "278fff33-4476-49ed-986f-c80fb7b829eb",
   "metadata": {},
   "outputs": [],
   "source": [
    "# index method\n"
   ]
  },
  {
   "cell_type": "code",
   "execution_count": 40,
   "id": "1d94c9f1-745d-432a-9b96-750cd9f9f195",
   "metadata": {},
   "outputs": [],
   "source": [
    "A = [11, 3, 4, 56+2j, \"SOHAIL\", 1+5j]"
   ]
  },
  {
   "cell_type": "code",
   "execution_count": 41,
   "id": "50c60277-fcdb-437f-9fbe-cb70ed89dcb2",
   "metadata": {},
   "outputs": [
    {
     "data": {
      "text/plain": [
       "0"
      ]
     },
     "execution_count": 41,
     "metadata": {},
     "output_type": "execute_result"
    }
   ],
   "source": [
    "A.index(11)"
   ]
  },
  {
   "cell_type": "code",
   "execution_count": 42,
   "id": "692cfcb1-444f-4429-82bc-73bed15e6e77",
   "metadata": {},
   "outputs": [
    {
     "data": {
      "text/plain": [
       "4"
      ]
     },
     "execution_count": 42,
     "metadata": {},
     "output_type": "execute_result"
    }
   ],
   "source": [
    "A.index(\"SOHAIL\")"
   ]
  },
  {
   "cell_type": "code",
   "execution_count": 43,
   "id": "f41b4969-5383-4b7e-a7c1-5b1f595e9f4f",
   "metadata": {},
   "outputs": [
    {
     "name": "stdout",
     "output_type": "stream",
     "text": [
      "11\n",
      "3\n",
      "4\n",
      "(56+2j)\n",
      "SOHAIL\n",
      "(1+5j)\n"
     ]
    }
   ],
   "source": [
    "for ele in A:\n",
    "    print(ele)"
   ]
  },
  {
   "cell_type": "code",
   "execution_count": 44,
   "id": "fdece337-8b88-46ee-93a1-f431c9a221f0",
   "metadata": {},
   "outputs": [
    {
     "name": "stdout",
     "output_type": "stream",
     "text": [
      "11 <class 'int'>\n",
      "3 <class 'int'>\n",
      "4 <class 'int'>\n",
      "(56+2j) <class 'complex'>\n",
      "SOHAIL <class 'str'>\n",
      "(1+5j) <class 'complex'>\n"
     ]
    }
   ],
   "source": [
    "for ele in A:\n",
    "    print(ele, type(ele))"
   ]
  },
  {
   "cell_type": "code",
   "execution_count": 46,
   "id": "3a76ee0d-28a9-414f-b8b3-ecaecaee74c2",
   "metadata": {},
   "outputs": [
    {
     "name": "stdout",
     "output_type": "stream",
     "text": [
      "Element: 11, | Type: <class 'int'>, | Index: 0\n",
      "Element: 3, | Type: <class 'int'>, | Index: 1\n",
      "Element: 4, | Type: <class 'int'>, | Index: 2\n",
      "Element: (56+2j), | Type: <class 'complex'>, | Index: 3\n",
      "Element: SOHAIL, | Type: <class 'str'>, | Index: 4\n",
      "Element: (1+5j), | Type: <class 'complex'>, | Index: 5\n"
     ]
    }
   ],
   "source": [
    "for ele in A:\n",
    "    print(f\"Element: {ele}, | Type: {type(ele)}, | Index: {A.index(ele)}\")"
   ]
  },
  {
   "cell_type": "code",
   "execution_count": 48,
   "id": "a66445cc-60c2-4cc0-bbd1-4f85bfb53f6e",
   "metadata": {},
   "outputs": [
    {
     "name": "stdout",
     "output_type": "stream",
     "text": [
      "Element: (56+2j), | Type: <class 'complex'>, | Index: 3\n",
      "Element: (1+5j), | Type: <class 'complex'>, | Index: 5\n"
     ]
    }
   ],
   "source": [
    "for ele in A:\n",
    "    if type(ele) == complex:\n",
    "        print(f\"Element: {ele}, | Type: {type(ele)}, | Index: {A.index(ele)}\")"
   ]
  },
  {
   "cell_type": "code",
   "execution_count": 49,
   "id": "48d13d2b-2d0d-4c5c-8708-78a5e568811c",
   "metadata": {},
   "outputs": [
    {
     "name": "stdout",
     "output_type": "stream",
     "text": [
      "Element: 11, | Type: <class 'int'>, | Index: 0\n",
      "Element: 3, | Type: <class 'int'>, | Index: 1\n",
      "Element: 4, | Type: <class 'int'>, | Index: 2\n"
     ]
    }
   ],
   "source": [
    "for ele in A:\n",
    "    if type(ele) == int:\n",
    "        print(f\"Element: {ele}, | Type: {type(ele)}, | Index: {A.index(ele)}\")"
   ]
  },
  {
   "cell_type": "code",
   "execution_count": 50,
   "id": "50f6eeff-dc06-4037-a489-be4a119453dd",
   "metadata": {},
   "outputs": [
    {
     "name": "stdout",
     "output_type": "stream",
     "text": [
      "Element: SOHAIL, | Type: <class 'str'>, | Index: 4\n"
     ]
    }
   ],
   "source": [
    "for ele in A:\n",
    "    if type(ele) == str:\n",
    "        print(f\"Element: {ele}, | Type: {type(ele)}, | Index: {A.index(ele)}\")"
   ]
  },
  {
   "cell_type": "code",
   "execution_count": 51,
   "id": "a36801fa-e930-4d0b-83cc-ee65511eea3e",
   "metadata": {},
   "outputs": [],
   "source": [
    "## isinstance"
   ]
  },
  {
   "cell_type": "code",
   "execution_count": 52,
   "id": "ffac6a54-1f58-4e65-8a13-22697cef1cb0",
   "metadata": {},
   "outputs": [
    {
     "name": "stdout",
     "output_type": "stream",
     "text": [
      "Element: (56+2j), | Type: <class 'complex'>, | Index: 3\n",
      "Element: (1+5j), | Type: <class 'complex'>, | Index: 5\n"
     ]
    }
   ],
   "source": [
    "for ele in A:\n",
    "    if isinstance(ele, complex):\n",
    "        print(f\"Element: {ele}, | Type: {type(ele)}, | Index: {A.index(ele)}\")"
   ]
  },
  {
   "cell_type": "code",
   "execution_count": 53,
   "id": "06e48886-de47-48c3-b88c-5ef79c706e45",
   "metadata": {},
   "outputs": [
    {
     "name": "stdout",
     "output_type": "stream",
     "text": [
      "Element: 11, | Type: <class 'int'>, | Index: 0\n",
      "Element: 3, | Type: <class 'int'>, | Index: 1\n",
      "Element: 4, | Type: <class 'int'>, | Index: 2\n",
      "Element: (56+2j), | Type: <class 'complex'>, | Index: 3\n",
      "Element: (1+5j), | Type: <class 'complex'>, | Index: 5\n"
     ]
    }
   ],
   "source": [
    "for ele in A:\n",
    "    if isinstance(ele, complex) or isinstance(ele, int):\n",
    "        print(f\"Element: {ele}, | Type: {type(ele)}, | Index: {A.index(ele)}\")"
   ]
  },
  {
   "cell_type": "code",
   "execution_count": 56,
   "id": "b28587dd-ad6f-4d9e-8ff7-df83a31b96b2",
   "metadata": {},
   "outputs": [
    {
     "name": "stdout",
     "output_type": "stream",
     "text": [
      "Element: 11, | Type: <class 'int'>, | Index: 0\n",
      "Element: 3, | Type: <class 'int'>, | Index: 1\n",
      "Element: 4, | Type: <class 'int'>, | Index: 2\n",
      "Element: (56+2j), | Type: <class 'complex'>, | Index: 3\n",
      "Element: (1+5j), | Type: <class 'complex'>, | Index: 5\n"
     ]
    }
   ],
   "source": [
    "for ele in A:\n",
    "    if isinstance(ele, (complex, int)): # pythonic way\n",
    "        print(f\"Element: {ele}, | Type: {type(ele)}, | Index: {A.index(ele)}\")"
   ]
  },
  {
   "cell_type": "code",
   "execution_count": 58,
   "id": "a81e6ad6-42d8-4d39-bcaf-727358a32252",
   "metadata": {},
   "outputs": [
    {
     "data": {
      "text/plain": [
       "[(56+2j), (1+5j)]"
      ]
     },
     "execution_count": 58,
     "metadata": {},
     "output_type": "execute_result"
    }
   ],
   "source": [
    "ans = [ele for ele in A if isinstance(ele, complex)]\n",
    "\n",
    "ans"
   ]
  },
  {
   "cell_type": "code",
   "execution_count": 59,
   "id": "2b81047a-6eb4-4683-8490-3efad522d601",
   "metadata": {},
   "outputs": [
    {
     "data": {
      "text/plain": [
       "[(56+2j), (1+5j)]"
      ]
     },
     "execution_count": 59,
     "metadata": {},
     "output_type": "execute_result"
    }
   ],
   "source": [
    "ans = [ele for ele in A if type(ele)==complex]\n",
    "\n",
    "ans"
   ]
  },
  {
   "cell_type": "code",
   "execution_count": 60,
   "id": "c36996e7-606a-437c-b894-add32da740b3",
   "metadata": {},
   "outputs": [
    {
     "data": {
      "text/plain": [
       "1"
      ]
     },
     "execution_count": 60,
     "metadata": {},
     "output_type": "execute_result"
    }
   ],
   "source": [
    "A = [11, 3, 4, 56+2j, \"sohail\", 1+2j, 3, 3] # dulicate elements\n",
    "\n",
    "A.index(3)"
   ]
  },
  {
   "cell_type": "code",
   "execution_count": 1,
   "id": "5b83073f-23ec-486e-b9c2-4a72af32be99",
   "metadata": {},
   "outputs": [
    {
     "ename": "ValueError",
     "evalue": "4444 is not in list",
     "output_type": "error",
     "traceback": [
      "\u001b[0;31m---------------------------------------------------------------------------\u001b[0m",
      "\u001b[0;31mValueError\u001b[0m                                Traceback (most recent call last)",
      "Cell \u001b[0;32mIn [1], line 3\u001b[0m\n\u001b[1;32m      1\u001b[0m A \u001b[38;5;241m=\u001b[39m [\u001b[38;5;241m11\u001b[39m, \u001b[38;5;241m3\u001b[39m, \u001b[38;5;241m4\u001b[39m, \u001b[38;5;241m56\u001b[39m\u001b[38;5;241m+\u001b[39m\u001b[38;5;241m2\u001b[39mj, \u001b[38;5;124m\"\u001b[39m\u001b[38;5;124msohail\u001b[39m\u001b[38;5;124m\"\u001b[39m, \u001b[38;5;241m1\u001b[39m\u001b[38;5;241m+\u001b[39m\u001b[38;5;241m2\u001b[39mj, \u001b[38;5;241m3\u001b[39m, \u001b[38;5;241m3\u001b[39m] \u001b[38;5;66;03m# dulicate elements\u001b[39;00m\n\u001b[0;32m----> 3\u001b[0m \u001b[43mA\u001b[49m\u001b[38;5;241;43m.\u001b[39;49m\u001b[43mindex\u001b[49m\u001b[43m(\u001b[49m\u001b[38;5;241;43m4444\u001b[39;49m\u001b[43m)\u001b[49m\n",
      "\u001b[0;31mValueError\u001b[0m: 4444 is not in list"
     ]
    }
   ],
   "source": [
    "A = [11, 3, 4, 56+2j, \"sohail\", 1+2j, 3, 3] # dulicate elements\n",
    "\n",
    "A.index(4444)"
   ]
  },
  {
   "cell_type": "code",
   "execution_count": 2,
   "id": "82cf26ab-e883-463c-8437-49ae8380b65a",
   "metadata": {},
   "outputs": [
    {
     "data": {
      "text/plain": [
       "3"
      ]
     },
     "execution_count": 2,
     "metadata": {},
     "output_type": "execute_result"
    }
   ],
   "source": [
    "A = [1, 2, 3, [4,5,6], 7,8,9]\n",
    "\n",
    "A.index([4,5,6])"
   ]
  },
  {
   "cell_type": "code",
   "execution_count": 3,
   "id": "af7db7d0-978f-4233-bdb0-45e45f14b8e2",
   "metadata": {},
   "outputs": [],
   "source": [
    "## insert"
   ]
  },
  {
   "cell_type": "code",
   "execution_count": 4,
   "id": "df17c7fe-d4fa-4cb8-ad1b-1cf68d0a6014",
   "metadata": {},
   "outputs": [
    {
     "data": {
      "text/plain": [
       "[1, 2, 3, 4, 5, 99]"
      ]
     },
     "execution_count": 4,
     "metadata": {},
     "output_type": "execute_result"
    }
   ],
   "source": [
    "A = [1,2,3,4,5]\n",
    "\n",
    "A.append(99)\n",
    "A"
   ]
  },
  {
   "cell_type": "code",
   "execution_count": 5,
   "id": "e3ea6997-ba88-49db-9066-8a47f0416c2b",
   "metadata": {},
   "outputs": [
    {
     "data": {
      "text/plain": [
       "[1, 2, 'sohail', 3, 4, 5, 99]"
      ]
     },
     "execution_count": 5,
     "metadata": {},
     "output_type": "execute_result"
    }
   ],
   "source": [
    "A.insert(2, \"sohail\")\n",
    "\n",
    "A"
   ]
  },
  {
   "cell_type": "code",
   "execution_count": 6,
   "id": "d8c7189a-025b-411f-aa15-7ca703e8eddc",
   "metadata": {},
   "outputs": [
    {
     "data": {
      "text/plain": [
       "[1, 2, 'sohail', 3, 4, 5, 99, 'sohail']"
      ]
     },
     "execution_count": 6,
     "metadata": {},
     "output_type": "execute_result"
    }
   ],
   "source": [
    "A.insert(20000, \"sohail\")\n",
    "\n",
    "A"
   ]
  },
  {
   "cell_type": "code",
   "execution_count": 8,
   "id": "82a77636-35cc-439c-9db9-260224c08b74",
   "metadata": {},
   "outputs": [
    {
     "ename": "IndexError",
     "evalue": "list index out of range",
     "output_type": "error",
     "traceback": [
      "\u001b[0;31m---------------------------------------------------------------------------\u001b[0m",
      "\u001b[0;31mIndexError\u001b[0m                                Traceback (most recent call last)",
      "Cell \u001b[0;32mIn [8], line 1\u001b[0m\n\u001b[0;32m----> 1\u001b[0m \u001b[43mA\u001b[49m\u001b[43m[\u001b[49m\u001b[38;5;241;43m20000\u001b[39;49m\u001b[43m]\u001b[49m\n",
      "\u001b[0;31mIndexError\u001b[0m: list index out of range"
     ]
    }
   ],
   "source": [
    "A[20000]"
   ]
  },
  {
   "cell_type": "code",
   "execution_count": 7,
   "id": "02dead2b-7382-4c6a-b46c-ce61b821606c",
   "metadata": {},
   "outputs": [
    {
     "data": {
      "text/plain": [
       "['sohail', 1, 2, 'sohail', 3, 4, 5, 99, 'sohail']"
      ]
     },
     "execution_count": 7,
     "metadata": {},
     "output_type": "execute_result"
    }
   ],
   "source": [
    "A.insert(-20000, \"sohail\")\n",
    "\n",
    "A"
   ]
  },
  {
   "cell_type": "code",
   "execution_count": 9,
   "id": "9aae0a57-b19a-435f-8d8d-16c0deb4c4b7",
   "metadata": {},
   "outputs": [
    {
     "data": {
      "text/plain": [
       "5"
      ]
     },
     "execution_count": 9,
     "metadata": {},
     "output_type": "execute_result"
    }
   ],
   "source": [
    "A = [1,2,3,4,5]\n",
    "\n",
    "len(A)"
   ]
  },
  {
   "cell_type": "code",
   "execution_count": 10,
   "id": "1cb5870c-26b6-4159-a38f-c90e806acb4e",
   "metadata": {},
   "outputs": [
    {
     "data": {
      "text/plain": [
       "6"
      ]
     },
     "execution_count": 10,
     "metadata": {},
     "output_type": "execute_result"
    }
   ],
   "source": [
    "A.insert(2, \"sohail\")\n",
    "\n",
    "len(A)"
   ]
  },
  {
   "cell_type": "code",
   "execution_count": 11,
   "id": "a7368aaa-03c4-47f7-9519-7c4be71988c3",
   "metadata": {},
   "outputs": [
    {
     "data": {
      "text/plain": [
       "7"
      ]
     },
     "execution_count": 11,
     "metadata": {},
     "output_type": "execute_result"
    }
   ],
   "source": [
    "A.insert(20000, \"sohail\")\n",
    "\n",
    "len(A)"
   ]
  },
  {
   "cell_type": "code",
   "execution_count": 12,
   "id": "45ee8493-cf2a-4714-af70-8544e80024bf",
   "metadata": {},
   "outputs": [],
   "source": [
    "## REMOVE"
   ]
  },
  {
   "cell_type": "code",
   "execution_count": 13,
   "id": "c2f9f480-8490-4de0-9974-2be60af69067",
   "metadata": {},
   "outputs": [
    {
     "data": {
      "text/plain": [
       "[1, 2, 3, 6, 77]"
      ]
     },
     "execution_count": 13,
     "metadata": {},
     "output_type": "execute_result"
    }
   ],
   "source": [
    "A = [1,2,3,455,6,77]\n",
    "\n",
    "A.remove(455)\n",
    "\n",
    "A"
   ]
  },
  {
   "cell_type": "code",
   "execution_count": 1,
   "id": "cd76ec87-3af0-44e0-9719-a7e5d5488007",
   "metadata": {},
   "outputs": [
    {
     "data": {
      "text/plain": [
       "[1, 2, 3, 455, 6, 77]"
      ]
     },
     "execution_count": 1,
     "metadata": {},
     "output_type": "execute_result"
    }
   ],
   "source": [
    "A = [1,1,2,3,455,6,77]\n",
    "\n",
    "A.remove(1)\n",
    "\n",
    "A"
   ]
  },
  {
   "cell_type": "code",
   "execution_count": 2,
   "id": "c9a4f79d-b41b-472a-8c7b-7c6cc09c3d1a",
   "metadata": {},
   "outputs": [
    {
     "data": {
      "text/plain": [
       "77"
      ]
     },
     "execution_count": 2,
     "metadata": {},
     "output_type": "execute_result"
    }
   ],
   "source": [
    "A.pop(-1)"
   ]
  },
  {
   "cell_type": "code",
   "execution_count": 3,
   "id": "846df57a-6be2-4776-b64a-6f9cf51a3436",
   "metadata": {},
   "outputs": [
    {
     "data": {
      "text/plain": [
       "6"
      ]
     },
     "execution_count": 3,
     "metadata": {},
     "output_type": "execute_result"
    }
   ],
   "source": [
    "A.pop() # THIS REMOVES THE LAST ELEMENT"
   ]
  },
  {
   "cell_type": "code",
   "execution_count": 5,
   "id": "ed59eb6b-7abe-40a7-b37c-b6d9de43b813",
   "metadata": {},
   "outputs": [],
   "source": [
    "## TUPLES () IMMUTABLE\n",
    "\n",
    "## LIST = []  MUTABLE"
   ]
  },
  {
   "cell_type": "code",
   "execution_count": 6,
   "id": "7738605d-fd6e-4e40-b860-f52f59295921",
   "metadata": {},
   "outputs": [],
   "source": [
    "A = (1,2,3)"
   ]
  },
  {
   "cell_type": "code",
   "execution_count": 7,
   "id": "5fa49f91-4e70-41ea-8768-12461b241c67",
   "metadata": {},
   "outputs": [
    {
     "data": {
      "text/plain": [
       "tuple"
      ]
     },
     "execution_count": 7,
     "metadata": {},
     "output_type": "execute_result"
    }
   ],
   "source": [
    "type(A)"
   ]
  },
  {
   "cell_type": "code",
   "execution_count": 8,
   "id": "2b640aa1-07cd-4a64-a16c-25acfc5c359c",
   "metadata": {},
   "outputs": [
    {
     "data": {
      "text/plain": [
       "1"
      ]
     },
     "execution_count": 8,
     "metadata": {},
     "output_type": "execute_result"
    }
   ],
   "source": [
    "A[0]"
   ]
  },
  {
   "cell_type": "code",
   "execution_count": 9,
   "id": "d11a3b16-7790-4c9f-b009-b164df4f9a65",
   "metadata": {},
   "outputs": [
    {
     "data": {
      "text/plain": [
       "3"
      ]
     },
     "execution_count": 9,
     "metadata": {},
     "output_type": "execute_result"
    }
   ],
   "source": [
    "A[-1]"
   ]
  },
  {
   "cell_type": "code",
   "execution_count": 10,
   "id": "011823e5-5459-48c5-a5e8-44fdf899e961",
   "metadata": {},
   "outputs": [
    {
     "ename": "TypeError",
     "evalue": "'tuple' object does not support item assignment",
     "output_type": "error",
     "traceback": [
      "\u001b[0;31m---------------------------------------------------------------------------\u001b[0m",
      "\u001b[0;31mTypeError\u001b[0m                                 Traceback (most recent call last)",
      "Cell \u001b[0;32mIn [10], line 1\u001b[0m\n\u001b[0;32m----> 1\u001b[0m \u001b[43mA\u001b[49m\u001b[43m[\u001b[49m\u001b[38;5;241;43m0\u001b[39;49m\u001b[43m]\u001b[49m \u001b[38;5;241m=\u001b[39m \u001b[38;5;241m22\u001b[39m\n",
      "\u001b[0;31mTypeError\u001b[0m: 'tuple' object does not support item assignment"
     ]
    }
   ],
   "source": [
    "A[0] = 22"
   ]
  },
  {
   "cell_type": "code",
   "execution_count": 11,
   "id": "22d5561d-597f-4185-850e-0209e7f1c805",
   "metadata": {},
   "outputs": [],
   "source": [
    "A = (22, 12, 34, 1)"
   ]
  },
  {
   "cell_type": "code",
   "execution_count": 12,
   "id": "fc4d201f-ec2b-4c7f-8b21-9cae3753c11b",
   "metadata": {},
   "outputs": [
    {
     "ename": "AttributeError",
     "evalue": "'tuple' object has no attribute 'sort'",
     "output_type": "error",
     "traceback": [
      "\u001b[0;31m---------------------------------------------------------------------------\u001b[0m",
      "\u001b[0;31mAttributeError\u001b[0m                            Traceback (most recent call last)",
      "Cell \u001b[0;32mIn [12], line 1\u001b[0m\n\u001b[0;32m----> 1\u001b[0m \u001b[43mA\u001b[49m\u001b[38;5;241;43m.\u001b[39;49m\u001b[43msort\u001b[49m()\n",
      "\u001b[0;31mAttributeError\u001b[0m: 'tuple' object has no attribute 'sort'"
     ]
    }
   ],
   "source": [
    "A.sort()"
   ]
  },
  {
   "cell_type": "code",
   "execution_count": 14,
   "id": "7d8de9d9-f682-4030-8834-94aa6c6660b4",
   "metadata": {},
   "outputs": [
    {
     "data": {
      "text/plain": [
       "[1, 12, 22, 34]"
      ]
     },
     "execution_count": 14,
     "metadata": {},
     "output_type": "execute_result"
    }
   ],
   "source": [
    "sorted(A) # CONVERT IT INTO LIST AND THEN RETURN THE SORTED LIST"
   ]
  },
  {
   "cell_type": "code",
   "execution_count": 5,
   "id": "0c1be019-b060-4393-ae12-27f7c153d1dc",
   "metadata": {},
   "outputs": [
    {
     "ename": "NameError",
     "evalue": "name 'A' is not defined",
     "output_type": "error",
     "traceback": [
      "\u001b[0;31m---------------------------------------------------------------------------\u001b[0m",
      "\u001b[0;31mNameError\u001b[0m                                 Traceback (most recent call last)",
      "Cell \u001b[0;32mIn [5], line 1\u001b[0m\n\u001b[0;32m----> 1\u001b[0m A \u001b[38;5;241m=\u001b[39m \u001b[38;5;28msorted\u001b[39m(\u001b[43mA\u001b[49m)\n\u001b[1;32m      3\u001b[0m A\n",
      "\u001b[0;31mNameError\u001b[0m: name 'A' is not defined"
     ]
    }
   ],
   "source": [
    "A = sorted(A)\n",
    "\n",
    "A"
   ]
  },
  {
   "cell_type": "code",
   "execution_count": 16,
   "id": "17db497f-ec63-4703-8545-967ef845bae6",
   "metadata": {},
   "outputs": [
    {
     "data": {
      "text/plain": [
       "4"
      ]
     },
     "execution_count": 16,
     "metadata": {},
     "output_type": "execute_result"
    }
   ],
   "source": [
    "A = (22, 12, 34, 1)\n",
    "\n",
    "len(A)"
   ]
  },
  {
   "cell_type": "code",
   "execution_count": 17,
   "id": "d12afa38-adde-4c79-950d-b1af8cbddfc3",
   "metadata": {},
   "outputs": [
    {
     "data": {
      "text/plain": [
       "(22, 12, 34, 1, 22, 12, 34, 1)"
      ]
     },
     "execution_count": 17,
     "metadata": {},
     "output_type": "execute_result"
    }
   ],
   "source": [
    "A * 2"
   ]
  },
  {
   "cell_type": "code",
   "execution_count": 21,
   "id": "a72746fe-94d7-4167-869d-86379bbc683e",
   "metadata": {},
   "outputs": [
    {
     "data": {
      "text/plain": [
       "(22, 12, 34, 1, 22, 12, 34, 1)"
      ]
     },
     "execution_count": 21,
     "metadata": {},
     "output_type": "execute_result"
    }
   ],
   "source": [
    "A = A * 2\n",
    "\n",
    "A"
   ]
  },
  {
   "cell_type": "code",
   "execution_count": 22,
   "id": "ef146ea1-885d-4d8d-922f-e10f2d640125",
   "metadata": {},
   "outputs": [
    {
     "data": {
      "text/plain": [
       "34"
      ]
     },
     "execution_count": 22,
     "metadata": {},
     "output_type": "execute_result"
    }
   ],
   "source": [
    "max(A)"
   ]
  },
  {
   "cell_type": "code",
   "execution_count": 23,
   "id": "091269a4-1bea-4006-9f19-486ebf321a89",
   "metadata": {},
   "outputs": [
    {
     "data": {
      "text/plain": [
       "1"
      ]
     },
     "execution_count": 23,
     "metadata": {},
     "output_type": "execute_result"
    }
   ],
   "source": [
    "min(A)"
   ]
  },
  {
   "cell_type": "code",
   "execution_count": 24,
   "id": "aba984e1-136c-43a0-8f46-f84d0ba63a2c",
   "metadata": {},
   "outputs": [
    {
     "data": {
      "text/plain": [
       "1"
      ]
     },
     "execution_count": 24,
     "metadata": {},
     "output_type": "execute_result"
    }
   ],
   "source": [
    "A.index(12)"
   ]
  },
  {
   "cell_type": "code",
   "execution_count": 26,
   "id": "3bffa78d-9c1d-48d0-93ed-248a688596b1",
   "metadata": {},
   "outputs": [
    {
     "data": {
      "text/plain": [
       "2"
      ]
     },
     "execution_count": 26,
     "metadata": {},
     "output_type": "execute_result"
    }
   ],
   "source": [
    "A.count(12)"
   ]
  },
  {
   "cell_type": "code",
   "execution_count": 2,
   "id": "2c983c7a-5252-4426-9d3d-d726630d47c7",
   "metadata": {},
   "outputs": [
    {
     "ename": "NameError",
     "evalue": "name 'A' is not defined",
     "output_type": "error",
     "traceback": [
      "\u001b[0;31m---------------------------------------------------------------------------\u001b[0m",
      "\u001b[0;31mNameError\u001b[0m                                 Traceback (most recent call last)",
      "Cell \u001b[0;32mIn [2], line 1\u001b[0m\n\u001b[0;32m----> 1\u001b[0m \u001b[38;5;28msum\u001b[39m(\u001b[43mA\u001b[49m)\n",
      "\u001b[0;31mNameError\u001b[0m: name 'A' is not defined"
     ]
    }
   ],
   "source": [
    "sum(A)"
   ]
  },
  {
   "cell_type": "code",
   "execution_count": 3,
   "id": "13e444e8-a931-49eb-8e10-fa61b75cb3c4",
   "metadata": {},
   "outputs": [
    {
     "ename": "NameError",
     "evalue": "name 'A' is not defined",
     "output_type": "error",
     "traceback": [
      "\u001b[0;31m---------------------------------------------------------------------------\u001b[0m",
      "\u001b[0;31mNameError\u001b[0m                                 Traceback (most recent call last)",
      "Cell \u001b[0;32mIn [3], line 1\u001b[0m\n\u001b[0;32m----> 1\u001b[0m \u001b[43mA\u001b[49m[\u001b[38;5;241m1\u001b[39m:]\n",
      "\u001b[0;31mNameError\u001b[0m: name 'A' is not defined"
     ]
    }
   ],
   "source": [
    "A[1:]"
   ]
  },
  {
   "cell_type": "code",
   "execution_count": 4,
   "id": "6081fbe7-407f-4cc5-a9cb-924d59406f84",
   "metadata": {},
   "outputs": [
    {
     "ename": "NameError",
     "evalue": "name 'A' is not defined",
     "output_type": "error",
     "traceback": [
      "\u001b[0;31m---------------------------------------------------------------------------\u001b[0m",
      "\u001b[0;31mNameError\u001b[0m                                 Traceback (most recent call last)",
      "Cell \u001b[0;32mIn [4], line 1\u001b[0m\n\u001b[0;32m----> 1\u001b[0m \u001b[43mA\u001b[49m[::\u001b[38;5;241m-\u001b[39m\u001b[38;5;241m1\u001b[39m]\n",
      "\u001b[0;31mNameError\u001b[0m: name 'A' is not defined"
     ]
    }
   ],
   "source": [
    "A[::-1]"
   ]
  },
  {
   "cell_type": "code",
   "execution_count": 6,
   "id": "addb2c5b-5de9-45b6-b7c4-95f4094779e2",
   "metadata": {},
   "outputs": [
    {
     "ename": "NameError",
     "evalue": "name 'A' is not defined",
     "output_type": "error",
     "traceback": [
      "\u001b[0;31m---------------------------------------------------------------------------\u001b[0m",
      "\u001b[0;31mNameError\u001b[0m                                 Traceback (most recent call last)",
      "Cell \u001b[0;32mIn [6], line 1\u001b[0m\n\u001b[0;32m----> 1\u001b[0m A \u001b[38;5;241m=\u001b[39m \u001b[38;5;28msorted\u001b[39m(\u001b[43mA\u001b[49m)\n\u001b[1;32m      3\u001b[0m A\n",
      "\u001b[0;31mNameError\u001b[0m: name 'A' is not defined"
     ]
    }
   ],
   "source": [
    "A = sorted(A)\n",
    "\n",
    "A"
   ]
  },
  {
   "cell_type": "code",
   "execution_count": null,
   "id": "1c6e6ca8-76f3-45de-a98c-f9e5fe0524d3",
   "metadata": {},
   "outputs": [],
   "source": []
  }
 ],
 "metadata": {
  "kernelspec": {
   "display_name": "Python 3 (ipykernel)",
   "language": "python",
   "name": "python3"
  },
  "language_info": {
   "codemirror_mode": {
    "name": "ipython",
    "version": 3
   },
   "file_extension": ".py",
   "mimetype": "text/x-python",
   "name": "python",
   "nbconvert_exporter": "python",
   "pygments_lexer": "ipython3",
   "version": "3.10.6"
  }
 },
 "nbformat": 4,
 "nbformat_minor": 5
}
