{
 "cells": [
  {
   "cell_type": "code",
   "execution_count": 7,
   "id": "a73d5628-64f8-4b2e-aa39-bce1e46dc73e",
   "metadata": {},
   "outputs": [],
   "source": [
    "name, place, year_of_birth, weight = \"sohail\", \"kolkata\", 1998, 65.50"
   ]
  },
  {
   "cell_type": "code",
   "execution_count": 8,
   "id": "73268fb8-bcf1-46f6-a1db-a2e9eda15e4a",
   "metadata": {},
   "outputs": [
    {
     "name": "stdout",
     "output_type": "stream",
     "text": [
      "\n",
      "my name is: sohail\n",
      "i live at: kolkata\n",
      "i was bron in: 1998\n",
      "my weight is: 65.5 in kgs\n"
     ]
    }
   ],
   "source": [
    "print(f\"\"\"\n",
    "my name is: {name}\n",
    "i live at: {place}\n",
    "i was bron in: {year_of_birth}\n",
    "my weight is: {weight} in kgs\"\"\")"
   ]
  },
  {
   "cell_type": "code",
   "execution_count": 9,
   "id": "d4f60f1f-bf20-4397-8931-24a0e770b06e",
   "metadata": {},
   "outputs": [],
   "source": [
    "name, place, year_of_birth, weight = \"sohail\", \"kolkata\", 1998, 65.50"
   ]
  },
  {
   "cell_type": "code",
   "execution_count": 12,
   "id": "ef73a4e0-84f9-493e-b796-abfd0754d5fb",
   "metadata": {},
   "outputs": [
    {
     "name": "stdout",
     "output_type": "stream",
     "text": [
      "sohail kolkata 1998 65.5\n"
     ]
    }
   ],
   "source": [
    "print(name, place, year_of_birth, weight)"
   ]
  },
  {
   "cell_type": "code",
   "execution_count": 14,
   "id": "92176e6e-d84a-4000-bd5d-127caf50905d",
   "metadata": {},
   "outputs": [
    {
     "name": "stdin",
     "output_type": "stream",
     "text": [
      "name sohail\n",
      "place kolkata\n",
      "year_of_birth 30/11/1998\n",
      "weight 65.50\n"
     ]
    }
   ],
   "source": [
    "name = input(\"name\")\n",
    "place = input(\"place\")\n",
    "year_of_birth = input(\"year_of_birth\")\n",
    "weight = input(\"weight\")"
   ]
  },
  {
   "cell_type": "code",
   "execution_count": 15,
   "id": "7925a127-76d2-4f67-b025-f02231344e38",
   "metadata": {},
   "outputs": [
    {
     "name": "stdin",
     "output_type": "stream",
     "text": [
      "name sohail\n",
      "place kolkata\n",
      "year_of_birth 1998\n"
     ]
    },
    {
     "ename": "TypeError",
     "evalue": "unsupported operand type(s) for -: 'int' and 'str'",
     "output_type": "error",
     "traceback": [
      "\u001b[0;31m---------------------------------------------------------------------------\u001b[0m",
      "\u001b[0;31mTypeError\u001b[0m                                 Traceback (most recent call last)",
      "Cell \u001b[0;32mIn [15], line 4\u001b[0m\n\u001b[1;32m      2\u001b[0m place \u001b[38;5;241m=\u001b[39m \u001b[38;5;28minput\u001b[39m(\u001b[38;5;124m\"\u001b[39m\u001b[38;5;124mplace\u001b[39m\u001b[38;5;124m\"\u001b[39m)\n\u001b[1;32m      3\u001b[0m year_of_birth \u001b[38;5;241m=\u001b[39m \u001b[38;5;28minput\u001b[39m(\u001b[38;5;124m\"\u001b[39m\u001b[38;5;124myear_of_birth\u001b[39m\u001b[38;5;124m\"\u001b[39m)\n\u001b[0;32m----> 4\u001b[0m age \u001b[38;5;241m=\u001b[39m \u001b[38;5;241;43m2022\u001b[39;49m\u001b[43m \u001b[49m\u001b[38;5;241;43m-\u001b[39;49m\u001b[43m \u001b[49m\u001b[43myear_of_birth\u001b[49m\n\u001b[1;32m      5\u001b[0m weight \u001b[38;5;241m=\u001b[39m \u001b[38;5;28minput\u001b[39m(\u001b[38;5;124m\"\u001b[39m\u001b[38;5;124mweight\u001b[39m\u001b[38;5;124m\"\u001b[39m)\n\u001b[1;32m      6\u001b[0m \u001b[38;5;28mprint\u001b[39m(\u001b[38;5;124mf\u001b[39m\u001b[38;5;124m\"\"\"\u001b[39m\n\u001b[1;32m      7\u001b[0m \u001b[38;5;124mmy name is: \u001b[39m\u001b[38;5;132;01m{\u001b[39;00mname\u001b[38;5;132;01m}\u001b[39;00m\n\u001b[1;32m      8\u001b[0m \u001b[38;5;124mi live at: \u001b[39m\u001b[38;5;132;01m{\u001b[39;00mplace\u001b[38;5;132;01m}\u001b[39;00m\n\u001b[1;32m      9\u001b[0m \u001b[38;5;132;01m{\u001b[39;00mname\u001b[38;5;132;01m}\u001b[39;00m\u001b[38;5;124m is of age: \u001b[39m\u001b[38;5;132;01m{\u001b[39;00mage\u001b[38;5;132;01m}\u001b[39;00m\n\u001b[1;32m     10\u001b[0m \u001b[38;5;124mi was bron in: \u001b[39m\u001b[38;5;132;01m{\u001b[39;00myear_of_birth\u001b[38;5;132;01m}\u001b[39;00m\n\u001b[1;32m     11\u001b[0m \u001b[38;5;124mmy weight is: \u001b[39m\u001b[38;5;132;01m{\u001b[39;00mweight\u001b[38;5;132;01m}\u001b[39;00m\u001b[38;5;124m in kgs\u001b[39m\u001b[38;5;124m\"\"\"\u001b[39m)\n",
      "\u001b[0;31mTypeError\u001b[0m: unsupported operand type(s) for -: 'int' and 'str'"
     ]
    }
   ],
   "source": [
    "name = input(\"name\") # always gives you string values\n",
    "place = input(\"place\")\n",
    "year_of_birth = input(\"year_of_birth\")\n",
    "age = 2022 - year_of_birth\n",
    "weight = input(\"weight\")\n",
    "print(f\"\"\"\n",
    "my name is: {name}\n",
    "i live at: {place}\n",
    "{name} is of age: {age}\n",
    "i was bron in: {year_of_birth}\n",
    "my weight is: {weight} in kgs\"\"\")"
   ]
  },
  {
   "cell_type": "code",
   "execution_count": 16,
   "id": "d7a659f7-8895-42a4-84b0-665b9057caa8",
   "metadata": {},
   "outputs": [
    {
     "name": "stdin",
     "output_type": "stream",
     "text": [
      "name sohail\n",
      "place kolkata\n",
      "year_of_birth 1998\n",
      "weight 65.50\n"
     ]
    },
    {
     "name": "stdout",
     "output_type": "stream",
     "text": [
      "\n",
      "my name is: sohail\n",
      "i live at: kolkata\n",
      "sohail is of age: 24\n",
      "i was bron in: 1998\n",
      "my weight is: 65.50 in kgs\n"
     ]
    }
   ],
   "source": [
    "name = input(\"name\") # always gives you string values\n",
    "place = input(\"place\")\n",
    "year_of_birth =int( input(\"year_of_birth\")) # convert this into integer\n",
    "age = 2022 - year_of_birth # calculate your age\n",
    "weight = input(\"weight\")\n",
    "print(f\"\"\"\n",
    "my name is: {name}\n",
    "i live at: {place}\n",
    "{name} is of age: {age} \n",
    "i was bron in: {year_of_birth}\n",
    "my weight is: {weight} in kgs\"\"\")"
   ]
  },
  {
   "cell_type": "code",
   "execution_count": 18,
   "id": "1ae32e3c-2605-42ba-ae6a-6f0dbd99628a",
   "metadata": {},
   "outputs": [
    {
     "name": "stdin",
     "output_type": "stream",
     "text": [
      "name sohail\n",
      "place kolkata\n",
      "year_of_birth 1998\n",
      "current year: 2023\n",
      "weight 65.50\n"
     ]
    },
    {
     "name": "stdout",
     "output_type": "stream",
     "text": [
      "\n",
      "my name is: sohail\n",
      "i live at: kolkata\n",
      "sohail is of age: 25 \n",
      "i was bron in: 1998\n",
      "my weight is: 65.50 in kgs\n"
     ]
    }
   ],
   "source": [
    "name = input(\"name\") # always gives you string values\n",
    "place = input(\"place\")\n",
    "year_of_birth = input(\"year_of_birth\") # type conversion\n",
    "current_year = input(\"current year:\")\n",
    "age = int(current_year) - int(year_of_birth)# convert this into integer\n",
    "weight = input(\"weight\")\n",
    "print(f\"\"\"\n",
    "my name is: {name}\n",
    "i live at: {place}\n",
    "{name} is of age: {age} \n",
    "i was bron in: {year_of_birth}\n",
    "my weight is: {weight} in kgs\"\"\")"
   ]
  },
  {
   "cell_type": "code",
   "execution_count": 1,
   "id": "69cdfba7-04ba-4c75-a1eb-794c174c8b64",
   "metadata": {},
   "outputs": [],
   "source": [
    "# Memory Block"
   ]
  },
  {
   "cell_type": "code",
   "execution_count": 2,
   "id": "76a217fe-10ab-41d5-926d-03b41d45bc08",
   "metadata": {},
   "outputs": [],
   "source": [
    "a = 22\n",
    "b = 34\n",
    "c = 22"
   ]
  },
  {
   "cell_type": "code",
   "execution_count": 4,
   "id": "4576fc7f-6d0a-460f-a521-e4203c70ddaf",
   "metadata": {},
   "outputs": [
    {
     "data": {
      "text/plain": [
       "140029115155344"
      ]
     },
     "execution_count": 4,
     "metadata": {},
     "output_type": "execute_result"
    }
   ],
   "source": [
    "id(a) # memory addres"
   ]
  },
  {
   "cell_type": "code",
   "execution_count": 7,
   "id": "ed40d576-0010-47af-84c8-227eda040195",
   "metadata": {},
   "outputs": [
    {
     "data": {
      "text/plain": [
       "140029115155728"
      ]
     },
     "execution_count": 7,
     "metadata": {},
     "output_type": "execute_result"
    }
   ],
   "source": [
    "id(b)"
   ]
  },
  {
   "cell_type": "code",
   "execution_count": 9,
   "id": "bd1650a6-e2ea-4ff7-94ce-0122b52d7049",
   "metadata": {},
   "outputs": [
    {
     "data": {
      "text/plain": [
       "140029115155344"
      ]
     },
     "execution_count": 9,
     "metadata": {},
     "output_type": "execute_result"
    }
   ],
   "source": [
    "id(c)"
   ]
  },
  {
   "cell_type": "code",
   "execution_count": 11,
   "id": "cca9f408-bed1-4215-b346-dc27adf42181",
   "metadata": {},
   "outputs": [],
   "source": [
    "c = 22 + b"
   ]
  },
  {
   "cell_type": "code",
   "execution_count": 13,
   "id": "9701527c-a33e-4f14-a580-2b20b0f8a71d",
   "metadata": {},
   "outputs": [
    {
     "data": {
      "text/plain": [
       "140029115156432"
      ]
     },
     "execution_count": 13,
     "metadata": {},
     "output_type": "execute_result"
    }
   ],
   "source": [
    "id(c)"
   ]
  },
  {
   "cell_type": "code",
   "execution_count": 17,
   "id": "ad8246c3-ecce-4eee-b286-193772921ab4",
   "metadata": {},
   "outputs": [
    {
     "data": {
      "text/plain": [
       "140029115157808"
      ]
     },
     "execution_count": 17,
     "metadata": {},
     "output_type": "execute_result"
    }
   ],
   "source": [
    "a = 99 # memory is assigned to the variable passed not the variable name\n",
    "id(a)"
   ]
  },
  {
   "cell_type": "code",
   "execution_count": 19,
   "id": "1bac646c-2ccf-4b66-8a4b-a6faaec93de7",
   "metadata": {},
   "outputs": [
    {
     "name": "stdout",
     "output_type": "stream",
     "text": [
      "140029115155344\n"
     ]
    },
    {
     "data": {
      "text/plain": [
       "(None, 140029115155728, 140029115155344)"
      ]
     },
     "execution_count": 19,
     "metadata": {},
     "output_type": "execute_result"
    }
   ],
   "source": [
    "a = 22\n",
    "b = 34\n",
    "c = 22\n",
    "\n",
    "print(id(a)), (id(b)), (id(c))"
   ]
  },
  {
   "cell_type": "code",
   "execution_count": 21,
   "id": "0df5bac6-1d0c-49f8-b12e-978401c47e0c",
   "metadata": {},
   "outputs": [
    {
     "name": "stdout",
     "output_type": "stream",
     "text": [
      "140029115155344\n"
     ]
    },
    {
     "data": {
      "text/plain": [
       "(None, 140029115155728, 140029115155664)"
      ]
     },
     "execution_count": 21,
     "metadata": {},
     "output_type": "execute_result"
    }
   ],
   "source": [
    "a = 22\n",
    "b = 34\n",
    "c = 32\n",
    "\n",
    "print(id(a)), (id(b)), (id(c))"
   ]
  },
  {
   "cell_type": "code",
   "execution_count": 23,
   "id": "e11fcb92-949e-484c-9452-b37f5c449f6d",
   "metadata": {},
   "outputs": [
    {
     "name": "stdout",
     "output_type": "stream",
     "text": [
      "140029068054000\n"
     ]
    },
    {
     "data": {
      "text/plain": [
       "(None, 140029115155728, 140029068054000)"
      ]
     },
     "execution_count": 23,
     "metadata": {},
     "output_type": "execute_result"
    }
   ],
   "source": [
    "a = \"sohail\"\n",
    "b = 34\n",
    "c = \"sohail\"\n",
    "\n",
    "print(id(a)), (id(b)), (id(c))"
   ]
  },
  {
   "cell_type": "code",
   "execution_count": 25,
   "id": "129d5a65-4a2a-4672-91fb-0dc7ab61cbf7",
   "metadata": {},
   "outputs": [
    {
     "name": "stdout",
     "output_type": "stream",
     "text": [
      "140029115155344\n"
     ]
    },
    {
     "data": {
      "text/plain": [
       "(None, 140029115155728, 140029115156496)"
      ]
     },
     "execution_count": 25,
     "metadata": {},
     "output_type": "execute_result"
    }
   ],
   "source": [
    "a = 22\n",
    "b = 34\n",
    "c = 58\n",
    "\n",
    "print(id(a)), (id(b)), (id(c))"
   ]
  },
  {
   "cell_type": "code",
   "execution_count": 27,
   "id": "21a34996-0530-4226-8610-8ffe5b0bd4b9",
   "metadata": {},
   "outputs": [
    {
     "name": "stdout",
     "output_type": "stream",
     "text": [
      "140029115990064\n"
     ]
    },
    {
     "data": {
      "text/plain": [
       "(None, 140029115155728, 140029115990064)"
      ]
     },
     "execution_count": 27,
     "metadata": {},
     "output_type": "execute_result"
    }
   ],
   "source": [
    "a = \"s\"\n",
    "b = 34\n",
    "c = \"s\"\n",
    "\n",
    "print(id(a)), (id(b)), (id(c))"
   ]
  },
  {
   "cell_type": "code",
   "execution_count": 29,
   "id": "69076dcf-808b-4fe8-a51b-bb58e5bf3fd4",
   "metadata": {},
   "outputs": [
    {
     "name": "stdout",
     "output_type": "stream",
     "text": [
      "140029115155344\n"
     ]
    },
    {
     "data": {
      "text/plain": [
       "(None, 140029115155728, 140029067402768)"
      ]
     },
     "execution_count": 29,
     "metadata": {},
     "output_type": "execute_result"
    }
   ],
   "source": [
    "a = 22\n",
    "b = 34\n",
    "c = 22.0\n",
    "\n",
    "print(id(a)), (id(b)), (id(c))"
   ]
  }
 ],
 "metadata": {
  "kernelspec": {
   "display_name": "Python 3 (ipykernel)",
   "language": "python",
   "name": "python3"
  },
  "language_info": {
   "codemirror_mode": {
    "name": "ipython",
    "version": 3
   },
   "file_extension": ".py",
   "mimetype": "text/x-python",
   "name": "python",
   "nbconvert_exporter": "python",
   "pygments_lexer": "ipython3",
   "version": "3.10.6"
  }
 },
 "nbformat": 4,
 "nbformat_minor": 5
}
