{
 "cells": [
  {
   "cell_type": "code",
   "execution_count": 35,
   "id": "5c71baa3-7383-4797-9f21-cd00ffea5e32",
   "metadata": {},
   "outputs": [],
   "source": [
    "def test1(func):\n",
    "    def test2():\n",
    "        print(\"i am inside test2 \" )\n",
    "        func()\n",
    "        print(func())\n",
    "        \n",
    "        print(\"function executed \" )\n",
    "        return func()\n",
    "    return test2"
   ]
  },
  {
   "cell_type": "code",
   "execution_count": 36,
   "id": "419cf4ce-c11e-4cfe-876d-d490531e8189",
   "metadata": {},
   "outputs": [],
   "source": [
    "\n",
    "\n",
    "@test1\n",
    "def test3():\n",
    "    print(\"this is my test3\")"
   ]
  },
  {
   "cell_type": "code",
   "execution_count": 37,
   "id": "7100c737-2cef-4b2b-90e8-03d141996d24",
   "metadata": {},
   "outputs": [
    {
     "name": "stdout",
     "output_type": "stream",
     "text": [
      "i am inside test2 \n",
      "this is my test3\n",
      "this is my test3\n",
      "None\n",
      "function executed \n",
      "this is my test3\n"
     ]
    }
   ],
   "source": [
    "test3()"
   ]
  },
  {
   "cell_type": "code",
   "execution_count": 38,
   "id": "2016cd9b-8091-488a-9944-e8ee5f687a13",
   "metadata": {},
   "outputs": [
    {
     "name": "stdout",
     "output_type": "stream",
     "text": [
      "i am inside test2 \n",
      "this is my test3\n",
      "this is my test3\n",
      "None\n",
      "function executed \n",
      "this is my test3\n"
     ]
    },
    {
     "data": {
      "text/plain": [
       "<function __main__.test1.<locals>.test2()>"
      ]
     },
     "execution_count": 38,
     "metadata": {},
     "output_type": "execute_result"
    }
   ],
   "source": [
    "test1(test3())"
   ]
  },
  {
   "cell_type": "code",
   "execution_count": 46,
   "id": "914400c3-1600-40f0-aa17-2e217ce9bc3d",
   "metadata": {},
   "outputs": [],
   "source": [
    "@test1\n",
    "def test4():\n",
    "    return 5+6"
   ]
  },
  {
   "cell_type": "code",
   "execution_count": 47,
   "id": "389192d9-9003-4deb-8413-8422f0ced5f4",
   "metadata": {},
   "outputs": [
    {
     "name": "stdout",
     "output_type": "stream",
     "text": [
      "i am inside test2 \n",
      "11\n",
      "function executed \n"
     ]
    },
    {
     "data": {
      "text/plain": [
       "11"
      ]
     },
     "execution_count": 47,
     "metadata": {},
     "output_type": "execute_result"
    }
   ],
   "source": [
    "test4()"
   ]
  },
  {
   "cell_type": "code",
   "execution_count": 48,
   "id": "29b74d90-aea0-49b7-b65b-3528b21f8c78",
   "metadata": {},
   "outputs": [
    {
     "name": "stdout",
     "output_type": "stream",
     "text": [
      "i am inside test2 \n",
      "11\n",
      "function executed \n"
     ]
    },
    {
     "data": {
      "text/plain": [
       "int"
      ]
     },
     "execution_count": 48,
     "metadata": {},
     "output_type": "execute_result"
    }
   ],
   "source": [
    "type(test4())"
   ]
  },
  {
   "cell_type": "code",
   "execution_count": 50,
   "id": "476b7a57-1e63-4ded-af6f-23e100b8cbfc",
   "metadata": {},
   "outputs": [
    {
     "name": "stdout",
     "output_type": "stream",
     "text": [
      "i am inside test2 \n",
      "11\n",
      "function executed \n"
     ]
    },
    {
     "data": {
      "text/plain": [
       "67"
      ]
     },
     "execution_count": 50,
     "metadata": {},
     "output_type": "execute_result"
    }
   ],
   "source": [
    "test4() +56"
   ]
  },
  {
   "cell_type": "code",
   "execution_count": 49,
   "id": "82759929-d4e3-48ad-bf2e-8ac6b1c659be",
   "metadata": {},
   "outputs": [
    {
     "name": "stdout",
     "output_type": "stream",
     "text": [
      "i am inside test2 \n",
      "11\n",
      "function executed \n"
     ]
    }
   ],
   "source": [
    "a = test4()"
   ]
  },
  {
   "cell_type": "code",
   "execution_count": 42,
   "id": "e2bab7d4-7505-46a2-b606-7bb987fbf9e4",
   "metadata": {},
   "outputs": [
    {
     "data": {
      "text/plain": [
       "11"
      ]
     },
     "execution_count": 42,
     "metadata": {},
     "output_type": "execute_result"
    }
   ],
   "source": [
    "a"
   ]
  },
  {
   "cell_type": "code",
   "execution_count": 43,
   "id": "cf0370c4-5f71-4831-8002-d128149e3df9",
   "metadata": {},
   "outputs": [
    {
     "name": "stdout",
     "output_type": "stream",
     "text": [
      "11\n"
     ]
    }
   ],
   "source": [
    "print(a)"
   ]
  },
  {
   "cell_type": "code",
   "execution_count": 44,
   "id": "c900d1d3-bcd6-482c-95cd-7e66dc9a41d7",
   "metadata": {},
   "outputs": [
    {
     "name": "stdout",
     "output_type": "stream",
     "text": [
      "i am inside test2 \n",
      "11\n",
      "function executed \n"
     ]
    },
    {
     "data": {
      "text/plain": [
       "23"
      ]
     },
     "execution_count": 44,
     "metadata": {},
     "output_type": "execute_result"
    }
   ],
   "source": [
    "test4() + 12"
   ]
  },
  {
   "cell_type": "code",
   "execution_count": 45,
   "id": "fe324fe7-5b4e-48cf-babe-0d2788f20730",
   "metadata": {},
   "outputs": [],
   "source": [
    "def test5():\n",
    "    return 4+5"
   ]
  },
  {
   "cell_type": "code",
   "execution_count": 31,
   "id": "3a1143b3-5160-4caf-a1d9-bd4f066a1572",
   "metadata": {},
   "outputs": [
    {
     "data": {
      "text/plain": [
       "9"
      ]
     },
     "execution_count": 31,
     "metadata": {},
     "output_type": "execute_result"
    }
   ],
   "source": [
    "test5()"
   ]
  },
  {
   "cell_type": "code",
   "execution_count": 32,
   "id": "27b3422f-1901-4ba5-8793-e2153688bc68",
   "metadata": {},
   "outputs": [
    {
     "data": {
      "text/plain": [
       "int"
      ]
     },
     "execution_count": 32,
     "metadata": {},
     "output_type": "execute_result"
    }
   ],
   "source": [
    "type(test5())"
   ]
  },
  {
   "cell_type": "code",
   "execution_count": 33,
   "id": "24b7882d-8faa-4401-8fee-1c304dbd8c22",
   "metadata": {},
   "outputs": [
    {
     "data": {
      "text/plain": [
       "54"
      ]
     },
     "execution_count": 33,
     "metadata": {},
     "output_type": "execute_result"
    }
   ],
   "source": [
    "test5() + 45"
   ]
  },
  {
   "cell_type": "code",
   "execution_count": 66,
   "id": "86bf76a9-930f-4fa8-b7ef-aad16ef7432f",
   "metadata": {},
   "outputs": [],
   "source": [
    "def test6(func):\n",
    "    def test7():\n",
    "        func()\n",
    "        print(func())\n",
    "        print(\"this is my decorator function\")\n",
    "        return func()\n",
    "    return test7"
   ]
  },
  {
   "cell_type": "code",
   "execution_count": 67,
   "id": "434c71eb-d4b6-49a9-a6c8-77bb0f3e2f85",
   "metadata": {},
   "outputs": [],
   "source": [
    "def test8():\n",
    "    return 5 + 7"
   ]
  },
  {
   "cell_type": "code",
   "execution_count": 68,
   "id": "c36caf54-c0d3-4bb5-a4c2-c2706553179d",
   "metadata": {},
   "outputs": [
    {
     "data": {
      "text/plain": [
       "12"
      ]
     },
     "execution_count": 68,
     "metadata": {},
     "output_type": "execute_result"
    }
   ],
   "source": [
    "test8()"
   ]
  },
  {
   "cell_type": "code",
   "execution_count": 69,
   "id": "32fcd131-68fe-4bb4-b78d-eb76215b8070",
   "metadata": {},
   "outputs": [
    {
     "data": {
      "text/plain": [
       "24"
      ]
     },
     "execution_count": 69,
     "metadata": {},
     "output_type": "execute_result"
    }
   ],
   "source": [
    "test8() + 12"
   ]
  },
  {
   "cell_type": "code",
   "execution_count": 71,
   "id": "f22dd42d-3033-4ce8-a915-c4c06d928f75",
   "metadata": {},
   "outputs": [],
   "source": [
    "@test6\n",
    "def test8():\n",
    "    return 5 + 7"
   ]
  },
  {
   "cell_type": "code",
   "execution_count": 72,
   "id": "92368597-602c-4acb-9e96-7a44ca2ccee3",
   "metadata": {},
   "outputs": [
    {
     "name": "stdout",
     "output_type": "stream",
     "text": [
      "12\n",
      "this is my decorator function\n"
     ]
    },
    {
     "data": {
      "text/plain": [
       "12"
      ]
     },
     "execution_count": 72,
     "metadata": {},
     "output_type": "execute_result"
    }
   ],
   "source": [
    "test8()"
   ]
  },
  {
   "cell_type": "code",
   "execution_count": 73,
   "id": "0f3b5442-3b59-4fd0-a83d-4f509089574c",
   "metadata": {},
   "outputs": [
    {
     "name": "stdout",
     "output_type": "stream",
     "text": [
      "12\n",
      "this is my decorator function\n"
     ]
    },
    {
     "data": {
      "text/plain": [
       "112"
      ]
     },
     "execution_count": 73,
     "metadata": {},
     "output_type": "execute_result"
    }
   ],
   "source": [
    "test8() + 100"
   ]
  },
  {
   "cell_type": "code",
   "execution_count": 74,
   "id": "7559f59b-7d8f-4622-91ae-5e27982e38a2",
   "metadata": {},
   "outputs": [
    {
     "name": "stdout",
     "output_type": "stream",
     "text": [
      "12\n",
      "this is my decorator function\n"
     ]
    },
    {
     "data": {
      "text/plain": [
       "int"
      ]
     },
     "execution_count": 74,
     "metadata": {},
     "output_type": "execute_result"
    }
   ],
   "source": [
    "type (test8())"
   ]
  },
  {
   "cell_type": "code",
   "execution_count": 108,
   "id": "b3413264-1a71-4b59-9e67-203c6bad6de4",
   "metadata": {},
   "outputs": [],
   "source": [
    "def test6(func):\n",
    "    def test7(*args,**kwargs):\n",
    "        func(*args,**kwargs)\n",
    "        print(func(*args,**kwargs))\n",
    "        print(\"this is my decorator function\")\n",
    "        return func(*args,**kwargs)\n",
    "    return test7"
   ]
  },
  {
   "cell_type": "code",
   "execution_count": 102,
   "id": "3e34a0b7-b7cb-43ef-acd5-dd490ca68601",
   "metadata": {},
   "outputs": [],
   "source": [
    "def test8(a,b):\n",
    "    return a+b"
   ]
  },
  {
   "cell_type": "code",
   "execution_count": 103,
   "id": "e5afb3a4-2568-40a6-bbf8-96ffdd80fd16",
   "metadata": {},
   "outputs": [
    {
     "data": {
      "text/plain": [
       "'sohailanwar'"
      ]
     },
     "execution_count": 103,
     "metadata": {},
     "output_type": "execute_result"
    }
   ],
   "source": [
    "test8(\"sohail\" , \"anwar\")"
   ]
  },
  {
   "cell_type": "code",
   "execution_count": 109,
   "id": "be780a05-4e45-4c93-9524-6538cc47b3ca",
   "metadata": {},
   "outputs": [],
   "source": [
    "@test6\n",
    "def test8(a,b,c):\n",
    "    return a+b+c"
   ]
  },
  {
   "cell_type": "code",
   "execution_count": 110,
   "id": "bccc381e-03d6-4a1f-b9b3-04706d2f0e1f",
   "metadata": {},
   "outputs": [
    {
     "name": "stdout",
     "output_type": "stream",
     "text": [
      "sohailanwarraza\n",
      "this is my decorator function\n"
     ]
    },
    {
     "data": {
      "text/plain": [
       "'sohailanwarraza'"
      ]
     },
     "execution_count": 110,
     "metadata": {},
     "output_type": "execute_result"
    }
   ],
   "source": [
    "test8(\"sohail\" , \"anwar\" , \"raza\")"
   ]
  },
  {
   "cell_type": "code",
   "execution_count": 111,
   "id": "7b84eb39-0537-40ea-8575-9b773c08600c",
   "metadata": {},
   "outputs": [],
   "source": [
    "@test6\n",
    "def test9(**kwargs):\n",
    "    return kwargs\n"
   ]
  },
  {
   "cell_type": "code",
   "execution_count": 112,
   "id": "a05f6d1a-9e1d-4333-9cd7-30711d68326c",
   "metadata": {},
   "outputs": [
    {
     "name": "stdout",
     "output_type": "stream",
     "text": [
      "{'a': 89, 'b': 67}\n",
      "this is my decorator function\n"
     ]
    },
    {
     "data": {
      "text/plain": [
       "{'a': 89, 'b': 67}"
      ]
     },
     "execution_count": 112,
     "metadata": {},
     "output_type": "execute_result"
    }
   ],
   "source": [
    "test9(a = 89, b = 67)"
   ]
  },
  {
   "cell_type": "code",
   "execution_count": 113,
   "id": "a5239683-5709-4639-ae91-7e7ae20ebbae",
   "metadata": {},
   "outputs": [],
   "source": [
    "def test10(a,b):\n",
    "    return a+b"
   ]
  },
  {
   "cell_type": "code",
   "execution_count": 115,
   "id": "f5f42048-80a9-4907-8e35-7c787b7a6292",
   "metadata": {},
   "outputs": [
    {
     "data": {
      "text/plain": [
       "7"
      ]
     },
     "execution_count": 115,
     "metadata": {},
     "output_type": "execute_result"
    }
   ],
   "source": [
    "test10(3,4)"
   ]
  },
  {
   "cell_type": "code",
   "execution_count": 122,
   "id": "ae2b999e-e472-40e0-b51a-49f6aa0e50be",
   "metadata": {},
   "outputs": [
    {
     "data": {
      "text/plain": [
       "'sohail anwar'"
      ]
     },
     "execution_count": 122,
     "metadata": {},
     "output_type": "execute_result"
    }
   ],
   "source": [
    "test10(\"sohail\" , \" anwar\")"
   ]
  },
  {
   "cell_type": "code",
   "execution_count": 119,
   "id": "500009f1-b765-4ed6-9713-5ac1ea8edec6",
   "metadata": {},
   "outputs": [],
   "source": [
    "c = lambda a , b : a + b "
   ]
  },
  {
   "cell_type": "code",
   "execution_count": 118,
   "id": "3a3996cc-a787-48a0-9351-6bffda7be451",
   "metadata": {},
   "outputs": [
    {
     "data": {
      "text/plain": [
       "<function __main__.test10(a, b)>"
      ]
     },
     "execution_count": 118,
     "metadata": {},
     "output_type": "execute_result"
    }
   ],
   "source": [
    "test10"
   ]
  },
  {
   "cell_type": "code",
   "execution_count": 121,
   "id": "70d1ffe0-4ff5-4cc2-848a-f1bbeb417078",
   "metadata": {},
   "outputs": [
    {
     "data": {
      "text/plain": [
       "'sohail anwar'"
      ]
     },
     "execution_count": 121,
     "metadata": {},
     "output_type": "execute_result"
    }
   ],
   "source": [
    "c(\"sohail\" , \" anwar\")"
   ]
  },
  {
   "cell_type": "code",
   "execution_count": 123,
   "id": "7ecb1e92-8d03-442e-99a3-e79df428b297",
   "metadata": {},
   "outputs": [],
   "source": [
    "d = lambda a, b, c, d : a*b+c/d"
   ]
  },
  {
   "cell_type": "code",
   "execution_count": 124,
   "id": "d44613a3-3097-49a3-b451-f5238a88c6b7",
   "metadata": {},
   "outputs": [
    {
     "data": {
      "text/plain": [
       "12.833333333333334"
      ]
     },
     "execution_count": 124,
     "metadata": {},
     "output_type": "execute_result"
    }
   ],
   "source": [
    "d(3,4,5,6)"
   ]
  },
  {
   "cell_type": "code",
   "execution_count": 125,
   "id": "99400b94-35aa-45e6-a628-23bd6e100686",
   "metadata": {},
   "outputs": [],
   "source": [
    "e = lambda * args : args"
   ]
  },
  {
   "cell_type": "code",
   "execution_count": 126,
   "id": "8acafe2b-aeb0-4580-b105-67c9470c4f96",
   "metadata": {},
   "outputs": [
    {
     "data": {
      "text/plain": [
       "()"
      ]
     },
     "execution_count": 126,
     "metadata": {},
     "output_type": "execute_result"
    }
   ],
   "source": [
    "e()"
   ]
  },
  {
   "cell_type": "code",
   "execution_count": 127,
   "id": "f9e7ab04-7e33-49a3-9242-89025792c9c8",
   "metadata": {},
   "outputs": [
    {
     "data": {
      "text/plain": [
       "(3, 4, 5, 6)"
      ]
     },
     "execution_count": 127,
     "metadata": {},
     "output_type": "execute_result"
    }
   ],
   "source": [
    "e(3,4,5,6)"
   ]
  },
  {
   "cell_type": "code",
   "execution_count": 128,
   "id": "731bdcc6-b25b-4c02-902f-599083b13f69",
   "metadata": {},
   "outputs": [],
   "source": [
    "# map"
   ]
  },
  {
   "cell_type": "code",
   "execution_count": 131,
   "id": "3045f4c9-be51-4fc3-8887-7ae34ec14f72",
   "metadata": {},
   "outputs": [],
   "source": [
    "l = [1,2,3,4,5,6,7]\n",
    "l1 = []\n",
    "for i in l :\n",
    "    l1.append(i+10)"
   ]
  },
  {
   "cell_type": "code",
   "execution_count": 132,
   "id": "d75a19b2-6e38-4015-accb-bd448841b3ce",
   "metadata": {},
   "outputs": [
    {
     "data": {
      "text/plain": [
       "[11, 12, 13, 14, 15, 16, 17]"
      ]
     },
     "execution_count": 132,
     "metadata": {},
     "output_type": "execute_result"
    }
   ],
   "source": [
    "l1"
   ]
  },
  {
   "cell_type": "code",
   "execution_count": 134,
   "id": "464ab05b-f596-4d68-bad8-356e727e83c4",
   "metadata": {},
   "outputs": [],
   "source": [
    "def test14(a):\n",
    "    return a + 10"
   ]
  },
  {
   "cell_type": "code",
   "execution_count": 135,
   "id": "9a2581ad-eece-4bed-92ae-35290f85e3f2",
   "metadata": {},
   "outputs": [
    {
     "data": {
      "text/plain": [
       "<map at 0x7fa5d814eda0>"
      ]
     },
     "execution_count": 135,
     "metadata": {},
     "output_type": "execute_result"
    }
   ],
   "source": [
    "map(test14,l)"
   ]
  },
  {
   "cell_type": "code",
   "execution_count": 136,
   "id": "0ad15d49-2a54-4c61-916b-2710c6bd0f9e",
   "metadata": {},
   "outputs": [
    {
     "data": {
      "text/plain": [
       "[11, 12, 13, 14, 15, 16, 17]"
      ]
     },
     "execution_count": 136,
     "metadata": {},
     "output_type": "execute_result"
    }
   ],
   "source": [
    "list(map(test14,l))"
   ]
  },
  {
   "cell_type": "code",
   "execution_count": 137,
   "id": "93752116-2d6f-4b23-a3fc-dead684d3fb7",
   "metadata": {},
   "outputs": [
    {
     "data": {
      "text/plain": [
       "[11, 12, 13, 14, 15, 16, 17]"
      ]
     },
     "execution_count": 137,
     "metadata": {},
     "output_type": "execute_result"
    }
   ],
   "source": [
    "list(map(lambda a : a + 10 , l))"
   ]
  },
  {
   "cell_type": "code",
   "execution_count": 142,
   "id": "7ea2de3a-16a2-417d-bc08-5a1dcd7578ae",
   "metadata": {},
   "outputs": [],
   "source": [
    "l = [1,2,3,4,5,6,7]"
   ]
  },
  {
   "cell_type": "code",
   "execution_count": 143,
   "id": "25eda079-ead8-40e4-8705-a2993f277e56",
   "metadata": {},
   "outputs": [
    {
     "data": {
      "text/plain": [
       "[11, 12, 13, 14, 15, 16, 17]"
      ]
     },
     "execution_count": 143,
     "metadata": {},
     "output_type": "execute_result"
    }
   ],
   "source": [
    "list(map(lambda a : a + 10 , l))"
   ]
  },
  {
   "cell_type": "code",
   "execution_count": 144,
   "id": "6a3d0709-187a-41ea-8c46-deca325af3d9",
   "metadata": {},
   "outputs": [],
   "source": [
    "n = lambda a : a + 10"
   ]
  },
  {
   "cell_type": "code",
   "execution_count": 145,
   "id": "0a4d2fd6-d317-4674-8f4f-1b2420eca509",
   "metadata": {},
   "outputs": [
    {
     "data": {
      "text/plain": [
       "[11, 12, 13, 14, 15, 16, 17]"
      ]
     },
     "execution_count": 145,
     "metadata": {},
     "output_type": "execute_result"
    }
   ],
   "source": [
    "list(map(n,l))"
   ]
  },
  {
   "cell_type": "code",
   "execution_count": 146,
   "id": "c879b746-427f-4d5e-bbcb-e3b0211edfd7",
   "metadata": {},
   "outputs": [],
   "source": [
    "l = [\"sohail\" , \"anwar\" , \"ineuron\"]"
   ]
  },
  {
   "cell_type": "code",
   "execution_count": 147,
   "id": "7f1d7c2c-42eb-4d06-a7b7-db0423166936",
   "metadata": {},
   "outputs": [],
   "source": [
    "l1 = []\n",
    "for i in l :\n",
    "    l1.append(i.upper())"
   ]
  },
  {
   "cell_type": "code",
   "execution_count": 148,
   "id": "b2284d3f-793d-4f72-a387-65843197e624",
   "metadata": {},
   "outputs": [
    {
     "data": {
      "text/plain": [
       "['SOHAIL', 'ANWAR', 'INEURON']"
      ]
     },
     "execution_count": 148,
     "metadata": {},
     "output_type": "execute_result"
    }
   ],
   "source": [
    "l1"
   ]
  },
  {
   "cell_type": "code",
   "execution_count": 149,
   "id": "db9ab42d-d50c-4fa8-bd3a-aec5e9db1032",
   "metadata": {},
   "outputs": [
    {
     "data": {
      "text/plain": [
       "['SOHAIL', 'ANWAR', 'INEURON']"
      ]
     },
     "execution_count": 149,
     "metadata": {},
     "output_type": "execute_result"
    }
   ],
   "source": [
    "list(map(lambda a : a.upper() , l))"
   ]
  },
  {
   "cell_type": "code",
   "execution_count": 150,
   "id": "565a4fab-7e86-43b1-90a0-ae4fb0967bf1",
   "metadata": {},
   "outputs": [
    {
     "data": {
      "text/plain": [
       "['SOHAIL', 'ANWAR', 'INEURON']"
      ]
     },
     "execution_count": 150,
     "metadata": {},
     "output_type": "execute_result"
    }
   ],
   "source": [
    "list(map(str.upper , l))"
   ]
  },
  {
   "cell_type": "code",
   "execution_count": 154,
   "id": "0a15e559-e00d-48c3-94d8-da05876474c6",
   "metadata": {},
   "outputs": [],
   "source": [
    "def upper_string(a):\n",
    "    return a.upper()"
   ]
  },
  {
   "cell_type": "code",
   "execution_count": 155,
   "id": "9cb53fa3-8308-430b-bc00-22dfc23d20c0",
   "metadata": {},
   "outputs": [
    {
     "data": {
      "text/plain": [
       "['SOHAIL', 'ANWAR', 'INEURON']"
      ]
     },
     "execution_count": 155,
     "metadata": {},
     "output_type": "execute_result"
    }
   ],
   "source": [
    "list(map(upper_string , l))"
   ]
  },
  {
   "cell_type": "code",
   "execution_count": 156,
   "id": "0ab7bc6e-ba4a-4840-91d2-5af2a29df965",
   "metadata": {},
   "outputs": [
    {
     "data": {
      "text/plain": [
       "['sohail', 'anwar', 'ineuron']"
      ]
     },
     "execution_count": 156,
     "metadata": {},
     "output_type": "execute_result"
    }
   ],
   "source": [
    "l"
   ]
  },
  {
   "cell_type": "code",
   "execution_count": 159,
   "id": "ed7534ac-818e-4d1c-9fbd-279af2af7d1c",
   "metadata": {},
   "outputs": [
    {
     "data": {
      "text/plain": [
       "[6, 5, 7]"
      ]
     },
     "execution_count": 159,
     "metadata": {},
     "output_type": "execute_result"
    }
   ],
   "source": [
    "list(map(len,l))"
   ]
  },
  {
   "cell_type": "code",
   "execution_count": 160,
   "id": "6b2c581b-e34c-4129-96af-d2b0f286bc79",
   "metadata": {},
   "outputs": [
    {
     "data": {
      "text/plain": [
       "[6, 5, 7]"
      ]
     },
     "execution_count": 160,
     "metadata": {},
     "output_type": "execute_result"
    }
   ],
   "source": [
    "list(map(lambda a : len(a) , l))"
   ]
  },
  {
   "cell_type": "code",
   "execution_count": 161,
   "id": "d9fa18d0-2b46-489e-9167-a8db0bf456a1",
   "metadata": {},
   "outputs": [],
   "source": [
    "def test23(a):\n",
    "    return len(a)"
   ]
  },
  {
   "cell_type": "code",
   "execution_count": 162,
   "id": "9476c195-9845-4d7d-aa42-97a8c1816427",
   "metadata": {},
   "outputs": [
    {
     "data": {
      "text/plain": [
       "[6, 5, 7]"
      ]
     },
     "execution_count": 162,
     "metadata": {},
     "output_type": "execute_result"
    }
   ],
   "source": [
    "list(map(test23, l))"
   ]
  },
  {
   "cell_type": "code",
   "execution_count": 163,
   "id": "3cd5f3e4-0d19-4ffc-9cb4-926c01b222ce",
   "metadata": {},
   "outputs": [],
   "source": [
    "l = [1,2,3,4,5,6,7,8]"
   ]
  },
  {
   "cell_type": "code",
   "execution_count": 164,
   "id": "4cfd0396-2482-46fc-b4a3-375d9f249c54",
   "metadata": {},
   "outputs": [],
   "source": [
    "l1 = []\n",
    "for i in l :\n",
    "    if i % 2 == 0:\n",
    "        l1.append(i)"
   ]
  },
  {
   "cell_type": "code",
   "execution_count": 165,
   "id": "a8e23fc5-3c8b-453e-ab38-0e1ab5ad1214",
   "metadata": {},
   "outputs": [
    {
     "data": {
      "text/plain": [
       "[2, 4, 6, 8]"
      ]
     },
     "execution_count": 165,
     "metadata": {},
     "output_type": "execute_result"
    }
   ],
   "source": [
    "l1"
   ]
  },
  {
   "cell_type": "code",
   "execution_count": 172,
   "id": "a8f7049c-ca38-4c52-a5e4-60726a07fb90",
   "metadata": {},
   "outputs": [
    {
     "data": {
      "text/plain": [
       "[2, 4, 6, 8]"
      ]
     },
     "execution_count": 172,
     "metadata": {},
     "output_type": "execute_result"
    }
   ],
   "source": [
    "[i for i in l if i%2 == 0]"
   ]
  },
  {
   "cell_type": "code",
   "execution_count": 173,
   "id": "e3e23947-4f6f-44f8-9a0e-4f75ba246398",
   "metadata": {},
   "outputs": [],
   "source": [
    "def test24(a):\n",
    "    l = []\n",
    "    if type(a) == list :\n",
    "        for i in a:\n",
    "            if i%2 == 0 :\n",
    "                l.append(i)\n",
    "    return l\n",
    "                    "
   ]
  },
  {
   "cell_type": "code",
   "execution_count": 174,
   "id": "7a68e355-eea0-40a9-9931-9488fd481662",
   "metadata": {},
   "outputs": [
    {
     "data": {
      "text/plain": [
       "[2, 4, 6, 8]"
      ]
     },
     "execution_count": 174,
     "metadata": {},
     "output_type": "execute_result"
    }
   ],
   "source": [
    "test24(l)"
   ]
  },
  {
   "cell_type": "code",
   "execution_count": 175,
   "id": "f8dae207-ea19-4c1b-aab9-dfdf6adb94ea",
   "metadata": {},
   "outputs": [],
   "source": [
    "a = lambda a :a if a % 2 == 0 else None"
   ]
  },
  {
   "cell_type": "code",
   "execution_count": 178,
   "id": "50f60277-0384-4438-a89f-052f360200bf",
   "metadata": {},
   "outputs": [
    {
     "data": {
      "text/plain": [
       "[None, 2, None, 4, None, 6, None, 8]"
      ]
     },
     "execution_count": 178,
     "metadata": {},
     "output_type": "execute_result"
    }
   ],
   "source": [
    "list(map(a , l))"
   ]
  },
  {
   "cell_type": "code",
   "execution_count": 179,
   "id": "b8dea291-0547-49ff-b219-826e6ccfab92",
   "metadata": {},
   "outputs": [
    {
     "data": {
      "text/plain": [
       "[1, 2, 3, 4, 5, 6, 7, 8]"
      ]
     },
     "execution_count": 179,
     "metadata": {},
     "output_type": "execute_result"
    }
   ],
   "source": [
    "l"
   ]
  },
  {
   "cell_type": "code",
   "execution_count": 180,
   "id": "4c6071b7-d85c-4b2f-a13c-13ad8d6bded3",
   "metadata": {},
   "outputs": [
    {
     "data": {
      "text/plain": [
       "[2, 4, 6, 8]"
      ]
     },
     "execution_count": 180,
     "metadata": {},
     "output_type": "execute_result"
    }
   ],
   "source": [
    "list(filter(a , l))"
   ]
  },
  {
   "cell_type": "code",
   "execution_count": 185,
   "id": "5bc2b19f-68b4-4a9d-aca6-6f2b3fb12352",
   "metadata": {},
   "outputs": [],
   "source": [
    "def test25(a):\n",
    "    if a%2 == 0:\n",
    "        return True\n",
    "    else:\n",
    "        return False"
   ]
  },
  {
   "cell_type": "code",
   "execution_count": 186,
   "id": "44297246-5ea1-4b38-bbc7-8504b5d7c1e3",
   "metadata": {},
   "outputs": [
    {
     "data": {
      "text/plain": [
       "True"
      ]
     },
     "execution_count": 186,
     "metadata": {},
     "output_type": "execute_result"
    }
   ],
   "source": [
    "test25(32)"
   ]
  },
  {
   "cell_type": "code",
   "execution_count": 187,
   "id": "d37df497-b27a-4db9-87d8-d11a31dc6e4f",
   "metadata": {},
   "outputs": [
    {
     "data": {
      "text/plain": [
       "False"
      ]
     },
     "execution_count": 187,
     "metadata": {},
     "output_type": "execute_result"
    }
   ],
   "source": [
    "test25(35)"
   ]
  },
  {
   "cell_type": "code",
   "execution_count": 188,
   "id": "ba9716cc-29d4-4a13-87c6-c4a948c0fcfb",
   "metadata": {},
   "outputs": [
    {
     "data": {
      "text/plain": [
       "[2, 4, 6, 8]"
      ]
     },
     "execution_count": 188,
     "metadata": {},
     "output_type": "execute_result"
    }
   ],
   "source": [
    "list(filter(test25 , l))"
   ]
  },
  {
   "cell_type": "code",
   "execution_count": 189,
   "id": "b7b0a8f2-f419-4d25-aea4-b755709acf22",
   "metadata": {},
   "outputs": [
    {
     "data": {
      "text/plain": [
       "[1, 2, 3, 4, 5, 6, 7, 8]"
      ]
     },
     "execution_count": 189,
     "metadata": {},
     "output_type": "execute_result"
    }
   ],
   "source": [
    "l"
   ]
  },
  {
   "cell_type": "code",
   "execution_count": 190,
   "id": "64e9dcbe-35d3-40ec-b3c2-b68f47960bc1",
   "metadata": {},
   "outputs": [
    {
     "data": {
      "text/plain": [
       "36"
      ]
     },
     "execution_count": 190,
     "metadata": {},
     "output_type": "execute_result"
    }
   ],
   "source": [
    "sum(l)"
   ]
  },
  {
   "cell_type": "code",
   "execution_count": 191,
   "id": "60f33dba-6225-4a9b-b695-0d7cf57efa4c",
   "metadata": {},
   "outputs": [
    {
     "data": {
      "text/plain": [
       "[1, 2, 3, 4, 5, 6, 7, 8]"
      ]
     },
     "execution_count": 191,
     "metadata": {},
     "output_type": "execute_result"
    }
   ],
   "source": [
    "l"
   ]
  },
  {
   "cell_type": "code",
   "execution_count": 192,
   "id": "928740bb-1aca-4b6c-bd82-e0b4fb52f220",
   "metadata": {},
   "outputs": [],
   "source": [
    "from functools import reduce"
   ]
  },
  {
   "cell_type": "code",
   "execution_count": 193,
   "id": "82927fd4-98a5-4f5c-9ce5-36d71f0599b4",
   "metadata": {},
   "outputs": [
    {
     "data": {
      "text/plain": [
       "40320"
      ]
     },
     "execution_count": 193,
     "metadata": {},
     "output_type": "execute_result"
    }
   ],
   "source": [
    "reduce(lambda a,b : a*b , l)"
   ]
  },
  {
   "cell_type": "code",
   "execution_count": 195,
   "id": "040c5192-4724-4dbb-b1ae-e9e1536a2c7f",
   "metadata": {},
   "outputs": [
    {
     "data": {
      "text/plain": [
       "[1, 2, 3, 4, 5, 6, 7, 8]"
      ]
     },
     "execution_count": 195,
     "metadata": {},
     "output_type": "execute_result"
    }
   ],
   "source": [
    "l"
   ]
  },
  {
   "cell_type": "code",
   "execution_count": 198,
   "id": "a7d1d2ea-65bd-4323-af86-55381178e5a4",
   "metadata": {},
   "outputs": [
    {
     "data": {
      "text/plain": [
       "3"
      ]
     },
     "execution_count": 198,
     "metadata": {},
     "output_type": "execute_result"
    }
   ],
   "source": [
    "l1 = [3]\n",
    "reduce(lambda a,b : a*b , l1)"
   ]
  },
  {
   "cell_type": "code",
   "execution_count": 216,
   "id": "45b3224b-e6a0-46d5-9d74-c050fdcfef16",
   "metadata": {},
   "outputs": [],
   "source": [
    "def test26(a : int , b : \"func\" , c = 234)-> int:\n",
    "    '''this is my doc string to give a hint to next programer'''\n",
    "    return a+b+str(c)"
   ]
  },
  {
   "cell_type": "code",
   "execution_count": 217,
   "id": "2241d9a2-b87b-489b-80e1-40f23c1fb4a7",
   "metadata": {},
   "outputs": [
    {
     "data": {
      "text/plain": [
       "'sohail anwar345'"
      ]
     },
     "execution_count": 217,
     "metadata": {},
     "output_type": "execute_result"
    }
   ],
   "source": [
    "test26(\"sohail\" , \" anwar\" , 345)"
   ]
  },
  {
   "cell_type": "code",
   "execution_count": null,
   "id": "b6714109-2327-4ee0-8370-ba4aa4938ff3",
   "metadata": {},
   "outputs": [],
   "source": []
  }
 ],
 "metadata": {
  "kernelspec": {
   "display_name": "Python 3 (ipykernel)",
   "language": "python",
   "name": "python3"
  },
  "language_info": {
   "codemirror_mode": {
    "name": "ipython",
    "version": 3
   },
   "file_extension": ".py",
   "mimetype": "text/x-python",
   "name": "python",
   "nbconvert_exporter": "python",
   "pygments_lexer": "ipython3",
   "version": "3.10.6"
  }
 },
 "nbformat": 4,
 "nbformat_minor": 5
}
