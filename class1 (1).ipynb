{
 "cells": [
  {
   "cell_type": "code",
   "execution_count": 4,
   "id": "af5a14ec-e752-4d5a-b8ac-72a0cd146715",
   "metadata": {},
   "outputs": [
    {
     "name": "stdout",
     "output_type": "stream",
     "text": [
      "hello sohail\n"
     ]
    }
   ],
   "source": [
    "print(\"hello sohail\")"
   ]
  },
  {
   "cell_type": "code",
   "execution_count": 6,
   "id": "5671afdf-607f-4e73-b38a-287a29a00099",
   "metadata": {},
   "outputs": [
    {
     "name": "stdout",
     "output_type": "stream",
     "text": [
      "greeting from ineurons\n",
      "good night\n"
     ]
    }
   ],
   "source": [
    "print(\"greeting from ineurons\")\n",
    "print(\"good night\")"
   ]
  },
  {
   "cell_type": "code",
   "execution_count": 8,
   "id": "48bcfb3c-01c6-416e-bbfd-e387d919a713",
   "metadata": {},
   "outputs": [
    {
     "ename": "SyntaxError",
     "evalue": "Missing parentheses in call to 'print'. Did you mean print(...)? (577150787.py, line 1)",
     "output_type": "error",
     "traceback": [
      "\u001b[0;36m  Cell \u001b[0;32mIn [8], line 1\u001b[0;36m\u001b[0m\n\u001b[0;31m    print\"good night\"\u001b[0m\n\u001b[0m    ^\u001b[0m\n\u001b[0;31mSyntaxError\u001b[0m\u001b[0;31m:\u001b[0m Missing parentheses in call to 'print'. Did you mean print(...)?\n"
     ]
    }
   ],
   "source": [
    "print\"good night\""
   ]
  },
  {
   "cell_type": "code",
   "execution_count": 10,
   "id": "1e195c02-09b5-4cc9-bb13-5daa35e3873d",
   "metadata": {},
   "outputs": [
    {
     "ename": "SyntaxError",
     "evalue": "unterminated string literal (detected at line 1) (2018870127.py, line 1)",
     "output_type": "error",
     "traceback": [
      "\u001b[0;36m  Cell \u001b[0;32mIn [10], line 1\u001b[0;36m\u001b[0m\n\u001b[0;31m    print (\"good\u001b[0m\n\u001b[0m           ^\u001b[0m\n\u001b[0;31mSyntaxError\u001b[0m\u001b[0;31m:\u001b[0m unterminated string literal (detected at line 1)\n"
     ]
    }
   ],
   "source": [
    "print (\"good \n",
    "       night\")"
   ]
  },
  {
   "cell_type": "code",
   "execution_count": 12,
   "id": "e0ccc56a-8caf-4fe4-9be0-0f0b09c74d9c",
   "metadata": {},
   "outputs": [
    {
     "name": "stdout",
     "output_type": "stream",
     "text": [
      "good \n",
      "night\n"
     ]
    }
   ],
   "source": [
    "print(\"\"\"good \n",
    "night\"\"\")"
   ]
  },
  {
   "cell_type": "code",
   "execution_count": 15,
   "id": "46081c8d-d2db-48f2-bed7-b1ff87d4918b",
   "metadata": {},
   "outputs": [
    {
     "name": "stdout",
     "output_type": "stream",
     "text": [
      "Sepoy Mutiny\" redirects here. For other uses, see Sepoy Mutiny (disambiguation).\n",
      "Indian Rebellion of 1857\n",
      "Indian Rebellion of 1857.jpg\n",
      "A 1912 map of Northern India, showing the centres of the rebellion.\n",
      "Date\t10 May 1857 – 1 November 1858\n",
      "(1 year and 6 months)\n",
      "Location\t\n",
      "India\n",
      "Result\t\n",
      "British victory\n",
      "\n",
      "Suppression of revolt\n",
      "Formal end of the Mughal Empire\n",
      "End of Company rule in India\n",
      "Transfer of rule to the British Crown\n",
      "Territorial\n",
      "changes\tBritish Raj created out of former East India Company territory. Some land returned to native rulers, other land confiscated by the British Crown.\n",
      " \n",
      "Belligerents\n",
      "Sepoy mutineers\n",
      "Mughal Empire\n",
      "Oudh\n",
      "Forces of Rani Lakshmibai of Jhansi\n",
      "Forces of Nana Sahib Peshwa II\n",
      "Jagdishpur\n",
      "Gwalior factions\n",
      "Jodhpur factions\n",
      "Banda\n",
      "Various other Rajas, Nawabs, Zamindars, Thakurs, Chaudharys, Taluqdars, Sardars, and chieftains\n",
      "United Kingdom of Great Britain and Ireland\n",
      "Company rule in India\n",
      "Rajputana Agency\n",
      "Patiala\n",
      "Kapurthala\n",
      "Rampur\n",
      "Jodhpur\n",
      "Nabha\n",
      "Kingdom of Nepal\n",
      "Commanders and leaders\n",
      "Nana Sahib\n",
      "Bahadur Shah II  Executed\n",
      "Rani Lakshmibai †\n",
      "Tatya Tope Executed\n",
      "Bakht Khan †\n",
      "Begum Hazrat Mahal\n",
      "Kunwar Singh\n",
      "The Earl Canning\n",
      "George Anson †\n",
      "Sir Patrick Grant\n",
      "Sir Colin Campbell\n",
      "Sir Hugh Rose\n",
      "Sir Henry Havelock †\n",
      "\n",
      "Sir James Outram\n",
      "Sir Henry Lawrence †\n",
      "Sir James Neill †\n",
      "John Nicholson †\n",
      "Dhir Shamsher Rana[1]\n",
      "Randhir Singh\n",
      "Sir Yusef Ali Khan\n",
      "Casualties and losses\n",
      "6,000 British killed, including civilians[a][2]\n",
      "\n",
      "Based on a rough comparison of the sketchy pre-1857 regional demographic data and the first 1871 Census of India, probably 800,000 Indians were killed, and very likely more, both in the rebellion and in the famines and epidemics of disease that were caused as a result in its immediate aftermath.[2]\n",
      "vte\n",
      "Indian Rebellion of 1857\n",
      "Part of a series on the\n",
      "History of India\n",
      "North Gateway - Rear Side - Stupa 1 - Sanchi Hill 2013-02-21 4480-4481.JPG\n",
      "Prehistoric\n",
      "Ancient\n",
      "Classical\n",
      "Early medieval\n",
      "Late medieval\n",
      "Early modern\n",
      "Modern\n",
      "Related articles\n",
      "vte\n",
      "The Indian Rebellion of 1857 was a major uprising in India in 1857–58 against the rule of the British East India Company, which functioned as a sovereign power on behalf of the British Crown.[4][5] The rebellion began on 10 May 1857 in the form of a mutiny of sepoys of the Company's army in the garrison town of Meerut, 40 mi (64 km) northeast of Delhi. It then erupted into other mutinies and civilian rebellions chiefly in the upper Gangetic plain and central India,[b][6][c][7] though incidents of revolt also occurred farther north and east.[d][8] The rebellion posed a military threat to British power in that region,[e][9] and was contained only with the rebels' defeat in Gwalior on 20 June 1858.[10] On 1 November 1858, the British granted amnesty to all rebels not involved in murder, though they did not declare the hostilities to have formally ended until 8 July 1859. Its name is contested, and it is variously described as the Sepoy Mutiny, the Indian Mutiny, the Great Rebellion, the Revolt of 1857, the Indian Insurrection, and the First War of Independence.[f][11]\n"
     ]
    }
   ],
   "source": [
    "print(\"\"\"Sepoy Mutiny\" redirects here. For other uses, see Sepoy Mutiny (disambiguation).\n",
    "Indian Rebellion of 1857\n",
    "Indian Rebellion of 1857.jpg\n",
    "A 1912 map of Northern India, showing the centres of the rebellion.\n",
    "Date\t10 May 1857 – 1 November 1858\n",
    "(1 year and 6 months)\n",
    "Location\t\n",
    "India\n",
    "Result\t\n",
    "British victory\n",
    "\n",
    "Suppression of revolt\n",
    "Formal end of the Mughal Empire\n",
    "End of Company rule in India\n",
    "Transfer of rule to the British Crown\n",
    "Territorial\n",
    "changes\tBritish Raj created out of former East India Company territory. Some land returned to native rulers, other land confiscated by the British Crown.\n",
    " \n",
    "Belligerents\n",
    "Sepoy mutineers\n",
    "Mughal Empire\n",
    "Oudh\n",
    "Forces of Rani Lakshmibai of Jhansi\n",
    "Forces of Nana Sahib Peshwa II\n",
    "Jagdishpur\n",
    "Gwalior factions\n",
    "Jodhpur factions\n",
    "Banda\n",
    "Various other Rajas, Nawabs, Zamindars, Thakurs, Chaudharys, Taluqdars, Sardars, and chieftains\n",
    "United Kingdom of Great Britain and Ireland\n",
    "Company rule in India\n",
    "Rajputana Agency\n",
    "Patiala\n",
    "Kapurthala\n",
    "Rampur\n",
    "Jodhpur\n",
    "Nabha\n",
    "Kingdom of Nepal\n",
    "Commanders and leaders\n",
    "Nana Sahib\n",
    "Bahadur Shah II  Executed\n",
    "Rani Lakshmibai †\n",
    "Tatya Tope Executed\n",
    "Bakht Khan †\n",
    "Begum Hazrat Mahal\n",
    "Kunwar Singh\n",
    "The Earl Canning\n",
    "George Anson †\n",
    "Sir Patrick Grant\n",
    "Sir Colin Campbell\n",
    "Sir Hugh Rose\n",
    "Sir Henry Havelock †\n",
    "\n",
    "Sir James Outram\n",
    "Sir Henry Lawrence †\n",
    "Sir James Neill †\n",
    "John Nicholson †\n",
    "Dhir Shamsher Rana[1]\n",
    "Randhir Singh\n",
    "Sir Yusef Ali Khan\n",
    "Casualties and losses\n",
    "6,000 British killed, including civilians[a][2]\n",
    "\n",
    "Based on a rough comparison of the sketchy pre-1857 regional demographic data and the first 1871 Census of India, probably 800,000 Indians were killed, and very likely more, both in the rebellion and in the famines and epidemics of disease that were caused as a result in its immediate aftermath.[2]\n",
    "vte\n",
    "Indian Rebellion of 1857\n",
    "Part of a series on the\n",
    "History of India\n",
    "North Gateway - Rear Side - Stupa 1 - Sanchi Hill 2013-02-21 4480-4481.JPG\n",
    "Prehistoric\n",
    "Ancient\n",
    "Classical\n",
    "Early medieval\n",
    "Late medieval\n",
    "Early modern\n",
    "Modern\n",
    "Related articles\n",
    "vte\n",
    "The Indian Rebellion of 1857 was a major uprising in India in 1857–58 against the rule of the British East India Company, which functioned as a sovereign power on behalf of the British Crown.[4][5] The rebellion began on 10 May 1857 in the form of a mutiny of sepoys of the Company's army in the garrison town of Meerut, 40 mi (64 km) northeast of Delhi. It then erupted into other mutinies and civilian rebellions chiefly in the upper Gangetic plain and central India,[b][6][c][7] though incidents of revolt also occurred farther north and east.[d][8] The rebellion posed a military threat to British power in that region,[e][9] and was contained only with the rebels' defeat in Gwalior on 20 June 1858.[10] On 1 November 1858, the British granted amnesty to all rebels not involved in murder, though they did not declare the hostilities to have formally ended until 8 July 1859. Its name is contested, and it is variously described as the Sepoy Mutiny, the Indian Mutiny, the Great Rebellion, the Revolt of 1857, the Indian Insurrection, and the First War of Independence.[f][11]\"\"\")"
   ]
  },
  {
   "cell_type": "code",
   "execution_count": 22,
   "id": "03bcbb7d-cdc5-49e2-b1a9-6906225cc7e9",
   "metadata": {},
   "outputs": [
    {
     "name": "stdout",
     "output_type": "stream",
     "text": [
      " hi my name is \"sohail\" \n"
     ]
    }
   ],
   "source": [
    "print (' hi my name is \"sohail\" ')"
   ]
  },
  {
   "cell_type": "code",
   "execution_count": 23,
   "id": "87c67bbd-8e36-4b5b-906c-52e959a5a24d",
   "metadata": {},
   "outputs": [
    {
     "name": "stdout",
     "output_type": "stream",
     "text": [
      "hi my name is \"sohail\" \n"
     ]
    }
   ],
   "source": [
    "print(\"hi my name is \\\"sohail\\\" \")"
   ]
  },
  {
   "cell_type": "code",
   "execution_count": 21,
   "id": "ebc4d54a-7e21-492c-a6e6-615bfc08d6b1",
   "metadata": {},
   "outputs": [
    {
     "data": {
      "text/plain": [
       "'\\n say hi\\n all of you\\n '"
      ]
     },
     "execution_count": 21,
     "metadata": {},
     "output_type": "execute_result"
    }
   ],
   "source": [
    "# multi line comment\n",
    "\"\"\"\n",
    " say hi\n",
    " all of you\n",
    " \"\"\""
   ]
  },
  {
   "cell_type": "code",
   "execution_count": 25,
   "id": "fc000c1d-e876-4064-99ed-3465a823e905",
   "metadata": {},
   "outputs": [
    {
     "data": {
      "text/plain": [
       "575"
      ]
     },
     "execution_count": 25,
     "metadata": {},
     "output_type": "execute_result"
    }
   ],
   "source": [
    "# variable \n",
    "123+452 #sum of nos"
   ]
  },
  {
   "cell_type": "code",
   "execution_count": 27,
   "id": "e21cf8f7-f399-45a1-9f20-030fe89ba3a8",
   "metadata": {},
   "outputs": [
    {
     "data": {
      "text/plain": [
       "0.2338403041825095"
      ]
     },
     "execution_count": 27,
     "metadata": {},
     "output_type": "execute_result"
    }
   ],
   "source": [
    "123/526"
   ]
  },
  {
   "cell_type": "code",
   "execution_count": 29,
   "id": "d65a5906-4a2e-4045-b05f-590491c5fde8",
   "metadata": {},
   "outputs": [
    {
     "data": {
      "text/plain": [
       "313854"
      ]
     },
     "execution_count": 29,
     "metadata": {},
     "output_type": "execute_result"
    }
   ],
   "source": [
    "543*578"
   ]
  },
  {
   "cell_type": "code",
   "execution_count": 31,
   "id": "01ac9770-41b7-437d-a857-e0b286f1ec1b",
   "metadata": {},
   "outputs": [
    {
     "data": {
      "text/plain": [
       "15129"
      ]
     },
     "execution_count": 31,
     "metadata": {},
     "output_type": "execute_result"
    }
   ],
   "source": [
    "123**2 # power of 123 raised to 2"
   ]
  },
  {
   "cell_type": "code",
   "execution_count": 33,
   "id": "f5feabbe-6690-4c3c-85d4-a9e4184a53ce",
   "metadata": {},
   "outputs": [
    {
     "data": {
      "text/plain": [
       "1"
      ]
     },
     "execution_count": 33,
     "metadata": {},
     "output_type": "execute_result"
    }
   ],
   "source": [
    "123%2  # modulo operater which gives reminder"
   ]
  },
  {
   "cell_type": "code",
   "execution_count": 34,
   "id": "17dab319-56fe-4caf-a42f-28620ca0988d",
   "metadata": {},
   "outputs": [
    {
     "data": {
      "text/plain": [
       "0"
      ]
     },
     "execution_count": 34,
     "metadata": {},
     "output_type": "execute_result"
    }
   ],
   "source": [
    "122%2"
   ]
  },
  {
   "cell_type": "code",
   "execution_count": 35,
   "id": "f8e2c2a8-260b-44de-8e5b-4982f0098b4d",
   "metadata": {},
   "outputs": [
    {
     "data": {
      "text/plain": [
       "1"
      ]
     },
     "execution_count": 35,
     "metadata": {},
     "output_type": "execute_result"
    }
   ],
   "source": [
    "145%2"
   ]
  },
  {
   "cell_type": "code",
   "execution_count": 37,
   "id": "baa02bec-dbd5-49a0-9149-a1937c0f45f5",
   "metadata": {},
   "outputs": [
    {
     "name": "stdout",
     "output_type": "stream",
     "text": [
      "481\n"
     ]
    }
   ],
   "source": [
    " a = 123\n",
    " b = 358\n",
    "print(a+b)"
   ]
  },
  {
   "cell_type": "code",
   "execution_count": 40,
   "id": "6372b505-5e6e-44e5-b44d-cbd84b63c69f",
   "metadata": {},
   "outputs": [
    {
     "name": "stdout",
     "output_type": "stream",
     "text": [
      "1235\n"
     ]
    }
   ],
   "source": [
    "print(546+689)"
   ]
  },
  {
   "cell_type": "code",
   "execution_count": 42,
   "id": "506992ec-e082-44c2-99bc-a00c8d71987f",
   "metadata": {},
   "outputs": [],
   "source": [
    "# variables in python"
   ]
  },
  {
   "cell_type": "code",
   "execution_count": 50,
   "id": "4253b2b0-a0a7-43b8-99c8-04aade874b9a",
   "metadata": {},
   "outputs": [],
   "source": [
    "x = 10"
   ]
  },
  {
   "cell_type": "code",
   "execution_count": 54,
   "id": "50b9c68b-1b90-421b-b347-330112713661",
   "metadata": {},
   "outputs": [
    {
     "name": "stdout",
     "output_type": "stream",
     "text": [
      "10\n"
     ]
    }
   ],
   "source": [
    "print(x)"
   ]
  },
  {
   "cell_type": "code",
   "execution_count": 57,
   "id": "e6e9687c-46e4-4a5e-8eab-60b6a48872ff",
   "metadata": {},
   "outputs": [],
   "source": [
    "y = 30"
   ]
  },
  {
   "cell_type": "code",
   "execution_count": 59,
   "id": "0e533166-df39-483f-8083-54c9da4e28e7",
   "metadata": {},
   "outputs": [
    {
     "name": "stdout",
     "output_type": "stream",
     "text": [
      "30\n"
     ]
    }
   ],
   "source": [
    "print(y)"
   ]
  },
  {
   "cell_type": "code",
   "execution_count": 61,
   "id": "69a34aa0-a796-465b-a182-21897cc84bbc",
   "metadata": {},
   "outputs": [
    {
     "name": "stdout",
     "output_type": "stream",
     "text": [
      "300\n"
     ]
    }
   ],
   "source": [
    "print(x*y)"
   ]
  },
  {
   "cell_type": "code",
   "execution_count": 63,
   "id": "1451fbc6-d30e-4d38-b2d2-f4a217bf4303",
   "metadata": {},
   "outputs": [
    {
     "name": "stdout",
     "output_type": "stream",
     "text": [
      "0.3333333333333333\n"
     ]
    }
   ],
   "source": [
    "print(x/y)"
   ]
  },
  {
   "cell_type": "code",
   "execution_count": 68,
   "id": "46df6e09-25af-4ca2-8925-bd0892d01ce3",
   "metadata": {},
   "outputs": [
    {
     "ename": "SyntaxError",
     "evalue": "cannot assign to expression here. Maybe you meant '==' instead of '='? (3662852132.py, line 3)",
     "output_type": "error",
     "traceback": [
      "\u001b[0;36m  Cell \u001b[0;32mIn [68], line 3\u001b[0;36m\u001b[0m\n\u001b[0;31m    ten%number = 10\u001b[0m\n\u001b[0m    ^\u001b[0m\n\u001b[0;31mSyntaxError\u001b[0m\u001b[0;31m:\u001b[0m cannot assign to expression here. Maybe you meant '==' instead of '='?\n"
     ]
    }
   ],
   "source": [
    "ten = 10   # variable name should not cotain any special character like ' % ! @ # $ & * ()\n",
    "ten_number = 10\n",
    "ten%number = 10\n",
    "tennumber = 10"
   ]
  },
  {
   "cell_type": "code",
   "execution_count": 69,
   "id": "10deb8f6-f891-4062-ae5e-130636b3e4c1",
   "metadata": {},
   "outputs": [
    {
     "ename": "SyntaxError",
     "evalue": "cannot assign to expression here. Maybe you meant '==' instead of '='? (1559910169.py, line 1)",
     "output_type": "error",
     "traceback": [
      "\u001b[0;36m  Cell \u001b[0;32mIn [69], line 1\u001b[0;36m\u001b[0m\n\u001b[0;31m    ten%number = 10\u001b[0m\n\u001b[0m    ^\u001b[0m\n\u001b[0;31mSyntaxError\u001b[0m\u001b[0;31m:\u001b[0m cannot assign to expression here. Maybe you meant '==' instead of '='?\n"
     ]
    }
   ],
   "source": [
    "ten%number = 10"
   ]
  },
  {
   "cell_type": "code",
   "execution_count": 71,
   "id": "c0cbe09e-e484-4fe2-8362-38d3f31f4c8a",
   "metadata": {},
   "outputs": [],
   "source": [
    "ten = 10\n",
    "ten_number = 10\n",
    "tennumber = 10"
   ]
  },
  {
   "cell_type": "code",
   "execution_count": 72,
   "id": "d70db8c9-bd4f-4600-93db-1e2c6aebb7de",
   "metadata": {},
   "outputs": [],
   "source": [
    " # 3 variable names can contain no but you can't start with numbers\n",
    "    "
   ]
  },
  {
   "cell_type": "code",
   "execution_count": 74,
   "id": "4de6b37e-4f45-4d14-9e2f-6f03dd70caad",
   "metadata": {},
   "outputs": [],
   "source": [
    "ten = 10"
   ]
  },
  {
   "cell_type": "code",
   "execution_count": 76,
   "id": "c800a389-577b-44ff-8018-5a68bc9139a8",
   "metadata": {},
   "outputs": [],
   "source": [
    "ten10 = 10"
   ]
  },
  {
   "cell_type": "code",
   "execution_count": 78,
   "id": "ad86132e-56a1-4b2c-97e2-9a806ea5a09d",
   "metadata": {},
   "outputs": [
    {
     "ename": "SyntaxError",
     "evalue": "invalid decimal literal (3011706180.py, line 1)",
     "output_type": "error",
     "traceback": [
      "\u001b[0;36m  Cell \u001b[0;32mIn [78], line 1\u001b[0;36m\u001b[0m\n\u001b[0;31m    10ten = 10\u001b[0m\n\u001b[0m     ^\u001b[0m\n\u001b[0;31mSyntaxError\u001b[0m\u001b[0;31m:\u001b[0m invalid decimal literal\n"
     ]
    }
   ],
   "source": [
    "10ten = 10"
   ]
  },
  {
   "cell_type": "code",
   "execution_count": 81,
   "id": "8c74bdf9-e6e1-42e8-b048-485134e01a8f",
   "metadata": {},
   "outputs": [],
   "source": [
    "_num =10"
   ]
  },
  {
   "cell_type": "code",
   "execution_count": 85,
   "id": "51ccf104-08f4-4b36-87fa-47758eee42b6",
   "metadata": {},
   "outputs": [],
   "source": [
    "ten_number = 10"
   ]
  },
  {
   "cell_type": "code",
   "execution_count": 1,
   "id": "9e090f0d-3d2c-41d6-aa0f-61f15ec16898",
   "metadata": {},
   "outputs": [],
   "source": [
    "a = 7"
   ]
  },
  {
   "cell_type": "code",
   "execution_count": 7,
   "id": "66135795-4484-4143-9160-319755be1d9d",
   "metadata": {},
   "outputs": [
    {
     "data": {
      "text/plain": [
       "int"
      ]
     },
     "execution_count": 7,
     "metadata": {},
     "output_type": "execute_result"
    }
   ],
   "source": [
    "type(a)"
   ]
  },
  {
   "cell_type": "code",
   "execution_count": 8,
   "id": "fed92c3e-df03-4647-83e7-abb985de018d",
   "metadata": {},
   "outputs": [],
   "source": [
    "## floats numbers containing numbers"
   ]
  },
  {
   "cell_type": "code",
   "execution_count": 9,
   "id": "5959be7b-d893-4642-b57b-0ae79b37428b",
   "metadata": {},
   "outputs": [],
   "source": [
    "pi = 3.14"
   ]
  },
  {
   "cell_type": "code",
   "execution_count": 11,
   "id": "e1c14b8b-63d7-4bee-930f-0592a1e59221",
   "metadata": {},
   "outputs": [
    {
     "data": {
      "text/plain": [
       "float"
      ]
     },
     "execution_count": 11,
     "metadata": {},
     "output_type": "execute_result"
    }
   ],
   "source": [
    "type(pi)"
   ]
  },
  {
   "cell_type": "code",
   "execution_count": 12,
   "id": "e7642c13-eb09-4474-8967-501e7b23142b",
   "metadata": {},
   "outputs": [],
   "source": [
    "x = 2.0"
   ]
  },
  {
   "cell_type": "code",
   "execution_count": 15,
   "id": "8f7d5dc1-2c6d-4cfb-8513-51c90fe3388c",
   "metadata": {},
   "outputs": [
    {
     "data": {
      "text/plain": [
       "float"
      ]
     },
     "execution_count": 15,
     "metadata": {},
     "output_type": "execute_result"
    }
   ],
   "source": [
    "type(x)"
   ]
  },
  {
   "cell_type": "code",
   "execution_count": 24,
   "id": "cfcc3618-5ab7-4aa8-a8d0-cb224fdf54ec",
   "metadata": {},
   "outputs": [
    {
     "data": {
      "text/plain": [
       "3.142857142857143"
      ]
     },
     "execution_count": 24,
     "metadata": {},
     "output_type": "execute_result"
    }
   ],
   "source": [
    "pi = 22/7\n",
    "type(pi)\n",
    "pi"
   ]
  },
  {
   "cell_type": "code",
   "execution_count": 26,
   "id": "3627d238-359f-4ab2-bb9c-4898bd480640",
   "metadata": {},
   "outputs": [],
   "source": [
    "# complex numbers"
   ]
  },
  {
   "cell_type": "code",
   "execution_count": 29,
   "id": "fa2f85ef-a4d2-4144-8931-bbc1824eff99",
   "metadata": {},
   "outputs": [],
   "source": [
    "a = 2+3j"
   ]
  },
  {
   "cell_type": "code",
   "execution_count": 31,
   "id": "7f1aee5a-1d10-43db-b908-c2f54d5f2dac",
   "metadata": {},
   "outputs": [
    {
     "name": "stdout",
     "output_type": "stream",
     "text": [
      "(2+3j)\n"
     ]
    }
   ],
   "source": [
    "print(a)"
   ]
  },
  {
   "cell_type": "code",
   "execution_count": 33,
   "id": "34910303-3776-424e-8266-ec5126b91ee0",
   "metadata": {},
   "outputs": [
    {
     "data": {
      "text/plain": [
       "2.0"
      ]
     },
     "execution_count": 33,
     "metadata": {},
     "output_type": "execute_result"
    }
   ],
   "source": [
    "a.real"
   ]
  },
  {
   "cell_type": "code",
   "execution_count": 36,
   "id": "30a6f066-4392-4ea3-8715-ecc1aa9e6534",
   "metadata": {},
   "outputs": [
    {
     "data": {
      "text/plain": [
       "3.0"
      ]
     },
     "execution_count": 36,
     "metadata": {},
     "output_type": "execute_result"
    }
   ],
   "source": [
    "a.imag"
   ]
  },
  {
   "cell_type": "code",
   "execution_count": 37,
   "id": "9434459d-0073-414c-a1a7-a396790f08aa",
   "metadata": {},
   "outputs": [],
   "source": [
    "### dynamic typing"
   ]
  },
  {
   "cell_type": "code",
   "execution_count": 42,
   "id": "dc48d3bc-0d5d-44c8-b6c1-60589c622873",
   "metadata": {},
   "outputs": [
    {
     "name": "stdout",
     "output_type": "stream",
     "text": [
      "<class 'int'>\n",
      "<class 'float'>\n",
      "<class 'str'>\n"
     ]
    }
   ],
   "source": [
    "a = 22 \n",
    "print(type(a))\n",
    "a = 22.2\n",
    "print(type(a))\n",
    "a = \"sohail\"\n",
    "print(type(a))"
   ]
  },
  {
   "cell_type": "code",
   "execution_count": 44,
   "id": "b40af2a4-1d53-43f4-9210-b004dbf67b3d",
   "metadata": {},
   "outputs": [
    {
     "name": "stdout",
     "output_type": "stream",
     "text": [
      "sohail\n"
     ]
    }
   ],
   "source": [
    "print(a)"
   ]
  },
  {
   "cell_type": "code",
   "execution_count": 45,
   "id": "5d5c7f3c-cc43-4caf-a80f-c4bed2748114",
   "metadata": {},
   "outputs": [],
   "source": [
    "# strong typing"
   ]
  },
  {
   "cell_type": "code",
   "execution_count": 47,
   "id": "b14692c6-dcb1-48dd-8ac1-ef3163e4976f",
   "metadata": {},
   "outputs": [
    {
     "ename": "TypeError",
     "evalue": "can only concatenate str (not \"int\") to str",
     "output_type": "error",
     "traceback": [
      "\u001b[0;31m---------------------------------------------------------------------------\u001b[0m",
      "\u001b[0;31mTypeError\u001b[0m                                 Traceback (most recent call last)",
      "Cell \u001b[0;32mIn [47], line 1\u001b[0m\n\u001b[0;32m----> 1\u001b[0m \u001b[38;5;124;43m\"\u001b[39;49m\u001b[38;5;124;43mday\u001b[39;49m\u001b[38;5;124;43m\"\u001b[39;49m\u001b[43m \u001b[49m\u001b[38;5;241;43m+\u001b[39;49m\u001b[43m \u001b[49m\u001b[38;5;241;43m1\u001b[39;49m\n",
      "\u001b[0;31mTypeError\u001b[0m: can only concatenate str (not \"int\") to str"
     ]
    }
   ],
   "source": [
    "\"day\" + 1"
   ]
  },
  {
   "cell_type": "code",
   "execution_count": 50,
   "id": "d3446649-d518-4692-a4e7-67dd1c98913f",
   "metadata": {},
   "outputs": [
    {
     "data": {
      "text/plain": [
       "'day1'"
      ]
     },
     "execution_count": 50,
     "metadata": {},
     "output_type": "execute_result"
    }
   ],
   "source": [
    "\"day\" + \"1\""
   ]
  },
  {
   "cell_type": "code",
   "execution_count": 52,
   "id": "05cf8ae8-aa56-40ab-b239-388be2392493",
   "metadata": {},
   "outputs": [
    {
     "data": {
      "text/plain": [
       "'2222'"
      ]
     },
     "execution_count": 52,
     "metadata": {},
     "output_type": "execute_result"
    }
   ],
   "source": [
    "\"22\"  + \"22\""
   ]
  },
  {
   "cell_type": "code",
   "execution_count": 60,
   "id": "ad2f22b4-6bf8-4b64-8743-49bbb84f2aee",
   "metadata": {},
   "outputs": [
    {
     "data": {
      "text/plain": [
       "'sohailanwarraza'"
      ]
     },
     "execution_count": 60,
     "metadata": {},
     "output_type": "execute_result"
    }
   ],
   "source": [
    "\"sohail\" + \"anwar\" + \"raza\""
   ]
  },
  {
   "cell_type": "code",
   "execution_count": 61,
   "id": "e6603e49-3e81-4b1d-8d59-f33597c88e77",
   "metadata": {},
   "outputs": [],
   "source": [
    "a = 1 # int data type\n",
    "b = 1.2 # float data type\n",
    "c = \"sohail\" # string data type\n",
    "f = 1 + 2j # complex data type # rarely used"
   ]
  },
  {
   "cell_type": "code",
   "execution_count": 63,
   "id": "a1e7a939-83af-4c22-b923-24f18c3d3ba4",
   "metadata": {},
   "outputs": [
    {
     "name": "stdout",
     "output_type": "stream",
     "text": [
      "hi welcome to class of python\n"
     ]
    }
   ],
   "source": [
    "print(\"hi welcome to class of python\")"
   ]
  },
  {
   "cell_type": "code",
   "execution_count": 67,
   "id": "cdbfa374-0381-4ebb-9ba6-017ccd217e7f",
   "metadata": {},
   "outputs": [
    {
     "name": "stdout",
     "output_type": "stream",
     "text": [
      "hi welcome to class of java script language \n"
     ]
    }
   ],
   "source": [
    "language = \"java script\"\n",
    "print(\"hi welcome to class of \" + language + \" language \")"
   ]
  },
  {
   "cell_type": "code",
   "execution_count": 69,
   "id": "05e8aebc-a66e-4589-82b0-7d66d55f654b",
   "metadata": {},
   "outputs": [
    {
     "name": "stdout",
     "output_type": "stream",
     "text": [
      "hi welcome to class of phython language \n"
     ]
    }
   ],
   "source": [
    "language = \"phython\" # this is allowed but rarely used\n",
    "print(\"hi welcome to class of \" + language + \" language \")"
   ]
  },
  {
   "cell_type": "code",
   "execution_count": 75,
   "id": "22891713-d8f5-4e80-a600-1e2b7baa4f42",
   "metadata": {},
   "outputs": [
    {
     "name": "stdout",
     "output_type": "stream",
     "text": [
      "hi welcome to class of  java script  language \n"
     ]
    }
   ],
   "source": [
    "# f-> formatted string method\n",
    "language = \"java script\"  \n",
    "print(f\"hi welcome to class of  {language}  language \") # current standard approach used in python"
   ]
  },
  {
   "cell_type": "code",
   "execution_count": 76,
   "id": "6e1de628-f92d-435c-bc23-12f9f6c962b4",
   "metadata": {},
   "outputs": [
    {
     "name": "stdout",
     "output_type": "stream",
     "text": [
      "hi welcome to class of  java script  language\n"
     ]
    }
   ],
   "source": [
    "language = \"java script\"  \n",
    "print(\"hi welcome to class of  {}  language\".format(language)) # old way "
   ]
  },
  {
   "cell_type": "code",
   "execution_count": 79,
   "id": "ec338881-6dbe-4e39-b2fe-38fac16abbfd",
   "metadata": {},
   "outputs": [
    {
     "name": "stdout",
     "output_type": "stream",
     "text": [
      "the result sum of two nums a: 22 and b: 35 is = 57\n"
     ]
    }
   ],
   "source": [
    "a = 22\n",
    "b = 35\n",
    "c = a + b\n",
    "print(f\"the result sum of two nums a: {a} and b: {b} is = {c}\")"
   ]
  },
  {
   "cell_type": "code",
   "execution_count": 80,
   "id": "4a2ba2d0-5ae4-4258-9c4a-7be842fbc0e2",
   "metadata": {},
   "outputs": [],
   "source": [
    "## boolean\n",
    " # true and flase"
   ]
  },
  {
   "cell_type": "code",
   "execution_count": null,
   "id": "baa57bf2-c8ef-4da5-84d0-20daf6ad8eec",
   "metadata": {},
   "outputs": [],
   "source": [
    "one = True\n"
   ]
  },
  {
   "cell_type": "raw",
   "id": "b7e7c90f-75d7-4db4-b794-2902acc2f64e",
   "metadata": {},
   "source": [
    "one = True \n",
    "two = False\n",
    "print(type(one))\n",
    "print(type(two))"
   ]
  },
  {
   "cell_type": "code",
   "execution_count": 87,
   "id": "9e4e8eea-156f-43ec-b811-a36a9e341a10",
   "metadata": {},
   "outputs": [
    {
     "name": "stdout",
     "output_type": "stream",
     "text": [
      "<class 'bool'>\n",
      "<class 'bool'>\n"
     ]
    }
   ],
   "source": [
    "one = True \n",
    "two = False\n",
    "print(type(one))\n",
    "print(type(two))"
   ]
  },
  {
   "cell_type": "code",
   "execution_count": 92,
   "id": "933d8353-d73b-48a0-a0a6-e1db1f245cab",
   "metadata": {},
   "outputs": [
    {
     "name": "stdout",
     "output_type": "stream",
     "text": [
      "you understood everything?: True \n"
     ]
    }
   ],
   "source": [
    "class_starts_at = 3\n",
    "you_came_at = 2\n",
    "you_understood_all_concepts = you_came_at < class_starts_at\n",
    "\n",
    "print(f\"you understood everything?: {you_understood_all_concepts} \")"
   ]
  },
  {
   "cell_type": "code",
   "execution_count": null,
   "id": "7f7d3937-4d68-46eb-9176-e411473c432a",
   "metadata": {},
   "outputs": [],
   "source": []
  },
  {
   "cell_type": "raw",
   "id": "66f6e7bf-35d0-4333-81d8-31f40ea1216b",
   "metadata": {},
   "source": [
    "class_starts_at = 3\n",
    "you_came_at = 4 \n",
    "you_understood_all_concepts = you_came_at < class_starts_at\n",
    "\n",
    "print(f\"you understood everything?: {you_understood_all_concepts} \")"
   ]
  },
  {
   "cell_type": "code",
   "execution_count": 95,
   "id": "8341d5e6-f0c9-42b6-8783-8f073486713c",
   "metadata": {},
   "outputs": [
    {
     "name": "stdout",
     "output_type": "stream",
     "text": [
      "you understood everything?: False \n"
     ]
    }
   ],
   "source": [
    "class_starts_at = 3\n",
    "you_came_at = 4 \n",
    "you_understood_all_concepts = you_came_at < class_starts_at\n",
    "\n",
    "print(f\"you understood everything?: {you_understood_all_concepts} \")"
   ]
  },
  {
   "cell_type": "code",
   "execution_count": null,
   "id": "a4dd982a-ee33-4e14-9064-883d95e5ee75",
   "metadata": {},
   "outputs": [],
   "source": []
  }
 ],
 "metadata": {
  "kernelspec": {
   "display_name": "Python 3 (ipykernel)",
   "language": "python",
   "name": "python3"
  },
  "language_info": {
   "codemirror_mode": {
    "name": "ipython",
    "version": 3
   },
   "file_extension": ".py",
   "mimetype": "text/x-python",
   "name": "python",
   "nbconvert_exporter": "python",
   "pygments_lexer": "ipython3",
   "version": "3.10.6"
  }
 },
 "nbformat": 4,
 "nbformat_minor": 5
}
