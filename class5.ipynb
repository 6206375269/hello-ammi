{
 "cells": [
  {
   "cell_type": "code",
   "execution_count": 1,
   "id": "5e74ca26-56a9-42c9-95b6-b7aa6aa1289c",
   "metadata": {},
   "outputs": [],
   "source": [
    "# mutability\n",
    "### mutable means subject to change or which can be changed "
   ]
  },
  {
   "cell_type": "code",
   "execution_count": 2,
   "id": "9d8813ac-7de5-420a-a573-11ad91e939d1",
   "metadata": {},
   "outputs": [
    {
     "ename": "TypeError",
     "evalue": "'str' object does not support item assignment",
     "output_type": "error",
     "traceback": [
      "\u001b[0;31m---------------------------------------------------------------------------\u001b[0m",
      "\u001b[0;31mTypeError\u001b[0m                                 Traceback (most recent call last)",
      "Cell \u001b[0;32mIn [2], line 5\u001b[0m\n\u001b[1;32m      1\u001b[0m name \u001b[38;5;241m=\u001b[39m \u001b[38;5;124m\"\u001b[39m\u001b[38;5;124msohail\u001b[39m\u001b[38;5;124m\"\u001b[39m\n\u001b[1;32m      3\u001b[0m \u001b[38;5;66;03m# Replace S with F?\u001b[39;00m\n\u001b[0;32m----> 5\u001b[0m \u001b[43mname\u001b[49m\u001b[43m[\u001b[49m\u001b[38;5;241;43m0\u001b[39;49m\u001b[43m]\u001b[49m \u001b[38;5;241m=\u001b[39m \u001b[38;5;124m\"\u001b[39m\u001b[38;5;124mF\u001b[39m\u001b[38;5;124m\"\u001b[39m\n",
      "\u001b[0;31mTypeError\u001b[0m: 'str' object does not support item assignment"
     ]
    }
   ],
   "source": [
    "name = \"sohail\"\n",
    "\n",
    "# Replace S with F?\n",
    "\n",
    "name[0] = \"F\""
   ]
  },
  {
   "cell_type": "code",
   "execution_count": 3,
   "id": "cd78b453-d414-4387-91f9-682c94900b16",
   "metadata": {},
   "outputs": [
    {
     "ename": "TypeError",
     "evalue": "'str' object does not support item assignment",
     "output_type": "error",
     "traceback": [
      "\u001b[0;31m---------------------------------------------------------------------------\u001b[0m",
      "\u001b[0;31mTypeError\u001b[0m                                 Traceback (most recent call last)",
      "Cell \u001b[0;32mIn [3], line 5\u001b[0m\n\u001b[1;32m      1\u001b[0m name \u001b[38;5;241m=\u001b[39m \u001b[38;5;124m\"\u001b[39m\u001b[38;5;124msohail\u001b[39m\u001b[38;5;124m\"\u001b[39m\n\u001b[1;32m      3\u001b[0m \u001b[38;5;66;03m# Replace S with F?\u001b[39;00m\n\u001b[0;32m----> 5\u001b[0m \u001b[43mname\u001b[49m\u001b[43m[\u001b[49m\u001b[38;5;241;43m0\u001b[39;49m\u001b[43m]\u001b[49m \u001b[38;5;241m=\u001b[39m \u001b[38;5;124m\"\u001b[39m\u001b[38;5;124mf\u001b[39m\u001b[38;5;124m\"\u001b[39m\n",
      "\u001b[0;31mTypeError\u001b[0m: 'str' object does not support item assignment"
     ]
    }
   ],
   "source": [
    "name = \"sohail\"\n",
    " ### mutable means subject to change or which can be changed \n",
    "# Replace S with F?\n",
    "\n",
    "name[0] = \"f\" # immutability # string"
   ]
  },
  {
   "cell_type": "code",
   "execution_count": 5,
   "id": "4c569ac6-f8fc-4a46-8ebe-6973499ef3fe",
   "metadata": {},
   "outputs": [
    {
     "data": {
      "text/plain": [
       "'Fohail'"
      ]
     },
     "execution_count": 5,
     "metadata": {},
     "output_type": "execute_result"
    }
   ],
   "source": [
    "\"F\" + name [1:]"
   ]
  },
  {
   "cell_type": "code",
   "execution_count": 7,
   "id": "0834e49e-dc73-4130-bdff-02bf75e9705d",
   "metadata": {},
   "outputs": [
    {
     "data": {
      "text/plain": [
       "'Fohail'"
      ]
     },
     "execution_count": 7,
     "metadata": {},
     "output_type": "execute_result"
    }
   ],
   "source": [
    "name = \"F\" + name [1:]\n",
    "\n",
    "name\n"
   ]
  },
  {
   "cell_type": "code",
   "execution_count": 13,
   "id": "a98cb4fc-053d-4d25-b6f3-dc1281b71d00",
   "metadata": {},
   "outputs": [
    {
     "data": {
      "text/plain": [
       "'Fohail'"
      ]
     },
     "execution_count": 13,
     "metadata": {},
     "output_type": "execute_result"
    }
   ],
   "source": [
    "name.replace(\"Y\", \"YYY\")\n"
   ]
  },
  {
   "cell_type": "code",
   "execution_count": 11,
   "id": "bcb600e4-ebdd-4403-b93d-42e05aa2d43a",
   "metadata": {},
   "outputs": [
    {
     "data": {
      "text/plain": [
       "'Fohail'"
      ]
     },
     "execution_count": 11,
     "metadata": {},
     "output_type": "execute_result"
    }
   ],
   "source": [
    "name = name.replace(\"y\", \"yyy\")\n",
    "name"
   ]
  },
  {
   "cell_type": "code",
   "execution_count": 17,
   "id": "737f9bfa-b74d-4942-bb18-b1d081fca987",
   "metadata": {},
   "outputs": [
    {
     "data": {
      "text/plain": [
       "'SOHAIL ANWAR RAZA'"
      ]
     },
     "execution_count": 17,
     "metadata": {},
     "output_type": "execute_result"
    }
   ],
   "source": [
    "name = \"sohail ANWAR RAZA\"\n",
    "\n",
    "name.replace(\"sohail\", \"SOHAIL\")"
   ]
  },
  {
   "cell_type": "code",
   "execution_count": 15,
   "id": "127fd123-b63b-44cd-aa87-65078e588842",
   "metadata": {},
   "outputs": [
    {
     "data": {
      "text/plain": [
       "'sohail ANWAR RAZA'"
      ]
     },
     "execution_count": 15,
     "metadata": {},
     "output_type": "execute_result"
    }
   ],
   "source": [
    "name"
   ]
  },
  {
   "cell_type": "code",
   "execution_count": 19,
   "id": "335a1279-1178-49c3-a8f1-93223095453d",
   "metadata": {},
   "outputs": [
    {
     "data": {
      "text/plain": [
       "'soHail ANWAR RAZA'"
      ]
     },
     "execution_count": 19,
     "metadata": {},
     "output_type": "execute_result"
    }
   ],
   "source": [
    "name = \"sohail ANWAR RAZA\"\n",
    "\n",
    "name.replace(\"h\", \"H\")"
   ]
  },
  {
   "cell_type": "code",
   "execution_count": 20,
   "id": "e8ce96a2-b001-4e52-84e8-5f1a77c4aa3b",
   "metadata": {},
   "outputs": [
    {
     "data": {
      "text/plain": [
       "'sohail_ANWAR_RAZA'"
      ]
     },
     "execution_count": 20,
     "metadata": {},
     "output_type": "execute_result"
    }
   ],
   "source": [
    "name = \"sohail ANWAR RAZA\"\n",
    "\n",
    "name.replace(\" \", \"_\")"
   ]
  },
  {
   "cell_type": "code",
   "execution_count": 21,
   "id": "40d774bd-8bdc-433d-b69d-5b8ba544f160",
   "metadata": {},
   "outputs": [],
   "source": [
    "### Length of the string"
   ]
  },
  {
   "cell_type": "code",
   "execution_count": 22,
   "id": "1fcf4278-9cdb-47e4-91ab-05d6856a37ee",
   "metadata": {},
   "outputs": [
    {
     "data": {
      "text/plain": [
       "17"
      ]
     },
     "execution_count": 22,
     "metadata": {},
     "output_type": "execute_result"
    }
   ],
   "source": [
    "len(name)"
   ]
  },
  {
   "cell_type": "code",
   "execution_count": 23,
   "id": "15d469b0-3f3e-463f-aa9e-3656704216e7",
   "metadata": {},
   "outputs": [
    {
     "data": {
      "text/plain": [
       "6"
      ]
     },
     "execution_count": 23,
     "metadata": {},
     "output_type": "execute_result"
    }
   ],
   "source": [
    "len(\"sohail\")"
   ]
  },
  {
   "cell_type": "code",
   "execution_count": 24,
   "id": "74d65df0-aa41-4585-a50d-16172146749b",
   "metadata": {},
   "outputs": [
    {
     "data": {
      "text/plain": [
       "20"
      ]
     },
     "execution_count": 24,
     "metadata": {},
     "output_type": "execute_result"
    }
   ],
   "source": [
    "len(\"sohail         anwar\")"
   ]
  },
  {
   "cell_type": "code",
   "execution_count": 25,
   "id": "be6968e7-6cf0-465f-b814-88e753abaf3b",
   "metadata": {},
   "outputs": [
    {
     "data": {
      "text/plain": [
       "10"
      ]
     },
     "execution_count": 25,
     "metadata": {},
     "output_type": "execute_result"
    }
   ],
   "source": [
    "name = \" sohail   \"\n",
    "\n",
    "name.replace(\" \", \"\")\n",
    "len(name)"
   ]
  },
  {
   "cell_type": "code",
   "execution_count": 26,
   "id": "ca4ffe55-72bd-4cbd-a78b-27ae8c810f45",
   "metadata": {},
   "outputs": [],
   "source": [
    "# 1. strung indexing\n",
    "# 2. string slicing\n",
    "# 3. string skipping\n",
    "# 4. string reversal\n",
    "# 5. string replace method\n",
    "# 6. length of the string\n",
    "# 7. string is immutable because we cannot directly assign any value using indexing"
   ]
  },
  {
   "cell_type": "code",
   "execution_count": 28,
   "id": "b404c8fa-392b-405b-bd08-eb7dccd9a7ff",
   "metadata": {},
   "outputs": [
    {
     "data": {
      "text/plain": [
       "'i'"
      ]
     },
     "execution_count": 28,
     "metadata": {},
     "output_type": "execute_result"
    }
   ],
   "source": [
    "name = \"sohail anwar raza\"\n",
    "\n",
    "name[4]"
   ]
  },
  {
   "cell_type": "code",
   "execution_count": 29,
   "id": "0f36e43f-6a45-46a1-b287-27ebb4443f13",
   "metadata": {},
   "outputs": [
    {
     "data": {
      "text/plain": [
       "' anwar '"
      ]
     },
     "execution_count": 29,
     "metadata": {},
     "output_type": "execute_result"
    }
   ],
   "source": [
    "name = \"sohail anwar raza\"\n",
    "name [6:13]"
   ]
  },
  {
   "cell_type": "code",
   "execution_count": 30,
   "id": "98eb0bb7-0068-4715-84e4-a1fd027b0e1b",
   "metadata": {},
   "outputs": [
    {
     "data": {
      "text/plain": [
       "'sa w z'"
      ]
     },
     "execution_count": 30,
     "metadata": {},
     "output_type": "execute_result"
    }
   ],
   "source": [
    "name = \"sohail anwar raza\"\n",
    "\n",
    "name[::3]"
   ]
  },
  {
   "cell_type": "code",
   "execution_count": 32,
   "id": "a0261e12-3f78-4252-9d35-5bc99d4077d8",
   "metadata": {},
   "outputs": [
    {
     "data": {
      "text/plain": [
       "'azar rawna liahos'"
      ]
     },
     "execution_count": 32,
     "metadata": {},
     "output_type": "execute_result"
    }
   ],
   "source": [
    "name = \"sohail anwar raza\"\n",
    "\n",
    "name[::-1]"
   ]
  },
  {
   "cell_type": "code",
   "execution_count": 33,
   "id": "602f07b2-51b6-4613-9912-2b0089ed0cd1",
   "metadata": {},
   "outputs": [
    {
     "data": {
      "text/plain": [
       "'=s=o=h=a=i=l= =a=n=w=a=r= =r=a=z=a='"
      ]
     },
     "execution_count": 33,
     "metadata": {},
     "output_type": "execute_result"
    }
   ],
   "source": [
    "name.replace(\"\", \"=\")"
   ]
  },
  {
   "cell_type": "code",
   "execution_count": 34,
   "id": "3b454743-ab1e-4091-81f3-0854abaa4355",
   "metadata": {},
   "outputs": [
    {
     "data": {
      "text/plain": [
       "'sohail=anwar=raza'"
      ]
     },
     "execution_count": 34,
     "metadata": {},
     "output_type": "execute_result"
    }
   ],
   "source": [
    "name.replace(\" \", \"=\")"
   ]
  },
  {
   "cell_type": "code",
   "execution_count": 36,
   "id": "8b82db9b-e02b-431f-8051-cd58ba9786a6",
   "metadata": {},
   "outputs": [
    {
     "data": {
      "text/plain": [
       "17"
      ]
     },
     "execution_count": 36,
     "metadata": {},
     "output_type": "execute_result"
    }
   ],
   "source": [
    "name = \"sohail anwar raza\"\n",
    "\n",
    "len(name)"
   ]
  },
  {
   "cell_type": "code",
   "execution_count": 37,
   "id": "ccfa1965-ee80-47e9-a190-85fd3ac500bc",
   "metadata": {},
   "outputs": [
    {
     "data": {
      "text/plain": [
       "''"
      ]
     },
     "execution_count": 37,
     "metadata": {},
     "output_type": "execute_result"
    }
   ],
   "source": [
    "name[-5:-5:]"
   ]
  },
  {
   "cell_type": "code",
   "execution_count": 38,
   "id": "cd147fa7-c21b-4453-9ce7-08a7b8e7bf70",
   "metadata": {},
   "outputs": [],
   "source": [
    "# count specific characters in a string"
   ]
  },
  {
   "cell_type": "code",
   "execution_count": 39,
   "id": "2d533b9a-8cd8-4f2e-b4d9-a0ad5e30b081",
   "metadata": {},
   "outputs": [
    {
     "data": {
      "text/plain": [
       "1"
      ]
     },
     "execution_count": 39,
     "metadata": {},
     "output_type": "execute_result"
    }
   ],
   "source": [
    "name = \"sohail\"\n",
    "\n",
    "name.count(\"a\")"
   ]
  },
  {
   "cell_type": "code",
   "execution_count": 40,
   "id": "c32ef82e-b41e-4aae-9d5d-94d4969fa236",
   "metadata": {},
   "outputs": [
    {
     "data": {
      "text/plain": [
       "5"
      ]
     },
     "execution_count": 40,
     "metadata": {},
     "output_type": "execute_result"
    }
   ],
   "source": [
    "name = \"sohail anwar raza\"\n",
    "\n",
    "name.count(\"a\")"
   ]
  },
  {
   "cell_type": "code",
   "execution_count": 41,
   "id": "64b80f77-4581-4711-89ea-5c5591c489cd",
   "metadata": {},
   "outputs": [
    {
     "data": {
      "text/plain": [
       "['sohail', 'anwar', 'raza']"
      ]
     },
     "execution_count": 41,
     "metadata": {},
     "output_type": "execute_result"
    }
   ],
   "source": [
    "# split operation\n",
    "name = \"sohail anwar raza\"\n",
    "\n",
    "name.split(\" \")"
   ]
  },
  {
   "cell_type": "code",
   "execution_count": 44,
   "id": "a3720b8d-17c4-4662-ac63-5cd2a9a4e264",
   "metadata": {},
   "outputs": [
    {
     "name": "stdout",
     "output_type": "stream",
     "text": [
      "\n",
      "first name: sohail\n",
      "middle name: anwar\n",
      "sir name: raza\n",
      "\n"
     ]
    }
   ],
   "source": [
    "first_name, middle_name, sir_name = name.split(\" \")\n",
    "\n",
    "print(f\"\"\"\n",
    "first name: {first_name}\n",
    "middle name: {middle_name}\n",
    "sir name: {sir_name}\n",
    "\"\"\")"
   ]
  },
  {
   "cell_type": "code",
   "execution_count": 47,
   "id": "1ddb696d-719d-4132-9d31-fa4f9f763f0f",
   "metadata": {},
   "outputs": [
    {
     "name": "stdout",
     "output_type": "stream",
     "text": [
      "its 11th of the month: 04 of the year: 2023\n"
     ]
    }
   ],
   "source": [
    "date = \"11/04/2023\"\n",
    "\n",
    "# todays date, month and year\n",
    "\n",
    "today_s_date = date[0:2]\n",
    "month = date[3:5]\n",
    "year = date[6:]\n",
    "\n",
    "print(f\"its {today_s_date}th of the month: {month} of the year: {year}\")"
   ]
  },
  {
   "cell_type": "code",
   "execution_count": 49,
   "id": "cc016425-8e6c-4be4-83ae-617da3897950",
   "metadata": {},
   "outputs": [
    {
     "name": "stdin",
     "output_type": "stream",
     "text": [
      "enter date of birth in the format dd/mm/yyyy: 11/04/2023\n"
     ]
    },
    {
     "name": "stdout",
     "output_type": "stream",
     "text": [
      "the user was born in the month of 04th of the year: 2023 of the date: 11\n"
     ]
    }
   ],
   "source": [
    "data =input(\"enter date of birth in the format dd/mm/yyyy:\" )\n",
    "\n",
    "# todays date, month and year\n",
    "\n",
    "date, month, year = data.split(\"/\")\n",
    "\n",
    "\n",
    "print(f\"the user was born in the month of {month}th of the year: {year} of the date: {date}\")"
   ]
  },
  {
   "cell_type": "code",
   "execution_count": 50,
   "id": "61a6234b-a5f2-47a5-a106-c0f145587a60",
   "metadata": {},
   "outputs": [
    {
     "data": {
      "text/plain": [
       "['11', '04', '2023']"
      ]
     },
     "execution_count": 50,
     "metadata": {},
     "output_type": "execute_result"
    }
   ],
   "source": [
    "data.split(\"/\")"
   ]
  },
  {
   "cell_type": "code",
   "execution_count": 52,
   "id": "43e8b82c-08c2-43ed-a80f-8cb59609b895",
   "metadata": {},
   "outputs": [
    {
     "name": "stdin",
     "output_type": "stream",
     "text": [
      "enter date of birth in the format dd/mmm/yyyy: 11/04/2023\n"
     ]
    },
    {
     "data": {
      "text/plain": [
       "['11', '04', '2023']"
      ]
     },
     "execution_count": 52,
     "metadata": {},
     "output_type": "execute_result"
    }
   ],
   "source": [
    "data =input(\"enter date of birth in the format dd/mmm/yyyy:\" )\n",
    "data.split(\"/\")"
   ]
  },
  {
   "cell_type": "code",
   "execution_count": 54,
   "id": "251c4db8-c2ff-48fe-af27-e278780536a3",
   "metadata": {},
   "outputs": [
    {
     "data": {
      "text/plain": [
       "['sohail', 'anwar', 'raza']"
      ]
     },
     "execution_count": 54,
     "metadata": {},
     "output_type": "execute_result"
    }
   ],
   "source": [
    "name = \"sohail_anwar_raza\"\n",
    "\n",
    "name.split(\"_\")"
   ]
  },
  {
   "cell_type": "code",
   "execution_count": 55,
   "id": "b642a79c-5d11-4f03-8734-5cc45db0e8f9",
   "metadata": {},
   "outputs": [
    {
     "data": {
      "text/plain": [
       "['sohail_a', 'war_raza']"
      ]
     },
     "execution_count": 55,
     "metadata": {},
     "output_type": "execute_result"
    }
   ],
   "source": [
    "name.split(\"n\")"
   ]
  },
  {
   "cell_type": "code",
   "execution_count": 56,
   "id": "4e24fee7-da4d-4cc8-b7d0-8cdf733f7e41",
   "metadata": {},
   "outputs": [
    {
     "data": {
      "text/plain": [
       "['sohail_anwar_raza']"
      ]
     },
     "execution_count": 56,
     "metadata": {},
     "output_type": "execute_result"
    }
   ],
   "source": [
    "name.split(\".\")"
   ]
  },
  {
   "cell_type": "code",
   "execution_count": 57,
   "id": "9e9097a1-97e4-4bf6-9d23-0b7697253ae4",
   "metadata": {},
   "outputs": [
    {
     "data": {
      "text/plain": [
       "['soh', 'il_', 'nw', 'r_r', 'z', '']"
      ]
     },
     "execution_count": 57,
     "metadata": {},
     "output_type": "execute_result"
    }
   ],
   "source": [
    "name.split(\"a\")"
   ]
  },
  {
   "cell_type": "code",
   "execution_count": 3,
   "id": "5d1473e6-62c0-4ead-884f-2b89fc00d07e",
   "metadata": {},
   "outputs": [
    {
     "name": "stdin",
     "output_type": "stream",
     "text": [
      "enter the date in dd/mmm/yyy:  11th/april/23\n"
     ]
    },
    {
     "data": {
      "text/plain": [
       "['11th', 'april', '23']"
      ]
     },
     "execution_count": 3,
     "metadata": {},
     "output_type": "execute_result"
    }
   ],
   "source": [
    "date = input(\"enter the date in dd/mmm/yyy: \")\n",
    "\n",
    "date.split(\"/\")"
   ]
  },
  {
   "cell_type": "code",
   "execution_count": 4,
   "id": "b96085c9-8786-4e50-88fd-a3add1c482ff",
   "metadata": {},
   "outputs": [
    {
     "name": "stdout",
     "output_type": "stream",
     "text": [
      "11th april 23\n"
     ]
    }
   ],
   "source": [
    "A,B,C = date.split(\"/\")\n",
    "\n",
    "print(A,B,C,)"
   ]
  },
  {
   "cell_type": "code",
   "execution_count": 6,
   "id": "cb6962d1-6ac2-4537-a06d-aa9d0ed203b6",
   "metadata": {},
   "outputs": [
    {
     "data": {
      "text/plain": [
       "['11th', 'april', '23']"
      ]
     },
     "execution_count": 6,
     "metadata": {},
     "output_type": "execute_result"
    }
   ],
   "source": [
    "A = date.split(\"/\")\n",
    "\n",
    "A"
   ]
  },
  {
   "cell_type": "code",
   "execution_count": 7,
   "id": "97d2543f-917b-412f-adcc-6d76daa8a1f0",
   "metadata": {},
   "outputs": [
    {
     "data": {
      "text/plain": [
       "'11th'"
      ]
     },
     "execution_count": 7,
     "metadata": {},
     "output_type": "execute_result"
    }
   ],
   "source": [
    "A[0]"
   ]
  },
  {
   "cell_type": "code",
   "execution_count": 8,
   "id": "16d460c4-9a88-4726-be06-c3d8a3919d56",
   "metadata": {},
   "outputs": [
    {
     "data": {
      "text/plain": [
       "'april'"
      ]
     },
     "execution_count": 8,
     "metadata": {},
     "output_type": "execute_result"
    }
   ],
   "source": [
    "A[1]"
   ]
  },
  {
   "cell_type": "code",
   "execution_count": 9,
   "id": "10b86c40-855e-434d-80e5-d0077ce3636f",
   "metadata": {},
   "outputs": [
    {
     "data": {
      "text/plain": [
       "'23'"
      ]
     },
     "execution_count": 9,
     "metadata": {},
     "output_type": "execute_result"
    }
   ],
   "source": [
    "A[2]"
   ]
  },
  {
   "cell_type": "code",
   "execution_count": 10,
   "id": "c3a76a8a-8a5d-4066-8202-6bc69b0b5b59",
   "metadata": {},
   "outputs": [
    {
     "data": {
      "text/plain": [
       "3"
      ]
     },
     "execution_count": 10,
     "metadata": {},
     "output_type": "execute_result"
    }
   ],
   "source": [
    "len(A)"
   ]
  },
  {
   "cell_type": "code",
   "execution_count": 11,
   "id": "81b9d2fe-f4c6-4c52-98b7-eb5b2650ec95",
   "metadata": {},
   "outputs": [],
   "source": [
    "### LOWER UPPPER CASE TITLE CASE"
   ]
  },
  {
   "cell_type": "code",
   "execution_count": 2,
   "id": "2d7bbd42-e347-4e67-b5f8-6627e4d525c6",
   "metadata": {},
   "outputs": [
    {
     "data": {
      "text/plain": [
       "'sohail anwar raza'"
      ]
     },
     "execution_count": 2,
     "metadata": {},
     "output_type": "execute_result"
    }
   ],
   "source": [
    "name = \"sohail anwar raza\"\n",
    "\n",
    "name.lower()"
   ]
  },
  {
   "cell_type": "code",
   "execution_count": 3,
   "id": "1639e1f9-8332-4443-97bd-c757e94c3f9a",
   "metadata": {},
   "outputs": [
    {
     "data": {
      "text/plain": [
       "'SOHAIL ANWAR RAZA'"
      ]
     },
     "execution_count": 3,
     "metadata": {},
     "output_type": "execute_result"
    }
   ],
   "source": [
    "name.upper()"
   ]
  },
  {
   "cell_type": "code",
   "execution_count": 4,
   "id": "64db7ece-7894-4303-999d-9df422518cd3",
   "metadata": {},
   "outputs": [
    {
     "name": "stdin",
     "output_type": "stream",
     "text": [
      "enter your name:  sohail anwar raza\n"
     ]
    },
    {
     "name": "stdout",
     "output_type": "stream",
     "text": [
      "user input: sohail anwar raza\n",
      "name in upper case: SOHAIL ANWAR RAZA\n",
      "name in lower case: sohail anwar raza\n",
      "name in title case: Sohail Anwar Raza\n"
     ]
    }
   ],
   "source": [
    "name = input(\"enter your name: \")\n",
    "\n",
    "print(f\"user input: {name}\")\n",
    "print(f\"name in upper case: {name.upper()}\")\n",
    "print(f\"name in lower case: {name.lower()}\")\n",
    "print(f\"name in title case: {name.title()}\")"
   ]
  },
  {
   "cell_type": "code",
   "execution_count": 5,
   "id": "f5e3525c-4826-4a91-a74f-e3a50ecd5142",
   "metadata": {},
   "outputs": [
    {
     "name": "stdin",
     "output_type": "stream",
     "text": [
      "enter your name:  sohAil ANwar RaZa\n"
     ]
    },
    {
     "name": "stdout",
     "output_type": "stream",
     "text": [
      "user input: sohAil ANwar RaZa\n",
      "name in upper case: SOHAIL ANWAR RAZA\n",
      "name in lower case: sohail anwar raza\n",
      "name in title case: Sohail Anwar Raza\n"
     ]
    }
   ],
   "source": [
    "name = input(\"enter your name: \")\n",
    "\n",
    "print(f\"user input: {name}\")\n",
    "print(f\"name in upper case: {name.upper()}\")\n",
    "print(f\"name in lower case: {name.lower()}\")\n",
    "print(f\"name in title case: {name.title()}\")"
   ]
  },
  {
   "cell_type": "code",
   "execution_count": 6,
   "id": "50e89c9d-2f65-450c-9797-38700f942e29",
   "metadata": {},
   "outputs": [
    {
     "name": "stdin",
     "output_type": "stream",
     "text": [
      "enter your name:  soHAIl anWAR RAza\n"
     ]
    },
    {
     "name": "stdout",
     "output_type": "stream",
     "text": [
      "user input: soHAIl anWAR RAza\n",
      "name in upper case: SOHAIL ANWAR RAZA\n",
      "name in lower case: sohail anwar raza\n",
      "name in title case: Sohail Anwar Raza\n",
      "name in title capitalize: Sohail anwar raza\n",
      "name in title swapcase: SOhaiL ANwar raZA\n"
     ]
    }
   ],
   "source": [
    "name = input(\"enter your name: \")\n",
    "\n",
    "print(f\"user input: {name}\")\n",
    "print(f\"name in upper case: {name.upper()}\")\n",
    "print(f\"name in lower case: {name.lower()}\")\n",
    "print(f\"name in title case: {name.title()}\")\n",
    "print(f\"name in title capitalize: {name.capitalize()}\")\n",
    "print(f\"name in title swapcase: {name.swapcase()}\")"
   ]
  },
  {
   "cell_type": "code",
   "execution_count": 7,
   "id": "06a84928-6bc9-4557-ae4f-bad9cc776c1a",
   "metadata": {},
   "outputs": [
    {
     "name": "stdout",
     "output_type": "stream",
     "text": [
      "user input: today is the best DAY oF My LIfe\n",
      "name in upper case: TODAY IS THE BEST DAY OF MY LIFE\n",
      "name in lower case: today is the best day of my life\n",
      "name in title case: Today Is The Best Day Of My Life\n",
      "name in title capitalize: Today is the best day of my life\n",
      "name in title swapcase: TODAY IS THE BEST day Of mY liFE\n"
     ]
    }
   ],
   "source": [
    " name = \"today is the best DAY oF My LIfe\"\n",
    "\n",
    "print(f\"user input: {name}\")\n",
    "print(f\"name in upper case: {name.upper()}\")\n",
    "print(f\"name in lower case: {name.lower()}\")\n",
    "print(f\"name in title case: {name.title()}\")\n",
    "print(f\"name in title capitalize: {name.capitalize()}\")\n",
    "print(f\"name in title swapcase: {name.swapcase()}\")"
   ]
  },
  {
   "cell_type": "code",
   "execution_count": 10,
   "id": "30342833-fa48-44ce-9f8a-ec20a2b237bd",
   "metadata": {},
   "outputs": [
    {
     "data": {
      "text/plain": [
       "'S*o*h*a*i*l* *A*n*w*a*r* *R*a*z*a'"
      ]
     },
     "execution_count": 10,
     "metadata": {},
     "output_type": "execute_result"
    }
   ],
   "source": [
    "name = \"Sohail Anwar Raza\"\n",
    "\n",
    "\"*\".join(name)"
   ]
  },
  {
   "cell_type": "code",
   "execution_count": 11,
   "id": "ef9e5ea8-2719-4df8-bf64-e61e52930c44",
   "metadata": {},
   "outputs": [
    {
     "data": {
      "text/plain": [
       "'S_o_h_a_i_l_ _A_n_w_a_r_ _R_a_z_a'"
      ]
     },
     "execution_count": 11,
     "metadata": {},
     "output_type": "execute_result"
    }
   ],
   "source": [
    "name = \"Sohail Anwar Raza\"\n",
    "\n",
    "\"_\".join(name)"
   ]
  },
  {
   "cell_type": "code",
   "execution_count": 12,
   "id": "1a50982c-cf4f-4988-8624-f08fa0625670",
   "metadata": {},
   "outputs": [
    {
     "data": {
      "text/plain": [
       "'S/o/h/a/i/l/ /A/n/w/a/r/ /R/a/z/a'"
      ]
     },
     "execution_count": 12,
     "metadata": {},
     "output_type": "execute_result"
    }
   ],
   "source": [
    "name = \"Sohail Anwar Raza\"\n",
    "\n",
    "\"/\".join(name)"
   ]
  },
  {
   "cell_type": "code",
   "execution_count": 13,
   "id": "49d48355-4256-4c02-b3c9-f20dd8431d64",
   "metadata": {},
   "outputs": [
    {
     "data": {
      "text/plain": [
       "'S+o+h+a+i+l+ +A+n+w+a+r+ +R+a+z+a'"
      ]
     },
     "execution_count": 13,
     "metadata": {},
     "output_type": "execute_result"
    }
   ],
   "source": [
    "name = \"Sohail Anwar Raza\"\n",
    "\n",
    "\"+\".join(name)"
   ]
  },
  {
   "cell_type": "code",
   "execution_count": 14,
   "id": "000038de-769b-4958-83b9-9f32e6eccccf",
   "metadata": {},
   "outputs": [
    {
     "data": {
      "text/plain": [
       "'S@o@h@a@i@l@ @A@n@w@a@r@ @R@a@z@a'"
      ]
     },
     "execution_count": 14,
     "metadata": {},
     "output_type": "execute_result"
    }
   ],
   "source": [
    "name = \"Sohail Anwar Raza\"\n",
    "\n",
    "\"@\".join(name)"
   ]
  },
  {
   "cell_type": "code",
   "execution_count": 15,
   "id": "67b5d4e6-57e9-4fc7-af9f-72cf5886b588",
   "metadata": {},
   "outputs": [
    {
     "data": {
      "text/plain": [
       "'S$o$h$a$i$l$ $A$n$w$a$r$ $R$a$z$a'"
      ]
     },
     "execution_count": 15,
     "metadata": {},
     "output_type": "execute_result"
    }
   ],
   "source": [
    "name = \"Sohail Anwar Raza\"\n",
    "\n",
    "\"$\".join(name)"
   ]
  },
  {
   "cell_type": "code",
   "execution_count": 16,
   "id": "ea346ffe-a25a-4c4b-9c87-c069b546caf0",
   "metadata": {},
   "outputs": [
    {
     "data": {
      "text/plain": [
       "'S==o==h==a==i==l== ==A==n==w==a==r== ==R==a==z==a'"
      ]
     },
     "execution_count": 16,
     "metadata": {},
     "output_type": "execute_result"
    }
   ],
   "source": [
    "name = \"Sohail Anwar Raza\"\n",
    "\n",
    "\"==\".join(name)"
   ]
  },
  {
   "cell_type": "code",
   "execution_count": 17,
   "id": "282db82e-d315-4c61-bde5-53dc923170aa",
   "metadata": {},
   "outputs": [
    {
     "data": {
      "text/plain": [
       "'azaR rawnA liahoS'"
      ]
     },
     "execution_count": 17,
     "metadata": {},
     "output_type": "execute_result"
    }
   ],
   "source": [
    "name = \"Sohail Anwar Raza\"\n",
    "\n",
    "\"\".join(reversed(name))"
   ]
  },
  {
   "cell_type": "code",
   "execution_count": 18,
   "id": "ef6da40f-15b8-4b78-ad85-bf5ba7d84b18",
   "metadata": {},
   "outputs": [
    {
     "data": {
      "text/plain": [
       "'S|o|h|a|i|l| |A|n|w|a|r| |R|a|z|a'"
      ]
     },
     "execution_count": 18,
     "metadata": {},
     "output_type": "execute_result"
    }
   ],
   "source": [
    "name = \"Sohail Anwar Raza\"\n",
    "\n",
    "\"|\".join(name)"
   ]
  },
  {
   "cell_type": "code",
   "execution_count": 19,
   "id": "1115d41f-37d6-46cf-92b8-728ac82cf824",
   "metadata": {},
   "outputs": [
    {
     "data": {
      "text/plain": [
       "'S  o  h  a  i  l     A  n  w  a  r     R  a  z  a'"
      ]
     },
     "execution_count": 19,
     "metadata": {},
     "output_type": "execute_result"
    }
   ],
   "source": [
    "name = \"Sohail Anwar Raza\"\n",
    "\n",
    "\"  \".join(name)"
   ]
  },
  {
   "cell_type": "code",
   "execution_count": 20,
   "id": "037cb771-f8b1-4418-9aa8-83a60d7da2dc",
   "metadata": {},
   "outputs": [
    {
     "data": {
      "text/plain": [
       "'Sohail|Anwar|Raza'"
      ]
     },
     "execution_count": 20,
     "metadata": {},
     "output_type": "execute_result"
    }
   ],
   "source": [
    "name = \"Sohail Anwar Raza\"\n",
    "\n",
    "name.replace(\" \", \"|\")"
   ]
  },
  {
   "cell_type": "code",
   "execution_count": 1,
   "id": "778a6f78-c8bf-423b-8a49-950eef90dd5e",
   "metadata": {},
   "outputs": [],
   "source": [
    "## remove extra space front and back of the string"
   ]
  },
  {
   "cell_type": "code",
   "execution_count": 2,
   "id": "fda9df1f-77d9-4c38-bc0b-758e386dace1",
   "metadata": {},
   "outputs": [
    {
     "data": {
      "text/plain": [
       "'sohail'"
      ]
     },
     "execution_count": 2,
     "metadata": {},
     "output_type": "execute_result"
    }
   ],
   "source": [
    "name = \"   sohail  \"\n",
    "\n",
    "name.strip(\" \")"
   ]
  },
  {
   "cell_type": "code",
   "execution_count": 4,
   "id": "bc1c8a02-a02f-4f71-bc9a-7a8908c93259",
   "metadata": {},
   "outputs": [
    {
     "data": {
      "text/plain": [
       "'sohail  '"
      ]
     },
     "execution_count": 4,
     "metadata": {},
     "output_type": "execute_result"
    }
   ],
   "source": [
    "name = \"   sohail  \"\n",
    "\n",
    "name.lstrip(\" \")"
   ]
  },
  {
   "cell_type": "code",
   "execution_count": 5,
   "id": "65092800-90ec-4ed8-822d-e9d26aa26d68",
   "metadata": {},
   "outputs": [
    {
     "data": {
      "text/plain": [
       "'   sohail'"
      ]
     },
     "execution_count": 5,
     "metadata": {},
     "output_type": "execute_result"
    }
   ],
   "source": [
    "name = \"   sohail  \"\n",
    "\n",
    "name.rstrip(\" \")"
   ]
  },
  {
   "cell_type": "code",
   "execution_count": 7,
   "id": "971b0ef7-6525-4d11-9377-b1cf1038af7b",
   "metadata": {},
   "outputs": [
    {
     "data": {
      "text/plain": [
       "'Sohail Anwar Raza'"
      ]
     },
     "execution_count": 7,
     "metadata": {},
     "output_type": "execute_result"
    }
   ],
   "source": [
    "name = \" Sohail Anwar Raza \"\n",
    "\n",
    "name.strip(\" \")"
   ]
  },
  {
   "cell_type": "code",
   "execution_count": 9,
   "id": "91a8ff74-75c0-4959-b41e-273d0eec7e35",
   "metadata": {},
   "outputs": [
    {
     "data": {
      "text/plain": [
       "'SohailAnwarRaza'"
      ]
     },
     "execution_count": 9,
     "metadata": {},
     "output_type": "execute_result"
    }
   ],
   "source": [
    "name = \"Sohail Anwar Raza\"\n",
    "\n",
    "name.replace(\" \", \"\")"
   ]
  },
  {
   "cell_type": "code",
   "execution_count": 10,
   "id": "f4f929c9-8d50-45f5-8b65-b32fbb72144d",
   "metadata": {},
   "outputs": [
    {
     "data": {
      "text/plain": [
       "' Sohail Anwar Raza '"
      ]
     },
     "execution_count": 10,
     "metadata": {},
     "output_type": "execute_result"
    }
   ],
   "source": [
    "name = \" Sohail Anwar Raza \"\n",
    "\n",
    "name.strip(\"=\")"
   ]
  },
  {
   "cell_type": "code",
   "execution_count": 11,
   "id": "d90337a2-f4e5-453a-8edb-57cb02cf63b2",
   "metadata": {},
   "outputs": [],
   "source": [
    " ### formating"
   ]
  },
  {
   "cell_type": "code",
   "execution_count": 12,
   "id": "882cc1b1-8233-49df-beed-187ba01bad6c",
   "metadata": {},
   "outputs": [
    {
     "data": {
      "text/plain": [
       "'#######sohail#######'"
      ]
     },
     "execution_count": 12,
     "metadata": {},
     "output_type": "execute_result"
    }
   ],
   "source": [
    "name = \"sohail\"\n",
    "\n",
    "name.center(20,  \"#\")"
   ]
  },
  {
   "cell_type": "code",
   "execution_count": 13,
   "id": "28c55372-4d88-44c2-a098-687729059d60",
   "metadata": {},
   "outputs": [
    {
     "data": {
      "text/plain": [
       "'##sohail##'"
      ]
     },
     "execution_count": 13,
     "metadata": {},
     "output_type": "execute_result"
    }
   ],
   "source": [
    "name = \"sohail\"\n",
    "\n",
    "name.center(10,  \"#\")"
   ]
  },
  {
   "cell_type": "code",
   "execution_count": 14,
   "id": "aac850fb-3df9-40fc-b5ba-90cfee7056b3",
   "metadata": {},
   "outputs": [
    {
     "data": {
      "text/plain": [
       "'#sohail#'"
      ]
     },
     "execution_count": 14,
     "metadata": {},
     "output_type": "execute_result"
    }
   ],
   "source": [
    "name = \"sohail\"\n",
    "\n",
    "name.center(8,  \"#\")"
   ]
  },
  {
   "cell_type": "code",
   "execution_count": 15,
   "id": "7f3da4df-519c-4646-a19e-7f99ae6f489c",
   "metadata": {},
   "outputs": [
    {
     "data": {
      "text/plain": [
       "'sohail'"
      ]
     },
     "execution_count": 15,
     "metadata": {},
     "output_type": "execute_result"
    }
   ],
   "source": [
    "name = \"sohail\"\n",
    "\n",
    "name.center(4,  \"#\")"
   ]
  },
  {
   "cell_type": "code",
   "execution_count": 16,
   "id": "4b8789ca-7781-4ab7-a42e-459250564deb",
   "metadata": {},
   "outputs": [
    {
     "data": {
      "text/plain": [
       "'###############################################sohail###############################################'"
      ]
     },
     "execution_count": 16,
     "metadata": {},
     "output_type": "execute_result"
    }
   ],
   "source": [
    "name = \"sohail\"\n",
    "\n",
    "name.center(100,  \"#\")"
   ]
  },
  {
   "cell_type": "code",
   "execution_count": 17,
   "id": "1ffd3b83-bd65-4a94-83db-04a42dd02420",
   "metadata": {},
   "outputs": [
    {
     "data": {
      "text/plain": [
       "'**sohail**'"
      ]
     },
     "execution_count": 17,
     "metadata": {},
     "output_type": "execute_result"
    }
   ],
   "source": [
    "name = \"sohail\"\n",
    "\n",
    "name.center(10,  \"*\")"
   ]
  },
  {
   "cell_type": "code",
   "execution_count": 18,
   "id": "a1ba0ccc-4aef-4b42-98f6-f4a69be5a9b5",
   "metadata": {},
   "outputs": [],
   "source": [
    "### checking string cases [imp]"
   ]
  },
  {
   "cell_type": "code",
   "execution_count": 19,
   "id": "a6cd02a5-1502-450c-b2e8-b03c4be9d1ab",
   "metadata": {},
   "outputs": [
    {
     "data": {
      "text/plain": [
       "True"
      ]
     },
     "execution_count": 19,
     "metadata": {},
     "output_type": "execute_result"
    }
   ],
   "source": [
    "name = \"SOHAIL\"\n",
    "\n",
    "name.isupper()"
   ]
  },
  {
   "cell_type": "code",
   "execution_count": 21,
   "id": "f927d6f1-e3e1-4df9-916c-3e87662f790b",
   "metadata": {},
   "outputs": [
    {
     "data": {
      "text/plain": [
       "False"
      ]
     },
     "execution_count": 21,
     "metadata": {},
     "output_type": "execute_result"
    }
   ],
   "source": [
    "name = \"SOHAIL\"\n",
    "\n",
    "name.islower()"
   ]
  },
  {
   "cell_type": "code",
   "execution_count": 23,
   "id": "bf423e6a-eca3-4f58-8169-937af8988d03",
   "metadata": {},
   "outputs": [
    {
     "data": {
      "text/plain": [
       "True"
      ]
     },
     "execution_count": 23,
     "metadata": {},
     "output_type": "execute_result"
    }
   ],
   "source": [
    "name = \"sohail\"\n",
    "\n",
    "name.islower()"
   ]
  },
  {
   "cell_type": "code",
   "execution_count": 24,
   "id": "7e1ba1c6-cf93-4432-b83a-b8e2c88b6b6f",
   "metadata": {},
   "outputs": [
    {
     "data": {
      "text/plain": [
       "False"
      ]
     },
     "execution_count": 24,
     "metadata": {},
     "output_type": "execute_result"
    }
   ],
   "source": [
    "name = \"sohail\"\n",
    "\n",
    "name.isupper()"
   ]
  },
  {
   "cell_type": "code",
   "execution_count": 25,
   "id": "1e576e06-ec4b-4c60-a605-b768a3a2732b",
   "metadata": {},
   "outputs": [
    {
     "data": {
      "text/plain": [
       "False"
      ]
     },
     "execution_count": 25,
     "metadata": {},
     "output_type": "execute_result"
    }
   ],
   "source": [
    "name = \"sohail\"\n",
    "\n",
    "name.isspace()"
   ]
  },
  {
   "cell_type": "code",
   "execution_count": 26,
   "id": "9c7416c5-fca6-40a1-a03b-2b00f3039821",
   "metadata": {},
   "outputs": [
    {
     "data": {
      "text/plain": [
       "True"
      ]
     },
     "execution_count": 26,
     "metadata": {},
     "output_type": "execute_result"
    }
   ],
   "source": [
    "name = \" \"\n",
    "\n",
    "name.isspace()"
   ]
  },
  {
   "cell_type": "code",
   "execution_count": 27,
   "id": "b22fdb04-a70a-4586-95b2-ebfec7215cc1",
   "metadata": {},
   "outputs": [
    {
     "name": "stdin",
     "output_type": "stream",
     "text": [
      "enter your name:  sohail anwar raza\n"
     ]
    },
    {
     "name": "stdout",
     "output_type": "stream",
     "text": [
      "user input: sohail anwar raza\n",
      "wrong input we need to autocorrect it\n",
      "correct output: Sohail Anwar Raza\n"
     ]
    }
   ],
   "source": [
    "name = input(\"enter your name: \")\n",
    "\n",
    "print(f\"user input: {name}\")\n",
    "\n",
    "if name.istitle():\n",
    "    print(f\"user has given correct input\")\n",
    "else:\n",
    "    print(f\"wrong input we need to autocorrect it\")\n",
    "    name = name.title()\n",
    "    print(f\"correct output: {name}\")"
   ]
  },
  {
   "cell_type": "code",
   "execution_count": 28,
   "id": "4e09169e-91fd-46ac-9407-95869780a395",
   "metadata": {},
   "outputs": [
    {
     "name": "stdin",
     "output_type": "stream",
     "text": [
      "enter your name:  SOHAIL ANWAR RAZA\n"
     ]
    },
    {
     "name": "stdout",
     "output_type": "stream",
     "text": [
      "user input: Sohail Anwar Raza\n",
      "user has given correct input\n"
     ]
    }
   ],
   "source": [
    "name = input(\"enter your name: \")\n",
    "\n",
    "print(f\"user input: {name}\")\n",
    "\n",
    "if name.istitle():\n",
    "    print(f\"user has given correct input\")\n",
    "else:\n",
    "    print(f\"wrong input we need to autocorrect it\")\n",
    "    name = name.title()\n",
    "    print(f\"correct output: {name}\")"
   ]
  },
  {
   "cell_type": "code",
   "execution_count": 30,
   "id": "62d38b06-b51b-41ee-9294-659862109b17",
   "metadata": {},
   "outputs": [
    {
     "name": "stdin",
     "output_type": "stream",
     "text": [
      "enter your name:    \n"
     ]
    },
    {
     "name": "stdout",
     "output_type": "stream",
     "text": [
      "user input:   \n",
      "wrong input we need to autocorrect it\n",
      "correct output:   \n"
     ]
    }
   ],
   "source": [
    "name = input(\"enter your name: \")\n",
    "\n",
    "print(f\"user input: {name}\")\n",
    "\n",
    "if name.istitle():\n",
    "    print(f\"user has given correct input\")\n",
    "else:\n",
    "    print(f\"wrong input we need to autocorrect it\")\n",
    "    name = name.title()\n",
    "    print(f\"correct output: {name}\")"
   ]
  },
  {
   "cell_type": "code",
   "execution_count": 31,
   "id": "cd0723f6-7d25-4d95-a79d-5a542b9ec8cb",
   "metadata": {},
   "outputs": [
    {
     "name": "stdin",
     "output_type": "stream",
     "text": [
      "enter your name:  sohail anwar raza\n"
     ]
    },
    {
     "name": "stdout",
     "output_type": "stream",
     "text": [
      "user input: sohail anwar raza\n",
      "wrong input we need to autocorrect it\n",
      "correct output: Sohail Anwar Raza\n"
     ]
    }
   ],
   "source": [
    "name = input(\"enter your name: \")\n",
    "\n",
    "print(f\"user input: {name}\")\n",
    "\n",
    "if name.istitle():\n",
    "    print(f\"user has given correct input\")\n",
    "elif name.isspace():\n",
    "    print(f\"wrong input please try again!!\")\n",
    "else:\n",
    "    print(f\"wrong input we need to autocorrect it\")\n",
    "    name = name.title()\n",
    "    print(f\"correct output: {name}\")"
   ]
  },
  {
   "cell_type": "code",
   "execution_count": 32,
   "id": "1c70fbef-95e4-4527-a3c8-a8014c313cda",
   "metadata": {},
   "outputs": [
    {
     "name": "stdin",
     "output_type": "stream",
     "text": [
      "enter your name:      \n"
     ]
    },
    {
     "name": "stdout",
     "output_type": "stream",
     "text": [
      "user input:     \n",
      "wrong input please try again!!\n"
     ]
    }
   ],
   "source": [
    "name = input(\"enter your name: \")\n",
    "\n",
    "print(f\"user input: {name}\")\n",
    "\n",
    "if name.istitle():\n",
    "    print(f\"user has given correct input\")\n",
    "elif name.isspace():\n",
    "    print(f\"wrong input please try again!!\")\n",
    "else:\n",
    "    print(f\"wrong input we need to autocorrect it\")\n",
    "    name = name.title()\n",
    "    print(f\"correct output: {name}\")"
   ]
  },
  {
   "cell_type": "code",
   "execution_count": 37,
   "id": "70c7b88a-8a48-41b4-bf7d-d8c0e90748f9",
   "metadata": {},
   "outputs": [
    {
     "name": "stdin",
     "output_type": "stream",
     "text": [
      "enter your name:  sohail anwar raza\n"
     ]
    },
    {
     "name": "stdout",
     "output_type": "stream",
     "text": [
      "user input: sohail anwar raza\n",
      "wrong input we need to autocorrect it\n",
      "correct output: Sohail Anwar Raza\n"
     ]
    }
   ],
   "source": [
    "name = input(\"enter your name: \")\n",
    "\n",
    "print(f\"user input: {name}\")\n",
    "\n",
    "if name.istitle():\n",
    "    print(f\"user has given correct input\")\n",
    "elif name.isspace():\n",
    "    print(f\"wrong input please try again!!\")\n",
    "else:\n",
    "    print(f\"wrong input we need to autocorrect it\")\n",
    "    name = name.title()\n",
    "    print(f\"correct output: {name}\")"
   ]
  },
  {
   "cell_type": "code",
   "execution_count": 35,
   "id": "34425013-2c8d-4d2e-a2dd-e37f76150a3c",
   "metadata": {},
   "outputs": [
    {
     "data": {
      "text/plain": [
       "True"
      ]
     },
     "execution_count": 35,
     "metadata": {},
     "output_type": "execute_result"
    }
   ],
   "source": [
    "phone_number = \"1236986665\"\n",
    "\n",
    "phone_number.isdigit()"
   ]
  },
  {
   "cell_type": "code",
   "execution_count": 36,
   "id": "ab560c17-404d-4036-884a-92b3d3b39c69",
   "metadata": {},
   "outputs": [
    {
     "data": {
      "text/plain": [
       "False"
      ]
     },
     "execution_count": 36,
     "metadata": {},
     "output_type": "execute_result"
    }
   ],
   "source": [
    "phone_number = \"1236986665hdwdiuud\"\n",
    "\n",
    "phone_number.isdigit()"
   ]
  },
  {
   "cell_type": "code",
   "execution_count": 38,
   "id": "71b6bf2a-5aac-4888-9aa5-423280b65547",
   "metadata": {},
   "outputs": [
    {
     "data": {
      "text/plain": [
       "True"
      ]
     },
     "execution_count": 38,
     "metadata": {},
     "output_type": "execute_result"
    }
   ],
   "source": [
    "phone_number = \"1236986665\"\n",
    "\n",
    "phone_number.isdigit()\n"
   ]
  },
  {
   "cell_type": "code",
   "execution_count": 39,
   "id": "b4f435df-6d3b-4c01-8584-2d0e27960b3e",
   "metadata": {},
   "outputs": [
    {
     "name": "stdin",
     "output_type": "stream",
     "text": [
      "enter your phone no:  36147622662\n"
     ]
    },
    {
     "name": "stdout",
     "output_type": "stream",
     "text": [
      "invaild input\n"
     ]
    }
   ],
   "source": [
    "phone_number = input(\"enter your phone no: \")\n",
    "\n",
    " \n",
    "if phone_number.isdigit() and len(phone_number) == 10:\n",
    "    print(f\"user input is correct\")\n",
    "else:\n",
    "    print(\"invaild input\")"
   ]
  },
  {
   "cell_type": "code",
   "execution_count": 40,
   "id": "cd5de483-b85f-4efd-89a4-ae77ef5044be",
   "metadata": {},
   "outputs": [
    {
     "name": "stdin",
     "output_type": "stream",
     "text": [
      "enter your phone no:  123698665\n"
     ]
    },
    {
     "name": "stdout",
     "output_type": "stream",
     "text": [
      "invaild input\n"
     ]
    }
   ],
   "source": [
    "phone_number = input(\"enter your phone no: \")\n",
    "\n",
    " \n",
    "if phone_number.isdigit() and len(phone_number) == 10:\n",
    "    print(f\"user input is correct\")\n",
    "else:\n",
    "    print(\"invaild input\")"
   ]
  },
  {
   "cell_type": "code",
   "execution_count": 41,
   "id": "d8fbc375-6836-47a1-963b-812fd3414f4d",
   "metadata": {},
   "outputs": [
    {
     "name": "stdin",
     "output_type": "stream",
     "text": [
      "enter your phone no:  7896512345\n"
     ]
    },
    {
     "name": "stdout",
     "output_type": "stream",
     "text": [
      "user input is correct\n"
     ]
    }
   ],
   "source": [
    "phone_number = input(\"enter your phone no: \")\n",
    "\n",
    " \n",
    "if phone_number.isdigit() and len(phone_number) == 10:\n",
    "    print(f\"user input is correct\")\n",
    "else:\n",
    "    print(\"invaild input\")"
   ]
  },
  {
   "cell_type": "code",
   "execution_count": 42,
   "id": "d9bf82ab-e93e-40cb-b021-636d4adfd847",
   "metadata": {},
   "outputs": [
    {
     "name": "stdin",
     "output_type": "stream",
     "text": [
      "enter your phone no:  0000000000\n"
     ]
    },
    {
     "name": "stdout",
     "output_type": "stream",
     "text": [
      "user input is correct\n"
     ]
    }
   ],
   "source": [
    "phone_number = input(\"enter your phone no: \")\n",
    "\n",
    " \n",
    "if phone_number.isdigit() and len(phone_number) == 10:\n",
    "    print(f\"user input is correct\")\n",
    "else:\n",
    "    print(\"invaild input\")"
   ]
  },
  {
   "cell_type": "code",
   "execution_count": 44,
   "id": "53660a70-2fb6-4340-85e3-1768bd47ba7c",
   "metadata": {},
   "outputs": [
    {
     "name": "stdin",
     "output_type": "stream",
     "text": [
      "enter your phone no:  00000000\n"
     ]
    },
    {
     "name": "stdout",
     "output_type": "stream",
     "text": [
      "invaild input\n"
     ]
    }
   ],
   "source": [
    "phone_number = input(\"enter your phone no: \")\n",
    "\n",
    " \n",
    "if phone_number.isdigit() and len(phone_number) == 10 and phone_number != \"0000000000\":\n",
    "    print(f\"user input is correct\")\n",
    "else:\n",
    "    print(\"invaild input\")"
   ]
  },
  {
   "cell_type": "code",
   "execution_count": 46,
   "id": "3d5f4784-377f-42d8-a479-5ecd8ccfb70e",
   "metadata": {},
   "outputs": [
    {
     "data": {
      "text/plain": [
       "True"
      ]
     },
     "execution_count": 46,
     "metadata": {},
     "output_type": "execute_result"
    }
   ],
   "source": [
    "phone_number.startswith(\"0\")"
   ]
  },
  {
   "cell_type": "code",
   "execution_count": 48,
   "id": "be3d1ae7-93ad-42ce-b2c3-1f5d53d41c54",
   "metadata": {},
   "outputs": [
    {
     "data": {
      "text/plain": [
       "True"
      ]
     },
     "execution_count": 48,
     "metadata": {},
     "output_type": "execute_result"
    }
   ],
   "source": [
    "phone_number.startswith(\"0\")"
   ]
  },
  {
   "cell_type": "code",
   "execution_count": 47,
   "id": "4afcb0e0-6e60-45be-bd70-356b6acb9e12",
   "metadata": {},
   "outputs": [
    {
     "data": {
      "text/plain": [
       "True"
      ]
     },
     "execution_count": 47,
     "metadata": {},
     "output_type": "execute_result"
    }
   ],
   "source": [
    "phone_number.endswith(\"0\")"
   ]
  },
  {
   "cell_type": "code",
   "execution_count": 49,
   "id": "ae862c2e-35df-4740-a517-6779ef143724",
   "metadata": {},
   "outputs": [
    {
     "data": {
      "text/plain": [
       "True"
      ]
     },
     "execution_count": 49,
     "metadata": {},
     "output_type": "execute_result"
    }
   ],
   "source": [
    "phone_number = \"+917896452563\"\n",
    "\n",
    "phone_number.startswith(\"+91\")"
   ]
  },
  {
   "cell_type": "code",
   "execution_count": 52,
   "id": "13378a8e-5b63-4abf-b7d7-90773c59f163",
   "metadata": {},
   "outputs": [
    {
     "data": {
      "text/plain": [
       "'+'"
      ]
     },
     "execution_count": 52,
     "metadata": {},
     "output_type": "execute_result"
    }
   ],
   "source": [
    "phone_number[:1]"
   ]
  },
  {
   "cell_type": "code",
   "execution_count": 53,
   "id": "414f60e3-5ad2-4531-b805-a14393c981f9",
   "metadata": {},
   "outputs": [
    {
     "data": {
      "text/plain": [
       "'917896452563'"
      ]
     },
     "execution_count": 53,
     "metadata": {},
     "output_type": "execute_result"
    }
   ],
   "source": [
    "phone_number[1:]"
   ]
  },
  {
   "cell_type": "code",
   "execution_count": 54,
   "id": "c2f15431-7fa8-424c-89a6-e84db069130d",
   "metadata": {},
   "outputs": [
    {
     "data": {
      "text/plain": [
       "True"
      ]
     },
     "execution_count": 54,
     "metadata": {},
     "output_type": "execute_result"
    }
   ],
   "source": [
    "phone_number[1:].isdigit()"
   ]
  },
  {
   "cell_type": "code",
   "execution_count": 55,
   "id": "8b0152d8-5b25-4261-924d-70b94ab983c1",
   "metadata": {},
   "outputs": [
    {
     "data": {
      "text/plain": [
       "True"
      ]
     },
     "execution_count": 55,
     "metadata": {},
     "output_type": "execute_result"
    }
   ],
   "source": [
    "len(phone_number)==13"
   ]
  },
  {
   "cell_type": "code",
   "execution_count": 50,
   "id": "97d2eea0-6f75-4778-bb02-a113d61c0274",
   "metadata": {},
   "outputs": [
    {
     "name": "stdin",
     "output_type": "stream",
     "text": [
      "enter your indian phone no:  7896452563\n"
     ]
    },
    {
     "name": "stdout",
     "output_type": "stream",
     "text": [
      "invaild input\n"
     ]
    }
   ],
   "source": [
    "phone_number = input(\"enter your indian phone no: \")\n",
    "\n",
    " \n",
    "if phone_number.isdigit() and len(phone_number) == 13:\n",
    "    print(f\"user input is correct\")\n",
    "else:\n",
    "    print(\"invaild input\")"
   ]
  },
  {
   "cell_type": "code",
   "execution_count": 51,
   "id": "10672ced-3cdc-4a72-af26-9fd776cae3bb",
   "metadata": {},
   "outputs": [
    {
     "name": "stdin",
     "output_type": "stream",
     "text": [
      "enter your indian phone no:  +917896452563\n"
     ]
    },
    {
     "name": "stdout",
     "output_type": "stream",
     "text": [
      "invaild input\n"
     ]
    }
   ],
   "source": [
    "phone_number = input(\"enter your indian phone no: \")\n",
    "\n",
    " \n",
    "if phone_number.isdigit() and len(phone_number) == 13:\n",
    "    print(f\"user input is correct\")\n",
    "else:\n",
    "    print(\"invaild input\")"
   ]
  },
  {
   "cell_type": "code",
   "execution_count": 60,
   "id": "2b26791c-b241-45eb-8bfe-fe452adf2b6d",
   "metadata": {},
   "outputs": [
    {
     "name": "stdin",
     "output_type": "stream",
     "text": [
      "enter your indian phone no:  +917896452563\n"
     ]
    },
    {
     "name": "stdout",
     "output_type": "stream",
     "text": [
      "user input is correct\n"
     ]
    }
   ],
   "source": [
    "phone_number = input(\"enter your indian phone no: \")\n",
    "\n",
    " \n",
    "if phone_number.startswith(\"+91\") and phone_number[1:].isdigit() and len(phone_number) == 13:\n",
    "    print(f\"user input is correct\")\n",
    "else:\n",
    "    print(\"invaild input\")"
   ]
  },
  {
   "cell_type": "code",
   "execution_count": 61,
   "id": "4fb6763b-bba9-46f8-8d51-8582fe6237b9",
   "metadata": {},
   "outputs": [
    {
     "name": "stdin",
     "output_type": "stream",
     "text": [
      "enter your indian phone no:  917896452563\n"
     ]
    },
    {
     "name": "stdout",
     "output_type": "stream",
     "text": [
      "invaild input\n"
     ]
    }
   ],
   "source": [
    "phone_number = input(\"enter your indian phone no: \")\n",
    "\n",
    " \n",
    "if phone_number.startswith(\"+91\") and phone_number[1:].isdigit() and len(phone_number) == 13:\n",
    "    print(f\"user input is correct\")\n",
    "else:\n",
    "    print(\"invaild input\")"
   ]
  },
  {
   "cell_type": "code",
   "execution_count": 64,
   "id": "e140f16d-90d3-4280-87a0-2415cb33754e",
   "metadata": {},
   "outputs": [
    {
     "data": {
      "text/plain": [
       "True"
      ]
     },
     "execution_count": 64,
     "metadata": {},
     "output_type": "execute_result"
    }
   ],
   "source": [
    "PAN_NUMBERS = \"APGRT5689K\"\n",
    "\n",
    "PAN_NUMBERS.isalnum()  # check for alpha numeric case\n"
   ]
  },
  {
   "cell_type": "code",
   "execution_count": 65,
   "id": "f0bd6c85-ba3c-4db3-b72e-9b904b4c5ac4",
   "metadata": {},
   "outputs": [
    {
     "data": {
      "text/plain": [
       "True"
      ]
     },
     "execution_count": 65,
     "metadata": {},
     "output_type": "execute_result"
    }
   ],
   "source": [
    "PAN_NUMBERS = \"3554545112\"\n",
    "\n",
    "PAN_NUMBERS.isalnum()  # check for alphabets or numeric numeric case\n"
   ]
  },
  {
   "cell_type": "code",
   "execution_count": 66,
   "id": "6f300807-3bd9-4220-952f-2ed8387f6360",
   "metadata": {},
   "outputs": [
    {
     "data": {
      "text/plain": [
       "False"
      ]
     },
     "execution_count": 66,
     "metadata": {},
     "output_type": "execute_result"
    }
   ],
   "source": [
    "PAN_NUMBERS = \"SOHAIL   ANWAR\" # BECAUSE IT CONTAINS WHICH IS NOT ALPHABETS\n",
    "\n",
    "PAN_NUMBERS.isalnum() "
   ]
  },
  {
   "cell_type": "code",
   "execution_count": null,
   "id": "1e473b6a-bb6a-4c9c-bcfe-8beefd2d477f",
   "metadata": {},
   "outputs": [],
   "source": []
  }
 ],
 "metadata": {
  "kernelspec": {
   "display_name": "Python 3 (ipykernel)",
   "language": "python",
   "name": "python3"
  },
  "language_info": {
   "codemirror_mode": {
    "name": "ipython",
    "version": 3
   },
   "file_extension": ".py",
   "mimetype": "text/x-python",
   "name": "python",
   "nbconvert_exporter": "python",
   "pygments_lexer": "ipython3",
   "version": "3.10.6"
  }
 },
 "nbformat": 4,
 "nbformat_minor": 5
}
