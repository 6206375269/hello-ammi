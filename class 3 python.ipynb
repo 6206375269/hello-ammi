{
 "cells": [
  {
   "cell_type": "code",
   "execution_count": 9,
   "id": "76f9b3a2-b425-4d4b-bf1e-aacebb852abe",
   "metadata": {},
   "outputs": [],
   "source": [
    "# Glimpse of conditional statement\n",
    "# - if - else - condition\n",
    "\n",
    "# operators\n",
    "# - logical\n",
    "# - eqality\n",
    "# - comparision\n",
    "# - arthimatic\n",
    "# - oprators for sets and dictionary\n",
    "# 1 string methods\n",
    "# 2 control flow statement"
   ]
  },
  {
   "cell_type": "code",
   "execution_count": 3,
   "id": "29d6d46d-9b17-41f7-ae94-77fc9521e255",
   "metadata": {},
   "outputs": [],
   "source": [
    "# logicals oprators\n",
    "# keywords | meaning\n",
    "# not| unary negation\n",
    "# and | conditional AND\n",
    "# or | conditional OR"
   ]
  },
  {
   "cell_type": "code",
   "execution_count": 4,
   "id": "4c872be8-a104-4452-b471-d39fc8da7e23",
   "metadata": {},
   "outputs": [
    {
     "name": "stdout",
     "output_type": "stream",
     "text": [
      "True\n"
     ]
    }
   ],
   "source": [
    "START = True\n",
    "print(START)"
   ]
  },
  {
   "cell_type": "code",
   "execution_count": 6,
   "id": "44721762-4a27-4c15-a766-d280686de96f",
   "metadata": {},
   "outputs": [
    {
     "name": "stdout",
     "output_type": "stream",
     "text": [
      "False\n"
     ]
    }
   ],
   "source": [
    "START = True        # CONDITIONAL STATEMENT ( IF ELSE )\n",
    "print(not START)"
   ]
  },
  {
   "cell_type": "code",
   "execution_count": 2,
   "id": "f6b04736-e8d2-497f-bf61-b5523d050676",
   "metadata": {},
   "outputs": [
    {
     "name": "stdout",
     "output_type": "stream",
     "text": [
      "lets concentrate\n"
     ]
    }
   ],
   "source": [
    "class_started = True\n",
    "\n",
    "if class_started:\n",
    "    print(\"lets concentrate\") # extra space is called indention"
   ]
  },
  {
   "cell_type": "code",
   "execution_count": 4,
   "id": "6a16fa65-f3b1-4ceb-bc58-c3e3b0b03fb6",
   "metadata": {},
   "outputs": [
    {
     "name": "stdout",
     "output_type": "stream",
     "text": [
      "lets revise previous class\n"
     ]
    }
   ],
   "source": [
    "class_started = False\n",
    "\n",
    "if  class_started:\n",
    "    print(\"lets concentrate\")\n",
    "else:\n",
    "    print(\"lets revise previous class\")"
   ]
  },
  {
   "cell_type": "code",
   "execution_count": 6,
   "id": "152d3d25-9ee7-4331-b704-f9f86ab593b0",
   "metadata": {},
   "outputs": [
    {
     "name": "stdout",
     "output_type": "stream",
     "text": [
      "lets do work home\n"
     ]
    }
   ],
   "source": [
    "raining = True\n",
    "\n",
    "if raining: # True C ondition\n",
    "    print(\"lets do work home\") # this statement excuted\n",
    "else:\n",
    "    print(\"lets go to the office\")"
   ]
  },
  {
   "cell_type": "code",
   "execution_count": 10,
   "id": "b8b8a9d7-d22f-4257-8f2b-e3f5efe2b097",
   "metadata": {},
   "outputs": [
    {
     "name": "stdout",
     "output_type": "stream",
     "text": [
      "lets go to the office\n"
     ]
    }
   ],
   "source": [
    "raining = False\n",
    "\n",
    "if raining: # False Condition\n",
    "    print(\"lets do work home\") # \n",
    "else:\n",
    "    print(\"lets go to the office\") # # this statement excuted"
   ]
  },
  {
   "cell_type": "code",
   "execution_count": 13,
   "id": "9c591f8e-85e1-45b0-8e13-ff4ea6ecee0b",
   "metadata": {},
   "outputs": [
    {
     "ename": "IndentationError",
     "evalue": "expected an indented block after 'if' statement on line 3 (2947609238.py, line 4)",
     "output_type": "error",
     "traceback": [
      "\u001b[0;36m  Cell \u001b[0;32mIn [13], line 4\u001b[0;36m\u001b[0m\n\u001b[0;31m    print(\"lets do work home\") #\u001b[0m\n\u001b[0m    ^\u001b[0m\n\u001b[0;31mIndentationError\u001b[0m\u001b[0;31m:\u001b[0m expected an indented block after 'if' statement on line 3\n"
     ]
    }
   ],
   "source": [
    "raining = False\n",
    "\n",
    "if raining: # False Condition\n",
    "print(\"lets do work home\") #\n",
    "else:\n",
    "print(\"lets go to the office\")  # there is no extra space indentation error"
   ]
  },
  {
   "cell_type": "code",
   "execution_count": 15,
   "id": "e64c6ba1-922c-4b8e-8af2-049db704fce0",
   "metadata": {},
   "outputs": [
    {
     "name": "stdout",
     "output_type": "stream",
     "text": [
      "since its raining...\n",
      "lets do work home\n"
     ]
    }
   ],
   "source": [
    "raining = True\n",
    "\n",
    "if raining:# True C ondition\n",
    "    print(\"since its raining...\")\n",
    "    print(\"lets do work home\") # this statement excuted\n",
    "else:\n",
    "    print(\"since its not raining...\")\n",
    "    print(\"lets go to the office\")"
   ]
  },
  {
   "cell_type": "code",
   "execution_count": 17,
   "id": "318de2d8-7a69-4ecd-8f14-17c93075ce92",
   "metadata": {},
   "outputs": [
    {
     "name": "stdout",
     "output_type": "stream",
     "text": [
      "since its not raining...\n",
      "lets go to the office\n"
     ]
    }
   ],
   "source": [
    "raining = False\n",
    "\n",
    "if raining:# \n",
    "    print(\"since its raining...\")\n",
    "    print(\"lets do work home\") \n",
    "else:\n",
    "    print(\"since its not raining...\")\n",
    "    print(\"lets go to the office\")"
   ]
  },
  {
   "cell_type": "code",
   "execution_count": 19,
   "id": "7928ff7a-1ff5-45d1-a2b8-589a95bd9d65",
   "metadata": {},
   "outputs": [
    {
     "name": "stdout",
     "output_type": "stream",
     "text": [
      "since its raining...\n",
      "lets do work home\n"
     ]
    }
   ],
   "source": [
    "raining = True\n",
    "\n",
    "if not raining:\n",
    "     print(\"since its not raining...\")\n",
    "     print(\"lets go to the office\")\n",
    "   \n",
    "else:\n",
    "     print(\"since its raining...\")\n",
    "     print(\"lets do work home\") "
   ]
  },
  {
   "cell_type": "code",
   "execution_count": 20,
   "id": "8dc34c04-7611-4684-af20-f4717b46c904",
   "metadata": {},
   "outputs": [
    {
     "name": "stdout",
     "output_type": "stream",
     "text": [
      "since its not raining...\n",
      "lets go to the office\n"
     ]
    }
   ],
   "source": [
    "raining = False\n",
    "\n",
    "if not raining:\n",
    "     print(\"since its not raining...\")\n",
    "     print(\"lets go to the office\")\n",
    "   \n",
    "else:\n",
    "     print(\"since its raining...\")\n",
    "     print(\"lets do work home\") "
   ]
  },
  {
   "cell_type": "code",
   "execution_count": 22,
   "id": "33d701ff-2af3-4671-949d-3b01822b9700",
   "metadata": {},
   "outputs": [
    {
     "name": "stdout",
     "output_type": "stream",
     "text": [
      "since class is not started...\n",
      "lets revise previous class\n"
     ]
    }
   ],
   "source": [
    "class_started = False\n",
    "\n",
    "if  class_started:\n",
    "    print(\"since class started...\")\n",
    "    print(\"lets concentrate\")\n",
    "else:\n",
    "    print(\"since class is not started...\")\n",
    "    print(\"lets revise previous class\")"
   ]
  },
  {
   "cell_type": "code",
   "execution_count": 25,
   "id": "d8b62bac-6d4f-4f26-aaac-a9628de05ae4",
   "metadata": {},
   "outputs": [
    {
     "name": "stdout",
     "output_type": "stream",
     "text": [
      "since class started...\n",
      "lets concentrate\n"
     ]
    }
   ],
   "source": [
    "class_started = True\n",
    "\n",
    "if  class_started:\n",
    "    print(\"since class started...\")\n",
    "    print(\"lets concentrate\")\n",
    "else:\n",
    "    print(\"since class is not started...\")\n",
    "    print(\"lets revise previous class\")"
   ]
  },
  {
   "cell_type": "code",
   "execution_count": 27,
   "id": "60723dc0-2dbd-48d6-a937-707efd16cd81",
   "metadata": {},
   "outputs": [
    {
     "name": "stdout",
     "output_type": "stream",
     "text": [
      "since class started...\n",
      "lets concentrate\n"
     ]
    }
   ],
   "source": [
    "class_started = True\n",
    "\n",
    "if not class_started:\n",
    "    print(\"since class is not started...\")\n",
    "    print(\"lets revise previous class\")\n",
    "    \n",
    "else:\n",
    "    print(\"since class started...\")\n",
    "    print(\"lets concentrate\")"
   ]
  },
  {
   "cell_type": "code",
   "execution_count": 28,
   "id": "5f1334df-79bf-4831-b010-b3f7c7a2e405",
   "metadata": {},
   "outputs": [
    {
     "name": "stdout",
     "output_type": "stream",
     "text": [
      "since class is not started...\n",
      "lets revise previous class\n"
     ]
    }
   ],
   "source": [
    "class_started = False\n",
    "\n",
    "if not class_started:\n",
    "    print(\"since class is not started...\")\n",
    "    print(\"lets revise previous class\")\n",
    "    \n",
    "else:\n",
    "    print(\"since class started...\")\n",
    "    print(\"lets concentrate\")"
   ]
  },
  {
   "cell_type": "code",
   "execution_count": 33,
   "id": "523217b3-5998-40f0-9ecf-6a57703a6013",
   "metadata": {},
   "outputs": [
    {
     "ename": "IndentationError",
     "evalue": "unindent does not match any outer indentation level (<tokenize>, line 9)",
     "output_type": "error",
     "traceback": [
      "\u001b[0;36m  File \u001b[0;32m<tokenize>:9\u001b[0;36m\u001b[0m\n\u001b[0;31m    print(\"lets concentrate\") # this is called indentation error\u001b[0m\n\u001b[0m    ^\u001b[0m\n\u001b[0;31mIndentationError\u001b[0m\u001b[0;31m:\u001b[0m unindent does not match any outer indentation level\n"
     ]
    }
   ],
   "source": [
    "class_started = False  # statement no alligned properly will give indentation error\n",
    "\n",
    "if not class_started:\n",
    "print(\"since class is not started...\")\n",
    "  print(\"lets revise previous class\")\n",
    "    \n",
    "else:\n",
    "    print(\"since class started...\")\n",
    "  print(\"lets concentrate\") # this is called indentation error"
   ]
  },
  {
   "cell_type": "code",
   "execution_count": 7,
   "id": "aa8d18fc-2624-46c9-a6e8-8002bed0fa7f",
   "metadata": {},
   "outputs": [
    {
     "name": "stdin",
     "output_type": "stream",
     "text": [
      "hey friend is class started?: [0-False/1-True] 0\n"
     ]
    },
    {
     "name": "stdout",
     "output_type": "stream",
     "text": [
      "since class started...\n",
      "lets concentrate\n"
     ]
    }
   ],
   "source": [
    "# statement not alligned properly will give indentation error\n",
    "## less take it at the end\n",
    "class_started = bool(input(\"hey friend is class started?: [0-False/1-True]\"))\n",
    "\n",
    "if not class_started:\n",
    "    print(\"since class is not started...\")\n",
    "    print(\"lets revise \")\n",
    "    \n",
    "else:\n",
    "    print(\"since class started...\")\n",
    "    print(\"lets concentrate\") "
   ]
  },
  {
   "cell_type": "code",
   "execution_count": 10,
   "id": "065d8d6a-a6ce-4b60-808c-c0745fc3636e",
   "metadata": {},
   "outputs": [
    {
     "name": "stdin",
     "output_type": "stream",
     "text": [
      "hey friend is class started?: [0-False/1-True] 1\n"
     ]
    },
    {
     "name": "stdout",
     "output_type": "stream",
     "text": [
      "since class is not started...\n",
      "lets revise \n"
     ]
    }
   ],
   "source": [
    "class_started = bool(input(\"hey friend is class started?: [0-False/1-True]\"))\n",
    "\n",
    "if not class_started:\n",
    "        \n",
    "            print(\"since class started...\")\n",
    "            print(\"lets concentrate\") \n",
    "    \n",
    "else:\n",
    "        print(\"since class is not started...\")\n",
    "        print(\"lets revise \")   "
   ]
  },
  {
   "cell_type": "code",
   "execution_count": 11,
   "id": "73e22c02-970a-491e-8df4-b53a040c0649",
   "metadata": {},
   "outputs": [
    {
     "name": "stdout",
     "output_type": "stream",
     "text": [
      "its a bad dish\n",
      "because vegetable present: False\n",
      "and salt present: False\n"
     ]
    }
   ],
   "source": [
    "## AND condition\n",
    "vegetable_present = False\n",
    "salt_present = False\n",
    "\n",
    "if vegetable_present and salt_present:\n",
    "    print(\"its a good dish\")\n",
    "    \n",
    "else:\n",
    "    print(\"its a bad dish\")\n",
    "    print(f\"because vegetable present: {vegetable_present}\")\n",
    "    print(f\"and salt present: {salt_present}\")"
   ]
  },
  {
   "cell_type": "code",
   "execution_count": 12,
   "id": "b5e8dc62-f18b-4ed9-b03f-8c5ff3aba037",
   "metadata": {},
   "outputs": [
    {
     "name": "stdout",
     "output_type": "stream",
     "text": [
      "its a bad dish\n",
      "because vegetable present: False\n",
      "and salt present: True\n"
     ]
    }
   ],
   "source": [
    "vegetable_present = False\n",
    "salt_present = True\n",
    "\n",
    "if vegetable_present and salt_present:\n",
    "    print(\"its a good dish\")\n",
    "    \n",
    "else:\n",
    "    print(\"its a bad dish\")\n",
    "    print(f\"because vegetable present: {vegetable_present}\")\n",
    "    print(f\"and salt present: {salt_present}\")"
   ]
  },
  {
   "cell_type": "code",
   "execution_count": 14,
   "id": "1abe51e7-f26d-4fda-9ce9-daa07cd77674",
   "metadata": {},
   "outputs": [
    {
     "name": "stdout",
     "output_type": "stream",
     "text": [
      "its a good dish\n"
     ]
    }
   ],
   "source": [
    "vegetable_present = True\n",
    "salt_present = True\n",
    "\n",
    "if vegetable_present and salt_present: #  this condition was true as both sub condition are true\n",
    "    print(\"its a good dish\")\n",
    "    \n",
    "else:\n",
    "    print(\"its a bad dish\")\n",
    "    print(f\"because vegetable present: {vegetable_present}\")\n",
    "    print(f\"and salt present: {salt_present}\")"
   ]
  },
  {
   "cell_type": "code",
   "execution_count": 16,
   "id": "124794be-9b2e-45b9-abec-950a6263bbc1",
   "metadata": {},
   "outputs": [
    {
     "name": "stdout",
     "output_type": "stream",
     "text": [
      "hi class my name is: sohail\n"
     ]
    }
   ],
   "source": [
    "name = \"sohail\"\n",
    "print(f\"hi class my name is: {name}\")"
   ]
  },
  {
   "cell_type": "code",
   "execution_count": 18,
   "id": "0ca00a45-34ba-4293-9d04-f040ff3bce19",
   "metadata": {},
   "outputs": [
    {
     "name": "stdout",
     "output_type": "stream",
     "text": [
      "i am stuck as i don't have car or bike\n"
     ]
    }
   ],
   "source": [
    "## OR condition or\n",
    "# if i have a car or bike  then i can travel 100km in a day\n",
    "i_own_car = False\n",
    "i_own_bike = False\n",
    "\n",
    "if i_own_car or i_own_bike:\n",
    "    print(\"i can travel 100 kms in a day!\")\n",
    "else:\n",
    "    print(\"i am stuck as i don't have car or bike\")"
   ]
  },
  {
   "cell_type": "code",
   "execution_count": 20,
   "id": "6720fe89-393d-4a71-9d9c-d1ad629c79fa",
   "metadata": {},
   "outputs": [
    {
     "name": "stdout",
     "output_type": "stream",
     "text": [
      "i can travel 100 kms in a day!\n"
     ]
    }
   ],
   "source": [
    "i_own_car = True\n",
    "i_own_bike = False\n",
    "\n",
    "if i_own_car or i_own_bike:\n",
    "    print(\"i can travel 100 kms in a day!\")\n",
    "else:\n",
    "    print(\"i am stuck as i don't have car or bike\")"
   ]
  },
  {
   "cell_type": "code",
   "execution_count": 22,
   "id": "1e8d934e-84a0-4df6-aa74-81826b6f24de",
   "metadata": {},
   "outputs": [
    {
     "name": "stdout",
     "output_type": "stream",
     "text": [
      "i can travel 100 kms in a day!\n"
     ]
    }
   ],
   "source": [
    "i_own_car = False\n",
    "i_own_bike = True\n",
    "\n",
    "if i_own_car or i_own_bike:\n",
    "    print(\"i can travel 100 kms in a day!\")\n",
    "else:\n",
    "    print(\"i am stuck as i don't have car or bike\")"
   ]
  },
  {
   "cell_type": "code",
   "execution_count": 23,
   "id": "bfeb56b0-3dfd-484e-a3b6-2473d502ae3d",
   "metadata": {},
   "outputs": [
    {
     "name": "stdout",
     "output_type": "stream",
     "text": [
      "i can travel 100 kms in a day!\n"
     ]
    }
   ],
   "source": [
    "i_own_car = True\n",
    "i_own_bike = True\n",
    "\n",
    "if i_own_car or i_own_bike:\n",
    "    print(\"i can travel 100 kms in a day!\")\n",
    "else:\n",
    "    print(\"i am stuck as i don't have car or bike\")"
   ]
  },
  {
   "cell_type": "code",
   "execution_count": 25,
   "id": "4d51657d-c916-453c-ae5e-ca42f323b47d",
   "metadata": {},
   "outputs": [
    {
     "name": "stdout",
     "output_type": "stream",
     "text": [
      "i can travel 100 kms in a day!\n"
     ]
    }
   ],
   "source": [
    "## conclusion- \n",
    "# 1.use and operator when you want all the condition to be true\n",
    "#2. use or operatorif anyone of the condition you want to be true\n",
    "\n",
    "i_own_car = True\n",
    "i_own_bike = True\n",
    "\n",
    "if i_own_car or i_own_bike:\n",
    "    print(\"i can travel 100 kms in a day!\")\n",
    "else:\n",
    "    print(\"i am stuck as i don't have car or bike\")"
   ]
  },
  {
   "cell_type": "code",
   "execution_count": 28,
   "id": "8626a733-2ed8-4f94-81df-158c6c6317fd",
   "metadata": {},
   "outputs": [
    {
     "name": "stdout",
     "output_type": "stream",
     "text": [
      "True\n",
      "False\n",
      "the student is not eligible\n"
     ]
    }
   ],
   "source": [
    "attendance = 90\n",
    "assigment_submitted = 40\n",
    "\n",
    "print(attendance >= 75)\n",
    "print(assigment_submitted >= 70)\n",
    "\n",
    "if attendance >= 75 and assigment_submitted >= 70:\n",
    "    print(\"the student is eligible to appear in final exam\")\n",
    "else:\n",
    "    print(\"the student is not eligible\")"
   ]
  },
  {
   "cell_type": "code",
   "execution_count": 29,
   "id": "9b54155f-0ebc-48da-8330-10f16a6ba50e",
   "metadata": {},
   "outputs": [
    {
     "name": "stdout",
     "output_type": "stream",
     "text": [
      "False\n",
      "False\n",
      "the student is not eligible\n"
     ]
    }
   ],
   "source": [
    "attendance = 70\n",
    "assigment_submitted = 40\n",
    "\n",
    "print(attendance >= 75)\n",
    "print(assigment_submitted >= 70)\n",
    "\n",
    "if attendance >= 75 and assigment_submitted >= 70:\n",
    "    print(\"the student is eligible to appear in final exam\")\n",
    "else:\n",
    "    print(\"the student is not eligible\")"
   ]
  },
  {
   "cell_type": "code",
   "execution_count": 31,
   "id": "49e02019-3d69-4c7d-accd-e556bba5795c",
   "metadata": {},
   "outputs": [
    {
     "name": "stdout",
     "output_type": "stream",
     "text": [
      "True\n",
      "True\n",
      "the student is eligible to appear in final exam\n"
     ]
    }
   ],
   "source": [
    "attendance = 90\n",
    "assigment_submitted = 90\n",
    "\n",
    "print(attendance >= 75)\n",
    "print(assigment_submitted >= 70)\n",
    "\n",
    "if attendance >= 75 and assigment_submitted >= 70:\n",
    "    print(\"the student is eligible to appear in final exam\")\n",
    "else:\n",
    "    print(\"the student is not eligible\")"
   ]
  },
  {
   "cell_type": "code",
   "execution_count": 2,
   "id": "f79d9e33-955d-48d7-a20a-3ec74957f6f1",
   "metadata": {},
   "outputs": [
    {
     "name": "stdout",
     "output_type": "stream",
     "text": [
      "attendance criteria met? : True\n",
      "assigment criteria met? :  True\n",
      "the student is eligible to appear in final exam\n"
     ]
    }
   ],
   "source": [
    "attendance = 90\n",
    "assigment_submitted = 90\n",
    "\n",
    "print(f\"attendance criteria met? : {attendance >= 75}\")\n",
    "print(f\"assigment criteria met? :  {assigment_submitted >= 70}\")\n",
    "\n",
    "if attendance >= 75 and assigment_submitted >= 70:\n",
    "    print(\"the student is eligible to appear in final exam\")\n",
    "else:\n",
    "    print(\"the student is not eligible\")"
   ]
  },
  {
   "cell_type": "code",
   "execution_count": 4,
   "id": "6450d9bf-dcaa-41e8-a570-322bacad36c0",
   "metadata": {},
   "outputs": [
    {
     "name": "stdout",
     "output_type": "stream",
     "text": [
      "attendance criteria met? : False\n",
      "assigment criteria met? :  False\n",
      "the student is not eligible\n"
     ]
    }
   ],
   "source": [
    "attendance = 70\n",
    "assigment_submitted = 40\n",
    "\n",
    "print(f\"attendance criteria met? : {attendance >= 75}\")\n",
    "print(f\"assigment criteria met? :  {assigment_submitted >= 70}\")\n",
    "\n",
    "if attendance >= 75 and assigment_submitted >= 70:\n",
    "    print(\"the student is eligible to appear in final exam\")\n",
    "else:\n",
    "    print(\"the student is not eligible\")"
   ]
  },
  {
   "cell_type": "code",
   "execution_count": 6,
   "id": "4ac41a9f-f38b-4cfa-a08c-ff9919e2c6a2",
   "metadata": {},
   "outputs": [
    {
     "name": "stdout",
     "output_type": "stream",
     "text": [
      "attendance criteria met? : True\n",
      "assigment criteria met? :  False\n",
      "the student is not eligible\n"
     ]
    }
   ],
   "source": [
    "attendance = 90\n",
    "assigment_submitted = 40\n",
    "\n",
    "print(f\"attendance criteria met? : {attendance >= 75}\")\n",
    "print(f\"assigment criteria met? :  {assigment_submitted >= 70}\")\n",
    "\n",
    "if attendance >= 75 and assigment_submitted >= 70:\n",
    "    print(\"the student is eligible to appear in final exam\")\n",
    "else:\n",
    "    print(\"the student is not eligible\")"
   ]
  },
  {
   "cell_type": "code",
   "execution_count": 8,
   "id": "8c6f2bc1-b440-409d-84fb-5ae6d44e8c83",
   "metadata": {},
   "outputs": [
    {
     "name": "stdout",
     "output_type": "stream",
     "text": [
      "ask from a dad for debit or credit card?\n",
      "cash on delivery?\n"
     ]
    }
   ],
   "source": [
    "own_credit_card = False\n",
    "own_debit_card = False\n",
    "\n",
    "if own_credit_card or own_debit_card:\n",
    "    print(\"proceed further forpayment\")\n",
    "else:\n",
    "    print(\"ask from a dad for debit or credit card?\")\n",
    "    print(\"cash on delivery?\")"
   ]
  },
  {
   "cell_type": "code",
   "execution_count": 10,
   "id": "2d3b809d-6e90-4abd-af1b-a64af80522da",
   "metadata": {},
   "outputs": [
    {
     "name": "stdout",
     "output_type": "stream",
     "text": [
      "proceed further forpayment\n"
     ]
    }
   ],
   "source": [
    "own_credit_card = False\n",
    "own_debit_card = True\n",
    "\n",
    "if own_credit_card or own_debit_card:\n",
    "    print(\"proceed further forpayment\")\n",
    "else:\n",
    "    print(\"ask from a dad for debit or credit card?\")\n",
    "    print(\"cash on delivery?\")"
   ]
  },
  {
   "cell_type": "code",
   "execution_count": 11,
   "id": "c336d929-e76c-4768-a8f4-2d312d44c848",
   "metadata": {},
   "outputs": [
    {
     "name": "stdout",
     "output_type": "stream",
     "text": [
      "proceed further forpayment\n"
     ]
    }
   ],
   "source": [
    "own_credit_card = True\n",
    "own_debit_card = True\n",
    "\n",
    "if own_credit_card or own_debit_card:\n",
    "    print(\"proceed further forpayment\")\n",
    "else:\n",
    "    print(\"ask from a dad for debit or credit card?\")\n",
    "    print(\"cash on delivery?\")"
   ]
  },
  {
   "cell_type": "code",
   "execution_count": 13,
   "id": "74c18db5-f8bc-4aee-8433-de0b98db5e1b",
   "metadata": {},
   "outputs": [
    {
     "name": "stdout",
     "output_type": "stream",
     "text": [
      "proceed further forpayment\n"
     ]
    }
   ],
   "source": [
    "own_credit_card = False\n",
    "own_debit_card = True\n",
    "UPI = True\n",
    "\n",
    "if own_credit_card or own_debit_card:\n",
    "    print(\"proceed further forpayment\")\n",
    "else:\n",
    "    print(\"ask from a dad for debit or credit card?\")\n",
    "    print(\"cash on delivery?\")"
   ]
  },
  {
   "cell_type": "code",
   "execution_count": 15,
   "id": "aad417eb-91bb-4122-9add-59d607cd45ca",
   "metadata": {},
   "outputs": [
    {
     "name": "stdout",
     "output_type": "stream",
     "text": [
      "proceed further forpayment\n"
     ]
    }
   ],
   "source": [
    "own_credit_card = False\n",
    "own_debit_card = True\n",
    "UPI = True\n",
    "Net_banking = True\n",
    "\n",
    "if own_credit_card or own_debit_card:\n",
    "    print(\"proceed further forpayment\")\n",
    "else:\n",
    "    print(\"ask from a dad for debit or credit card?\")\n",
    "    print(\"cash on delivery?\")"
   ]
  },
  {
   "cell_type": "code",
   "execution_count": 16,
   "id": "3b6ff832-e20c-481a-82f4-e426804872a9",
   "metadata": {},
   "outputs": [
    {
     "name": "stdout",
     "output_type": "stream",
     "text": [
      "proceed further forpayment\n"
     ]
    }
   ],
   "source": [
    "own_credit_card = False\n",
    "own_debit_card = True\n",
    "Net_banking = True\n",
    "\n",
    "if own_credit_card or own_debit_card or Net_banking:\n",
    "    print(\"proceed further forpayment\")\n",
    "else:\n",
    "    print(\"ask from a dad for debit or credit card?\")\n",
    "    print(\"cash on delivery?\")"
   ]
  },
  {
   "cell_type": "code",
   "execution_count": 17,
   "id": "63b1bf01-4db0-42f2-99a3-bfd28d0eb3f3",
   "metadata": {},
   "outputs": [],
   "source": [
    "## and or together"
   ]
  },
  {
   "cell_type": "code",
   "execution_count": 18,
   "id": "d949a056-33df-404c-b67e-ac6c91eb4d19",
   "metadata": {},
   "outputs": [
    {
     "name": "stdout",
     "output_type": "stream",
     "text": [
      "attendance criteria met? : True\n",
      "assigment criteria met? :  False\n",
      "the student is eligible to appear in final exam\n"
     ]
    }
   ],
   "source": [
    "attendance = 90\n",
    "assigment_submitted = 40\n",
    "sports_player = True\n",
    "\n",
    "print(f\"attendance criteria met? : {attendance >= 75}\")\n",
    "print(f\"assigment criteria met? :  {assigment_submitted >= 70}\")\n",
    "\n",
    "if (attendance >= 75 and assigment_submitted >= 70) or sports_player:\n",
    "    print(\"the student is eligible to appear in final exam\")\n",
    "else:\n",
    "    print(\"the student is not eligible\")"
   ]
  },
  {
   "cell_type": "code",
   "execution_count": 19,
   "id": "91384e42-8750-4040-8605-ddceb464543e",
   "metadata": {},
   "outputs": [
    {
     "name": "stdout",
     "output_type": "stream",
     "text": [
      "attendance criteria met? : False\n",
      "assigment criteria met? :  False\n",
      "the student is eligible to appear in final exam\n"
     ]
    }
   ],
   "source": [
    "attendance = 70\n",
    "assigment_submitted = 40\n",
    "sports_player = True\n",
    "\n",
    "print(f\"attendance criteria met? : {attendance >= 75}\")\n",
    "print(f\"assigment criteria met? :  {assigment_submitted >= 70}\")\n",
    "\n",
    "if (attendance >= 75 and assigment_submitted >= 70) or sports_player:\n",
    "    print(\"the student is eligible to appear in final exam\")\n",
    "else:\n",
    "    print(\"the student is not eligible\")"
   ]
  },
  {
   "cell_type": "code",
   "execution_count": 20,
   "id": "f60d3d2a-9506-4615-b744-6900fc16f1e1",
   "metadata": {},
   "outputs": [
    {
     "name": "stdout",
     "output_type": "stream",
     "text": [
      "attendance criteria met? : False\n",
      "assigment criteria met? :  False\n",
      "sports criteria met? :  True\n",
      "the student is eligible to appear in final exam\n"
     ]
    }
   ],
   "source": [
    "attendance = 70\n",
    "assigment_submitted = 40\n",
    "sports_player = True\n",
    "\n",
    "print(f\"attendance criteria met? : {attendance >= 75}\")\n",
    "print(f\"assigment criteria met? :  {assigment_submitted >= 70}\")\n",
    "print(f\"sports criteria met? :  {sports_player}\")\n",
    "\n",
    "if attendance >= 75 and assigment_submitted >= 70 or sports_player:\n",
    "    print(\"the student is eligible to appear in final exam\")\n",
    "else:\n",
    "    print(\"the student is not eligible\")"
   ]
  },
  {
   "cell_type": "code",
   "execution_count": 27,
   "id": "810ed09f-5e8a-46f0-bcaf-522552608c5c",
   "metadata": {},
   "outputs": [
    {
     "name": "stdout",
     "output_type": "stream",
     "text": [
      "attendance criteria met? : False\n",
      "assigment criteria met? :  False\n",
      "sports criteria met? :  True\n",
      "the student is not eligible\n"
     ]
    }
   ],
   "source": [
    "attendance = 70\n",
    "assigment_submitted = 40\n",
    "sports_player = True\n",
    "\n",
    "print(f\"attendance criteria met? : {attendance >= 75}\")\n",
    "print(f\"assigment criteria met? :  {assigment_submitted >= 70}\")\n",
    "print(f\"sports criteria met? :  {sports_player}\")\n",
    "\n",
    "if attendance >= 75 and assigment_submitted >= 70:\n",
    "    if sports_player:\n",
    "        print(\"the student is eligible to appear in final exam\")\n",
    "    else:\n",
    "         print(\"the student is eligible to appear in final exam\")\n",
    "else:\n",
    "    print(\"the student is not eligible\")"
   ]
  },
  {
   "cell_type": "code",
   "execution_count": 28,
   "id": "b8866897-5448-4ad6-916f-569ed6fac557",
   "metadata": {},
   "outputs": [
    {
     "name": "stdout",
     "output_type": "stream",
     "text": [
      "attendance criteria met? : True\n",
      "assigment criteria met? :  True\n",
      "sports criteria met? :  False\n",
      "the student is eligible to appear in final exam\n"
     ]
    }
   ],
   "source": [
    "# complex conditional casses as mentioned above - \n",
    "attendance = 90  # mandatory\n",
    "assigment_submitted = 75  # mandatory\n",
    "sports_player = False  # not mandatory\n",
    "\n",
    "print(f\"attendance criteria met? : {attendance >= 75}\")\n",
    "print(f\"assigment criteria met? :  {assigment_submitted >= 70}\")\n",
    "print(f\"sports criteria met? :  {sports_player}\")\n",
    "\n",
    "if attendance >= 75 and assigment_submitted >= 70:\n",
    "    if sports_player:\n",
    "        print(\"the student is eligible to appear in final exam\")\n",
    "    else:\n",
    "         print(\"the student is eligible to appear in final exam\")\n",
    "else:\n",
    "    print(\"the student is not eligible\")"
   ]
  },
  {
   "cell_type": "code",
   "execution_count": 29,
   "id": "bbd6b693-d276-4326-9846-095ec556a8c3",
   "metadata": {},
   "outputs": [
    {
     "name": "stdout",
     "output_type": "stream",
     "text": [
      "attendance criteria met? : True\n",
      "assigment criteria met? :  True\n",
      "sports criteria met? :  False\n",
      "the student is eligible to appear in final exam but not extra grace marks\n"
     ]
    }
   ],
   "source": [
    "attendance = 90  # mandatory\n",
    "assigment_submitted = 75  # mandatory\n",
    "sports_player = False  # not mandatory\n",
    "\n",
    "print(f\"attendance criteria met? : {attendance >= 75}\")\n",
    "print(f\"assigment criteria met? :  {assigment_submitted >= 70}\")\n",
    "print(f\"sports criteria met? :  {sports_player}\")\n",
    "\n",
    "if attendance >= 75 and assigment_submitted >= 70:\n",
    "    if sports_player:\n",
    "        print(\"the student is can get grace marks = +10\")\n",
    "    else:\n",
    "         print(\"the student is eligible to appear in final exam but not extra grace marks\")\n",
    "else:\n",
    "    print(\"the student is not eligible\")"
   ]
  },
  {
   "cell_type": "code",
   "execution_count": 30,
   "id": "d46896c3-dd70-40f8-8ecb-dc203a56b04d",
   "metadata": {},
   "outputs": [
    {
     "name": "stdout",
     "output_type": "stream",
     "text": [
      "attendance criteria met? : True\n",
      "assigment criteria met? :  True\n",
      "sports criteria met? :  True\n",
      "the student is can get grace marks = +10\n"
     ]
    }
   ],
   "source": [
    "attendance = 90  # mandatory\n",
    "assigment_submitted = 75  # mandatory\n",
    "sports_player = True  # not mandatory\n",
    "\n",
    "print(f\"attendance criteria met? : {attendance >= 75}\")\n",
    "print(f\"assigment criteria met? :  {assigment_submitted >= 70}\")\n",
    "print(f\"sports criteria met? :  {sports_player}\")\n",
    "\n",
    "if attendance >= 75 and assigment_submitted >= 70:\n",
    "    if sports_player:\n",
    "        print(\"the student is can get grace marks = +10\")\n",
    "    else:\n",
    "         print(\"the student is eligible to appear in final exam but not extra grace marks\")\n",
    "else:\n",
    "    print(\"the student is not eligible\")"
   ]
  },
  {
   "cell_type": "code",
   "execution_count": 32,
   "id": "fcaf6650-36f2-40d2-a7cb-dbbeaf4e1fd4",
   "metadata": {},
   "outputs": [
    {
     "name": "stdout",
     "output_type": "stream",
     "text": [
      "attendance criteria met? : True\n",
      "assigment criteria met? :  False\n",
      "sports criteria met? :  True\n",
      "the student is not eligible\n"
     ]
    }
   ],
   "source": [
    "attendance = 90  # mandatory\n",
    "assigment_submitted = 40  # mandatory\n",
    "sports_player = True  # not mandatory\n",
    "\n",
    "print(f\"attendance criteria met? : {attendance >= 75}\")\n",
    "print(f\"assigment criteria met? :  {assigment_submitted >= 70}\")\n",
    "print(f\"sports criteria met? :  {sports_player}\")\n",
    "\n",
    "if attendance >= 75 and assigment_submitted >= 70:\n",
    "    if sports_player:\n",
    "        print(\"the student is can get grace marks = +10\")\n",
    "    else:\n",
    "         print(\"the student is eligible to appear in final exam but not extra grace marks\")\n",
    "else:\n",
    "    print(\"the student is not eligible\")"
   ]
  },
  {
   "cell_type": "code",
   "execution_count": 34,
   "id": "80146a65-0062-4303-9d5d-945c51b2573c",
   "metadata": {},
   "outputs": [],
   "source": [
    "## Equality operator\n",
    " # operators |uses|meaning\n",
    "    # is | A is B=> | return True is A and B point to the same object\n",
    "    # is not | A is not B | return True if Aand B do not points to the same object\n",
    "    # == | B == B | A is equal to B \n",
    "    # != | A!=B | A is not Equal TO B\n",
    "    \n",
    "    # when using 'is' then we are alse comparing memory location\n",
    "    # when using 'is not' then we are also comparing memory location\n",
    "    \n",
    "    # == and != is only checkingvalue of the variables [used most offently or frequently]"
   ]
  },
  {
   "cell_type": "code",
   "execution_count": 35,
   "id": "cf99383d-2bc2-444a-b257-107b531e4d86",
   "metadata": {},
   "outputs": [
    {
     "name": "stdout",
     "output_type": "stream",
     "text": [
      "A and B are same\n"
     ]
    }
   ],
   "source": [
    "A = 1\n",
    "B = 1\n",
    "\n",
    "if A is B:\n",
    "    print(\"A and B are same\")\n",
    "else:\n",
    "    print(\"A and B are not same\")"
   ]
  },
  {
   "cell_type": "code",
   "execution_count": 45,
   "id": "5058526d-db32-420a-93b3-069ff2332223",
   "metadata": {},
   "outputs": [
    {
     "data": {
      "text/plain": [
       "139882495131888"
      ]
     },
     "execution_count": 45,
     "metadata": {},
     "output_type": "execute_result"
    }
   ],
   "source": [
    "id(A)"
   ]
  },
  {
   "cell_type": "code",
   "execution_count": 46,
   "id": "46b97344-e49c-4b57-bf4c-7898ff746e96",
   "metadata": {},
   "outputs": [
    {
     "data": {
      "text/plain": [
       "139882495131920"
      ]
     },
     "execution_count": 46,
     "metadata": {},
     "output_type": "execute_result"
    }
   ],
   "source": [
    "id(B)"
   ]
  },
  {
   "cell_type": "code",
   "execution_count": 37,
   "id": "ba755aea-6850-42c9-be91-11885465c3d7",
   "metadata": {},
   "outputs": [
    {
     "name": "stdout",
     "output_type": "stream",
     "text": [
      "A and B are not same\n"
     ]
    }
   ],
   "source": [
    "A = 1\n",
    "B = 2\n",
    "\n",
    "if A is B:\n",
    "    print(\"A and B are same\")\n",
    "else:\n",
    "    print(\"A and B are not same\")"
   ]
  },
  {
   "cell_type": "code",
   "execution_count": 39,
   "id": "b2bbcc59-75f2-45ec-b665-df293d50803e",
   "metadata": {},
   "outputs": [
    {
     "name": "stdout",
     "output_type": "stream",
     "text": [
      "A and B are not same\n"
     ]
    }
   ],
   "source": [
    "A = 1\n",
    "B = 2\n",
    "\n",
    "if A is not B:\n",
    "    print(\"A and B are not same\")\n",
    "else:\n",
    "    print(\"A and B are same\")"
   ]
  },
  {
   "cell_type": "code",
   "execution_count": 40,
   "id": "df8f426b-fb2c-4ac0-aad6-79c8b94e571b",
   "metadata": {},
   "outputs": [
    {
     "name": "stdout",
     "output_type": "stream",
     "text": [
      "A and B are not same\n"
     ]
    }
   ],
   "source": [
    "A = 1\n",
    "B = 2\n",
    "\n",
    "if A == B:\n",
    "    print(\"A and B are same\")\n",
    "else:\n",
    "    print(\"A and B are not same\")"
   ]
  },
  {
   "cell_type": "code",
   "execution_count": 41,
   "id": "016b324a-81bf-476c-8147-88e3a833382f",
   "metadata": {},
   "outputs": [
    {
     "name": "stdout",
     "output_type": "stream",
     "text": [
      "A and B are same\n"
     ]
    }
   ],
   "source": [
    "A = 1\n",
    "B = 1\n",
    "\n",
    "if A == B:\n",
    "    print(\"A and B are same\")\n",
    "else:\n",
    "    print(\"A and B are not same\")"
   ]
  },
  {
   "cell_type": "code",
   "execution_count": 44,
   "id": "fddfd45a-412e-4972-bd6f-02c960b27778",
   "metadata": {},
   "outputs": [
    {
     "name": "stdout",
     "output_type": "stream",
     "text": [
      "A and B are not same\n"
     ]
    }
   ],
   "source": [
    "A = 1\n",
    "B = 2\n",
    "\n",
    "if A != B:\n",
    "    print(\"A and B are not same\")\n",
    "else:\n",
    "    print(\"A and B are  same\")"
   ]
  },
  {
   "cell_type": "code",
   "execution_count": 48,
   "id": "4d5c05b5-86d8-49c7-9882-ea6e3c515b54",
   "metadata": {},
   "outputs": [
    {
     "data": {
      "text/plain": [
       "True"
      ]
     },
     "execution_count": 48,
     "metadata": {},
     "output_type": "execute_result"
    }
   ],
   "source": [
    "A = \"SOHAIL\"\n",
    "B = \"SOHAIL\"\n",
    "\n",
    "A is B"
   ]
  },
  {
   "cell_type": "code",
   "execution_count": 50,
   "id": "4dac4b24-5361-4734-a556-151fb38958f7",
   "metadata": {},
   "outputs": [
    {
     "data": {
      "text/plain": [
       "False"
      ]
     },
     "execution_count": 50,
     "metadata": {},
     "output_type": "execute_result"
    }
   ],
   "source": [
    "A = [\"sohail\", \"aqib\"] # list data structure # array in other language\n",
    "B = [\"sohail\", \"aqib\"] # list data structure\n",
    "\n",
    "A is B "
   ]
  },
  {
   "cell_type": "code",
   "execution_count": 54,
   "id": "81653bd4-7df9-421d-b969-c72f4ae7e862",
   "metadata": {},
   "outputs": [
    {
     "data": {
      "text/plain": [
       "True"
      ]
     },
     "execution_count": 54,
     "metadata": {},
     "output_type": "execute_result"
    }
   ],
   "source": [
    "A == B"
   ]
  },
  {
   "cell_type": "code",
   "execution_count": 51,
   "id": "0d61d3ba-dc37-4738-bf78-bab8ec737ee8",
   "metadata": {},
   "outputs": [
    {
     "data": {
      "text/plain": [
       "139882001198784"
      ]
     },
     "execution_count": 51,
     "metadata": {},
     "output_type": "execute_result"
    }
   ],
   "source": [
    "id(A)"
   ]
  },
  {
   "cell_type": "code",
   "execution_count": 52,
   "id": "a258dfe5-8689-455d-a95a-0b8e9d4ae068",
   "metadata": {},
   "outputs": [
    {
     "data": {
      "text/plain": [
       "139882000879040"
      ]
     },
     "execution_count": 52,
     "metadata": {},
     "output_type": "execute_result"
    }
   ],
   "source": [
    "id(B)"
   ]
  },
  {
   "cell_type": "code",
   "execution_count": 53,
   "id": "05a62e75-9115-4933-b954-24bb39cdd7e0",
   "metadata": {},
   "outputs": [
    {
     "data": {
      "text/plain": [
       "True"
      ]
     },
     "execution_count": 53,
     "metadata": {},
     "output_type": "execute_result"
    }
   ],
   "source": [
    "A is not B"
   ]
  },
  {
   "cell_type": "code",
   "execution_count": 57,
   "id": "38015f40-9d12-498f-a3ba-ed96087a81bf",
   "metadata": {},
   "outputs": [
    {
     "name": "stdin",
     "output_type": "stream",
     "text": [
      "enter the value of A:  1\n",
      "enter the value of A:  1\n"
     ]
    },
    {
     "data": {
      "text/plain": [
       "True"
      ]
     },
     "execution_count": 57,
     "metadata": {},
     "output_type": "execute_result"
    }
   ],
   "source": [
    "A = int(input(\"enter the value of A: \"))\n",
    "B = int(input(\"enter the value of A: \"))\n",
    "\n",
    "A is B "
   ]
  },
  {
   "cell_type": "code",
   "execution_count": 59,
   "id": "26775b33-dcdd-4890-8584-9d9f9d79df72",
   "metadata": {},
   "outputs": [
    {
     "name": "stdin",
     "output_type": "stream",
     "text": [
      "enter the value of A:  1\n",
      "enter the value of A:  2\n"
     ]
    },
    {
     "data": {
      "text/plain": [
       "False"
      ]
     },
     "execution_count": 59,
     "metadata": {},
     "output_type": "execute_result"
    }
   ],
   "source": [
    "A = int(input(\"enter the value of A: \"))\n",
    "B = int(input(\"enter the value of A: \"))\n",
    "\n",
    "A is B "
   ]
  },
  {
   "cell_type": "code",
   "execution_count": 61,
   "id": "3273f089-fce0-4f4e-8e79-4cf80bbd85c4",
   "metadata": {},
   "outputs": [
    {
     "name": "stdin",
     "output_type": "stream",
     "text": [
      "enter the value of A:  1\n"
     ]
    },
    {
     "data": {
      "text/plain": [
       "True"
      ]
     },
     "execution_count": 61,
     "metadata": {},
     "output_type": "execute_result"
    }
   ],
   "source": [
    "A = 1\n",
    "B = int(input(\"enter the value of A: \"))\n",
    "\n",
    "A is B "
   ]
  },
  {
   "cell_type": "code",
   "execution_count": 62,
   "id": "16520c35-f98c-4e88-9e77-04bf812ba764",
   "metadata": {},
   "outputs": [
    {
     "name": "stdin",
     "output_type": "stream",
     "text": [
      "enter your name:  md sohail anwar raza\n"
     ]
    },
    {
     "name": "stdout",
     "output_type": "stream",
     "text": [
      "he is mentror\n"
     ]
    }
   ],
   "source": [
    "name = input(\"enter your name: \")\n",
    "\n",
    "if name == \"md sohail anwar raza\":\n",
    "    print(f\"he is mentror\")\n",
    "else:\n",
    "    print(f\"its possible that he/she is a student\")\n"
   ]
  },
  {
   "cell_type": "code",
   "execution_count": 63,
   "id": "817ece50-e384-44ff-940c-bf2a09c6c71d",
   "metadata": {},
   "outputs": [
    {
     "name": "stdin",
     "output_type": "stream",
     "text": [
      "enter your name:  aqib\n"
     ]
    },
    {
     "name": "stdout",
     "output_type": "stream",
     "text": [
      "its possible that he/she is a student\n"
     ]
    }
   ],
   "source": [
    "name = input(\"enter your name: \")\n",
    "\n",
    "if name == \"md sohail anwar raza\":\n",
    "    print(f\"he is mentror\")\n",
    "else:\n",
    "    print(f\"its possible that he/she is a student\")\n"
   ]
  },
  {
   "cell_type": "code",
   "execution_count": 65,
   "id": "68300f87-bfd3-4d95-956d-0028253ec1be",
   "metadata": {},
   "outputs": [
    {
     "name": "stdin",
     "output_type": "stream",
     "text": [
      "enter your name:  SOHAIL\n"
     ]
    },
    {
     "name": "stdout",
     "output_type": "stream",
     "text": [
      "its possible that he/she is a student\n"
     ]
    }
   ],
   "source": [
    "name = input(\"enter your name: \")\n",
    "\n",
    "if name == \"md sohail anwar raza\":\n",
    "    print(f\"he is mentror\")\n",
    "else:\n",
    "    print(f\"its possible that he/she is a student\")\n"
   ]
  },
  {
   "cell_type": "code",
   "execution_count": 66,
   "id": "19f1e90a-21e6-4dc9-9f10-bf4e8008bedb",
   "metadata": {},
   "outputs": [],
   "source": [
    "## COMPARISION\n",
    "  # - | -\n",
    "    # < \\ A<B\n",
    "    # <= | A<=B\n",
    "    # > | A>B\n",
    "    # >= | A>=B"
   ]
  },
  {
   "cell_type": "code",
   "execution_count": 67,
   "id": "6b08b636-6057-4a16-9e07-d632dc88fe88",
   "metadata": {},
   "outputs": [
    {
     "name": "stdout",
     "output_type": "stream",
     "text": [
      "attendance criteria met? : True\n",
      "assigment criteria met? :  True\n",
      "the student is eligible to appear in final exam\n"
     ]
    }
   ],
   "source": [
    "attendance = 75\n",
    "assigment_submitted = 70\n",
    "\n",
    "print(f\"attendance criteria met? : {attendance >= 75}\")\n",
    "print(f\"assigment criteria met? :  {assigment_submitted >= 70}\")\n",
    "\n",
    "if attendance >= 75 and assigment_submitted >= 70:\n",
    "    print(\"the student is eligible to appear in final exam\")\n",
    "else:\n",
    "    print(\"the student is not eligible\")"
   ]
  },
  {
   "cell_type": "code",
   "execution_count": 69,
   "id": "3eae25fe-999b-4b6f-a443-87e65a9f5d4a",
   "metadata": {},
   "outputs": [
    {
     "name": "stdout",
     "output_type": "stream",
     "text": [
      "since you have scored 40, you have passed the exam!\n"
     ]
    }
   ],
   "source": [
    "your_score = 40\n",
    "passing_marks = 33.33\n",
    "\n",
    "if your_score >= 33.33:\n",
    "    print(f\"since you have scored {your_score}, you have passed the exam!\")\n",
    "else:\n",
    "    print(\"dad: you should have taken things seriously!\")"
   ]
  },
  {
   "cell_type": "code",
   "execution_count": 71,
   "id": "c9cf1363-99ab-422d-b4c6-0a402955883a",
   "metadata": {},
   "outputs": [
    {
     "name": "stdout",
     "output_type": "stream",
     "text": [
      "dad: you should have taken things seriously!\n"
     ]
    }
   ],
   "source": [
    "your_score = 30\n",
    "passing_marks = 33.33\n",
    "\n",
    "if your_score >= 33.33:\n",
    "    print(f\"since you have scored {your_score}, you have passed the exam!\")\n",
    "else:\n",
    "    print(\"dad: you should have taken things seriously!\")"
   ]
  },
  {
   "cell_type": "code",
   "execution_count": 73,
   "id": "fda32445-738e-4cfe-9d07-ac5d1e883b67",
   "metadata": {},
   "outputs": [
    {
     "name": "stdout",
     "output_type": "stream",
     "text": [
      "since you have scored 33.33, you have passed the exam!\n"
     ]
    }
   ],
   "source": [
    "your_score = 33.33\n",
    "passing_marks = 33.33\n",
    "\n",
    "if your_score >= 33.33: # strict case\n",
    "    print(f\"since you have scored {your_score}, you have passed the exam!\")\n",
    "else:\n",
    "    print(\"dad: you should have taken things seriously!\")"
   ]
  },
  {
   "cell_type": "code",
   "execution_count": 74,
   "id": "94fbcd8f-d9ae-4ec7-ba71-13ccd1308876",
   "metadata": {},
   "outputs": [
    {
     "name": "stdout",
     "output_type": "stream",
     "text": [
      "dad: you should have taken things seriously!\n"
     ]
    }
   ],
   "source": [
    "your_score = 33.32\n",
    "passing_marks = 33.33\n",
    "distinction_marks = 75\n",
    "\n",
    "if your_score >= 33.33:\n",
    "    print(f\"since you have scored {your_score}, you have passed the exam!\")\n",
    "    if your_score > distinction_marks:\n",
    "        print(\"Dad: i will buy you a bike! well done!!\")\n",
    "else:\n",
    "    print(\"dad: you should have taken things seriously!\")"
   ]
  },
  {
   "cell_type": "code",
   "execution_count": 76,
   "id": "a190beb8-53d2-4299-b825-d0d343674c65",
   "metadata": {},
   "outputs": [
    {
     "name": "stdout",
     "output_type": "stream",
     "text": [
      "since you have scored 60, you have passed the exam!\n",
      "Dad: better luck next time \n"
     ]
    }
   ],
   "source": [
    "your_score = 60\n",
    "passing_marks = 33.33\n",
    "distinction_marks = 75\n",
    "\n",
    "if your_score >= 33.33:\n",
    "    print(f\"since you have scored {your_score}, you have passed the exam!\")\n",
    "    if your_score > distinction_marks:\n",
    "        print(\"Dad: i will buy you a bike! well done!!\")\n",
    "    else:\n",
    "        print(\"Dad: better luck next time \")\n",
    "else:\n",
    "    print(\"dad: you should have taken things seriously!\")"
   ]
  },
  {
   "cell_type": "code",
   "execution_count": 79,
   "id": "b6615e40-494b-49a1-bf64-acafd8eeba16",
   "metadata": {},
   "outputs": [
    {
     "name": "stdout",
     "output_type": "stream",
     "text": [
      "since you have scored 90, you have passed the exam!\n",
      "Dad: i will buy you a bike! well done!!\n"
     ]
    }
   ],
   "source": [
    "your_score = 90\n",
    "passing_marks = 33.33\n",
    "distinction_marks = 75\n",
    "\n",
    "if your_score >= 33.33:\n",
    "    print(f\"since you have scored {your_score}, you have passed the exam!\")\n",
    "    if your_score > distinction_marks:\n",
    "        print(\"Dad: i will buy you a bike! well done!!\")\n",
    "else:\n",
    "    print(\"dad: you should have taken things seriously!\")"
   ]
  },
  {
   "cell_type": "code",
   "execution_count": 2,
   "id": "ce5cf7f8-8491-4768-91ee-8bde0805b906",
   "metadata": {},
   "outputs": [],
   "source": [
    "# arithmatic oprators\n",
    "\n",
    "# + ADDITION\n",
    "# - SUBTRACTION\n",
    "# * MULTIPLICATION\n",
    "# / TRUE DIVISION\n",
    "# // INTEGER DIVISION\n",
    "# % THE MODULO OPERATOR"
   ]
  },
  {
   "cell_type": "code",
   "execution_count": 3,
   "id": "de65e4ee-ef0b-45d2-aa73-16c3662d5fa7",
   "metadata": {},
   "outputs": [
    {
     "data": {
      "text/plain": [
       "48"
      ]
     },
     "execution_count": 3,
     "metadata": {},
     "output_type": "execute_result"
    }
   ],
   "source": [
    "A = 25 # ADDITION OPERATOR\n",
    "B = 23\n",
    "\n",
    "A + B"
   ]
  },
  {
   "cell_type": "code",
   "execution_count": 4,
   "id": "d960c143-ebfc-46d3-8ba9-85d14aa25e52",
   "metadata": {},
   "outputs": [
    {
     "data": {
      "text/plain": [
       "2"
      ]
     },
     "execution_count": 4,
     "metadata": {},
     "output_type": "execute_result"
    }
   ],
   "source": [
    "A - B"
   ]
  },
  {
   "cell_type": "code",
   "execution_count": 6,
   "id": "8c4e4049-3db6-4161-b7f0-c1daeacd6567",
   "metadata": {},
   "outputs": [
    {
     "data": {
      "text/plain": [
       "1.0869565217391304"
      ]
     },
     "execution_count": 6,
     "metadata": {},
     "output_type": "execute_result"
    }
   ],
   "source": [
    "A / B"
   ]
  },
  {
   "cell_type": "code",
   "execution_count": 8,
   "id": "446ed1f4-aec9-40b6-9ded-65b7cfa3d6c7",
   "metadata": {},
   "outputs": [
    {
     "data": {
      "text/plain": [
       "575"
      ]
     },
     "execution_count": 8,
     "metadata": {},
     "output_type": "execute_result"
    }
   ],
   "source": [
    "A * B"
   ]
  },
  {
   "cell_type": "code",
   "execution_count": 10,
   "id": "7eb570f8-411f-4f46-b692-12cf6239e73d",
   "metadata": {},
   "outputs": [
    {
     "data": {
      "text/plain": [
       "1"
      ]
     },
     "execution_count": 10,
     "metadata": {},
     "output_type": "execute_result"
    }
   ],
   "source": [
    "A // B"
   ]
  },
  {
   "cell_type": "code",
   "execution_count": 11,
   "id": "4ca48e2c-6d42-4c17-8538-ace8957e8119",
   "metadata": {},
   "outputs": [
    {
     "data": {
      "text/plain": [
       "0"
      ]
     },
     "execution_count": 11,
     "metadata": {},
     "output_type": "execute_result"
    }
   ],
   "source": [
    "B // A"
   ]
  },
  {
   "cell_type": "code",
   "execution_count": 14,
   "id": "bdba1764-8728-480d-a3e7-93d7696c4d47",
   "metadata": {},
   "outputs": [
    {
     "data": {
      "text/plain": [
       "2"
      ]
     },
     "execution_count": 14,
     "metadata": {},
     "output_type": "execute_result"
    }
   ],
   "source": [
    "A = 5\n",
    "B = 2\n",
    "A // B"
   ]
  },
  {
   "cell_type": "code",
   "execution_count": 15,
   "id": "11cf4a09-04b1-4d53-8f47-988f59143b6f",
   "metadata": {},
   "outputs": [
    {
     "data": {
      "text/plain": [
       "1"
      ]
     },
     "execution_count": 15,
     "metadata": {},
     "output_type": "execute_result"
    }
   ],
   "source": [
    "A % B # REMINDER"
   ]
  },
  {
   "cell_type": "code",
   "execution_count": 17,
   "id": "5188615c-ff2a-499b-b769-b727fe0459d9",
   "metadata": {},
   "outputs": [
    {
     "data": {
      "text/plain": [
       "2"
      ]
     },
     "execution_count": 17,
     "metadata": {},
     "output_type": "execute_result"
    }
   ],
   "source": [
    "A = 4\n",
    "B = 2\n",
    "A // B"
   ]
  },
  {
   "cell_type": "code",
   "execution_count": 19,
   "id": "a775f45c-67c1-474a-b946-fde2042bdb59",
   "metadata": {},
   "outputs": [
    {
     "data": {
      "text/plain": [
       "0"
      ]
     },
     "execution_count": 19,
     "metadata": {},
     "output_type": "execute_result"
    }
   ],
   "source": [
    "A % B"
   ]
  },
  {
   "cell_type": "code",
   "execution_count": 21,
   "id": "b28caeb7-5e3c-4631-b340-02e7990cc0ae",
   "metadata": {},
   "outputs": [
    {
     "name": "stdout",
     "output_type": "stream",
     "text": [
      "A: 55 is not divisible by B: 2\n"
     ]
    }
   ],
   "source": [
    "A = 55\n",
    "B = 2\n",
    "\n",
    "if A % B == 0:\n",
    "    print(f\"A: {A} is  divisible by B: {B}\")\n",
    "else:\n",
    "     print(f\"A: {A} is not divisible by B: {B}\")"
   ]
  },
  {
   "cell_type": "code",
   "execution_count": 23,
   "id": "b0092437-e645-4d20-9e1a-c5595bdab590",
   "metadata": {},
   "outputs": [
    {
     "name": "stdout",
     "output_type": "stream",
     "text": [
      "A: 54 is  divisible by B: 2\n"
     ]
    }
   ],
   "source": [
    "A = 54\n",
    "B = 2\n",
    "\n",
    "if A % B == 0:\n",
    "    print(f\"A: {A} is  divisible by B: {B}\")\n",
    "else:\n",
    "     print(f\"A: {A} is not divisible by B: {B}\")"
   ]
  },
  {
   "cell_type": "code",
   "execution_count": 25,
   "id": "196611fd-a17d-4e15-afe1-7b733e8ce66d",
   "metadata": {},
   "outputs": [
    {
     "name": "stdout",
     "output_type": "stream",
     "text": [
      "A: 54 is  divisible by B: 3\n"
     ]
    }
   ],
   "source": [
    "A = 54\n",
    "B = 3\n",
    "\n",
    "if A % B == 0:\n",
    "    print(f\"A: {A} is  divisible by B: {B}\")\n",
    "else:\n",
    "     print(f\"A: {A} is not divisible by B: {B}\")"
   ]
  },
  {
   "cell_type": "code",
   "execution_count": 27,
   "id": "01119550-c255-45d9-8363-df3cb6a1349f",
   "metadata": {},
   "outputs": [
    {
     "name": "stdout",
     "output_type": "stream",
     "text": [
      "A: 55 is not divisible by B: 3\n"
     ]
    }
   ],
   "source": [
    "A = 55\n",
    "B = 3\n",
    "\n",
    "if A % B == 0:\n",
    "    print(f\"A: {A} is  divisible by B: {B}\")\n",
    "else:\n",
    "     print(f\"A: {A} is not divisible by B: {B}\")"
   ]
  },
  {
   "cell_type": "code",
   "execution_count": 29,
   "id": "dfe9a5b7-49ec-45d2-b69a-686dfeed4069",
   "metadata": {},
   "outputs": [
    {
     "data": {
      "text/plain": [
       "2.0"
      ]
     },
     "execution_count": 29,
     "metadata": {},
     "output_type": "execute_result"
    }
   ],
   "source": [
    "A = 4\n",
    "\n",
    "A**(1/2)"
   ]
  },
  {
   "cell_type": "code",
   "execution_count": 31,
   "id": "6f93825f-08ea-423e-8d6d-eae60fbb3d32",
   "metadata": {},
   "outputs": [],
   "source": [
    "# STRING METHOD\n",
    "\n",
    "# if N characters or elements are there in a string the\n",
    "# the index range will vary from 0 to N-1 FOR example is \"sohail\"N=5 index value is ranging from 0 to 4\n",
    "# to index in reverse order the index ranges from -1 to -N"
   ]
  },
  {
   "cell_type": "code",
   "execution_count": 33,
   "id": "48818d89-f325-4b49-92cc-f44780c8cbff",
   "metadata": {},
   "outputs": [
    {
     "data": {
      "text/plain": [
       "'S'"
      ]
     },
     "execution_count": 33,
     "metadata": {},
     "output_type": "execute_result"
    }
   ],
   "source": [
    "# string indexind\n",
    "#     01234\n",
    "#      -5-4-3-2-1\n",
    "\n",
    "name = \"Sohail\"\n",
    "\n",
    "name[0]"
   ]
  },
  {
   "cell_type": "code",
   "execution_count": 35,
   "id": "61f4ab94-f0ef-41d1-8377-968dc456b65d",
   "metadata": {},
   "outputs": [
    {
     "data": {
      "text/plain": [
       "'i'"
      ]
     },
     "execution_count": 35,
     "metadata": {},
     "output_type": "execute_result"
    }
   ],
   "source": [
    "name [4]"
   ]
  },
  {
   "cell_type": "code",
   "execution_count": 37,
   "id": "86f05972-7151-408f-837a-7d1fc2beda82",
   "metadata": {},
   "outputs": [
    {
     "data": {
      "text/plain": [
       "'l'"
      ]
     },
     "execution_count": 37,
     "metadata": {},
     "output_type": "execute_result"
    }
   ],
   "source": [
    "name [-1]"
   ]
  },
  {
   "cell_type": "code",
   "execution_count": 39,
   "id": "b76ead8f-f990-4336-8ac1-a7419cf64952",
   "metadata": {},
   "outputs": [
    {
     "data": {
      "text/plain": [
       "'l'"
      ]
     },
     "execution_count": 39,
     "metadata": {},
     "output_type": "execute_result"
    }
   ],
   "source": [
    "name [5]"
   ]
  },
  {
   "cell_type": "code",
   "execution_count": 40,
   "id": "61497706-3559-4aa2-94ac-030af257ca19",
   "metadata": {},
   "outputs": [],
   "source": [
    "# STRING SLICING "
   ]
  },
  {
   "cell_type": "code",
   "execution_count": 42,
   "id": "01004512-4f91-48c1-a995-26c5271c1706",
   "metadata": {},
   "outputs": [
    {
     "data": {
      "text/plain": [
       "'ohai'"
      ]
     },
     "execution_count": 42,
     "metadata": {},
     "output_type": "execute_result"
    }
   ],
   "source": [
    "name = \"sohail\"\n",
    "\n",
    "name[1:-1] # [starting: ending]"
   ]
  },
  {
   "cell_type": "code",
   "execution_count": 43,
   "id": "39039086-5901-4edf-ae4d-d312602a3bd8",
   "metadata": {},
   "outputs": [
    {
     "data": {
      "text/plain": [
       "'ohail'"
      ]
     },
     "execution_count": 43,
     "metadata": {},
     "output_type": "execute_result"
    }
   ],
   "source": [
    "name = \"sohail\"\n",
    "\n",
    "name[1:]"
   ]
  },
  {
   "cell_type": "code",
   "execution_count": 44,
   "id": "20bd85f5-bbd8-4e29-89d0-a81c68183719",
   "metadata": {},
   "outputs": [
    {
     "data": {
      "text/plain": [
       "'oh'"
      ]
     },
     "execution_count": 44,
     "metadata": {},
     "output_type": "execute_result"
    }
   ],
   "source": [
    "name[1:3] # this means that ending is excluded"
   ]
  },
  {
   "cell_type": "code",
   "execution_count": 45,
   "id": "b3da2cfd-d520-4620-8526-cf5770244823",
   "metadata": {},
   "outputs": [
    {
     "data": {
      "text/plain": [
       "'oha'"
      ]
     },
     "execution_count": 45,
     "metadata": {},
     "output_type": "execute_result"
    }
   ],
   "source": [
    "name[1:4]"
   ]
  },
  {
   "cell_type": "code",
   "execution_count": 46,
   "id": "b2b813f7-1925-4468-8de3-a642701926d8",
   "metadata": {},
   "outputs": [
    {
     "data": {
      "text/plain": [
       "'ohai'"
      ]
     },
     "execution_count": 46,
     "metadata": {},
     "output_type": "execute_result"
    }
   ],
   "source": [
    "name[1:5]"
   ]
  },
  {
   "cell_type": "code",
   "execution_count": 47,
   "id": "2f90b3c9-cb52-4451-9348-b44d1a240c51",
   "metadata": {},
   "outputs": [
    {
     "data": {
      "text/plain": [
       "'sohai'"
      ]
     },
     "execution_count": 47,
     "metadata": {},
     "output_type": "execute_result"
    }
   ],
   "source": [
    "name[0:-1]"
   ]
  },
  {
   "cell_type": "code",
   "execution_count": 48,
   "id": "d96408d9-a7d4-49f0-8eec-552fb6e2bcd9",
   "metadata": {},
   "outputs": [
    {
     "data": {
      "text/plain": [
       "'sohail'"
      ]
     },
     "execution_count": 48,
     "metadata": {},
     "output_type": "execute_result"
    }
   ],
   "source": [
    "name[0:]"
   ]
  },
  {
   "cell_type": "code",
   "execution_count": 50,
   "id": "f6db5fad-89d6-415a-a010-eaab40d6d996",
   "metadata": {},
   "outputs": [
    {
     "data": {
      "text/plain": [
       "'l'"
      ]
     },
     "execution_count": 50,
     "metadata": {},
     "output_type": "execute_result"
    }
   ],
   "source": [
    "name[-1:]"
   ]
  },
  {
   "cell_type": "code",
   "execution_count": 66,
   "id": "4b81ef6b-3e75-4686-b4a6-12aa31b297dd",
   "metadata": {},
   "outputs": [
    {
     "data": {
      "text/plain": [
       "'shi'"
      ]
     },
     "execution_count": 66,
     "metadata": {},
     "output_type": "execute_result"
    }
   ],
   "source": [
    "name = \"sohail\"\n",
    "\n",
    "name[0:5:2] # start:ending: step"
   ]
  },
  {
   "cell_type": "code",
   "execution_count": 67,
   "id": "5c7d4103-6b2d-4594-831b-c234d27286d1",
   "metadata": {},
   "outputs": [
    {
     "data": {
      "text/plain": [
       "'sl'"
      ]
     },
     "execution_count": 67,
     "metadata": {},
     "output_type": "execute_result"
    }
   ],
   "source": [
    "name[0::5]"
   ]
  },
  {
   "cell_type": "code",
   "execution_count": 68,
   "id": "95a1646c-a131-408d-acca-c5617bc318ba",
   "metadata": {},
   "outputs": [
    {
     "data": {
      "text/plain": [
       "'sa'"
      ]
     },
     "execution_count": 68,
     "metadata": {},
     "output_type": "execute_result"
    }
   ],
   "source": [
    "name = \"sohail\"\n",
    "\n",
    "name[0:5:3] # start:ending: step"
   ]
  },
  {
   "cell_type": "code",
   "execution_count": 57,
   "id": "28f48647-6962-4762-a7c3-ac2e3a07e7a4",
   "metadata": {},
   "outputs": [
    {
     "name": "stdout",
     "output_type": "stream",
     "text": [
      "its 11th of the month: 04 of the year: 2023\n"
     ]
    }
   ],
   "source": [
    "date = \"11/04/2023\"\n",
    "\n",
    "# todays date, month and year\n",
    "\n",
    "today_s_date = date[0:2]\n",
    "month = date[3:5]\n",
    "year = date[6:]\n",
    "\n",
    "print(f\"its {today_s_date}th of the month: {month} of the year: {year}\")"
   ]
  },
  {
   "cell_type": "code",
   "execution_count": 58,
   "id": "4cd0a60b-8acb-4c68-829a-fc1a5ac74585",
   "metadata": {},
   "outputs": [
    {
     "name": "stdin",
     "output_type": "stream",
     "text": [
      "enter date of birth in the format dd/mm/yyyy: 30/11/1998\n"
     ]
    },
    {
     "name": "stdout",
     "output_type": "stream",
     "text": [
      "its 30th of the month: 11 of the year: 1998\n"
     ]
    }
   ],
   "source": [
    "date =input(\"enter date of birth in the format dd/mm/yyyy:\" )\n",
    "\n",
    "# todays date, month and year\n",
    "\n",
    "today_s_date = date[0:2]\n",
    "month = date[3:5]\n",
    "year = date[6:]\n",
    "\n",
    "print(f\"its {today_s_date}th of the month: {month} of the year: {year}\")"
   ]
  },
  {
   "cell_type": "code",
   "execution_count": 60,
   "id": "a0b33bce-3d83-4025-9ae7-2b4d5c872e9d",
   "metadata": {},
   "outputs": [
    {
     "name": "stdin",
     "output_type": "stream",
     "text": [
      "enter date of birth in the format dd/mm/yyyy: 30/11/1998\n"
     ]
    },
    {
     "name": "stdout",
     "output_type": "stream",
     "text": [
      "the user was born in the month of 11 in the year: 1998 on date: 30/11/1998\n"
     ]
    }
   ],
   "source": [
    "date =input(\"enter date of birth in the format dd/mm/yyyy:\" )\n",
    "\n",
    "# todays date, month and year\n",
    "\n",
    "today_s_date = date[0:2]\n",
    "month = date[3:5]\n",
    "year = date[6:]\n",
    "\n",
    "print(f\"the user was born in the month of {month} in the year: {year} on date: {date}\")"
   ]
  },
  {
   "cell_type": "code",
   "execution_count": 64,
   "id": "cc6c7468-c683-45f5-953f-cb8ca50375a4",
   "metadata": {},
   "outputs": [
    {
     "name": "stdin",
     "output_type": "stream",
     "text": [
      "enter date of birth in the format dd/mmm/yyyy: 30/Nove / 19998\n"
     ]
    },
    {
     "name": "stdout",
     "output_type": "stream",
     "text": [
      "its 30th of the month: Nov of the year:  / 19998\n"
     ]
    }
   ],
   "source": [
    "date =input(\"enter date of birth in the format dd/mmm/yyyy:\" )\n",
    "\n",
    "# todays date, month and year\n",
    "\n",
    "today_s_date = date[0:2]\n",
    "month = date[3:6]\n",
    "year = date[7:]\n",
    "\n",
    "print(f\"its {today_s_date}th of the month: {month} of the year: {year}\")"
   ]
  },
  {
   "cell_type": "code",
   "execution_count": 20,
   "id": "96dfcfcd-eb10-487d-86fb-76739e001383",
   "metadata": {},
   "outputs": [
    {
     "data": {
      "text/plain": [
       "'shi'"
      ]
     },
     "execution_count": 20,
     "metadata": {},
     "output_type": "execute_result"
    }
   ],
   "source": [
    "name = \"sohail\"\n",
    "\n",
    "name[0:6:2]"
   ]
  },
  {
   "cell_type": "code",
   "execution_count": 24,
   "id": "30a0fafa-e24b-45fc-8094-a53358b5ac51",
   "metadata": {},
   "outputs": [
    {
     "data": {
      "text/plain": [
       "'shi'"
      ]
     },
     "execution_count": 24,
     "metadata": {},
     "output_type": "execute_result"
    }
   ],
   "source": [
    "name[0::2]"
   ]
  },
  {
   "cell_type": "code",
   "execution_count": 25,
   "id": "ec36ff1e-dc9c-49e0-8b2e-1ba61cb10ec9",
   "metadata": {},
   "outputs": [
    {
     "data": {
      "text/plain": [
       "'Shi na aa'"
      ]
     },
     "execution_count": 25,
     "metadata": {},
     "output_type": "execute_result"
    }
   ],
   "source": [
    "name = \"Sohail Anwar Raza\"\n",
    "\n",
    "name[0::2]"
   ]
  },
  {
   "cell_type": "code",
   "execution_count": 26,
   "id": "2bedca02-0fd9-4d30-aeb6-dc85e531a326",
   "metadata": {},
   "outputs": [
    {
     "data": {
      "text/plain": [
       "'Sa w z'"
      ]
     },
     "execution_count": 26,
     "metadata": {},
     "output_type": "execute_result"
    }
   ],
   "source": [
    "name = \"Sohail Anwar Raza\"\n",
    "\n",
    "name[0::3]"
   ]
  },
  {
   "cell_type": "code",
   "execution_count": 27,
   "id": "9f6749c8-08cd-46e7-93d5-1066cde7b655",
   "metadata": {},
   "outputs": [
    {
     "data": {
      "text/plain": [
       "'azaR rawnA liahoS'"
      ]
     },
     "execution_count": 27,
     "metadata": {},
     "output_type": "execute_result"
    }
   ],
   "source": [
    "name = \"Sohail Anwar Raza\"\n",
    "\n",
    "name[::-1]"
   ]
  },
  {
   "cell_type": "code",
   "execution_count": 28,
   "id": "77be3061-ab7a-4203-af8b-057c5b018839",
   "metadata": {},
   "outputs": [
    {
     "data": {
      "text/plain": [
       "'Sohail Anwar Raza'"
      ]
     },
     "execution_count": 28,
     "metadata": {},
     "output_type": "execute_result"
    }
   ],
   "source": [
    "name = \"Sohail Anwar Raza\"\n",
    "\n",
    "name[::]"
   ]
  },
  {
   "cell_type": "code",
   "execution_count": 29,
   "id": "ae4c09cf-e666-4695-b5b7-71df446cd814",
   "metadata": {},
   "outputs": [
    {
     "data": {
      "text/plain": [
       "'Sa w z'"
      ]
     },
     "execution_count": 29,
     "metadata": {},
     "output_type": "execute_result"
    }
   ],
   "source": [
    "name = \"Sohail Anwar Raza\"\n",
    "\n",
    "name[::3]"
   ]
  },
  {
   "cell_type": "code",
   "execution_count": 30,
   "id": "80c9b709-ad3d-4ef7-b282-d54bc3a72fda",
   "metadata": {},
   "outputs": [
    {
     "data": {
      "text/plain": [
       "'aa an ihS'"
      ]
     },
     "execution_count": 30,
     "metadata": {},
     "output_type": "execute_result"
    }
   ],
   "source": [
    "name = \"Sohail Anwar Raza\"\n",
    "\n",
    "name[::-2]"
   ]
  },
  {
   "cell_type": "code",
   "execution_count": 31,
   "id": "b5e241d9-b7d6-45fb-8ed0-1febd358cee5",
   "metadata": {},
   "outputs": [
    {
     "name": "stdin",
     "output_type": "stream",
     "text": [
      "input a string:  radar\n"
     ]
    },
    {
     "name": "stdout",
     "output_type": "stream",
     "text": [
      "radar radar\n"
     ]
    }
   ],
   "source": [
    "data = input(\"input a string: \")\n",
    "reverse = data[::-1]\n",
    "print(data, reverse) "
   ]
  },
  {
   "cell_type": "code",
   "execution_count": 21,
   "id": "8c112b20-8d58-4c82-b4d5-2fa38aa22901",
   "metadata": {},
   "outputs": [
    {
     "name": "stdin",
     "output_type": "stream",
     "text": [
      "input a string:  hamid\n"
     ]
    },
    {
     "data": {
      "text/plain": [
       "'hamid'"
      ]
     },
     "execution_count": 21,
     "metadata": {},
     "output_type": "execute_result"
    }
   ],
   "source": [
    "# palindorme sequence\n",
    "# madam # read from left or right it will be same\n",
    " # hamid\n",
    " # noor\n",
    " # aqib\n",
    " # amir\n",
    "\n",
    "data = input(\"input a string: \")\n",
    "data[::] # start: end: "
   ]
  },
  {
   "cell_type": "code",
   "execution_count": 32,
   "id": "b3d00080-4ed5-4cf6-ba4c-95260fe3ed25",
   "metadata": {},
   "outputs": [
    {
     "name": "stdin",
     "output_type": "stream",
     "text": [
      "input a string:  radar\n"
     ]
    },
    {
     "name": "stdout",
     "output_type": "stream",
     "text": [
      "input string: radar is palindrome\n"
     ]
    }
   ],
   "source": [
    "data = input(\"input a string: \")\n",
    "reverse = data[::-1]\n",
    "\n",
    "if data == reverse:\n",
    "    print(f\"input string: {data} is palindrome\")\n",
    "else:\n",
    "    print(f\"input string: {data} is not palindrome\")"
   ]
  },
  {
   "cell_type": "code",
   "execution_count": null,
   "id": "16bc642f-4419-4bcc-9545-5b1d0fb860b0",
   "metadata": {},
   "outputs": [],
   "source": [
    "data = input(\"input a string: \")\n",
    "reverse = data[::-1]\n",
    "\n",
    "if data == reverse:\n",
    "    print(f\"input string: {data} is palindrome\")\n",
    "else:\n",
    "    print(f\"input string: {data} is not palindrome\")"
   ]
  },
  {
   "cell_type": "code",
   "execution_count": null,
   "id": "48ddf119-8d26-4168-85c3-d877e7093055",
   "metadata": {},
   "outputs": [],
   "source": []
  }
 ],
 "metadata": {
  "kernelspec": {
   "display_name": "Python 3 (ipykernel)",
   "language": "python",
   "name": "python3"
  },
  "language_info": {
   "codemirror_mode": {
    "name": "ipython",
    "version": 3
   },
   "file_extension": ".py",
   "mimetype": "text/x-python",
   "name": "python",
   "nbconvert_exporter": "python",
   "pygments_lexer": "ipython3",
   "version": "3.10.6"
  }
 },
 "nbformat": 4,
 "nbformat_minor": 5
}
